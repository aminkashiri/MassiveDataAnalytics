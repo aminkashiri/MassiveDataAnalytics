{
  "cells": [
    {
      "cell_type": "markdown",
      "metadata": {
        "id": "kPt5q27L5557"
      },
      "source": [
        "# MDA 2021\n",
        "## Pyspark Sample Code\n",
        "-----------------------------------------------------------------"
      ]
    },
    {
      "cell_type": "markdown",
      "metadata": {
        "id": "p0-YhEpP_Ds-"
      },
      "source": [
        "## Setup\n",
        "--------------------------------------------------"
      ]
    },
    {
      "cell_type": "markdown",
      "metadata": {
        "id": "Zsj5WYpR9QId"
      },
      "source": [
        "Let's setup Spark on your Colab environment.  Run the cell below!"
      ]
    },
    {
      "cell_type": "code",
      "execution_count": 1,
      "metadata": {
        "colab": {
          "base_uri": "https://localhost:8080/"
        },
        "id": "k-qHai2252mI",
        "outputId": "b0411162-bc70-43b0-e708-f42c94a808a0"
      },
      "outputs": [
        {
          "name": "stdout",
          "output_type": "stream",
          "text": [
            "Requirement already satisfied: pyspark in /home/amin/.local/share/virtualenvs/HW-QXNApxFg/lib/python3.9/site-packages (3.2.0)\n",
            "Requirement already satisfied: py4j==0.10.9.2 in /home/amin/.local/share/virtualenvs/HW-QXNApxFg/lib/python3.9/site-packages (from pyspark) (0.10.9.2)\n",
            "\u001b[33mWARNING: You are using pip version 21.2.4; however, version 21.3.1 is available.\n",
            "You should consider upgrading via the '/home/amin/.local/share/virtualenvs/HW-QXNApxFg/bin/python -m pip install --upgrade pip' command.\u001b[0m\n",
            "\u001b[33mWARNING: You are using pip version 21.2.4; however, version 21.3.1 is available.\n",
            "You should consider upgrading via the '/home/amin/.local/share/virtualenvs/HW-QXNApxFg/bin/python -m pip install --upgrade pip' command.\u001b[0m\n",
            "\u001b[1;31mE: \u001b[0mCould not open lock file /var/lib/dpkg/lock-frontend - open (13: Permission denied)\u001b[0m\n",
            "\u001b[1;31mE: \u001b[0mUnable to acquire the dpkg frontend lock (/var/lib/dpkg/lock-frontend), are you root?\u001b[0m\n"
          ]
        }
      ],
      "source": [
        "!pip install pyspark\n",
        "!pip install -U -q PyDrive\n",
        "!apt install openjdk-8-jdk-headless -qq\n",
        "import os\n",
        "os.environ[\"JAVA_HOME\"] = \"/usr/lib/jvm/java-8-openjdk-amd64\""
      ]
    },
    {
      "cell_type": "markdown",
      "metadata": {
        "id": "-CJ71AKe91eh"
      },
      "source": [
        "Now we authenticate a Google Drive client to processing data\n",
        "\n",
        "**Make sure to follow the interactive instructions.**"
      ]
    },
    {
      "cell_type": "code",
      "execution_count": 2,
      "metadata": {
        "colab": {
          "base_uri": "https://localhost:8080/"
        },
        "id": "5K93ABEy9Zlo",
        "outputId": "8edeb2a1-35ba-463a-f36d-bcca540bce87"
      },
      "outputs": [
        {
          "name": "stdout",
          "output_type": "stream",
          "text": [
            "Mounted at /content/drive\n"
          ]
        }
      ],
      "source": [
        "from google.colab import drive\n",
        "# This will prompt for authorization.\n",
        "drive.mount('/content/drive')"
      ]
    },
    {
      "cell_type": "markdown",
      "metadata": {
        "id": "5bK7ob3k4Yd1"
      },
      "source": [
        "## Check and extract data\n",
        "--------------------------------------------------"
      ]
    },
    {
      "cell_type": "code",
      "execution_count": null,
      "metadata": {
        "colab": {
          "base_uri": "https://localhost:8080/"
        },
        "id": "sT70OpRGzkWh",
        "outputId": "cee8742c-a408-4630-da62-fee1eaa0a987"
      },
      "outputs": [
        {
          "name": "stdout",
          "output_type": "stream",
          "text": [
            " checkstatus.csv   MDA_2021.ipynb       SystemID.csv\n",
            " CompanyID.csv\t   Sample_Data.zip      Traffic.csv\n",
            " Data.zip\t   Sample_Traffic.csv  'پروژه MDA2021.pdf'\n"
          ]
        }
      ],
      "source": [
        "!ls '/content/drive/My Drive/Colab Notebooks/MDA/HW3/'"
      ]
    },
    {
      "cell_type": "code",
      "execution_count": 2,
      "metadata": {
        "colab": {
          "base_uri": "https://localhost:8080/"
        },
        "id": "kLoUDlZrzoAg",
        "outputId": "8d6c6cca-23ff-42bc-a6c4-99e93dcc4720"
      },
      "outputs": [
        {
          "name": "stdout",
          "output_type": "stream",
          "text": [
            "Archive:  ./Sample_Data.zip\n",
            "  inflating: ./Sample_Traffic.csv    \n"
          ]
        }
      ],
      "source": [
        "# !unzip \"/content/drive/My Drive/Colab Notebooks/MDA/HW3/Sample_Data.zip\" -d \"/content/drive/My Drive/Colab Notebooks/MDA/HW3\"\n",
        "!unzip \"./Sample_Data.zip\" -d \"./\""
      ]
    },
    {
      "cell_type": "markdown",
      "metadata": {
        "id": "qwtlO4_m_LbQ"
      },
      "source": [
        "the cells above, extract data which is in '/content/drive/My Drive/Test' to /content/drive/My Drive/Test/Traffic.csv  "
      ]
    },
    {
      "cell_type": "markdown",
      "metadata": {
        "id": "CRaF2A_j_nC7"
      },
      "source": [
        "## Initializing Spark and read data\n",
        "--------------------------------------------------"
      ]
    },
    {
      "cell_type": "code",
      "execution_count": 1,
      "metadata": {
        "id": "lDh957r_0snm"
      },
      "outputs": [
        {
          "name": "stderr",
          "output_type": "stream",
          "text": [
            "22/01/26 08:58:53 WARN Utils: Your hostname, amin-X556UQK resolves to a loopback address: 127.0.1.1; using 192.168.1.15 instead (on interface wlp3s0)\n",
            "22/01/26 08:58:53 WARN Utils: Set SPARK_LOCAL_IP if you need to bind to another address\n",
            "WARNING: An illegal reflective access operation has occurred\n",
            "WARNING: Illegal reflective access by org.apache.spark.unsafe.Platform (file:/opt/spark/jars/spark-unsafe_2.12-3.2.0.jar) to constructor java.nio.DirectByteBuffer(long,int)\n",
            "WARNING: Please consider reporting this to the maintainers of org.apache.spark.unsafe.Platform\n",
            "WARNING: Use --illegal-access=warn to enable warnings of further illegal reflective access operations\n",
            "WARNING: All illegal access operations will be denied in a future release\n",
            "Using Spark's default log4j profile: org/apache/spark/log4j-defaults.properties\n",
            "Setting default log level to \"WARN\".\n",
            "To adjust logging level use sc.setLogLevel(newLevel). For SparkR, use setLogLevel(newLevel).\n",
            "22/01/26 08:58:54 WARN NativeCodeLoader: Unable to load native-hadoop library for your platform... using builtin-java classes where applicable\n"
          ]
        }
      ],
      "source": [
        "from pyspark import SparkContext, SparkConf \n",
        "from pyspark.sql import SparkSession\n",
        "from pyspark.sql.types import StructType,StructField, StringType, IntegerType,TimestampType\n",
        "from pyspark.sql.functions import col,current_timestamp,to_date,hour,dayofweek\n",
        "spark = SparkSession \\\n",
        "    .builder \\\n",
        "    .appName(\"Spark_Processor\") \\\n",
        "    .master(\"local[*]\") \\\n",
        "    .getOrCreate()\n",
        "\n",
        "sc=spark.sparkContext\n",
        "\n",
        "schema = StructType([ \\\n",
        "        StructField(\"DEVICE_CODE\", IntegerType(), True), \n",
        "        StructField(\"SYSTEM_ID\",IntegerType(),True), \\\n",
        "        StructField(\"ORIGINE_CAR_KEY\",StringType(),True), \\\n",
        "        StructField(\"FINAL_CAR_KEY\",StringType(),True), \\\n",
        "        StructField(\"CHECK_STATUS_KEY\", IntegerType(), True), \\\n",
        "        StructField(\"COMPANY_ID\", StringType(), True), \\\n",
        "        StructField(\"PASS_DAY_TIME\", TimestampType(), True)\n",
        "    ])"
      ]
    },
    {
      "cell_type": "markdown",
      "metadata": {},
      "source": [
        "<h3 dir=\"rtl\">\n",
        " در این قسمت، لطفا آدرس فایل \n",
        "csv\n",
        " را به جای آدرس قرار داده شده جایگذاری کنید.  \n",
        "  \n",
        "</h3> "
      ]
    },
    {
      "cell_type": "code",
      "execution_count": 2,
      "metadata": {
        "colab": {
          "base_uri": "https://localhost:8080/"
        },
        "id": "CGoJ3OTX3Lz_",
        "outputId": "4eb0eb19-071a-46d0-bbfe-9a00b87e0aef"
      },
      "outputs": [
        {
          "name": "stdout",
          "output_type": "stream",
          "text": [
            "+-----------+---------+---------------+-------------+----------------+----------+-------------------+\n",
            "|DEVICE_CODE|SYSTEM_ID|ORIGINE_CAR_KEY|FINAL_CAR_KEY|CHECK_STATUS_KEY|COMPANY_ID|      PASS_DAY_TIME|\n",
            "+-----------+---------+---------------+-------------+----------------+----------+-------------------+\n",
            "|     200501|       81|       10477885|     10477885|               5|       161|2021-06-01 03:54:39|\n",
            "|        155|       81|       87625017|     87625017|               5|       161|2021-06-01 04:14:21|\n",
            "|     631757|       81|        8652928|      8652928|               5|       161|2021-06-01 03:58:57|\n",
            "|     631757|       81|        8548123|      8548123|               5|       161|2021-06-01 04:01:38|\n",
            "|     631757|       81|       24715264|     24715264|               5|       161|2021-06-01 03:56:57|\n",
            "+-----------+---------+---------------+-------------+----------------+----------+-------------------+\n",
            "only showing top 5 rows\n",
            "\n"
          ]
        }
      ],
      "source": [
        "# df=spark.read.csv('/content/drive/My Drive/Colab Notebooks/MDA/HW3/Sample_Traffic.csv',header=True,schema=schema)\n",
        "df=spark.read.csv('Sample_Traffic.csv',header=True,schema=schema)\n",
        "# df.select('DEVICE_CODE').distinct().count()\n",
        "df.show(5)"
      ]
    },
    {
      "cell_type": "markdown",
      "metadata": {},
      "source": [
        "<h3 dir=\"rtl\">\n",
        " با استفاده از یک بار فرایند \n",
        " map\n",
        " ، هر ردیف از \n",
        " df\n",
        " را به صورت کلید پلاک خودرو، و زمان عبور از مسیر در می‌آوریم. مقدار این کلید را نیز برابر کد دستگاه (\n",
        "     که نمایانگر مسیر عبوری است \n",
        " ) \n",
        " می‌گذاریم. \n",
        " rdd\n",
        " به دست آمده به ازای هر مسیر در هر روز، یک ردیف خواهد داشت. \n",
        "</h3> \n"
      ]
    },
    {
      "cell_type": "code",
      "execution_count": 3,
      "metadata": {
        "colab": {
          "base_uri": "https://localhost:8080/"
        },
        "id": "RhYYY2TRjgCv",
        "outputId": "3240f0b9-8a19-4d4c-c33b-1386efe9f881"
      },
      "outputs": [
        {
          "name": "stderr",
          "output_type": "stream",
          "text": [
            "                                                                                \r"
          ]
        },
        {
          "data": {
            "text/plain": [
              "[(('10477885', datetime.date(2021, 6, 1)), 200501),\n",
              " (('87625017', datetime.date(2021, 6, 1)), 155),\n",
              " (('8652928', datetime.date(2021, 6, 1)), 631757),\n",
              " (('8548123', datetime.date(2021, 6, 1)), 631757),\n",
              " (('24715264', datetime.date(2021, 6, 1)), 631757)]"
            ]
          },
          "execution_count": 3,
          "metadata": {},
          "output_type": "execute_result"
        }
      ],
      "source": [
        "rdd = df.rdd.map(lambda x: ((x['FINAL_CAR_KEY'], x['PASS_DAY_TIME'].date()),  x['DEVICE_CODE']))\n",
        "rdd.take(5)"
      ]
    },
    {
      "cell_type": "markdown",
      "metadata": {},
      "source": [
        "<h3 dir=\"rtl\">\n",
        " اگر \n",
        " rdd\n",
        " بالا را به کمک کلیدش \n",
        " group_by\n",
        " کنیم، برای هر ماشین در هر روز خاص، تمام مسیر‌هایی که عبور کرده در یک لیست خواهیم داشت. البته به دلیل ماهیت مسئله \n",
        " frequent_itemsets\n",
        " ، \n",
        " به جای لیست از\n",
        " set\n",
        " استفاده کرده‌ام، تا مسیر‌های تکراری نداشته باشیم. هرچند می‌توان مسئله را به گونه‌ای تعریف کرد که ترتیب و یا تعداد تکرار مسیرها تاثیر گذار باشد، اما با توجه به خروجی‌ای که ما می‌خوایم، این فرض چیزی از کلیت مسئله نمی‌کاهد.  \n",
        "</h3> \n"
      ]
    },
    {
      "cell_type": "code",
      "execution_count": 31,
      "metadata": {
        "colab": {
          "base_uri": "https://localhost:8080/"
        },
        "id": "PrTYvjMNku-d",
        "outputId": "9c392bc2-5afb-4fe3-975d-25c9b778df14"
      },
      "outputs": [
        {
          "name": "stderr",
          "output_type": "stream",
          "text": [
            "                                                                                \r"
          ]
        },
        {
          "data": {
            "text/plain": [
              "[(('69939810', datetime.date(2021, 6, 1)), {206602, 631830, 900233}),\n",
              " (('11046172', datetime.date(2021, 6, 1)), {206602}),\n",
              " (('29077699', datetime.date(2021, 6, 1)),\n",
              "  {119,\n",
              "   128,\n",
              "   206602,\n",
              "   208602,\n",
              "   210602,\n",
              "   631367,\n",
              "   631763,\n",
              "   631829,\n",
              "   900135,\n",
              "   900233,\n",
              "   900234,\n",
              "   900240,\n",
              "   900246,\n",
              "   900266,\n",
              "   22010111,\n",
              "   22010123}),\n",
              " (('40682798', datetime.date(2021, 6, 1)), {206602}),\n",
              " (('48823778', datetime.date(2021, 6, 1)), {206602})]"
            ]
          },
          "execution_count": 31,
          "metadata": {},
          "output_type": "execute_result"
        }
      ],
      "source": [
        "path_rdd = rdd.groupByKey().mapValues(set)\n",
        "path_rdd.take(5)"
      ]
    },
    {
      "cell_type": "code",
      "execution_count": 48,
      "metadata": {},
      "outputs": [
        {
          "name": "stdout",
          "output_type": "stream",
          "text": [
            "[-0.23922592 -0.32270464  0.37559075 -0.17577712 -0.09982089  0.8145577 ]\n",
            "1.0068017862460348\n"
          ]
        },
        {
          "data": {
            "text/plain": [
              "array([-0.23841647, -0.32161272,  0.37431988, -0.17518235, -0.09948313,\n",
              "        0.81180153])"
            ]
          },
          "execution_count": 48,
          "metadata": {},
          "output_type": "execute_result"
        }
      ],
      "source": [
        "import numpy as np\n",
        "from numpy import linalg as LA\n",
        "import math\n",
        "\n",
        "A = np.array([\n",
        "    [0,1,1,0,0,0],\n",
        "    [0,0,1,0,0,0],\n",
        "    [1,1,0,1,1,1],\n",
        "    [0,1,0,0,0,0],\n",
        "    [0,1,0,0,0,1],\n",
        "    [0,1,1,0,0,0],\n",
        "])\n",
        "M = np.matmul(A.T,A)\n",
        "N = np.matmul(A,A.T)\n",
        "\n",
        "m = LA.eig(M)\n",
        "m\n",
        "\n",
        "hubs = m[1][0]\n",
        "norm2 = 0\n",
        "for i in hubs:\n",
        "    norm2 += i**2\n",
        "print(hubs)\n",
        "print(norm2)\n",
        "hubs = hubs/ math.sqrt(norm2)\n",
        "hubs\n",
        "# LA.eig(N)\n",
        "# LA.svd(M)\n"
      ]
    }
  ],
  "metadata": {
    "colab": {
      "collapsed_sections": [],
      "name": "MDA_2021.ipynb",
      "provenance": []
    },
    "kernelspec": {
      "display_name": "Python 3",
      "name": "python3"
    },
    "language_info": {
      "codemirror_mode": {
        "name": "ipython",
        "version": 3
      },
      "file_extension": ".py",
      "mimetype": "text/x-python",
      "name": "python",
      "nbconvert_exporter": "python",
      "pygments_lexer": "ipython3",
      "version": "3.9.7"
    }
  },
  "nbformat": 4,
  "nbformat_minor": 0
}
