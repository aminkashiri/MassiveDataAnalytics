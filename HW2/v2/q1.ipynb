{
  "nbformat": 4,
  "nbformat_minor": 0,
  "metadata": {
    "colab": {
      "name": "q1.ipynb",
      "provenance": [],
      "collapsed_sections": [
        "1t_feuOXL50K",
        "WCg36-woAdNY",
        "p2QMlbW4CJS4"
      ]
    },
    "kernelspec": {
      "name": "python3",
      "display_name": "Python 3"
    },
    "language_info": {
      "name": "python"
    }
  },
  "cells": [
    {
      "cell_type": "markdown",
      "metadata": {
        "id": "SJSq8Knptpxv"
      },
      "source": [
        "<div dir=\"rtl\">\n",
        "\n",
        "## الف) \n",
        "\n",
        "</div>\n"
      ]
    },
    {
      "cell_type": "markdown",
      "metadata": {
        "id": "CMA3HdPgvGnx"
      },
      "source": [
        "<div dir=\"rtl\">\n",
        "\n",
        "فایل داده‌ شد را روی کولب لود می‌کنیم. لطفا متغیر \n",
        "path\n",
        "را به صورت مورد نیاز تغییر دهید. \n",
        "\n",
        "</div>\n"
      ]
    },
    {
      "cell_type": "code",
      "metadata": {
        "id": "jIfmGVYes-eg",
        "colab": {
          "base_uri": "https://localhost:8080/"
        },
        "outputId": "7d608411-16f2-4633-fe1d-fdadedcd39ab"
      },
      "source": [
        "from google.colab import drive\n",
        "drive.mount('/mount')"
      ],
      "execution_count": 2,
      "outputs": [
        {
          "output_type": "stream",
          "name": "stdout",
          "text": [
            "Mounted at /mount\n"
          ]
        }
      ]
    },
    {
      "cell_type": "code",
      "metadata": {
        "colab": {
          "base_uri": "https://localhost:8080/"
        },
        "id": "ZNz7QnJc08qU",
        "outputId": "0def8cf7-ecf9-4b50-e4a2-70ce16cc82c4"
      },
      "source": [
        "cd /mount/My Drive/Colab Notebooks/MDA/HW1"
      ],
      "execution_count": 3,
      "outputs": [
        {
          "output_type": "stream",
          "name": "stdout",
          "text": [
            "/mount/My Drive/Colab Notebooks/MDA/HW1\n"
          ]
        }
      ]
    },
    {
      "cell_type": "code",
      "metadata": {
        "colab": {
          "base_uri": "https://localhost:8080/"
        },
        "id": "_e8vtbcI2KXW",
        "outputId": "a117c94c-212e-4401-b0c7-af3297b6a379"
      },
      "source": [
        "ls"
      ],
      "execution_count": 4,
      "outputs": [
        {
          "output_type": "stream",
          "name": "stdout",
          "text": [
            " IMDB-Movie-Data.csv   q1.ipynb  'SUT - Data Mining Spark Exercise.ipynb'\n"
          ]
        }
      ]
    },
    {
      "cell_type": "code",
      "metadata": {
        "id": "zFzLaT031B6I",
        "colab": {
          "base_uri": "https://localhost:8080/",
          "height": 310
        },
        "outputId": "94347d6b-5b5f-446a-d37b-22e7b0db41ec"
      },
      "source": [
        "import pandas as pd\n",
        "path = 'IMDB-Movie-Data.csv'\n",
        "df = pd.read_csv(path)\n",
        "df.head(5)"
      ],
      "execution_count": 5,
      "outputs": [
        {
          "output_type": "execute_result",
          "data": {
            "text/html": [
              "<div>\n",
              "<style scoped>\n",
              "    .dataframe tbody tr th:only-of-type {\n",
              "        vertical-align: middle;\n",
              "    }\n",
              "\n",
              "    .dataframe tbody tr th {\n",
              "        vertical-align: top;\n",
              "    }\n",
              "\n",
              "    .dataframe thead th {\n",
              "        text-align: right;\n",
              "    }\n",
              "</style>\n",
              "<table border=\"1\" class=\"dataframe\">\n",
              "  <thead>\n",
              "    <tr style=\"text-align: right;\">\n",
              "      <th></th>\n",
              "      <th>Rank</th>\n",
              "      <th>Title</th>\n",
              "      <th>Genre</th>\n",
              "      <th>Description</th>\n",
              "      <th>Director</th>\n",
              "      <th>Actors</th>\n",
              "      <th>Year</th>\n",
              "      <th>Runtime (Minutes)</th>\n",
              "      <th>Rating</th>\n",
              "      <th>Votes</th>\n",
              "      <th>Revenue (Millions)</th>\n",
              "      <th>Metascore</th>\n",
              "    </tr>\n",
              "  </thead>\n",
              "  <tbody>\n",
              "    <tr>\n",
              "      <th>0</th>\n",
              "      <td>1</td>\n",
              "      <td>Guardians of the Galaxy</td>\n",
              "      <td>Action,Adventure,Sci-Fi</td>\n",
              "      <td>A group of intergalactic criminals are forced ...</td>\n",
              "      <td>James Gunn</td>\n",
              "      <td>Chris Pratt, Vin Diesel, Bradley Cooper, Zoe S...</td>\n",
              "      <td>2014</td>\n",
              "      <td>121</td>\n",
              "      <td>8.1</td>\n",
              "      <td>757074</td>\n",
              "      <td>333.13</td>\n",
              "      <td>76.0</td>\n",
              "    </tr>\n",
              "    <tr>\n",
              "      <th>1</th>\n",
              "      <td>2</td>\n",
              "      <td>Prometheus</td>\n",
              "      <td>Adventure,Mystery,Sci-Fi</td>\n",
              "      <td>Following clues to the origin of mankind, a te...</td>\n",
              "      <td>Ridley Scott</td>\n",
              "      <td>Noomi Rapace, Logan Marshall-Green, Michael Fa...</td>\n",
              "      <td>2012</td>\n",
              "      <td>124</td>\n",
              "      <td>7.0</td>\n",
              "      <td>485820</td>\n",
              "      <td>126.46</td>\n",
              "      <td>65.0</td>\n",
              "    </tr>\n",
              "    <tr>\n",
              "      <th>2</th>\n",
              "      <td>3</td>\n",
              "      <td>Split</td>\n",
              "      <td>Horror,Thriller</td>\n",
              "      <td>Three girls are kidnapped by a man with a diag...</td>\n",
              "      <td>M. Night Shyamalan</td>\n",
              "      <td>James McAvoy, Anya Taylor-Joy, Haley Lu Richar...</td>\n",
              "      <td>2016</td>\n",
              "      <td>117</td>\n",
              "      <td>7.3</td>\n",
              "      <td>157606</td>\n",
              "      <td>138.12</td>\n",
              "      <td>62.0</td>\n",
              "    </tr>\n",
              "    <tr>\n",
              "      <th>3</th>\n",
              "      <td>4</td>\n",
              "      <td>Sing</td>\n",
              "      <td>Animation,Comedy,Family</td>\n",
              "      <td>In a city of humanoid animals, a hustling thea...</td>\n",
              "      <td>Christophe Lourdelet</td>\n",
              "      <td>Matthew McConaughey,Reese Witherspoon, Seth Ma...</td>\n",
              "      <td>2016</td>\n",
              "      <td>108</td>\n",
              "      <td>7.2</td>\n",
              "      <td>60545</td>\n",
              "      <td>270.32</td>\n",
              "      <td>59.0</td>\n",
              "    </tr>\n",
              "    <tr>\n",
              "      <th>4</th>\n",
              "      <td>5</td>\n",
              "      <td>Suicide Squad</td>\n",
              "      <td>Action,Adventure,Fantasy</td>\n",
              "      <td>A secret government agency recruits some of th...</td>\n",
              "      <td>David Ayer</td>\n",
              "      <td>Will Smith, Jared Leto, Margot Robbie, Viola D...</td>\n",
              "      <td>2016</td>\n",
              "      <td>123</td>\n",
              "      <td>6.2</td>\n",
              "      <td>393727</td>\n",
              "      <td>325.02</td>\n",
              "      <td>40.0</td>\n",
              "    </tr>\n",
              "  </tbody>\n",
              "</table>\n",
              "</div>"
            ],
            "text/plain": [
              "   Rank                    Title  ... Revenue (Millions) Metascore\n",
              "0     1  Guardians of the Galaxy  ...             333.13      76.0\n",
              "1     2               Prometheus  ...             126.46      65.0\n",
              "2     3                    Split  ...             138.12      62.0\n",
              "3     4                     Sing  ...             270.32      59.0\n",
              "4     5            Suicide Squad  ...             325.02      40.0\n",
              "\n",
              "[5 rows x 12 columns]"
            ]
          },
          "metadata": {},
          "execution_count": 5
        }
      ]
    },
    {
      "cell_type": "markdown",
      "metadata": {
        "id": "0YN2uc20sbB3"
      },
      "source": [
        "<div dir=\"rtl\">\n",
        "\n",
        "## ب)\n",
        "\n",
        "</div>\n"
      ]
    },
    {
      "cell_type": "markdown",
      "metadata": {
        "id": "oNyjT9_asOd_"
      },
      "source": [
        "<div dir=\"rtl\">\n",
        "\n",
        "تمام ژانر‌های این دیتاست با گرفتن مقادیر یکتا از ستون ژانرها پس از جدا کردن با ویرگول به دست می‌آید.\n",
        "\n",
        "</div>\n"
      ]
    },
    {
      "cell_type": "code",
      "metadata": {
        "colab": {
          "base_uri": "https://localhost:8080/"
        },
        "id": "om0NyFj37QjH",
        "outputId": "dd72015d-4f10-4a71-acee-fcc16e3f7cae"
      },
      "source": [
        "sample = df.head()\n",
        "geners = pd.Series(df['Genre'].str.split(',').sum()).unique()\n",
        "geners"
      ],
      "execution_count": 6,
      "outputs": [
        {
          "output_type": "execute_result",
          "data": {
            "text/plain": [
              "array(['Action', 'Adventure', 'Sci-Fi', 'Mystery', 'Horror', 'Thriller',\n",
              "       'Animation', 'Comedy', 'Family', 'Fantasy', 'Drama', 'Music',\n",
              "       'Biography', 'Romance', 'History', 'Crime', 'Western', 'War',\n",
              "       'Musical', 'Sport'], dtype=object)"
            ]
          },
          "metadata": {},
          "execution_count": 6
        }
      ]
    },
    {
      "cell_type": "markdown",
      "metadata": {
        "id": "o6N7yMCLs2qn"
      },
      "source": [
        "<div dir=\"rtl\">\n",
        "\n",
        "در هر ژانر چند فیلم وجود دارد: \n",
        "\n",
        "</div>\n"
      ]
    },
    {
      "cell_type": "code",
      "metadata": {
        "colab": {
          "base_uri": "https://localhost:8080/",
          "height": 310
        },
        "id": "BpgVKblvHgYt",
        "outputId": "c3e74fb2-bb47-4805-ec4b-e0d090c2f254"
      },
      "source": [
        "deformed_df = df.reindex(df.index.repeat(df.Genre.str.split(',').str.len()))\n",
        "deformed_df['Genre'] = df.Genre.str.split(',').sum()\n",
        "deformed_df.head(5)"
      ],
      "execution_count": 7,
      "outputs": [
        {
          "output_type": "execute_result",
          "data": {
            "text/html": [
              "<div>\n",
              "<style scoped>\n",
              "    .dataframe tbody tr th:only-of-type {\n",
              "        vertical-align: middle;\n",
              "    }\n",
              "\n",
              "    .dataframe tbody tr th {\n",
              "        vertical-align: top;\n",
              "    }\n",
              "\n",
              "    .dataframe thead th {\n",
              "        text-align: right;\n",
              "    }\n",
              "</style>\n",
              "<table border=\"1\" class=\"dataframe\">\n",
              "  <thead>\n",
              "    <tr style=\"text-align: right;\">\n",
              "      <th></th>\n",
              "      <th>Rank</th>\n",
              "      <th>Title</th>\n",
              "      <th>Genre</th>\n",
              "      <th>Description</th>\n",
              "      <th>Director</th>\n",
              "      <th>Actors</th>\n",
              "      <th>Year</th>\n",
              "      <th>Runtime (Minutes)</th>\n",
              "      <th>Rating</th>\n",
              "      <th>Votes</th>\n",
              "      <th>Revenue (Millions)</th>\n",
              "      <th>Metascore</th>\n",
              "    </tr>\n",
              "  </thead>\n",
              "  <tbody>\n",
              "    <tr>\n",
              "      <th>0</th>\n",
              "      <td>1</td>\n",
              "      <td>Guardians of the Galaxy</td>\n",
              "      <td>Action</td>\n",
              "      <td>A group of intergalactic criminals are forced ...</td>\n",
              "      <td>James Gunn</td>\n",
              "      <td>Chris Pratt, Vin Diesel, Bradley Cooper, Zoe S...</td>\n",
              "      <td>2014</td>\n",
              "      <td>121</td>\n",
              "      <td>8.1</td>\n",
              "      <td>757074</td>\n",
              "      <td>333.13</td>\n",
              "      <td>76.0</td>\n",
              "    </tr>\n",
              "    <tr>\n",
              "      <th>0</th>\n",
              "      <td>1</td>\n",
              "      <td>Guardians of the Galaxy</td>\n",
              "      <td>Adventure</td>\n",
              "      <td>A group of intergalactic criminals are forced ...</td>\n",
              "      <td>James Gunn</td>\n",
              "      <td>Chris Pratt, Vin Diesel, Bradley Cooper, Zoe S...</td>\n",
              "      <td>2014</td>\n",
              "      <td>121</td>\n",
              "      <td>8.1</td>\n",
              "      <td>757074</td>\n",
              "      <td>333.13</td>\n",
              "      <td>76.0</td>\n",
              "    </tr>\n",
              "    <tr>\n",
              "      <th>0</th>\n",
              "      <td>1</td>\n",
              "      <td>Guardians of the Galaxy</td>\n",
              "      <td>Sci-Fi</td>\n",
              "      <td>A group of intergalactic criminals are forced ...</td>\n",
              "      <td>James Gunn</td>\n",
              "      <td>Chris Pratt, Vin Diesel, Bradley Cooper, Zoe S...</td>\n",
              "      <td>2014</td>\n",
              "      <td>121</td>\n",
              "      <td>8.1</td>\n",
              "      <td>757074</td>\n",
              "      <td>333.13</td>\n",
              "      <td>76.0</td>\n",
              "    </tr>\n",
              "    <tr>\n",
              "      <th>1</th>\n",
              "      <td>2</td>\n",
              "      <td>Prometheus</td>\n",
              "      <td>Adventure</td>\n",
              "      <td>Following clues to the origin of mankind, a te...</td>\n",
              "      <td>Ridley Scott</td>\n",
              "      <td>Noomi Rapace, Logan Marshall-Green, Michael Fa...</td>\n",
              "      <td>2012</td>\n",
              "      <td>124</td>\n",
              "      <td>7.0</td>\n",
              "      <td>485820</td>\n",
              "      <td>126.46</td>\n",
              "      <td>65.0</td>\n",
              "    </tr>\n",
              "    <tr>\n",
              "      <th>1</th>\n",
              "      <td>2</td>\n",
              "      <td>Prometheus</td>\n",
              "      <td>Mystery</td>\n",
              "      <td>Following clues to the origin of mankind, a te...</td>\n",
              "      <td>Ridley Scott</td>\n",
              "      <td>Noomi Rapace, Logan Marshall-Green, Michael Fa...</td>\n",
              "      <td>2012</td>\n",
              "      <td>124</td>\n",
              "      <td>7.0</td>\n",
              "      <td>485820</td>\n",
              "      <td>126.46</td>\n",
              "      <td>65.0</td>\n",
              "    </tr>\n",
              "  </tbody>\n",
              "</table>\n",
              "</div>"
            ],
            "text/plain": [
              "   Rank                    Title  ... Revenue (Millions) Metascore\n",
              "0     1  Guardians of the Galaxy  ...             333.13      76.0\n",
              "0     1  Guardians of the Galaxy  ...             333.13      76.0\n",
              "0     1  Guardians of the Galaxy  ...             333.13      76.0\n",
              "1     2               Prometheus  ...             126.46      65.0\n",
              "1     2               Prometheus  ...             126.46      65.0\n",
              "\n",
              "[5 rows x 12 columns]"
            ]
          },
          "metadata": {},
          "execution_count": 7
        }
      ]
    },
    {
      "cell_type": "code",
      "metadata": {
        "colab": {
          "base_uri": "https://localhost:8080/",
          "height": 399
        },
        "id": "38C9MUEatQKG",
        "outputId": "b9da838e-68e1-4552-97c7-2d2b9e04ab2f"
      },
      "source": [
        "display(deformed_df.groupby('Genre')['Revenue (Millions)'].size())"
      ],
      "execution_count": 8,
      "outputs": [
        {
          "output_type": "display_data",
          "data": {
            "text/plain": [
              "Genre\n",
              "Action       303\n",
              "Adventure    259\n",
              "Animation     49\n",
              "Biography     81\n",
              "Comedy       279\n",
              "Crime        150\n",
              "Drama        513\n",
              "Family        51\n",
              "Fantasy      101\n",
              "History       29\n",
              "Horror       119\n",
              "Music         16\n",
              "Musical        5\n",
              "Mystery      106\n",
              "Romance      141\n",
              "Sci-Fi       120\n",
              "Sport         18\n",
              "Thriller     195\n",
              "War           13\n",
              "Western        7\n",
              "Name: Revenue (Millions), dtype: int64"
            ]
          },
          "metadata": {}
        }
      ]
    },
    {
      "cell_type": "markdown",
      "metadata": {
        "id": "tdfsulsGtV9o"
      },
      "source": [
        "<div dir=\"rtl\">\n",
        "\n",
        "میانگین درآمد هر ژانر:  \n",
        "\n",
        "</div>\n"
      ]
    },
    {
      "cell_type": "markdown",
      "metadata": {
        "id": "zwhL61A2afHi"
      },
      "source": [
        "Note that we have NaN values, so simply dividing sum by size doesn't give us mean. But mean function handles this for us."
      ]
    },
    {
      "cell_type": "code",
      "metadata": {
        "colab": {
          "base_uri": "https://localhost:8080/",
          "height": 399
        },
        "id": "MwheruFo8gHu",
        "outputId": "99e333f5-4ae1-4445-bf0d-59d0cb0ffa16"
      },
      "source": [
        "display(deformed_df.groupby('Genre')['Revenue (Millions)'].mean())"
      ],
      "execution_count": 9,
      "outputs": [
        {
          "output_type": "display_data",
          "data": {
            "text/plain": [
              "Genre\n",
              "Action       124.494476\n",
              "Adventure    154.177024\n",
              "Animation    191.223404\n",
              "Biography     55.801600\n",
              "Comedy        75.750784\n",
              "Crime         61.804769\n",
              "Drama         49.844205\n",
              "Family       126.175714\n",
              "Fantasy      131.850108\n",
              "History       52.923846\n",
              "Horror        36.705269\n",
              "Music         47.070000\n",
              "Musical       81.642000\n",
              "Mystery       54.627640\n",
              "Romance       42.503023\n",
              "Sci-Fi       135.552545\n",
              "Sport         65.042500\n",
              "Thriller      69.577255\n",
              "War           53.433000\n",
              "Western      111.824000\n",
              "Name: Revenue (Millions), dtype: float64"
            ]
          },
          "metadata": {}
        }
      ]
    },
    {
      "cell_type": "markdown",
      "metadata": {
        "id": "UDgq3Wfuhu_p"
      },
      "source": [
        "<div dir=\"rtl\">\n",
        "\n",
        "## ج)\n",
        "\n",
        "</div>"
      ]
    },
    {
      "cell_type": "markdown",
      "metadata": {
        "id": "aUNZR3r85gVX"
      },
      "source": [
        "<div dir=\"rtl\">\n",
        "\n",
        "تمام فیلم‌های بین سال ۲۰۰۶ و ۲۰۱۶ را می‌گیریم.\n",
        "\n",
        "</div>"
      ]
    },
    {
      "cell_type": "code",
      "metadata": {
        "colab": {
          "base_uri": "https://localhost:8080/",
          "height": 310
        },
        "id": "PEfHGRLThn0f",
        "outputId": "02b4afa3-8497-4a76-df7e-25d372661eef"
      },
      "source": [
        "df3 = df[df.Year.between(2006,2016)]\n",
        "df3.head()"
      ],
      "execution_count": 11,
      "outputs": [
        {
          "output_type": "execute_result",
          "data": {
            "text/html": [
              "<div>\n",
              "<style scoped>\n",
              "    .dataframe tbody tr th:only-of-type {\n",
              "        vertical-align: middle;\n",
              "    }\n",
              "\n",
              "    .dataframe tbody tr th {\n",
              "        vertical-align: top;\n",
              "    }\n",
              "\n",
              "    .dataframe thead th {\n",
              "        text-align: right;\n",
              "    }\n",
              "</style>\n",
              "<table border=\"1\" class=\"dataframe\">\n",
              "  <thead>\n",
              "    <tr style=\"text-align: right;\">\n",
              "      <th></th>\n",
              "      <th>Rank</th>\n",
              "      <th>Title</th>\n",
              "      <th>Genre</th>\n",
              "      <th>Description</th>\n",
              "      <th>Director</th>\n",
              "      <th>Actors</th>\n",
              "      <th>Year</th>\n",
              "      <th>Runtime (Minutes)</th>\n",
              "      <th>Rating</th>\n",
              "      <th>Votes</th>\n",
              "      <th>Revenue (Millions)</th>\n",
              "      <th>Metascore</th>\n",
              "    </tr>\n",
              "  </thead>\n",
              "  <tbody>\n",
              "    <tr>\n",
              "      <th>0</th>\n",
              "      <td>1</td>\n",
              "      <td>Guardians of the Galaxy</td>\n",
              "      <td>Action,Adventure,Sci-Fi</td>\n",
              "      <td>A group of intergalactic criminals are forced ...</td>\n",
              "      <td>James Gunn</td>\n",
              "      <td>Chris Pratt, Vin Diesel, Bradley Cooper, Zoe S...</td>\n",
              "      <td>2014</td>\n",
              "      <td>121</td>\n",
              "      <td>8.1</td>\n",
              "      <td>757074</td>\n",
              "      <td>333.13</td>\n",
              "      <td>76.0</td>\n",
              "    </tr>\n",
              "    <tr>\n",
              "      <th>1</th>\n",
              "      <td>2</td>\n",
              "      <td>Prometheus</td>\n",
              "      <td>Adventure,Mystery,Sci-Fi</td>\n",
              "      <td>Following clues to the origin of mankind, a te...</td>\n",
              "      <td>Ridley Scott</td>\n",
              "      <td>Noomi Rapace, Logan Marshall-Green, Michael Fa...</td>\n",
              "      <td>2012</td>\n",
              "      <td>124</td>\n",
              "      <td>7.0</td>\n",
              "      <td>485820</td>\n",
              "      <td>126.46</td>\n",
              "      <td>65.0</td>\n",
              "    </tr>\n",
              "    <tr>\n",
              "      <th>2</th>\n",
              "      <td>3</td>\n",
              "      <td>Split</td>\n",
              "      <td>Horror,Thriller</td>\n",
              "      <td>Three girls are kidnapped by a man with a diag...</td>\n",
              "      <td>M. Night Shyamalan</td>\n",
              "      <td>James McAvoy, Anya Taylor-Joy, Haley Lu Richar...</td>\n",
              "      <td>2016</td>\n",
              "      <td>117</td>\n",
              "      <td>7.3</td>\n",
              "      <td>157606</td>\n",
              "      <td>138.12</td>\n",
              "      <td>62.0</td>\n",
              "    </tr>\n",
              "    <tr>\n",
              "      <th>3</th>\n",
              "      <td>4</td>\n",
              "      <td>Sing</td>\n",
              "      <td>Animation,Comedy,Family</td>\n",
              "      <td>In a city of humanoid animals, a hustling thea...</td>\n",
              "      <td>Christophe Lourdelet</td>\n",
              "      <td>Matthew McConaughey,Reese Witherspoon, Seth Ma...</td>\n",
              "      <td>2016</td>\n",
              "      <td>108</td>\n",
              "      <td>7.2</td>\n",
              "      <td>60545</td>\n",
              "      <td>270.32</td>\n",
              "      <td>59.0</td>\n",
              "    </tr>\n",
              "    <tr>\n",
              "      <th>4</th>\n",
              "      <td>5</td>\n",
              "      <td>Suicide Squad</td>\n",
              "      <td>Action,Adventure,Fantasy</td>\n",
              "      <td>A secret government agency recruits some of th...</td>\n",
              "      <td>David Ayer</td>\n",
              "      <td>Will Smith, Jared Leto, Margot Robbie, Viola D...</td>\n",
              "      <td>2016</td>\n",
              "      <td>123</td>\n",
              "      <td>6.2</td>\n",
              "      <td>393727</td>\n",
              "      <td>325.02</td>\n",
              "      <td>40.0</td>\n",
              "    </tr>\n",
              "  </tbody>\n",
              "</table>\n",
              "</div>"
            ],
            "text/plain": [
              "   Rank                    Title  ... Revenue (Millions) Metascore\n",
              "0     1  Guardians of the Galaxy  ...             333.13      76.0\n",
              "1     2               Prometheus  ...             126.46      65.0\n",
              "2     3                    Split  ...             138.12      62.0\n",
              "3     4                     Sing  ...             270.32      59.0\n",
              "4     5            Suicide Squad  ...             325.02      40.0\n",
              "\n",
              "[5 rows x 12 columns]"
            ]
          },
          "metadata": {},
          "execution_count": 11
        }
      ]
    },
    {
      "cell_type": "markdown",
      "metadata": {
        "id": "0xQ3tLo-6DBy"
      },
      "source": [
        "<div dir=\"rtl\">\n",
        "\n",
        "ابتدا \n",
        "df\n",
        "را روی ستون بازیگر باز می‌کنیم. یعنی به ازای هر بازیگر و فیلم یک ردیف قرار می‌دهیم. \n",
        "\n",
        "</div>\n"
      ]
    },
    {
      "cell_type": "code",
      "metadata": {
        "colab": {
          "base_uri": "https://localhost:8080/",
          "height": 363
        },
        "id": "QfQZ2OUWn-Zy",
        "outputId": "a2230d94-9829-4381-b0a8-e5fc06e78394"
      },
      "source": [
        "deformed_df3 = df.reindex(df.index.repeat(df.Actors.str.split(',').str.len()))\n",
        "# deformed_df3['Actor'] = pd.Series(df3.Actors.str.split(',').sum()).str.strip()\n",
        "deformed_df3['Actor'] = df3.Actors.str.split(',').sum()\n",
        "# deformed_df3 = deformed_df3.drop('Actors', axis=1)\n",
        "deformed_df3 = deformed_df3[['Actor','Title']]\n",
        "deformed_df3.Actor = deformed_df3.Actor.str.strip()\n",
        "deformed_df3.head(10)"
      ],
      "execution_count": 12,
      "outputs": [
        {
          "output_type": "execute_result",
          "data": {
            "text/html": [
              "<div>\n",
              "<style scoped>\n",
              "    .dataframe tbody tr th:only-of-type {\n",
              "        vertical-align: middle;\n",
              "    }\n",
              "\n",
              "    .dataframe tbody tr th {\n",
              "        vertical-align: top;\n",
              "    }\n",
              "\n",
              "    .dataframe thead th {\n",
              "        text-align: right;\n",
              "    }\n",
              "</style>\n",
              "<table border=\"1\" class=\"dataframe\">\n",
              "  <thead>\n",
              "    <tr style=\"text-align: right;\">\n",
              "      <th></th>\n",
              "      <th>Actor</th>\n",
              "      <th>Title</th>\n",
              "    </tr>\n",
              "  </thead>\n",
              "  <tbody>\n",
              "    <tr>\n",
              "      <th>0</th>\n",
              "      <td>Chris Pratt</td>\n",
              "      <td>Guardians of the Galaxy</td>\n",
              "    </tr>\n",
              "    <tr>\n",
              "      <th>0</th>\n",
              "      <td>Vin Diesel</td>\n",
              "      <td>Guardians of the Galaxy</td>\n",
              "    </tr>\n",
              "    <tr>\n",
              "      <th>0</th>\n",
              "      <td>Bradley Cooper</td>\n",
              "      <td>Guardians of the Galaxy</td>\n",
              "    </tr>\n",
              "    <tr>\n",
              "      <th>0</th>\n",
              "      <td>Zoe Saldana</td>\n",
              "      <td>Guardians of the Galaxy</td>\n",
              "    </tr>\n",
              "    <tr>\n",
              "      <th>1</th>\n",
              "      <td>Noomi Rapace</td>\n",
              "      <td>Prometheus</td>\n",
              "    </tr>\n",
              "    <tr>\n",
              "      <th>1</th>\n",
              "      <td>Logan Marshall-Green</td>\n",
              "      <td>Prometheus</td>\n",
              "    </tr>\n",
              "    <tr>\n",
              "      <th>1</th>\n",
              "      <td>Michael Fassbender</td>\n",
              "      <td>Prometheus</td>\n",
              "    </tr>\n",
              "    <tr>\n",
              "      <th>1</th>\n",
              "      <td>Charlize Theron</td>\n",
              "      <td>Prometheus</td>\n",
              "    </tr>\n",
              "    <tr>\n",
              "      <th>2</th>\n",
              "      <td>James McAvoy</td>\n",
              "      <td>Split</td>\n",
              "    </tr>\n",
              "    <tr>\n",
              "      <th>2</th>\n",
              "      <td>Anya Taylor-Joy</td>\n",
              "      <td>Split</td>\n",
              "    </tr>\n",
              "  </tbody>\n",
              "</table>\n",
              "</div>"
            ],
            "text/plain": [
              "                  Actor                    Title\n",
              "0           Chris Pratt  Guardians of the Galaxy\n",
              "0            Vin Diesel  Guardians of the Galaxy\n",
              "0        Bradley Cooper  Guardians of the Galaxy\n",
              "0           Zoe Saldana  Guardians of the Galaxy\n",
              "1          Noomi Rapace               Prometheus\n",
              "1  Logan Marshall-Green               Prometheus\n",
              "1    Michael Fassbender               Prometheus\n",
              "1       Charlize Theron               Prometheus\n",
              "2          James McAvoy                    Split\n",
              "2       Anya Taylor-Joy                    Split"
            ]
          },
          "metadata": {},
          "execution_count": 12
        }
      ]
    },
    {
      "cell_type": "markdown",
      "metadata": {
        "id": "oB5LfoSk6RrR"
      },
      "source": [
        "<div dir=\"rtl\">\n",
        "\n",
        "سپس این \n",
        "df\n",
        "را با ستون \n",
        "title\n",
        "روی خودش\n",
        "join \n",
        "می‌کنیم.  در این مرحله دقت می کنیم که بازیگر چپ و راست با هم یکی نباشند. \n",
        "\n",
        "</div>"
      ]
    },
    {
      "cell_type": "code",
      "metadata": {
        "colab": {
          "base_uri": "https://localhost:8080/",
          "height": 419
        },
        "id": "xRjzDyz3pqYb",
        "outputId": "34335fb8-1f95-452d-83a4-6bd4df3b73d9"
      },
      "source": [
        "deformed_df3 = pd.merge(deformed_df3,deformed_df3, on='Title', suffixes = ('_left','_right'))\n",
        "deformed_df3 = deformed_df3[deformed_df3.Actor_left != deformed_df3.Actor_right]\n",
        "deformed_df3"
      ],
      "execution_count": null,
      "outputs": [
        {
          "output_type": "execute_result",
          "data": {
            "text/html": [
              "<div>\n",
              "<style scoped>\n",
              "    .dataframe tbody tr th:only-of-type {\n",
              "        vertical-align: middle;\n",
              "    }\n",
              "\n",
              "    .dataframe tbody tr th {\n",
              "        vertical-align: top;\n",
              "    }\n",
              "\n",
              "    .dataframe thead th {\n",
              "        text-align: right;\n",
              "    }\n",
              "</style>\n",
              "<table border=\"1\" class=\"dataframe\">\n",
              "  <thead>\n",
              "    <tr style=\"text-align: right;\">\n",
              "      <th></th>\n",
              "      <th>Actor_left</th>\n",
              "      <th>Title</th>\n",
              "      <th>Actor_right</th>\n",
              "    </tr>\n",
              "  </thead>\n",
              "  <tbody>\n",
              "    <tr>\n",
              "      <th>1</th>\n",
              "      <td>Chris Pratt</td>\n",
              "      <td>Guardians of the Galaxy</td>\n",
              "      <td>Vin Diesel</td>\n",
              "    </tr>\n",
              "    <tr>\n",
              "      <th>2</th>\n",
              "      <td>Chris Pratt</td>\n",
              "      <td>Guardians of the Galaxy</td>\n",
              "      <td>Bradley Cooper</td>\n",
              "    </tr>\n",
              "    <tr>\n",
              "      <th>3</th>\n",
              "      <td>Chris Pratt</td>\n",
              "      <td>Guardians of the Galaxy</td>\n",
              "      <td>Zoe Saldana</td>\n",
              "    </tr>\n",
              "    <tr>\n",
              "      <th>4</th>\n",
              "      <td>Vin Diesel</td>\n",
              "      <td>Guardians of the Galaxy</td>\n",
              "      <td>Chris Pratt</td>\n",
              "    </tr>\n",
              "    <tr>\n",
              "      <th>6</th>\n",
              "      <td>Vin Diesel</td>\n",
              "      <td>Guardians of the Galaxy</td>\n",
              "      <td>Bradley Cooper</td>\n",
              "    </tr>\n",
              "    <tr>\n",
              "      <th>...</th>\n",
              "      <td>...</td>\n",
              "      <td>...</td>\n",
              "      <td>...</td>\n",
              "    </tr>\n",
              "    <tr>\n",
              "      <th>16018</th>\n",
              "      <td>Robbie Amell</td>\n",
              "      <td>Nine Lives</td>\n",
              "      <td>Jennifer Garner</td>\n",
              "    </tr>\n",
              "    <tr>\n",
              "      <th>16020</th>\n",
              "      <td>Robbie Amell</td>\n",
              "      <td>Nine Lives</td>\n",
              "      <td>Cheryl Hines</td>\n",
              "    </tr>\n",
              "    <tr>\n",
              "      <th>16021</th>\n",
              "      <td>Cheryl Hines</td>\n",
              "      <td>Nine Lives</td>\n",
              "      <td>Kevin Spacey</td>\n",
              "    </tr>\n",
              "    <tr>\n",
              "      <th>16022</th>\n",
              "      <td>Cheryl Hines</td>\n",
              "      <td>Nine Lives</td>\n",
              "      <td>Jennifer Garner</td>\n",
              "    </tr>\n",
              "    <tr>\n",
              "      <th>16023</th>\n",
              "      <td>Cheryl Hines</td>\n",
              "      <td>Nine Lives</td>\n",
              "      <td>Robbie Amell</td>\n",
              "    </tr>\n",
              "  </tbody>\n",
              "</table>\n",
              "<p>12026 rows × 3 columns</p>\n",
              "</div>"
            ],
            "text/plain": [
              "         Actor_left                    Title      Actor_right\n",
              "1       Chris Pratt  Guardians of the Galaxy       Vin Diesel\n",
              "2       Chris Pratt  Guardians of the Galaxy   Bradley Cooper\n",
              "3       Chris Pratt  Guardians of the Galaxy      Zoe Saldana\n",
              "4        Vin Diesel  Guardians of the Galaxy      Chris Pratt\n",
              "6        Vin Diesel  Guardians of the Galaxy   Bradley Cooper\n",
              "...             ...                      ...              ...\n",
              "16018  Robbie Amell               Nine Lives  Jennifer Garner\n",
              "16020  Robbie Amell               Nine Lives     Cheryl Hines\n",
              "16021  Cheryl Hines               Nine Lives     Kevin Spacey\n",
              "16022  Cheryl Hines               Nine Lives  Jennifer Garner\n",
              "16023  Cheryl Hines               Nine Lives     Robbie Amell\n",
              "\n",
              "[12026 rows x 3 columns]"
            ]
          },
          "metadata": {},
          "execution_count": 344
        }
      ]
    },
    {
      "cell_type": "markdown",
      "metadata": {
        "id": "QO4NLXgP6Z19"
      },
      "source": [
        "<div dir=\"rtl\">\n",
        "\n",
        "برای این که داده‌های تکراری نداشته باشیم، اگر دو ردیف با دو بازیگر یکسان و فیلم یکسان وجود داشته باشد، یکی از ردیف‌ها را حذف می‌کنیم. \n",
        "\n",
        "</div>\n"
      ]
    },
    {
      "cell_type": "code",
      "metadata": {
        "colab": {
          "base_uri": "https://localhost:8080/",
          "height": 514
        },
        "id": "efUOz8yVrFmc",
        "outputId": "622c7d1d-ec13-4b8d-f34f-ff9cee344f45"
      },
      "source": [
        "deformed_df3[['Actor_left', 'Actor_right']] = np.sort(deformed_df3[['Actor_left', 'Actor_right']], axis=1)\n",
        "# deformed_df3_temp = deformed_df3.groupby(by=['Actor_left','Title','Actor_right']).first()\n",
        "deformed_df3 = deformed_df3.drop_duplicates(subset=['Actor_left', 'Title', 'Actor_right'], keep='first')\n",
        "deformed_df3.head(15)"
      ],
      "execution_count": null,
      "outputs": [
        {
          "output_type": "execute_result",
          "data": {
            "text/html": [
              "<div>\n",
              "<style scoped>\n",
              "    .dataframe tbody tr th:only-of-type {\n",
              "        vertical-align: middle;\n",
              "    }\n",
              "\n",
              "    .dataframe tbody tr th {\n",
              "        vertical-align: top;\n",
              "    }\n",
              "\n",
              "    .dataframe thead th {\n",
              "        text-align: right;\n",
              "    }\n",
              "</style>\n",
              "<table border=\"1\" class=\"dataframe\">\n",
              "  <thead>\n",
              "    <tr style=\"text-align: right;\">\n",
              "      <th></th>\n",
              "      <th>Actor_left</th>\n",
              "      <th>Title</th>\n",
              "      <th>Actor_right</th>\n",
              "    </tr>\n",
              "  </thead>\n",
              "  <tbody>\n",
              "    <tr>\n",
              "      <th>1</th>\n",
              "      <td>Chris Pratt</td>\n",
              "      <td>Guardians of the Galaxy</td>\n",
              "      <td>Vin Diesel</td>\n",
              "    </tr>\n",
              "    <tr>\n",
              "      <th>2</th>\n",
              "      <td>Bradley Cooper</td>\n",
              "      <td>Guardians of the Galaxy</td>\n",
              "      <td>Chris Pratt</td>\n",
              "    </tr>\n",
              "    <tr>\n",
              "      <th>3</th>\n",
              "      <td>Chris Pratt</td>\n",
              "      <td>Guardians of the Galaxy</td>\n",
              "      <td>Zoe Saldana</td>\n",
              "    </tr>\n",
              "    <tr>\n",
              "      <th>6</th>\n",
              "      <td>Bradley Cooper</td>\n",
              "      <td>Guardians of the Galaxy</td>\n",
              "      <td>Vin Diesel</td>\n",
              "    </tr>\n",
              "    <tr>\n",
              "      <th>7</th>\n",
              "      <td>Vin Diesel</td>\n",
              "      <td>Guardians of the Galaxy</td>\n",
              "      <td>Zoe Saldana</td>\n",
              "    </tr>\n",
              "    <tr>\n",
              "      <th>11</th>\n",
              "      <td>Bradley Cooper</td>\n",
              "      <td>Guardians of the Galaxy</td>\n",
              "      <td>Zoe Saldana</td>\n",
              "    </tr>\n",
              "    <tr>\n",
              "      <th>17</th>\n",
              "      <td>Logan Marshall-Green</td>\n",
              "      <td>Prometheus</td>\n",
              "      <td>Noomi Rapace</td>\n",
              "    </tr>\n",
              "    <tr>\n",
              "      <th>18</th>\n",
              "      <td>Michael Fassbender</td>\n",
              "      <td>Prometheus</td>\n",
              "      <td>Noomi Rapace</td>\n",
              "    </tr>\n",
              "    <tr>\n",
              "      <th>19</th>\n",
              "      <td>Charlize Theron</td>\n",
              "      <td>Prometheus</td>\n",
              "      <td>Noomi Rapace</td>\n",
              "    </tr>\n",
              "    <tr>\n",
              "      <th>22</th>\n",
              "      <td>Logan Marshall-Green</td>\n",
              "      <td>Prometheus</td>\n",
              "      <td>Michael Fassbender</td>\n",
              "    </tr>\n",
              "    <tr>\n",
              "      <th>23</th>\n",
              "      <td>Charlize Theron</td>\n",
              "      <td>Prometheus</td>\n",
              "      <td>Logan Marshall-Green</td>\n",
              "    </tr>\n",
              "    <tr>\n",
              "      <th>27</th>\n",
              "      <td>Charlize Theron</td>\n",
              "      <td>Prometheus</td>\n",
              "      <td>Michael Fassbender</td>\n",
              "    </tr>\n",
              "    <tr>\n",
              "      <th>33</th>\n",
              "      <td>Anya Taylor-Joy</td>\n",
              "      <td>Split</td>\n",
              "      <td>James McAvoy</td>\n",
              "    </tr>\n",
              "    <tr>\n",
              "      <th>34</th>\n",
              "      <td>Haley Lu Richardson</td>\n",
              "      <td>Split</td>\n",
              "      <td>James McAvoy</td>\n",
              "    </tr>\n",
              "    <tr>\n",
              "      <th>35</th>\n",
              "      <td>James McAvoy</td>\n",
              "      <td>Split</td>\n",
              "      <td>Jessica Sula</td>\n",
              "    </tr>\n",
              "  </tbody>\n",
              "</table>\n",
              "</div>"
            ],
            "text/plain": [
              "              Actor_left                    Title           Actor_right\n",
              "1            Chris Pratt  Guardians of the Galaxy            Vin Diesel\n",
              "2         Bradley Cooper  Guardians of the Galaxy           Chris Pratt\n",
              "3            Chris Pratt  Guardians of the Galaxy           Zoe Saldana\n",
              "6         Bradley Cooper  Guardians of the Galaxy            Vin Diesel\n",
              "7             Vin Diesel  Guardians of the Galaxy           Zoe Saldana\n",
              "11        Bradley Cooper  Guardians of the Galaxy           Zoe Saldana\n",
              "17  Logan Marshall-Green               Prometheus          Noomi Rapace\n",
              "18    Michael Fassbender               Prometheus          Noomi Rapace\n",
              "19       Charlize Theron               Prometheus          Noomi Rapace\n",
              "22  Logan Marshall-Green               Prometheus    Michael Fassbender\n",
              "23       Charlize Theron               Prometheus  Logan Marshall-Green\n",
              "27       Charlize Theron               Prometheus    Michael Fassbender\n",
              "33       Anya Taylor-Joy                    Split          James McAvoy\n",
              "34   Haley Lu Richardson                    Split          James McAvoy\n",
              "35          James McAvoy                    Split          Jessica Sula"
            ]
          },
          "metadata": {},
          "execution_count": 345
        }
      ]
    },
    {
      "cell_type": "markdown",
      "metadata": {
        "id": "wxlsfUHj7yQ2"
      },
      "source": [
        "<div dir=\"rtl\">\n",
        "\n",
        "حال بر روی هر ۲ بازیگر \n",
        "group by\n",
        "می‌زنیم و تمامی فیلم‌های مشترک هر ۲ بازیگر را به دست می‌آوریم. \n",
        "\n",
        "</div>"
      ]
    },
    {
      "cell_type": "code",
      "metadata": {
        "colab": {
          "base_uri": "https://localhost:8080/",
          "height": 359
        },
        "id": "k3NYTCbp8Kwy",
        "outputId": "7449d9dd-af3e-481b-8238-2fd3c49a7afe"
      },
      "source": [
        "result3 = deformed_df3.groupby(by=['Actor_left','Actor_right'])['Title'].apply(list).reset_index(name='Titles')\n",
        "result3 = result3[result3['Titles'].str.len()>3]\n",
        "result3.head()"
      ],
      "execution_count": null,
      "outputs": [
        {
          "output_type": "execute_result",
          "data": {
            "text/html": [
              "<div>\n",
              "<style scoped>\n",
              "    .dataframe tbody tr th:only-of-type {\n",
              "        vertical-align: middle;\n",
              "    }\n",
              "\n",
              "    .dataframe tbody tr th {\n",
              "        vertical-align: top;\n",
              "    }\n",
              "\n",
              "    .dataframe thead th {\n",
              "        text-align: right;\n",
              "    }\n",
              "</style>\n",
              "<table border=\"1\" class=\"dataframe\">\n",
              "  <thead>\n",
              "    <tr style=\"text-align: right;\">\n",
              "      <th></th>\n",
              "      <th>Actor_left</th>\n",
              "      <th>Actor_right</th>\n",
              "      <th>Titles</th>\n",
              "    </tr>\n",
              "  </thead>\n",
              "  <tbody>\n",
              "    <tr>\n",
              "      <th>152</th>\n",
              "      <td>Adam Sandler</td>\n",
              "      <td>Kevin James</td>\n",
              "      <td>[Pixels, Grown Ups 2, Grown Ups, Hotel Transyl...</td>\n",
              "    </tr>\n",
              "    <tr>\n",
              "      <th>2305</th>\n",
              "      <td>Daniel Radcliffe</td>\n",
              "      <td>Emma Watson</td>\n",
              "      <td>[Harry Potter and the Deathly Hallows: Part 2,...</td>\n",
              "    </tr>\n",
              "    <tr>\n",
              "      <th>2315</th>\n",
              "      <td>Daniel Radcliffe</td>\n",
              "      <td>Rupert Grint</td>\n",
              "      <td>[Harry Potter and the Deathly Hallows: Part 2,...</td>\n",
              "    </tr>\n",
              "    <tr>\n",
              "      <th>2953</th>\n",
              "      <td>Emma Watson</td>\n",
              "      <td>Rupert Grint</td>\n",
              "      <td>[Harry Potter and the Deathly Hallows: Part 2,...</td>\n",
              "    </tr>\n",
              "    <tr>\n",
              "      <th>3418</th>\n",
              "      <td>Helena Bonham Carter</td>\n",
              "      <td>Johnny Depp</td>\n",
              "      <td>[Alice Through the Looking Glass, Alice in Won...</td>\n",
              "    </tr>\n",
              "    <tr>\n",
              "      <th>3992</th>\n",
              "      <td>Jennifer Lawrence</td>\n",
              "      <td>Josh Hutcherson</td>\n",
              "      <td>[The Hunger Games, The Hunger Games: Mockingja...</td>\n",
              "    </tr>\n",
              "    <tr>\n",
              "      <th>3995</th>\n",
              "      <td>Jennifer Lawrence</td>\n",
              "      <td>Liam Hemsworth</td>\n",
              "      <td>[The Hunger Games, The Hunger Games: Mockingja...</td>\n",
              "    </tr>\n",
              "    <tr>\n",
              "      <th>4359</th>\n",
              "      <td>Josh Hutcherson</td>\n",
              "      <td>Liam Hemsworth</td>\n",
              "      <td>[The Hunger Games, The Hunger Games: Mockingja...</td>\n",
              "    </tr>\n",
              "    <tr>\n",
              "      <th>4653</th>\n",
              "      <td>Kristen Stewart</td>\n",
              "      <td>Robert Pattinson</td>\n",
              "      <td>[Twilight, The Twilight Saga: Breaking Dawn - ...</td>\n",
              "    </tr>\n",
              "    <tr>\n",
              "      <th>5421</th>\n",
              "      <td>Paul Walker</td>\n",
              "      <td>Vin Diesel</td>\n",
              "      <td>[Furious Seven, Furious 6, Fast Five, Fast &amp; F...</td>\n",
              "    </tr>\n",
              "  </tbody>\n",
              "</table>\n",
              "</div>"
            ],
            "text/plain": [
              "                Actor_left  ...                                             Titles\n",
              "152           Adam Sandler  ...  [Pixels, Grown Ups 2, Grown Ups, Hotel Transyl...\n",
              "2305      Daniel Radcliffe  ...  [Harry Potter and the Deathly Hallows: Part 2,...\n",
              "2315      Daniel Radcliffe  ...  [Harry Potter and the Deathly Hallows: Part 2,...\n",
              "2953           Emma Watson  ...  [Harry Potter and the Deathly Hallows: Part 2,...\n",
              "3418  Helena Bonham Carter  ...  [Alice Through the Looking Glass, Alice in Won...\n",
              "3992     Jennifer Lawrence  ...  [The Hunger Games, The Hunger Games: Mockingja...\n",
              "3995     Jennifer Lawrence  ...  [The Hunger Games, The Hunger Games: Mockingja...\n",
              "4359       Josh Hutcherson  ...  [The Hunger Games, The Hunger Games: Mockingja...\n",
              "4653       Kristen Stewart  ...  [Twilight, The Twilight Saga: Breaking Dawn - ...\n",
              "5421           Paul Walker  ...  [Furious Seven, Furious 6, Fast Five, Fast & F...\n",
              "\n",
              "[10 rows x 3 columns]"
            ]
          },
          "metadata": {},
          "execution_count": 365
        }
      ]
    },
    {
      "cell_type": "markdown",
      "metadata": {
        "id": "8o5NGfKe7_mJ"
      },
      "source": [
        "<div dir=\"rtl\">\n",
        "\n",
        "در نهایت، بازیگران فیلم‌هایی که بیشتر از ۲ بازیگر یکسان دارند را با هم جمع می کنیم تا برای هر دسته از فیلم‌ها تمام بازیگران مشترک آن‌ها را به دست آوریم. \n",
        "\n",
        "</div>"
      ]
    },
    {
      "cell_type": "code",
      "metadata": {
        "colab": {
          "base_uri": "https://localhost:8080/"
        },
        "id": "ljt2IC159SzQ",
        "outputId": "6a8221c9-ca17-4eab-d7b9-449987310b49"
      },
      "source": [
        "# result3['Actor_left'] + result3['Actor_right']\n",
        "# result3['Titles'] = result3.Titles.str.join(',')\n",
        "# result3['Actors'] = result3.apply(lambda x: [x['Actor_left'], x['Actor_right']], axis=1)\n",
        "# result3.groupby(by='Titles')[['Titles','Actors']].agg('sum')['Actors']\n",
        "# result3.groupby(by='Titles').agg('sum')['Actors']\n",
        "result3.groupby(by='Titles').agg('sum')['Actors']"
      ],
      "execution_count": null,
      "outputs": [
        {
          "output_type": "execute_result",
          "data": {
            "text/plain": [
              "Titles\n",
              "Alice Through the Looking Glass,Alice in Wonderland,Sweeney Todd: The Demon Barber of Fleet Street,Dark Shadows                                                                             [Helena Bonham Carter, Johnny Depp]\n",
              "Furious Seven,Furious 6,Fast Five,Fast & Furious                                                                                                                                                      [Paul Walker, Vin Diesel]\n",
              "Harry Potter and the Deathly Hallows: Part 2,Harry Potter and the Order of the Phoenix,Harry Potter and the Deathly Hallows: Part 1,Harry Potter and the Half-Blood Prince    [Daniel Radcliffe, Emma Watson, Daniel Radclif...\n",
              "Pixels,Grown Ups 2,Grown Ups,Hotel Transylvania 2                                                                                                                                                   [Adam Sandler, Kevin James]\n",
              "The Hunger Games,The Hunger Games: Mockingjay - Part 2,The Hunger Games: Catching Fire,The Hunger Games: Mockingjay - Part 1                                                  [Jennifer Lawrence, Josh Hutcherson, Jennifer ...\n",
              "Twilight,The Twilight Saga: Breaking Dawn - Part 2,The Twilight Saga: Breaking Dawn - Part 1,The Twilight Saga: Eclipse                                                                     [Kristen Stewart, Robert Pattinson]\n",
              "Name: Actors, dtype: object"
            ]
          },
          "metadata": {},
          "execution_count": 380
        }
      ]
    },
    {
      "cell_type": "markdown",
      "metadata": {
        "id": "WCg36-woAdNY"
      },
      "source": [
        "<div dir=\"rtl\">\n",
        "\n",
        "## د)\n",
        "\n",
        "</div>"
      ]
    },
    {
      "cell_type": "markdown",
      "metadata": {
        "id": "9Z7O4SHB81eN"
      },
      "source": [
        "<div dir=\"rtl\">\n",
        "\n",
        "این قسمت تنها به یک فیلتر ساده مانند زیر نیاز دارد: \n",
        "\n",
        "</div>"
      ]
    },
    {
      "cell_type": "code",
      "metadata": {
        "colab": {
          "base_uri": "https://localhost:8080/"
        },
        "id": "_hsQaRNEAeg1",
        "outputId": "03f7ce80-e0f3-4c79-e817-7b29a173e44a"
      },
      "source": [
        "df4 = df[(df['Runtime (Minutes)']>110) & (7.5<df.Rating) & (df.Rating<8.5)]\n",
        "# display(df4.head(5))\n",
        "geners4 = pd.Series(df4.Genre.str.split(',').sum()).unique()\n",
        "geners4"
      ],
      "execution_count": null,
      "outputs": [
        {
          "output_type": "execute_result",
          "data": {
            "text/plain": [
              "array(['Action', 'Adventure', 'Sci-Fi', 'Comedy', 'Drama', 'Music',\n",
              "       'Biography', 'History', 'Mystery', 'Fantasy', 'War', 'Crime',\n",
              "       'Thriller', 'Western', 'Romance', 'Sport', 'Musical', 'Family',\n",
              "       'Animation', 'Horror'], dtype=object)"
            ]
          },
          "metadata": {},
          "execution_count": 305
        }
      ]
    },
    {
      "cell_type": "markdown",
      "metadata": {
        "id": "p2QMlbW4CJS4"
      },
      "source": [
        "<div dir=\"rtl\">\n",
        "\n",
        "## ه)\n",
        "\n",
        "</div>"
      ]
    },
    {
      "cell_type": "code",
      "metadata": {
        "id": "F3GzTN8TCLQG",
        "colab": {
          "base_uri": "https://localhost:8080/",
          "height": 359
        },
        "outputId": "6c1a7c85-f18d-4321-f6e1-3fa7474e2f5c"
      },
      "source": [
        "deformed_df5 = df.reindex(df.index.repeat(df.Actors.str.split(',').str.len()))\n",
        "deformed_df5['Actor'] = df.Actors.str.split(',').sum()\n",
        "deformed_df5 = deformed_df5[['Actor','Title']]\n",
        "deformed_df5.Actor = deformed_df5.Actor.str.strip()\n",
        "deformed_df5.head(10)"
      ],
      "execution_count": null,
      "outputs": [
        {
          "output_type": "execute_result",
          "data": {
            "text/html": [
              "<div>\n",
              "<style scoped>\n",
              "    .dataframe tbody tr th:only-of-type {\n",
              "        vertical-align: middle;\n",
              "    }\n",
              "\n",
              "    .dataframe tbody tr th {\n",
              "        vertical-align: top;\n",
              "    }\n",
              "\n",
              "    .dataframe thead th {\n",
              "        text-align: right;\n",
              "    }\n",
              "</style>\n",
              "<table border=\"1\" class=\"dataframe\">\n",
              "  <thead>\n",
              "    <tr style=\"text-align: right;\">\n",
              "      <th></th>\n",
              "      <th>Actor</th>\n",
              "      <th>Title</th>\n",
              "    </tr>\n",
              "  </thead>\n",
              "  <tbody>\n",
              "    <tr>\n",
              "      <th>0</th>\n",
              "      <td>Chris Pratt</td>\n",
              "      <td>Guardians of the Galaxy</td>\n",
              "    </tr>\n",
              "    <tr>\n",
              "      <th>0</th>\n",
              "      <td>Vin Diesel</td>\n",
              "      <td>Guardians of the Galaxy</td>\n",
              "    </tr>\n",
              "    <tr>\n",
              "      <th>0</th>\n",
              "      <td>Bradley Cooper</td>\n",
              "      <td>Guardians of the Galaxy</td>\n",
              "    </tr>\n",
              "    <tr>\n",
              "      <th>0</th>\n",
              "      <td>Zoe Saldana</td>\n",
              "      <td>Guardians of the Galaxy</td>\n",
              "    </tr>\n",
              "    <tr>\n",
              "      <th>1</th>\n",
              "      <td>Noomi Rapace</td>\n",
              "      <td>Prometheus</td>\n",
              "    </tr>\n",
              "    <tr>\n",
              "      <th>1</th>\n",
              "      <td>Logan Marshall-Green</td>\n",
              "      <td>Prometheus</td>\n",
              "    </tr>\n",
              "    <tr>\n",
              "      <th>1</th>\n",
              "      <td>Michael Fassbender</td>\n",
              "      <td>Prometheus</td>\n",
              "    </tr>\n",
              "    <tr>\n",
              "      <th>1</th>\n",
              "      <td>Charlize Theron</td>\n",
              "      <td>Prometheus</td>\n",
              "    </tr>\n",
              "    <tr>\n",
              "      <th>2</th>\n",
              "      <td>James McAvoy</td>\n",
              "      <td>Split</td>\n",
              "    </tr>\n",
              "    <tr>\n",
              "      <th>2</th>\n",
              "      <td>Anya Taylor-Joy</td>\n",
              "      <td>Split</td>\n",
              "    </tr>\n",
              "  </tbody>\n",
              "</table>\n",
              "</div>"
            ],
            "text/plain": [
              "                  Actor                    Title\n",
              "0           Chris Pratt  Guardians of the Galaxy\n",
              "0            Vin Diesel  Guardians of the Galaxy\n",
              "0        Bradley Cooper  Guardians of the Galaxy\n",
              "0           Zoe Saldana  Guardians of the Galaxy\n",
              "1          Noomi Rapace               Prometheus\n",
              "1  Logan Marshall-Green               Prometheus\n",
              "1    Michael Fassbender               Prometheus\n",
              "1       Charlize Theron               Prometheus\n",
              "2          James McAvoy                    Split\n",
              "2       Anya Taylor-Joy                    Split"
            ]
          },
          "metadata": {},
          "execution_count": 10
        }
      ]
    },
    {
      "cell_type": "code",
      "metadata": {
        "id": "f1Psry7hlmTp",
        "colab": {
          "base_uri": "https://localhost:8080/"
        },
        "outputId": "26343ad2-05e1-4b94-b514-c973605ac2c1"
      },
      "source": [
        "deformed_df5 = deformed_df5.groupby(by='Actor').size()\n",
        "deformed_df5.head()"
      ],
      "execution_count": null,
      "outputs": [
        {
          "output_type": "execute_result",
          "data": {
            "text/plain": [
              "Actor\n",
              "50 Cent          1\n",
              "A.C. Peterson    1\n",
              "AJ Michalka      1\n",
              "Aamir Khan       4\n",
              "Aaron Burns      2\n",
              "dtype: int64"
            ]
          },
          "metadata": {},
          "execution_count": 11
        }
      ]
    },
    {
      "cell_type": "code",
      "metadata": {
        "colab": {
          "base_uri": "https://localhost:8080/"
        },
        "id": "yJOPdDCBqJfs",
        "outputId": "eed94176-cb6a-43ce-c6ca-14101c50743a"
      },
      "source": [
        "deformed_df5.sort_values(ascending=False)"
      ],
      "execution_count": null,
      "outputs": [
        {
          "output_type": "execute_result",
          "data": {
            "text/plain": [
              "Actor\n",
              "Mark Wahlberg         15\n",
              "Hugh Jackman          14\n",
              "Christian Bale        13\n",
              "Brad Pitt             13\n",
              "Channing Tatum        12\n",
              "                      ..\n",
              "Logan Miller           1\n",
              "Logan Paul             1\n",
              "Lori Petty             1\n",
              "Lorraine Nicholson     1\n",
              "50 Cent                1\n",
              "Length: 1985, dtype: int64"
            ]
          },
          "metadata": {},
          "execution_count": 14
        }
      ]
    },
    {
      "cell_type": "markdown",
      "metadata": {
        "id": "vDz-Tn_4rO-w"
      },
      "source": [
        "<div dir=\"rtl\">\n",
        "\n",
        "## و)\n",
        "\n",
        "</div>"
      ]
    },
    {
      "cell_type": "markdown",
      "metadata": {
        "id": "opOBAPn8umov"
      },
      "source": [
        "<div dir=\"rtl\">\n",
        "\n",
        "با توجه به نمودار‌های پایین، می‌توان دید که هرچه \n",
        "votes\n",
        "برای یک فیلم بالاتر باشد، احتمالا درآمد آن نیز بالاتر است. وجود خطی با شیب مثبت این ادعا را ثابت می‌کند. در حالتی که نمره‌ توسط منتقد‌ها باشد (یعنی \n",
        "rating\n",
        "و\n",
        "meta\n",
        ") \n",
        "می‌توانید ببینید که دیگر چنین رابطه‌ای به این وضوح نمی‌توانیم ببینیم. \n",
        "</div>\n"
      ]
    },
    {
      "cell_type": "code",
      "metadata": {
        "colab": {
          "base_uri": "https://localhost:8080/",
          "height": 350
        },
        "id": "An49UFwarRhX",
        "outputId": "81560f78-59a4-4253-ee29-0b11fc9b8572"
      },
      "source": [
        "import seaborn as sns\n",
        "\n",
        "sns.regplot(df.Votes, df['Revenue (Millions)'])\n",
        "# df.plot(x='Votes', y='Revenue (Millions)', kind='scatter')"
      ],
      "execution_count": null,
      "outputs": [
        {
          "output_type": "stream",
          "name": "stderr",
          "text": [
            "/usr/local/lib/python3.7/dist-packages/seaborn/_decorators.py:43: FutureWarning: Pass the following variables as keyword args: x, y. From version 0.12, the only valid positional argument will be `data`, and passing other arguments without an explicit keyword will result in an error or misinterpretation.\n",
            "  FutureWarning\n"
          ]
        },
        {
          "output_type": "execute_result",
          "data": {
            "text/plain": [
              "<matplotlib.axes._subplots.AxesSubplot at 0x7fe1abf68190>"
            ]
          },
          "metadata": {},
          "execution_count": 20
        },
        {
          "output_type": "display_data",
          "data": {
            "image/png": "[encoded data removed]",
            "text/plain": [
              "<Figure size 432x288 with 1 Axes>"
            ]
          },
          "metadata": {
            "needs_background": "light"
          }
        }
      ]
    },
    {
      "cell_type": "code",
      "metadata": {
        "colab": {
          "base_uri": "https://localhost:8080/",
          "height": 350
        },
        "id": "VKQwcbZ8sUOl",
        "outputId": "e9787361-a6e3-45c4-83c4-964faf2730a8"
      },
      "source": [
        "sns.regplot(df.Rating, df['Revenue (Millions)'])"
      ],
      "execution_count": null,
      "outputs": [
        {
          "output_type": "stream",
          "name": "stderr",
          "text": [
            "/usr/local/lib/python3.7/dist-packages/seaborn/_decorators.py:43: FutureWarning: Pass the following variables as keyword args: x, y. From version 0.12, the only valid positional argument will be `data`, and passing other arguments without an explicit keyword will result in an error or misinterpretation.\n",
            "  FutureWarning\n"
          ]
        },
        {
          "output_type": "execute_result",
          "data": {
            "text/plain": [
              "<matplotlib.axes._subplots.AxesSubplot at 0x7fe1abf21cd0>"
            ]
          },
          "metadata": {},
          "execution_count": 21
        },
        {
          "output_type": "display_data",
          "data": {
            "image/png": "[encoded data removed]",
            "text/plain": [
              "<Figure size 432x288 with 1 Axes>"
            ]
          },
          "metadata": {
            "needs_background": "light"
          }
        }
      ]
    },
    {
      "cell_type": "code",
      "metadata": {
        "id": "vUWF2Ge_sblT",
        "colab": {
          "base_uri": "https://localhost:8080/",
          "height": 350
        },
        "outputId": "a328d1c3-2778-46fd-d915-98c75b26edec"
      },
      "source": [
        "sns.regplot(df.Metascore, df['Revenue (Millions)'])"
      ],
      "execution_count": null,
      "outputs": [
        {
          "output_type": "stream",
          "name": "stderr",
          "text": [
            "/usr/local/lib/python3.7/dist-packages/seaborn/_decorators.py:43: FutureWarning: Pass the following variables as keyword args: x, y. From version 0.12, the only valid positional argument will be `data`, and passing other arguments without an explicit keyword will result in an error or misinterpretation.\n",
            "  FutureWarning\n"
          ]
        },
        {
          "output_type": "execute_result",
          "data": {
            "text/plain": [
              "<matplotlib.axes._subplots.AxesSubplot at 0x7fe1abec7310>"
            ]
          },
          "metadata": {},
          "execution_count": 22
        },
        {
          "output_type": "display_data",
          "data": {
            "image/png": "[encoded data removed]",
            "text/plain": [
              "<Figure size 432x288 with 1 Axes>"
            ]
          },
          "metadata": {
            "needs_background": "light"
          }
        }
      ]
    }
  ]
}