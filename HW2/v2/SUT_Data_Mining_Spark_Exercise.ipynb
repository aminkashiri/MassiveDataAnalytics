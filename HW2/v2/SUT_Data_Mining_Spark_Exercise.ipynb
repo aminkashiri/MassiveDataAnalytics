{
  "cells": [
    {
      "cell_type": "markdown",
      "metadata": {
        "id": "PbXi7wdKs_P2"
      },
      "source": [
        "# Data Mining Course Spark Exercise\n",
        "## Sharif University of Technology\n",
        "\n",
        "In this notebook we are going to analyze farsi wikipedia. \n",
        "Outline of the exercise:\n",
        "* Dataset preparation (5 Points)\n",
        "* Preprocessing (35 Points) \n",
        "* Exploration (20 Points) \n",
        "* TF-IDF + Search (40 Points)\n",
        "\n",
        "You should replace the `TODO` parts with your implementation. Remeber that each `TODO` may take multiple lines and you shouldn't limit your self to one-line codes.\n",
        "\n",
        "## Prerequisites\n",
        "You should be faimilar with [tf-idf](https://en.wikipedia.org/wiki/Tf%E2%80%93idf). In this notebook you should use the following formula for tf-idf:\n",
        "$$f_{t,d}/len(d) \\times log(1 + \\frac{N}{n_t})$$\n",
        "\n",
        "## Warning: RDD api only\n",
        "You **can not** use Dataframe, Dataset, mllib, ml, ... apis of spark in this exercise. You should only use the [RDD api](http://spark.apache.org/docs/2.1.0/api/python/pyspark.html#pyspark.RDD)."
      ]
    },
    {
      "cell_type": "markdown",
      "metadata": {
        "id": "ePjHHFK4s_P8"
      },
      "source": [
        "# Section 0: Please enter your name below\n",
        "# Name: امین کشیری\n",
        "# Student Number: 97101026"
      ]
    },
    {
      "cell_type": "markdown",
      "metadata": {
        "id": "rvlJ5WVjs_P9"
      },
      "source": [
        "# Section 1: Dataset preparation (5 Points)\n",
        "\n",
        "This section of notebook contains only shell commands. You don't need to completely understand each command or change anything.\n",
        "\n",
        "Please run all the paragraphs sequentially."
      ]
    },
    {
      "cell_type": "code",
      "execution_count": null,
      "metadata": {
        "colab": {
          "base_uri": "https://localhost:8080/"
        },
        "id": "souUMZELs_P-",
        "outputId": "1f7ceec6-c054-4c72-e6ba-8dce98c0a366"
      },
      "outputs": [
        {
          "name": "stdout",
          "output_type": "stream",
          "text": [
            "Reading package lists... Done\n",
            "Building dependency tree       \n",
            "Reading state information... Done\n",
            "git is already the newest version (1:2.17.1-1ubuntu0.9).\n",
            "wget is already the newest version (1.19.4-1ubuntu2.2).\n",
            "0 upgraded, 0 newly installed, 0 to remove and 37 not upgraded.\n"
          ]
        }
      ],
      "source": [
        "! sudo apt-get -y install wget git"
      ]
    },
    {
      "cell_type": "markdown",
      "metadata": {
        "id": "NRT2jHUps_P_"
      },
      "source": [
        "## Download the dump"
      ]
    },
    {
      "cell_type": "code",
      "execution_count": null,
      "metadata": {
        "colab": {
          "base_uri": "https://localhost:8080/"
        },
        "id": "HII_65Aas_QA",
        "outputId": "1c908e05-7644-4b9f-f42c-4475d1139b0f"
      },
      "outputs": [
        {
          "name": "stdout",
          "output_type": "stream",
          "text": [
            "--2021-11-06 19:24:01--  https://dumps.wikimedia.your.org/fawiki/latest/fawiki-latest-pages-articles-multistream.xml.bz2\n",
            "Resolving dumps.wikimedia.your.org (dumps.wikimedia.your.org)... 204.9.55.82, 2001:4978:1:420::cc09:3752\n",
            "Connecting to dumps.wikimedia.your.org (dumps.wikimedia.your.org)|204.9.55.82|:443... connected.\n",
            "HTTP request sent, awaiting response... 200 OK\n",
            "Length: 1002962062 (956M) [application/x-bzip]\n",
            "Saving to: ‘./fawiki-latest-pages-articles-multistream.xml.bz2’\n",
            "\n",
            "fawiki-latest-pages 100%[===================>] 956.50M   154MB/s    in 5.9s    \n",
            "\n",
            "2021-11-06 19:24:07 (161 MB/s) - ‘./fawiki-latest-pages-articles-multistream.xml.bz2’ saved [1002962062/1002962062]\n",
            "\n"
          ]
        }
      ],
      "source": [
        "! wget --no-check-certificate -P . https://dumps.wikimedia.your.org/fawiki/latest/fawiki-latest-pages-articles-multistream.xml.bz2"
      ]
    },
    {
      "cell_type": "markdown",
      "metadata": {
        "id": "UPhSJJ7Bs_QA"
      },
      "source": [
        "## Extract the dump (this may take a few minutes)"
      ]
    },
    {
      "cell_type": "code",
      "execution_count": null,
      "metadata": {
        "id": "YEHUOYwQs_QB"
      },
      "outputs": [],
      "source": [
        "! bzip2 -d fawiki-latest-pages-articles-multistream.xml.bz2"
      ]
    },
    {
      "cell_type": "markdown",
      "metadata": {
        "id": "z0n7P9sAs_QC"
      },
      "source": [
        "## Clone git project for converting wikipedia xml dump to json"
      ]
    },
    {
      "cell_type": "code",
      "execution_count": null,
      "metadata": {
        "colab": {
          "base_uri": "https://localhost:8080/"
        },
        "id": "zwcxH9b5s_QD",
        "outputId": "e9e6386d-018a-414b-d58e-70f75444c41f"
      },
      "outputs": [
        {
          "name": "stdout",
          "output_type": "stream",
          "text": [
            "Collecting wikiextractor\n",
            "  Downloading wikiextractor-3.0.6-py3-none-any.whl (46 kB)\n",
            "\u001b[?25l\r\u001b[K     |███████                         | 10 kB 22.6 MB/s eta 0:00:01\r\u001b[K     |██████████████▏                 | 20 kB 28.7 MB/s eta 0:00:01\r\u001b[K     |█████████████████████▏          | 30 kB 15.2 MB/s eta 0:00:01\r\u001b[K     |████████████████████████████▎   | 40 kB 10.9 MB/s eta 0:00:01\r\u001b[K     |████████████████████████████████| 46 kB 3.0 MB/s \n",
            "\u001b[?25hInstalling collected packages: wikiextractor\n",
            "Successfully installed wikiextractor-3.0.6\n"
          ]
        }
      ],
      "source": [
        "! pip install wikiextractor"
      ]
    },
    {
      "cell_type": "markdown",
      "metadata": {
        "id": "RO-Bm11Ps_QE"
      },
      "source": [
        "## Run the script to convert xml to json (this might take around 30 minutes)"
      ]
    },
    {
      "cell_type": "code",
      "execution_count": null,
      "metadata": {
        "colab": {
          "base_uri": "https://localhost:8080/"
        },
        "id": "JhN_VI-Rs_QE",
        "outputId": "752a52b8-d83b-453a-c795-45be60fa9436"
      },
      "outputs": [
        {
          "name": "stdout",
          "output_type": "stream",
          "text": [
            "INFO: Preprocessing 'fawiki-latest-pages-articles-multistream.xml' to collect template definitions: this may take some time.\n",
            "INFO: Preprocessed 100000 pages\n",
            "INFO: Preprocessed 200000 pages\n",
            "INFO: Preprocessed 300000 pages\n",
            "INFO: Preprocessed 400000 pages\n",
            "INFO: Preprocessed 500000 pages\n",
            "INFO: Preprocessed 600000 pages\n",
            "INFO: Preprocessed 700000 pages\n",
            "INFO: Preprocessed 800000 pages\n",
            "INFO: Preprocessed 900000 pages\n",
            "INFO: Preprocessed 1000000 pages\n",
            "INFO: Preprocessed 1100000 pages\n",
            "INFO: Preprocessed 1200000 pages\n",
            "INFO: Preprocessed 1300000 pages\n",
            "INFO: Preprocessed 1400000 pages\n",
            "INFO: Preprocessed 1500000 pages\n",
            "INFO: Preprocessed 1600000 pages\n",
            "INFO: Preprocessed 1700000 pages\n",
            "INFO: Preprocessed 1800000 pages\n",
            "INFO: Preprocessed 1900000 pages\n",
            "INFO: Preprocessed 2000000 pages\n",
            "INFO: Preprocessed 2100000 pages\n",
            "INFO: Preprocessed 2200000 pages\n",
            "INFO: Preprocessed 2300000 pages\n",
            "INFO: Preprocessed 2400000 pages\n",
            "INFO: Preprocessed 2500000 pages\n",
            "INFO: Preprocessed 2600000 pages\n",
            "INFO: Preprocessed 2700000 pages\n",
            "INFO: Preprocessed 2800000 pages\n",
            "INFO: Preprocessed 2900000 pages\n",
            "INFO: Preprocessed 3000000 pages\n",
            "INFO: Preprocessed 3100000 pages\n",
            "INFO: Preprocessed 3200000 pages\n",
            "INFO: Preprocessed 3300000 pages\n",
            "INFO: Preprocessed 3400000 pages\n",
            "INFO: Preprocessed 3500000 pages\n",
            "INFO: Preprocessed 3600000 pages\n",
            "INFO: Loaded 158826 templates in 183.3s\n",
            "INFO: Starting page extraction from fawiki-latest-pages-articles-multistream.xml.\n",
            "INFO: Using 1 extract processes.\n",
            "INFO: Extracted 100000 articles (1092.7 art/s)\n",
            "INFO: Extracted 200000 articles (1491.6 art/s)\n",
            "INFO: Extracted 300000 articles (2002.2 art/s)\n",
            "INFO: Extracted 400000 articles (1880.4 art/s)\n",
            "INFO: Extracted 500000 articles (1922.6 art/s)\n",
            "INFO: Extracted 600000 articles (2110.7 art/s)\n",
            "INFO: Extracted 700000 articles (2259.0 art/s)\n",
            "INFO: Extracted 800000 articles (2475.4 art/s)\n",
            "INFO: Extracted 900000 articles (1871.0 art/s)\n",
            "INFO: Extracted 1000000 articles (2184.0 art/s)\n",
            "INFO: Extracted 1100000 articles (2171.2 art/s)\n",
            "INFO: Extracted 1200000 articles (2235.5 art/s)\n",
            "INFO: Extracted 1300000 articles (2245.5 art/s)\n",
            "INFO: Extracted 1400000 articles (2043.2 art/s)\n",
            "INFO: Extracted 1500000 articles (1821.7 art/s)\n",
            "INFO: Extracted 1600000 articles (2296.7 art/s)\n",
            "INFO: Extracted 1700000 articles (1959.6 art/s)\n",
            "INFO: Extracted 1800000 articles (1792.2 art/s)\n",
            "INFO: Extracted 1900000 articles (1747.8 art/s)\n",
            "INFO: Extracted 2000000 articles (1872.9 art/s)\n",
            "INFO: Extracted 2100000 articles (1684.1 art/s)\n",
            "INFO: Extracted 2200000 articles (1809.9 art/s)\n",
            "INFO: Extracted 2300000 articles (1780.5 art/s)\n",
            "INFO: Extracted 2400000 articles (1765.3 art/s)\n",
            "INFO: Extracted 2500000 articles (1753.5 art/s)\n",
            "INFO: Extracted 2600000 articles (1821.0 art/s)\n",
            "INFO: Finished 1-process extraction of 2680669 articles in 1427.5s (1877.8 art/s)\n"
          ]
        }
      ],
      "source": [
        "! python -m wikiextractor.WikiExtractor --json fawiki-latest-pages-articles-multistream.xml"
      ]
    },
    {
      "cell_type": "markdown",
      "metadata": {
        "id": "-W3pAG-Ys_QF"
      },
      "source": [
        "## Ensure output files exist"
      ]
    },
    {
      "cell_type": "code",
      "execution_count": null,
      "metadata": {
        "colab": {
          "base_uri": "https://localhost:8080/"
        },
        "id": "0CvTzHdPs_QF",
        "outputId": "eb35959e-2c9a-4e00-95b6-9305d057e394"
      },
      "outputs": [
        {
          "name": "stdout",
          "output_type": "stream",
          "text": [
            "ls: cannot access 'text/*/*': No such file or directory\n"
          ]
        }
      ],
      "source": [
        "! ls text/*/*"
      ]
    },
    {
      "cell_type": "markdown",
      "metadata": {
        "id": "HT0ad5iT3Hwd"
      },
      "source": [
        "## Save extracted files"
      ]
    },
    {
      "cell_type": "markdown",
      "metadata": {
        "id": "zGMXGVOM_-S9"
      },
      "source": [
        "Below code can be used to save extracted file to google drive. This makes future loads much faster"
      ]
    },
    {
      "cell_type": "code",
      "execution_count": null,
      "metadata": {
        "colab": {
          "base_uri": "https://localhost:8080/"
        },
        "id": "mgwqfLTUvUGU",
        "outputId": "0c3aaf6d-98a9-4217-990e-fabeaf5efb69"
      },
      "outputs": [
        {
          "name": "stdout",
          "output_type": "stream",
          "text": [
            "Mounted at /content/drive\n"
          ]
        }
      ],
      "source": [
        "# from google.colab import drive\n",
        "# drive.mount('/content/drive')\n",
        "# cp -r text drive/MyDrive/Colab\\ Notebooks/MDA/HW2"
      ]
    },
    {
      "cell_type": "markdown",
      "metadata": {
        "id": "rQKTEKAS3UC6"
      },
      "source": [
        "## Copy from drive instead of extracting again"
      ]
    },
    {
      "cell_type": "markdown",
      "metadata": {
        "id": "_Gu_W2yTAS69"
      },
      "source": [
        "This code can be used to copy extracted file from drive to colab dir. But, you can read directly from drive instead of coping file from drive. Only use this step if you want to unmount google drive."
      ]
    },
    {
      "cell_type": "code",
      "execution_count": null,
      "metadata": {
        "id": "SPXvhxmu3zAF"
      },
      "outputs": [],
      "source": [
        "# !mkdir text\n",
        "# !cp -r drive/MyDrive/Colab\\ Notebooks/MDA/HW2/text/* text\n",
        "# !du -hs * #check if 3.0G data is there"
      ]
    },
    {
      "cell_type": "markdown",
      "metadata": {
        "id": "6LKamQA3s_QF"
      },
      "source": [
        "## Install Pypark & Initialization\n",
        "Uncomment this section if you use google colab or local pc"
      ]
    },
    {
      "cell_type": "code",
      "execution_count": 3,
      "metadata": {
        "colab": {
          "base_uri": "https://localhost:8080/"
        },
        "id": "ZxH8z1XUs_QF",
        "outputId": "11402849-b48a-4ea8-beef-71da28db324d"
      },
      "outputs": [
        {
          "name": "stdout",
          "output_type": "stream",
          "text": [
            "Collecting pyspark\n",
            "  Downloading pyspark-3.2.0.tar.gz (281.3 MB)\n",
            "\u001b[K     |████████████████████████████████| 281.3 MB 37 kB/s \n",
            "\u001b[?25hCollecting py4j==0.10.9.2\n",
            "  Downloading py4j-0.10.9.2-py2.py3-none-any.whl (198 kB)\n",
            "\u001b[K     |████████████████████████████████| 198 kB 15.4 MB/s \n",
            "\u001b[?25hBuilding wheels for collected packages: pyspark\n",
            "  Building wheel for pyspark (setup.py) ... \u001b[?25l\u001b[?25hdone\n",
            "  Created wheel for pyspark: filename=pyspark-3.2.0-py2.py3-none-any.whl size=281805912 sha256=5994776358b67576781e2a1fdeac903d29faabf183d09b3635537ae8b89d33a4\n",
            "  Stored in directory: /root/.cache/pip/wheels/0b/de/d2/9be5d59d7331c6c2a7c1b6d1a4f463ce107332b1ecd4e80718\n",
            "Successfully built pyspark\n",
            "Installing collected packages: py4j, pyspark\n",
            "Successfully installed py4j-0.10.9.2 pyspark-3.2.0\n"
          ]
        }
      ],
      "source": [
        "! pip install pyspark"
      ]
    },
    {
      "cell_type": "code",
      "execution_count": 1,
      "metadata": {
        "id": "eJ6HlBxvs_QG"
      },
      "outputs": [],
      "source": [
        "from pyspark.sql import SparkSession\n",
        "spark = SparkSession \\\n",
        "    .builder \\\n",
        "    .config('spark.ui.port', '4050') \\\n",
        "    .appName(\"MDA_2021\") \\\n",
        "    .master(\"local[*]\") \\\n",
        "    .getOrCreate()\n",
        "\n",
        "sc=spark.sparkContext"
      ]
    },
    {
      "cell_type": "markdown",
      "metadata": {
        "id": "_Mq5P2iX-iIW"
      },
      "source": [
        "#### Run Spark UI for colab"
      ]
    },
    {
      "cell_type": "markdown",
      "metadata": {
        "id": "zlIzFGkzAuoe"
      },
      "source": [
        "In this section, you can run Spark UI for colab. This helps analysing spark."
      ]
    },
    {
      "cell_type": "code",
      "execution_count": null,
      "metadata": {
        "colab": {
          "base_uri": "https://localhost:8080/"
        },
        "id": "-L-D3RU-lZi_",
        "outputId": "905ad5f6-a19f-4c2f-8d84-91e689dfe837"
      },
      "outputs": [
        {
          "name": "stdout",
          "output_type": "stream",
          "text": [
            "{\"tunnels\":[{\"name\":\"command_line\",\"uri\":\"/api/tunnels/command_line\",\"public_url\":\"https://40ff-104-196-111-128.ngrok.io\",\"proto\":\"https\",\"config\":{\"addr\":\"http://localhost:4050\",\"inspect\":true},\"metrics\":{\"conns\":{\"count\":0,\"gauge\":0,\"rate1\":0,\"rate5\":0,\"rate15\":0,\"p50\":0,\"p90\":0,\"p95\":0,\"p99\":0},\"http\":{\"count\":0,\"rate1\":0,\"rate5\":0,\"rate15\":0,\"p50\":0,\"p90\":0,\"p95\":0,\"p99\":0}}},{\"name\":\"command_line (http)\",\"uri\":\"/api/tunnels/command_line%20%28http%29\",\"public_url\":\"http://40ff-104-196-111-128.ngrok.io\",\"proto\":\"http\",\"config\":{\"addr\":\"http://localhost:4050\",\"inspect\":true},\"metrics\":{\"conns\":{\"count\":0,\"gauge\":0,\"rate1\":0,\"rate5\":0,\"rate15\":0,\"p50\":0,\"p90\":0,\"p95\":0,\"p99\":0},\"http\":{\"count\":0,\"rate1\":0,\"rate5\":0,\"rate15\":0,\"p50\":0,\"p90\":0,\"p95\":0,\"p99\":0}}}],\"uri\":\"/api/tunnels\"}\n"
          ]
        }
      ],
      "source": [
        "!wget -qnc https://bin.equinox.io/c/4VmDzA7iaHb/ngrok-stable-linux-amd64.zip\n",
        "!unzip -n -q ngrok-stable-linux-amd64.zip\n",
        "get_ipython().system_raw('./ngrok http 4050 &')\n",
        "!sleep 5\n",
        "!curl -s http://localhost:4040/api/tunnels "
      ]
    },
    {
      "cell_type": "markdown",
      "metadata": {
        "id": "GanIoGPEs_QG"
      },
      "source": [
        "## Reading the data"
      ]
    },
    {
      "cell_type": "markdown",
      "metadata": {
        "id": "_SF8d-EsBPrT"
      },
      "source": [
        "LOAD should be set to true only if you want to read from another dir. If you are extracting the file in the default dir, set LOAD to false to use default dir."
      ]
    },
    {
      "cell_type": "code",
      "execution_count": 2,
      "metadata": {
        "colab": {
          "base_uri": "https://localhost:8080/"
        },
        "id": "P5PAnFFts_QG",
        "outputId": "2fd4d75d-25d2-4d5d-99e9-dfd06d313ba0"
      },
      "outputs": [
        {
          "name": "stdout",
          "output_type": "stream",
          "text": [
            "Drive already mounted at /content/drive; to attempt to forcibly remount, call drive.mount(\"/content/drive\", force_remount=True).\n"
          ]
        },
        {
          "data": {
            "text/plain": [
              "['{\"id\": \"2\", \"revid\": \"23528\", \"url\": \"https://fa.wikipedia.org/wiki?curid=2\", \"title\": \"\\\\u0635\\\\u0641\\\\u062d\\\\u0647\\\\u0654 \\\\u0627\\\\u0635\\\\u0644\\\\u06cc\", \"text\": \"&lt;templatestyles src=\\\\\"\\\\u0635\\\\u0641\\\\u062d\\\\u0647 \\\\u0627\\\\u0635\\\\u0644\\\\u06cc/styles.css\\\\\"/&gt;\\\\n \\\\n \\\\n \\\\n \\\\n \\\\n \\\\n \\\\n \\\\n \\\\n \\\\n \\\\n \\\\n\\\\u0627\\\\u0645\\\\u0631\\\\u0648\\\\u0632: \\\\u060c \\\\u0645\\\\u06cc\\\\u0644\\\\u0627\\\\u062f\\\\u06cc \\\\u0628\\\\u0631\\\\u0627\\\\u0628\\\\u0631 \\\\u0647\\\\u062c\\\\u0631\\\\u06cc \\\\u062e\\\\u0648\\\\u0631\\\\u0634\\\\u06cc\\\\u062f\\\\u06cc \\\\u0648 (UTC)\\\\n \\\\n \\\\n \\\\n \\\\n \\' \\\\u2013 \\'\\\\n \\\\n \\\\n \\\\n \\\\n \\\\n \\\\n __NOEDITSECTION__\"}']"
            ]
          },
          "execution_count": 2,
          "metadata": {},
          "output_type": "execute_result"
        }
      ],
      "source": [
        "LOAD = True\n",
        "path = 'text/*/*'\n",
        "if LOAD:\n",
        "  from google.colab import drive\n",
        "  drive.mount('/content/drive')\n",
        "  path = 'drive/MyDrive/Colab\\ Notebooks/MDA/HW2/text/*/*'\n",
        "articles_rdd_orig = sc.textFile(path) # Now you have a RDD with wikipedia posts\n",
        "articles_rdd_orig.take(1)"
      ]
    },
    {
      "cell_type": "markdown",
      "metadata": {
        "id": "O369I_tFs_QH"
      },
      "source": [
        "# Section 2: Preprocessing (35 Points)\n",
        "\n",
        "In this section we will remove useless part (for example /n and /u200c) also find and remove stop words and remove the words with a low count in the corpus"
      ]
    },
    {
      "cell_type": "markdown",
      "metadata": {
        "id": "QM5Didt6R1Cw"
      },
      "source": [
        "### Step by Step"
      ]
    },
    {
      "cell_type": "markdown",
      "metadata": {
        "id": "NX9G-dOvBycg"
      },
      "source": [
        "If you want to run sample only, set SAMPLE to True and also set SAMPLE_SIZE. Else, all data will be used"
      ]
    },
    {
      "cell_type": "code",
      "execution_count": null,
      "metadata": {
        "id": "zTFeqk1SxKfv"
      },
      "outputs": [],
      "source": [
        "SAMPLE = True\n",
        "SAMPLE_SIZE = 0.01"
      ]
    },
    {
      "cell_type": "code",
      "execution_count": null,
      "metadata": {
        "colab": {
          "base_uri": "https://localhost:8080/"
        },
        "id": "4etbEzpyxT6E",
        "outputId": "4f3158c2-7955-41c9-c3e8-51b6e023e06b"
      },
      "outputs": [
        {
          "data": {
            "text/plain": [
              "['{\"id\": \"1408\", \"revid\": \"762412\", \"url\": \"https://fa.wikipedia.org/wiki?curid=1408\", \"title\": \"\\\\u062a\\\\u0648\\\\u0644\\\\u06cc \\\\u062e\\\\u0627\\\\u0646\", \"text\": \"\\\\u062a\\\\u0648\\\\u0644\\\\u06cc \\\\u062e\\\\u0627\\\\u0646 \\\\u06cc\\\\u0627 \\\\u062a\\\\u0648\\\\u0644\\\\u0648\\\\u06cc \\\\u062e\\\\u0627\\\\u0646\\\\u060c \\\\u067e\\\\u0633\\\\u0631 \\\\u0686\\\\u0647\\\\u0627\\\\u0631\\\\u0645 \\\\u0686\\\\u0646\\\\u06af\\\\u06cc\\\\u0632 \\\\u062e\\\\u0627\\\\u0646 \\\\u06a9\\\\u0647 \\\\u0627\\\\u0632 \\\\u0628\\\\u0631\\\\u0627\\\\u062f\\\\u0631\\\\u0627\\\\u0646 \\\\u062e\\\\u0648\\\\u062f \\\\u062c\\\\u0648\\\\u062c\\\\u06cc \\\\u0648 \\\\u062c\\\\u063a\\\\u062a\\\\u0627\\\\u06cc \\\\u0648 \\\\u0627\\\\u0648\\\\u06af\\\\u062a\\\\u0627\\\\u06cc \\\\u06a9\\\\u0648\\\\u0686\\\\u06a9\\\\u200c\\\\u062a\\\\u0631 \\\\u0628\\\\u0648\\\\u062f \\\\u0648 \\\\u062f\\\\u0631 \\\\u062f\\\\u0644\\\\u0627\\\\u0648\\\\u0631\\\\u06cc \\\\u0648 \\\\u0642\\\\u0644\\\\u0639\\\\u0647 \\\\u06af\\\\u0634\\\\u0627\\\\u06cc\\\\u06cc \\\\u0648 \\\\u0633\\\\u067e\\\\u0627\\\\u0647\\\\u06cc\\\\u06af\\\\u0631\\\\u06cc \\\\u0645\\\\u0627\\\\u0646\\\\u0646\\\\u062f \\\\u0646\\\\u062f\\\\u0627\\\\u0634\\\\u062a. \\\\u0647\\\\u06cc\\\\u0686\\\\u200c\\\\u06cc\\\\u06a9 \\\\u0627\\\\u0632 \\\\u067e\\\\u0633\\\\u0631\\\\u0627\\\\u0646 \\\\u0648 \\\\u0628\\\\u0631\\\\u0627\\\\u062f\\\\u0631\\\\u0627\\\\u0646 \\\\u0686\\\\u0646\\\\u06af\\\\u06cc\\\\u0632 \\\\u0645\\\\u0627\\\\u0646\\\\u0646\\\\u062f \\\\u0648\\\\u06cc \\\\u0644\\\\u0634\\\\u06a9\\\\u0631\\\\u06a9\\\\u0634\\\\u06cc \\\\u0648 \\\\u0641\\\\u062a\\\\u0648\\\\u062d\\\\u0627\\\\u062a \\\\u0646\\\\u06a9\\\\u0631\\\\u062f\\\\u0647\\\\u200c\\\\u0627\\\\u0646\\\\u062f. \\\\u0686\\\\u0646\\\\u06af\\\\u06cc\\\\u0632 \\\\u062f\\\\u0631 \\\\u0627\\\\u0648\\\\u0627\\\\u06cc\\\\u0644 \\\\u0645\\\\u06cc\\\\u0644 \\\\u062f\\\\u0627\\\\u0634\\\\u062a \\\\u06a9\\\\u0647 \\\\u0627\\\\u0648 \\\\u0631\\\\u0627 \\\\u0628\\\\u0647 \\\\u062c\\\\u0627\\\\u0646\\\\u0634\\\\u06cc\\\\u0646\\\\u06cc \\\\u062a\\\\u0639\\\\u06cc\\\\u06cc\\\\u0646 \\\\u06a9\\\\u0646\\\\u062f \\\\u0627\\\\u0645\\\\u0627 \\\\u0628\\\\u0639\\\\u062f \\\\u0646\\\\u0638\\\\u0631\\\\u0634 \\\\u062a\\\\u063a\\\\u06cc\\\\u06cc\\\\u0631 \\\\u06a9\\\\u0631\\\\u062f \\\\u0648 \\\\u06af\\\\u0641\\\\u062a \\\\u06a9\\\\u0647 \\\\u0645\\\\u0646\\\\u0635\\\\u0628 \\\\u0644\\\\u0634\\\\u06a9\\\\u0631\\\\u06a9\\\\u0634\\\\u06cc \\\\u0648 \\\\u0636\\\\u0628\\\\u0637 \\\\u06cc\\\\u0648\\\\u0631\\\\u062a \\\\u0648 \\\\u062d\\\\u0641\\\\u0638 \\\\u062e\\\\u0632\\\\u0627\\\\u0646\\\\u0647 \\\\u0628\\\\u0631 \\\\u062a\\\\u0648 \\\\u0645\\\\u0646\\\\u0627\\\\u0633\\\\u0628\\\\u062a\\\\u0631 \\\\u0627\\\\u0633\\\\u062a. \\\\u062a\\\\u0648\\\\u0644\\\\u06cc \\\\u062f\\\\u0631 \\\\u0628\\\\u06cc\\\\u0634\\\\u062a\\\\u0631 \\\\u0627\\\\u0648\\\\u0642\\\\u0627\\\\u062a \\\\u0645\\\\u0644\\\\u0627\\\\u0632\\\\u0645 \\\\u0686\\\\u0646\\\\u06af\\\\u06cc\\\\u0632\\\\u062e\\\\u0627\\\\u0646 \\\\u0628\\\\u0648\\\\u062f \\\\u0648 \\\\u0627\\\\u0648 \\\\u0647\\\\u0645\\\\u0648\\\\u0627\\\\u0631\\\\u0647 \\\\u0628\\\\u0627 \\\\u0648\\\\u06cc \\\\u0645\\\\u0634\\\\u0648\\\\u0631\\\\u062a \\\\u0645\\\\u06cc\\\\u200c\\\\u06a9\\\\u0631\\\\u062f. \\\\u0686\\\\u0648\\\\u0646 \\\\u0686\\\\u0646\\\\u06af\\\\u06cc\\\\u0632 \\\\u0628\\\\u0645\\\\u0631\\\\u062f \\\\u0648 \\\\u0634\\\\u0627\\\\u0647\\\\u0632\\\\u0627\\\\u062f\\\\u06af\\\\u0627\\\\u0646 \\\\u0647\\\\u0631\\\\u06cc\\\\u06a9 \\\\u0628\\\\u0647 \\\\u0645\\\\u0642\\\\u0627\\\\u0645 \\\\u062e\\\\u0648\\\\u062f \\\\u0631\\\\u0641\\\\u062a\\\\u0646\\\\u062f \\\\u062a\\\\u0648\\\\u0644\\\\u06cc \\\\u062f\\\\u0631 \\\\u06cc\\\\u0648\\\\u0631\\\\u062a \\\\u0627\\\\u0635\\\\u0644\\\\u06cc \\\\u06a9\\\\u0647 \\\\u062a\\\\u062e\\\\u062a\\\\u06af\\\\u0627\\\\u0647 \\\\u0686\\\\u0646\\\\u06af\\\\u06cc\\\\u0632\\\\u062e\\\\u0627\\\\u0646 \\\\u0628\\\\u0648\\\\u062f \\\\u0628\\\\u0645\\\\u0627\\\\u0646\\\\u062f \\\\u062a\\\\u0627 \\\\u0622\\\\u0646\\\\u06a9\\\\u0647 \\\\u0642\\\\u0648\\\\u0631\\\\u06cc\\\\u0644\\\\u062a\\\\u0627\\\\u06cc (\\\\u0645\\\\u062c\\\\u0644\\\\u0633 \\\\u0628\\\\u0632\\\\u0631\\\\u06af) \\\\u062f\\\\u0627\\\\u06cc\\\\u0631 \\\\u0634\\\\u062f \\\\u0648 \\\\u0627\\\\u0648\\\\u06af\\\\u062a\\\\u0627\\\\u06cc \\\\u0631\\\\u0627 \\\\u0628\\\\u0647 \\\\u0642\\\\u0627\\\\u0622\\\\u0646\\\\u06cc \\\\u0628\\\\u0631\\\\u062f\\\\u0627\\\\u0634\\\\u062a\\\\u0646\\\\u062f. \\\\u067e\\\\u0633 \\\\u0627\\\\u0632 \\\\u0622\\\\u0646 \\\\u0628\\\\u0647 \\\\u062f\\\\u0633\\\\u062a\\\\u0648\\\\u0631 \\\\u0627\\\\u0648\\\\u06af\\\\u062a\\\\u0627\\\\u06cc \\\\u0642\\\\u0627\\\\u0622\\\\u0646 \\\\u062c\\\\u062f\\\\u06cc\\\\u062f \\\\u062a\\\\u0648\\\\u0644\\\\u06cc \\\\u0628\\\\u0647 \\\\u0686\\\\u06cc\\\\u0646 \\\\u0644\\\\u0634\\\\u06a9\\\\u0631 \\\\u06a9\\\\u0634\\\\u06cc\\\\u062f \\\\u0648 \\\\u0633\\\\u067e\\\\u0627\\\\u0647\\\\u06cc\\\\u0627\\\\u0646 \\\\u0627\\\\u0644\\\\u062a\\\\u0627\\\\u0646 \\\\u062e\\\\u0627\\\\u0646 \\\\u0631\\\\u0627 \\\\u0628\\\\u0634\\\\u06a9\\\\u0633\\\\u062a \\\\u0648 \\\\u0627\\\\u0632 \\\\u0631\\\\u0648\\\\u062f\\\\u062e\\\\u0627\\\\u0646\\\\u0647\\\\u200c\\\\u0627\\\\u06cc \\\\u0642\\\\u0631\\\\u0627\\\\u0645\\\\u0648\\\\u0631\\\\u0627\\\\u0646 \\\\u06a9\\\\u0647 \\\\u062a\\\\u0627 \\\\u0622\\\\u0646 \\\\u0632\\\\u0645\\\\u0627\\\\u0646 \\\\u0647\\\\u06cc\\\\u0686\\\\u200c\\\\u06a9\\\\u0633 \\\\u0646\\\\u06af\\\\u0630\\\\u0634\\\\u062a\\\\u0647 \\\\u0628\\\\u0648\\\\u062f \\\\u0628\\\\u06af\\\\u0630\\\\u0634\\\\u062a \\\\u0648 \\\\u0628\\\\u0647 \\\\u0628\\\\u0631\\\\u0627\\\\u062f\\\\u0631\\\\u0634 \\\\u067e\\\\u06cc\\\\u0648\\\\u0633\\\\u062a. \\\\u062a\\\\u0648\\\\u0644\\\\u06cc \\\\u062f\\\\u0631 \\\\u0632\\\\u0645\\\\u0627\\\\u0646 \\\\u0642\\\\u0627\\\\u0622\\\\u0646\\\\u06cc \\\\u0627\\\\u0648\\\\u06af\\\\u062a\\\\u0627\\\\u06cc \\\\u0628\\\\u0645\\\\u0631\\\\u062f \\\\u0648 \\\\u0627\\\\u0632 \\\\u062c\\\\u0645\\\\u0644\\\\u0647 \\\\u0641\\\\u0631\\\\u0632\\\\u0646\\\\u062f\\\\u0627\\\\u0646 \\\\u0627\\\\u0648 \\\\u0645\\\\u0646\\\\u06a9\\\\u0648\\\\u0642\\\\u0627\\\\u0622\\\\u0646 \\\\u0648 \\\\u0647\\\\u0648\\\\u0644\\\\u0627\\\\u06af\\\\u0648\\\\u062e\\\\u0627\\\\u0646 \\\\u0648 \\\\u0642\\\\u0648\\\\u0628\\\\u06cc\\\\u0644\\\\u0627\\\\u06cc \\\\u0642\\\\u0627\\\\u0622\\\\u0646 \\\\u0648 \\\\u0627\\\\u0631\\\\u06cc\\\\u0642 \\\\u0628\\\\u0648\\\\u0642\\\\u0627 \\\\u0628\\\\u0648\\\\u062f\\\\u0646\\\\u062f. \\\\u0633\\\\u0631\\\\u0642\\\\u0648\\\\u06cc\\\\u062a\\\\u06cc \\\\u0628\\\\u06cc\\\\u06af\\\\u06cc \\\\u0632\\\\u0646 \\\\u062a\\\\u0648\\\\u0644\\\\u06cc \\\\u062e\\\\u0627\\\\u0646 \\\\u0631\\\\u0627 \\\\u0632\\\\u0646\\\\u06cc \\\\u0628\\\\u0633\\\\u06cc\\\\u0627\\\\u0631 \\\\u062e\\\\u0631\\\\u062f\\\\u0645\\\\u0646\\\\u062f \\\\u06af\\\\u0641\\\\u062a\\\\u0647\\\\u200c\\\\u0627\\\\u0646\\\\u062f\\\\u060c \\\\u0627\\\\u06cc\\\\u0646 \\\\u0632\\\\u0646 \\\\u062e\\\\u0631\\\\u062f\\\\u0645\\\\u0646\\\\u062f \\\\u0628\\\\u0648\\\\u062f \\\\u06a9\\\\u0647 \\\\u0641\\\\u0631\\\\u0632\\\\u0646\\\\u062f\\\\u0627\\\\u0646 \\\\u062e\\\\u0648\\\\u062f \\\\u0631\\\\u0627 \\\\u0628\\\\u0627 \\\\u0627\\\\u062f\\\\u0628 \\\\u0648 \\\\u0628\\\\u0627 \\\\u0641\\\\u0631\\\\u0647\\\\u0646\\\\u06af \\\\u062a\\\\u0631\\\\u0628\\\\u06cc\\\\u062a \\\\u06a9\\\\u0631\\\\u062f \\\\u0648 \\\\u0686\\\\u0646\\\\u0627\\\\u0646 \\\\u0628\\\\u0627 \\\\u0642\\\\u062f\\\\u0631\\\\u062a \\\\u0639\\\\u0638\\\\u06cc\\\\u0645 \\\\u0648 \\\\u0646\\\\u0641\\\\u0648\\\\u0630 \\\\u0642\\\\u062f\\\\u0631\\\\u062a\\\\u0645\\\\u0646\\\\u062f\\\\u0634 \\\\u062f\\\\u0631 \\\\u0637\\\\u0648\\\\u0644 \\\\u0632\\\\u0645\\\\u0627\\\\u0646 \\\\u062e\\\\u0648\\\\u062f \\\\u0631\\\\u0641\\\\u062a\\\\u0627\\\\u0631 \\\\u06a9\\\\u0631\\\\u062f \\\\u06a9\\\\u0647 \\\\u067e\\\\u0633 \\\\u0627\\\\u0632 \\\\u0645\\\\u0631\\\\u06af \\\\u06af\\\\u06cc\\\\u0648\\\\u06af \\\\u062e\\\\u0627\\\\u0646\\\\u060c \\\\u0633\\\\u0644\\\\u0637\\\\u0646\\\\u062a \\\\u0628\\\\u0647 \\\\u0637\\\\u0648\\\\u0631 \\\\u0642\\\\u0627\\\\u0646\\\\u0648\\\\u0646\\\\u06cc \\\\u0628\\\\u0647 \\\\u067e\\\\u0633\\\\u0631\\\\u0634 \\\\u0645\\\\u0646\\\\u06a9\\\\u0648\\\\u0642\\\\u0627\\\\u0622\\\\u0646 \\\\u062a\\\\u0639\\\\u0644\\\\u0642 \\\\u06af\\\\u0631\\\\u0641\\\\u062a.\\\\n\\\\u0633\\\\u0644\\\\u0637\\\\u0646\\\\u062a \\\\u063a\\\\u06cc\\\\u0631\\\\u0631\\\\u0633\\\\u0645\\\\u06cc \\\\u062a\\\\u0648\\\\u0644\\\\u06cc.\\\\n\\\\u062a\\\\u0648\\\\u0644\\\\u06cc \\\\u062f\\\\u0631\\\\u062c\\\\u0646\\\\u06af\\\\u200c\\\\u0647\\\\u0627\\\\u06cc \\\\u0627\\\\u06cc\\\\u0631\\\\u0627\\\\u0646 \\\\u0645\\\\u0623\\\\u0645\\\\u0648\\\\u0631 \\\\u0641\\\\u062a\\\\u062d \\\\u062e\\\\u0631\\\\u0627\\\\u0633\\\\u0627\\\\u0646 \\\\u0628\\\\u0648\\\\u062f \\\\u0648\\\\u0627\\\\u0631\\\\u0634\\\\u062f \\\\u0627\\\\u0648\\\\u0644\\\\u0627\\\\u062f \\\\u0686\\\\u0646\\\\u06af\\\\u06cc\\\\u0632 \\\\u062e\\\\u0627\\\\u0646. \\\\u0628\\\\u0627 \\\\u0648\\\\u062c\\\\u0648\\\\u062f \\\\u0627\\\\u06cc\\\\u0646 \\\\u06a9\\\\u0647 \\\\u0628\\\\u0631\\\\u0627\\\\u062f\\\\u0631\\\\u0634 \\\\u0627\\\\u0648\\\\u06af\\\\u062a\\\\u0627\\\\u06cc \\\\u0631\\\\u0633\\\\u0645\\\\u0627\\\\u064b \\\\u0627\\\\u0632 \\\\u062c\\\\u0627\\\\u0646\\\\u0628 \\\\u067e\\\\u062f\\\\u0631 \\\\u0628\\\\u0647 \\\\u062e\\\\u0627\\\\u0646\\\\u06cc \\\\u0645\\\\u0646\\\\u0635\\\\u0648\\\\u0628 \\\\u0634\\\\u062f\\\\u0647 \\\\u0628\\\\u0648\\\\u062f\\\\u060c \\\\u0645\\\\u0639\\\\u200c\\\\u0647\\\\u0630\\\\u0627 \\\\u0628\\\\u0647\\\\u200c\\\\u0637\\\\u0648\\\\u0631 \\\\u063a\\\\u06cc\\\\u0631\\\\u0631\\\\u0633\\\\u0645\\\\u06cc \\\\u062a\\\\u0627 \\\\u062a\\\\u0639\\\\u06cc\\\\u06cc\\\\u0646 \\\\u0627\\\\u0648\\\\u06af\\\\u062a\\\\u0627\\\\u06cc \\\\u0627\\\\u0632 \\\\u062c\\\\u0627\\\\u0646\\\\u0628 \\\\u0642\\\\u0648\\\\u0631\\\\u06cc\\\\u0644\\\\u062a\\\\u0627\\\\u06cc \\\\u0628\\\\u0627 \\\\u06a9\\\\u0645\\\\u06a9 \\\\u0633\\\\u0647 \\\\u0645\\\\u0634\\\\u0627\\\\u0648\\\\u0631 \\\\u067e\\\\u062f\\\\u0631\\\\u0634 \\\\u00ab\\\\u0645\\\\u062d\\\\u0645\\\\u0648\\\\u062f \\\\u06cc\\\\u0644\\\\u0648\\\\u0627\\\\u062c\\\\u00bb \\\\u00ab\\\\u062a\\\\u0627\\\\u062a\\\\u0627\\\\u06a9\\\\u0648\\\\u0633\\\\u00bb \\\\u00ab\\\\u06cc\\\\u0647 \\\\u0644\\\\u06cc\\\\u0648\\\\u0686\\\\u0648\\\\u062a\\\\u0633\\\\u0627\\\\u06cc\\\\u00bb \\\\u0637\\\\u06cc \\\\u062f\\\\u0648 \\\\u0633\\\\u0627\\\\u0644 \\\\u06f6\\\\u06f2\\\\u06f4 \\\\u062a\\\\u0627 \\\\u06f6\\\\u06f2\\\\u06f6 \\\\u0647\\\\u062c\\\\u0631\\\\u06cc \\\\u0642\\\\u0645\\\\u0631\\\\u06cc \\\\u0645\\\\u062f\\\\u062a \\\\u0641\\\\u0627\\\\u0635\\\\u0644\\\\u0647 \\\\u0645\\\\u0631\\\\u06af \\\\u0686\\\\u0646\\\\u06af\\\\u06cc\\\\u0632 \\\\u062e\\\\u0627\\\\u0646 \\\\u062a\\\\u0627 \\\\u062c\\\\u0644\\\\u0648\\\\u0633 \\\\u0627\\\\u0648\\\\u06af\\\\u062a\\\\u0627\\\\u06cc \\\\u0628\\\\u0647 \\\\u0645\\\\u0642\\\\u0627\\\\u0645 \\\\u0642\\\\u0627\\\\u0622\\\\u0646\\\\u06cc \\\\u0628\\\\u0647\\\\u200c\\\\u0637\\\\u0648\\\\u0631 \\\\u063a\\\\u06cc\\\\u0631\\\\u0631\\\\u0633\\\\u0645\\\\u06cc \\\\u0641\\\\u0631\\\\u0645\\\\u0627\\\\u0646\\\\u0631\\\\u0648\\\\u0627\\\\u06cc\\\\u06cc \\\\u06a9\\\\u0631\\\\u062f \\\\u0648 \\\\u062f\\\\u0631\\\\u0627\\\\u06cc\\\\u0646 \\\\u0645\\\\u062f\\\\u062a \\\\u0645\\\\u0645\\\\u0627\\\\u0644\\\\u06a9 \\\\u0686\\\\u0646\\\\u06af\\\\u06cc\\\\u0632 \\\\u062e\\\\u0627\\\\u0646 \\\\u0628\\\\u0647 \\\\u0647\\\\u0645\\\\u0627\\\\u0646 \\\\u0631\\\\u0648\\\\u0634 \\\\u0648 \\\\u0634\\\\u06cc\\\\u0648\\\\u0647 \\\\u0648 \\\\u0633\\\\u0628\\\\u06a9 \\\\u0648 \\\\u0633\\\\u06cc\\\\u0627\\\\u0642 \\\\u0633\\\\u0627\\\\u0628\\\\u0642 \\\\u0627\\\\u062f\\\\u0627\\\\u0631\\\\u0647 \\\\u0645\\\\u06cc\\\\u200c\\\\u0634\\\\u062f.\\\\n\\\\u0645\\\\u0631\\\\u06af.\\\\n\\\\u0645\\\\u0637\\\\u0627\\\\u0628\\\\u0642 \\\\u062a\\\\u0627\\\\u0631\\\\u06cc\\\\u062e \\\\u0645\\\\u062e\\\\u0641\\\\u06cc \\\\u062a\\\\u0627\\\\u0631\\\\u06cc\\\\u062e \\\\u0633\\\\u0631\\\\u06cc \\\\u0645\\\\u063a\\\\u0648\\\\u0644\\\\u0627\\\\u0646\\\\u060c \\\\u062a\\\\u0648\\\\u0644\\\\u06cc \\\\u062e\\\\u0648\\\\u062f \\\\u0631\\\\u0627 \\\\u0641\\\\u062f\\\\u0627 \\\\u06a9\\\\u0631\\\\u062f \\\\u062a\\\\u0627 \\\\u0628\\\\u062a\\\\u0648\\\\u0627\\\\u0646\\\\u062f \\\\u0627\\\\u0648\\\\u06af\\\\u062a\\\\u0627\\\\u06cc \\\\u062e\\\\u0627\\\\u0646 \\\\u0631\\\\u0627 \\\\u0627\\\\u0632 \\\\u06cc\\\\u06a9 \\\\u0628\\\\u06cc\\\\u0645\\\\u0627\\\\u0631\\\\u06cc \\\\u0628\\\\u0633\\\\u06cc\\\\u0627\\\\u0631 \\\\u0634\\\\u062f\\\\u06cc\\\\u062f \\\\u062f\\\\u0631 \\\\u0637\\\\u06cc \\\\u06cc\\\\u06a9 \\\\u06a9\\\\u0627\\\\u0631\\\\u0632\\\\u0627\\\\u0631 \\\\u062f\\\\u0631 \\\\u0686\\\\u06cc\\\\u0646 \\\\u062f\\\\u0631\\\\u0645\\\\u0627\\\\u0646 \\\\u06a9\\\\u0646\\\\u062f. \\\\u0634\\\\u0645\\\\u0646\\\\u200c\\\\u0647\\\\u0627 \\\\u0645\\\\u0634\\\\u062e\\\\u0635 \\\\u06a9\\\\u0631\\\\u062f\\\\u0647 \\\\u0628\\\\u0648\\\\u062f\\\\u0646\\\\u062f \\\\u06a9\\\\u0647 \\\\u0631\\\\u06cc\\\\u0634\\\\u0647 \\\\u0628\\\\u06cc\\\\u0645\\\\u0627\\\\u0631\\\\u06cc \\\\u0627\\\\u0648\\\\u06af\\\\u062a\\\\u0627\\\\u06cc \\\\u062e\\\\u0627\\\\u0646\\\\u060c \\\\u0627\\\\u0631\\\\u0648\\\\u0627\\\\u062d \\\\u0632\\\\u0645\\\\u06cc\\\\u0646 \\\\u0648 \\\\u0622\\\\u0628 \\\\u0686\\\\u06cc\\\\u0646 \\\\u0627\\\\u0633\\\\u062a. \\\\u0628\\\\u0647 \\\\u0639\\\\u0642\\\\u06cc\\\\u062f\\\\u0647 \\\\u0634\\\\u0645\\\\u0646\\\\u200c\\\\u0647\\\\u0627 \\\\u0627\\\\u06cc\\\\u0646 \\\\u0627\\\\u0631\\\\u0648\\\\u0627\\\\u062d \\\\u0627\\\\u0632 \\\\u0627\\\\u06cc\\\\u0646\\\\u06a9\\\\u0647 \\\\u0631\\\\u0627\\\\u0646\\\\u062f\\\\u0647 \\\\u0634\\\\u062f\\\\u0647 \\\\u0648 \\\\u0633\\\\u0631\\\\u0632\\\\u0645\\\\u06cc\\\\u0646 \\\\u0634\\\\u0627\\\\u0646 \\\\u0648\\\\u06cc\\\\u0631\\\\u0627\\\\u0646 \\\\u0634\\\\u062f\\\\u0647 \\\\u0628\\\\u0648\\\\u062f \\\\u0646\\\\u0627\\\\u0631\\\\u0627\\\\u062d\\\\u062a \\\\u0628\\\\u0648\\\\u062f\\\\u0646\\\\u062f. \\\\u067e\\\\u06cc\\\\u0634\\\\u06a9\\\\u0634 \\\\u0632\\\\u0645\\\\u06cc\\\\u0646\\\\u060c \\\\u062d\\\\u06cc\\\\u0648\\\\u0627\\\\u0646\\\\u0627\\\\u062a \\\\u0648 \\\\u0645\\\\u0631\\\\u062f\\\\u0645 \\\\u0641\\\\u0642\\\\u0637 \\\\u0628\\\\u0647 \\\\u062a\\\\u0634\\\\u062f\\\\u06cc\\\\u062f \\\\u0628\\\\u06cc\\\\u0645\\\\u0627\\\\u0631\\\\u06cc \\\\u0627\\\\u0648\\\\u06af\\\\u062a\\\\u0627\\\\u06cc \\\\u0645\\\\u0646\\\\u062c\\\\u0631 \\\\u0634\\\\u062f\\\\u0647 \\\\u0628\\\\u0648\\\\u062f\\\\u060c \\\\u0627\\\\u0645\\\\u0627 \\\\u0647\\\\u0646\\\\u06af\\\\u0627\\\\u0645\\\\u06cc \\\\u0634\\\\u0645\\\\u0646\\\\u200c\\\\u0647\\\\u0627 \\\\u067e\\\\u06cc\\\\u0634\\\\u0646\\\\u0647\\\\u0627\\\\u062f \\\\u062f\\\\u0627\\\\u062f\\\\u0646\\\\u062f \\\\u06a9\\\\u0647 \\\\u06cc\\\\u06a9 \\\\u0639\\\\u0636\\\\u0648 \\\\u062e\\\\u0627\\\\u0646\\\\u0648\\\\u0627\\\\u062f\\\\u0647 \\\\u0631\\\\u0627 \\\\u0642\\\\u0631\\\\u0628\\\\u0627\\\\u0646\\\\u06cc \\\\u06a9\\\\u0646\\\\u0646\\\\u062f\\\\u060c \\\\u0627\\\\u0648\\\\u06af\\\\u062a\\\\u0627\\\\u06cc \\\\u0628\\\\u0644\\\\u0627\\\\u0641\\\\u0627\\\\u0635\\\\u0644\\\\u0647 \\\\u0628\\\\u0647\\\\u062a\\\\u0631 \\\\u0634\\\\u062f. \\\\u062a\\\\u0648\\\\u0644\\\\u06cc \\\\u062f\\\\u0627\\\\u0648\\\\u0637\\\\u0644\\\\u0628\\\\u0627\\\\u0646\\\\u0647 \\\\u0648 \\\\u0628\\\\u06cc\\\\u200c\\\\u062f\\\\u0631\\\\u0646\\\\u06af \\\\u067e\\\\u0633 \\\\u0627\\\\u0632 \\\\u0645\\\\u0635\\\\u0631\\\\u0641 \\\\u0648 \\\\u0646\\\\u0648\\\\u0634\\\\u06cc\\\\u062f\\\\u0646 \\\\u0646\\\\u0648\\\\u0634\\\\u0627\\\\u0628\\\\u0647 \\\\u0646\\\\u0641\\\\u0631\\\\u06cc\\\\u0646 \\\\u062f\\\\u0631\\\\u06af\\\\u0630\\\\u0634\\\\u062a. \\\\u0628\\\\u0627 \\\\u0627\\\\u06cc\\\\u0646 \\\\u062d\\\\u0627\\\\u0644\\\\u060c \\\\u0639\\\\u0637\\\\u0627\\\\u0645\\\\u0644\\\\u06a9 \\\\u062c\\\\u0648\\\\u06cc\\\\u0646\\\\u06cc \\\\u0645\\\\u06cc\\\\u200c\\\\u06af\\\\u0648\\\\u06cc\\\\u062f \\\\u06a9\\\\u0647 \\\\u062a\\\\u0648\\\\u0644\\\\u06cc \\\\u062f\\\\u0631 \\\\u0627\\\\u062b\\\\u0631 \\\\u0627\\\\u0644\\\\u06a9\\\\u0644\\\\u06cc\\\\u0633\\\\u0645 \\\\u062f\\\\u0631 \\\\u06af\\\\u0630\\\\u0634\\\\u062a\\\\u0647\\\\u200c\\\\u0627\\\\u0633\\\\u062a.\"}']"
            ]
          },
          "execution_count": 18,
          "metadata": {},
          "output_type": "execute_result"
        }
      ],
      "source": [
        "if SAMPLE:\n",
        "  articles_rdd = articles_rdd_orig.sample(True, SAMPLE_SIZE)\n",
        "  articles_rdd = articles_rdd.coalesce(10)\n",
        "  articles_rdd.cache()\n",
        "else:\n",
        "  articles_rdd = articles_rdd_orig\n",
        "\n",
        "articles_rdd.take(1)"
      ]
    },
    {
      "cell_type": "markdown",
      "metadata": {
        "id": "phXc_Mt_CI7U"
      },
      "source": [
        "parsing the json string\n"
      ]
    },
    {
      "cell_type": "code",
      "execution_count": null,
      "metadata": {
        "colab": {
          "base_uri": "https://localhost:8080/"
        },
        "id": "-7JpJ7MMhxM_",
        "outputId": "1a79aaf4-e675-4bb8-e105-981508b90bc6"
      },
      "outputs": [
        {
          "data": {
            "text/plain": [
              "[{'id': '1408',\n",
              "  'revid': '762412',\n",
              "  'text': 'تولی خان یا تولوی خان، پسر چهارم چنگیز خان که از برادران خود جوجی و جغتای و اوگتای کوچک\\u200cتر بود و در دلاوری و قلعه گشایی و سپاهیگری مانند نداشت. هیچ\\u200cیک از پسران و برادران چنگیز مانند وی لشکرکشی و فتوحات نکرده\\u200cاند. چنگیز در اوایل میل داشت که او را به جانشینی تعیین کند اما بعد نظرش تغییر کرد و گفت که منصب لشکرکشی و ضبط یورت و حفظ خزانه بر تو مناسبتر است. تولی در بیشتر اوقات ملازم چنگیزخان بود و او همواره با وی مشورت می\\u200cکرد. چون چنگیز بمرد و شاهزادگان هریک به مقام خود رفتند تولی در یورت اصلی که تختگاه چنگیزخان بود بماند تا آنکه قوریلتای (مجلس بزرگ) دایر شد و اوگتای را به قاآنی برداشتند. پس از آن به دستور اوگتای قاآن جدید تولی به چین لشکر کشید و سپاهیان التان خان را بشکست و از رودخانه\\u200cای قراموران که تا آن زمان هیچ\\u200cکس نگذشته بود بگذشت و به برادرش پیوست. تولی در زمان قاآنی اوگتای بمرد و از جمله فرزندان او منکوقاآن و هولاگوخان و قوبیلای قاآن و اریق بوقا بودند. سرقویتی بیگی زن تولی خان را زنی بسیار خردمند گفته\\u200cاند، این زن خردمند بود که فرزندان خود را با ادب و با فرهنگ تربیت کرد و چنان با قدرت عظیم و نفوذ قدرتمندش در طول زمان خود رفتار کرد که پس از مرگ گیوگ خان، سلطنت به طور قانونی به پسرش منکوقاآن تعلق گرفت.\\nسلطنت غیررسمی تولی.\\nتولی درجنگ\\u200cهای ایران مأمور فتح خراسان بود وارشد اولاد چنگیز خان. با وجود این که برادرش اوگتای رسماً از جانب پدر به خانی منصوب شده بود، مع\\u200cهذا به\\u200cطور غیررسمی تا تعیین اوگتای از جانب قوریلتای با کمک سه مشاور پدرش «محمود یلواج» «تاتاکوس» «یه لیوچوتسای» طی دو سال ۶۲۴ تا ۶۲۶ هجری قمری مدت فاصله مرگ چنگیز خان تا جلوس اوگتای به مقام قاآنی به\\u200cطور غیررسمی فرمانروایی کرد و دراین مدت ممالک چنگیز خان به همان روش و شیوه و سبک و سیاق سابق اداره می\\u200cشد.\\nمرگ.\\nمطابق تاریخ مخفی تاریخ سری مغولان، تولی خود را فدا کرد تا بتواند اوگتای خان را از یک بیماری بسیار شدید در طی یک کارزار در چین درمان کند. شمن\\u200cها مشخص کرده بودند که ریشه بیماری اوگتای خان، ارواح زمین و آب چین است. به عقیده شمن\\u200cها این ارواح از اینکه رانده شده و سرزمین شان ویران شده بود ناراحت بودند. پیشکش زمین، حیوانات و مردم فقط به تشدید بیماری اوگتای منجر شده بود، اما هنگامی شمن\\u200cها پیشنهاد دادند که یک عضو خانواده را قربانی کنند، اوگتای بلافاصله بهتر شد. تولی داوطلبانه و بی\\u200cدرنگ پس از مصرف و نوشیدن نوشابه نفرین درگذشت. با این حال، عطاملک جوینی می\\u200cگوید که تولی در اثر الکلیسم در گذشته\\u200cاست.',\n",
              "  'title': 'تولی خان',\n",
              "  'url': 'https://fa.wikipedia.org/wiki?curid=1408'}]"
            ]
          },
          "execution_count": 19,
          "metadata": {},
          "output_type": "execute_result"
        }
      ],
      "source": [
        "import json\n",
        "articles_rdd_json = articles_rdd.map(lambda x: json.loads(x))\n",
        "articles_rdd_json.take(1)"
      ]
    },
    {
      "cell_type": "markdown",
      "metadata": {
        "id": "kiYs6lNSCPPz"
      },
      "source": [
        "<div dir=\"rtl\">\n",
        "\n",
        "در این مرحله، به کمک یک \n",
        "regex\n",
        "، \n",
        "تمامی کاراکتر‌هایی که برای کلمات نیستند را حذف می‌کنیم و با \n",
        "space\n",
        "جایگزین می‌کنیم. راه‌های زیاد دیگری را برای این مرحله کردم، مثل حذف کردن دستی کاراکتر‌های نگارشی، \n",
        "regex\n",
        "های تشخیص کلمه، و ... اما کد زیر بهترین نتیجه‌ را به من داد. \n",
        "\n",
        "</div>"
      ]
    },
    {
      "cell_type": "code",
      "execution_count": null,
      "metadata": {
        "colab": {
          "base_uri": "https://localhost:8080/"
        },
        "id": "KAP2dL4yjxGj",
        "outputId": "3b62dbfb-9d59-43d8-f53f-bc9dcbc90548"
      },
      "outputs": [
        {
          "data": {
            "text/plain": [
              "[{'id': '1408',\n",
              "  'revid': '762412',\n",
              "  'text': 'تولی خان یا تولوی خان پسر چهارم چنگیز خان که از برادران خود جوجی و جغتای و اوگتای کوچک تر بود و در دلاوری و قلعه گشایی و سپاهیگری مانند نداشت هیچ یک از پسران و برادران چنگیز مانند وی لشکرکشی و فتوحات نکرده اند چنگیز در اوایل میل داشت که او را به جانشینی تعیین کند اما بعد نظرش تغییر کرد و گفت که منصب لشکرکشی و ضبط یورت و حفظ خزانه بر تو مناسبتر است تولی در بیشتر اوقات ملازم چنگیزخان بود و او همواره با وی مشورت می کرد چون چنگیز بمرد و شاهزادگان هریک به مقام خود رفتند تولی در یورت اصلی که تختگاه چنگیزخان بود بماند تا آنکه قوریلتای مجلس بزرگ دایر شد و اوگتای را به قاآنی برداشتند پس از آن به دستور اوگتای قاآن جدید تولی به چین لشکر کشید و سپاهیان التان خان را بشکست و از رودخانه ای قراموران که تا آن زمان هیچ کس نگذشته بود بگذشت و به برادرش پیوست تولی در زمان قاآنی اوگتای بمرد و از جمله فرزندان او منکوقاآن و هولاگوخان و قوبیلای قاآن و اریق بوقا بودند سرقویتی بیگی زن تولی خان را زنی بسیار خردمند گفته اند این زن خردمند بود که فرزندان خود را با ادب و با فرهنگ تربیت کرد و چنان با قدرت عظیم و نفوذ قدرتمندش در طول زمان خود رفتار کرد که پس از مرگ گیوگ خان سلطنت به طور قانونی به پسرش منکوقاآن تعلق گرفت سلطنت غیررسمی تولی تولی درجنگ های ایران مأمور فتح خراسان بود وارشد اولاد چنگیز خان با وجود این که برادرش اوگتای رسما از جانب پدر به خانی منصوب شده بود مع هذا به طور غیررسمی تا تعیین اوگتای از جانب قوریلتای با کمک سه مشاور پدرش محمود یلواج تاتاکوس یه لیوچوتسای طی دو سال ۶۲۴ تا ۶۲۶ هجری قمری مدت فاصله مرگ چنگیز خان تا جلوس اوگتای به مقام قاآنی به طور غیررسمی فرمانروایی کرد و دراین مدت ممالک چنگیز خان به همان روش و شیوه و سبک و سیاق سابق اداره می شد مرگ مطابق تاریخ مخفی تاریخ سری مغولان تولی خود را فدا کرد تا بتواند اوگتای خان را از یک بیماری بسیار شدید در طی یک کارزار در چین درمان کند شمن ها مشخص کرده بودند که ریشه بیماری اوگتای خان ارواح زمین و آب چین است به عقیده شمن ها این ارواح از اینکه رانده شده و سرزمین شان ویران شده بود ناراحت بودند پیشکش زمین حیوانات و مردم فقط به تشدید بیماری اوگتای منجر شده بود اما هنگامی شمن ها پیشنهاد دادند که یک عضو خانواده را قربانی کنند اوگتای بلافاصله بهتر شد تولی داوطلبانه و بی درنگ پس از مصرف و نوشیدن نوشابه نفرین درگذشت با این حال عطاملک جوینی می گوید که تولی در اثر الکلیسم در گذشته است ',\n",
              "  'title': 'تولی خان',\n",
              "  'url': 'https://fa.wikipedia.org/wiki?curid=1408'}]"
            ]
          },
          "execution_count": 20,
          "metadata": {},
          "output_type": "execute_result"
        }
      ],
      "source": [
        "import re\n",
        "def remove_bad_words(x):\n",
        "  x['text'] = re.sub(r'\\W+', ' ', x['text'])\n",
        "  x['title'] = re.sub(r'\\W+', ' ', x['title'])\n",
        "  return x\n",
        "\n",
        "cleansed_articles_rdd = articles_rdd_json.map(remove_bad_words)\n",
        "cleansed_articles_rdd.take(1)"
      ]
    },
    {
      "cell_type": "markdown",
      "metadata": {
        "id": "WcwhFecYGWbC"
      },
      "source": [
        "<div dir=\"rtl\">\n",
        "\n",
        "سپس به کمک تابع \n",
        "flatMap، \n",
        "تمامی کلمات را از هم جدا می‌کنیم. \n",
        "\n",
        "</div>"
      ]
    },
    {
      "cell_type": "code",
      "execution_count": null,
      "metadata": {
        "colab": {
          "base_uri": "https://localhost:8080/"
        },
        "id": "re-YTBJKl1Mr",
        "outputId": "6f99c1ae-eca4-4df2-ac13-766737b9bb9d"
      },
      "outputs": [
        {
          "data": {
            "text/plain": [
              "['تولی', 'خان', 'تولی', 'خان', 'یا']"
            ]
          },
          "execution_count": 21,
          "metadata": {},
          "output_type": "execute_result"
        }
      ],
      "source": [
        "words_rdd = cleansed_articles_rdd.flatMap(lambda x: x['title'].split() + x['text'].split())\n",
        "words_rdd.cache().count()\n",
        "words_rdd.take(5)"
      ]
    },
    {
      "cell_type": "markdown",
      "metadata": {
        "id": "8gdRcmFkGbUh"
      },
      "source": [
        "<div dir=\"rtl\">\n",
        "\n",
        "حال با استفاده از \n",
        "MapReduce\n",
        "، \n",
        "هر کلمه را به صورت دوتایی کلمه و ۱ در می‌آوریم و در مرحله‌ی \n",
        "reduce\n",
        "تمامی ۱ ها را با هم جمع می‌کنیم تا تعداد هر کلمه در کل مقالات را به دست می‌آوریم. \n",
        "\n",
        "</div>"
      ]
    },
    {
      "cell_type": "code",
      "execution_count": null,
      "metadata": {
        "colab": {
          "base_uri": "https://localhost:8080/"
        },
        "id": "mEMwF59tr8_o",
        "outputId": "31cacba6-5eb3-4832-a4e1-f62aa600b9b0"
      },
      "outputs": [
        {
          "data": {
            "text/plain": [
              "[('تولی', 20), ('خان', 310), ('و', 43694), ('پسران', 46), ('کند', 3057)]"
            ]
          },
          "execution_count": 22,
          "metadata": {},
          "output_type": "execute_result"
        }
      ],
      "source": [
        "words_count_rdd = words_rdd.map(lambda x: (x, 1)).reduceByKey(lambda x,y: x+y)\n",
        "words_count_rdd.take(5)"
      ]
    },
    {
      "cell_type": "markdown",
      "metadata": {
        "id": "6aKGV1Q1HBru"
      },
      "source": [
        "با استفاده از تعداد تکرار کلمات، و مرتب کردن آن‌ها بر اساس این تکرار، ۱۰۰ کلمه‌ی پرتکرار را به دست می‌آوریم. "
      ]
    },
    {
      "cell_type": "code",
      "execution_count": null,
      "metadata": {
        "colab": {
          "base_uri": "https://localhost:8080/"
        },
        "id": "ThWnsJN4tJal",
        "outputId": "571efd05-cb96-4771-a99b-eb59dd106c92"
      },
      "outputs": [
        {
          "data": {
            "text/plain": [
              "[('در', 48108), ('و', 43694), ('به', 32003), ('از', 28163), ('است', 24764)]"
            ]
          },
          "execution_count": 23,
          "metadata": {},
          "output_type": "execute_result"
        }
      ],
      "source": [
        "top_100 = sc.parallelize(words_count_rdd.sortBy(lambda x: -x[1]).take(100))\n",
        "top_100.collect()[:5]"
      ]
    },
    {
      "cell_type": "markdown",
      "metadata": {
        "id": "HEvZoVBzIN56"
      },
      "source": [
        "<div dir=\"rtl\">\n",
        "\n",
        "با استفاده از ۱۰۰ کلمه‌ی پر تکرار، کلمات بی معنی (حروف ربط و وصل و ....) را به دست می‌آوریم. لیستی که بعد از آن به صورت دستی مقداردهی کرده‌ام، مقادیر مناسبی از نتیجه‌ی کد من بوده است. کلماتی که با معنی محسوب می‌شدند را از لیست حذف کرده‌ام.\n",
        "\n",
        "\n",
        "</div>"
      ]
    },
    {
      "cell_type": "code",
      "execution_count": null,
      "metadata": {
        "colab": {
          "base_uri": "https://localhost:8080/"
        },
        "id": "mYYucZge6yha",
        "outputId": "b73e0ca2-ac3e-4c89-cf19-0ab2b8fcfcd9"
      },
      "outputs": [
        {
          "data": {
            "text/plain": [
              "['در',\n",
              " 'و',\n",
              " 'به',\n",
              " 'از',\n",
              " 'است',\n",
              " 'که',\n",
              " 'می',\n",
              " 'این',\n",
              " 'را',\n",
              " 'های',\n",
              " 'با',\n",
              " 'یک',\n",
              " 'شده',\n",
              " 'آن',\n",
              " 'سال',\n",
              " 'ها',\n",
              " 'شد',\n",
              " 'بود',\n",
              " 'برای',\n",
              " 'او',\n",
              " 'کرد',\n",
              " 'شود',\n",
              " 'دارد',\n",
              " 'ای',\n",
              " 'ایران',\n",
              " 'خود',\n",
              " 'بر',\n",
              " 'تا',\n",
              " 'واقع',\n",
              " 'یا',\n",
              " 'کند',\n",
              " 'جمعیت',\n",
              " 'وی',\n",
              " 'نام',\n",
              " 'قرار',\n",
              " 'عنوان',\n",
              " 'نیز',\n",
              " 'باشد',\n",
              " 'نفر',\n",
              " 'فیلم',\n",
              " 'دو',\n",
              " 'پس',\n",
              " 'شهرستان',\n",
              " 'شهر',\n",
              " 'بوده',\n",
              " 'یکی',\n",
              " 'کرده',\n",
              " 'بخش',\n",
              " 'استفاده',\n",
              " 'هم',\n",
              " 'توسط',\n",
              " 'بازی',\n",
              " 'منطقه',\n",
              " 'اس',\n",
              " 'استان',\n",
              " 'بین',\n",
              " 'دیگر',\n",
              " 'آمریکا',\n",
              " 'همچنین',\n",
              " 'کشور',\n",
              " 'اهل',\n",
              " 'فوتبال',\n",
              " 'اند',\n",
              " 'اما',\n",
              " 'زاده',\n",
              " 'ملی',\n",
              " 'شرکت',\n",
              " 'کنند',\n",
              " 'کار',\n",
              " 'متحده',\n",
              " 'میلادی',\n",
              " 'هر',\n",
              " 'توان',\n",
              " 'ایالات',\n",
              " 'مورد',\n",
              " 'وجود',\n",
              " 'صورت',\n",
              " 'تاریخ',\n",
              " 'زبان',\n",
              " 'هایی',\n",
              " 'هستند',\n",
              " 'داد',\n",
              " 'داشته',\n",
              " 'زمان',\n",
              " 'اشاره',\n",
              " 'داشت',\n",
              " 'دست',\n",
              " 'دوره',\n",
              " 'روی',\n",
              " 'پیش',\n",
              " 'تیم',\n",
              " '۱',\n",
              " 'روستا',\n",
              " 'سطح',\n",
              " 'دانشگاه',\n",
              " 'داده',\n",
              " 'دهد',\n",
              " 'کتاب',\n",
              " 'زیر',\n",
              " '۲']"
            ]
          },
          "execution_count": 39,
          "metadata": {},
          "output_type": "execute_result"
        }
      ],
      "source": [
        "stopwords = top_100.map(lambda x: x[0]).collect()\n",
        "# stopwords\n",
        "# stopwords = [\n",
        "# 'در',\n",
        "#  'و',\n",
        "#  'به',\n",
        "#  'از',\n",
        "#  'است',\n",
        "#  'که',\n",
        "#  'می',\n",
        "#  'این',\n",
        "#  'را',\n",
        "#  'های',\n",
        "#  'با',\n",
        "#  'یک',\n",
        "#  'شده',\n",
        "#  'آن',\n",
        "#  'ها',\n",
        "#  'شد',\n",
        "#  'بود',\n",
        "#  'برای',\n",
        "#  'کرد',\n",
        "#  'او',\n",
        "#  'شود',\n",
        "#  'ای',\n",
        "#  'دارد',\n",
        "#  'بر',\n",
        "#  'خود',\n",
        "#  'تا',\n",
        "#  'یا',\n",
        "#  'وی',\n",
        "#  'کند',\n",
        "#  'نیز',\n",
        "#  'باشد',\n",
        "#  'پس',\n",
        "#  'بوده',\n",
        "#  'یکی',\n",
        "#  'کرده',\n",
        "#  'هم',\n",
        "#  'توسط',\n",
        "#  'بین',\n",
        "#  'دیگر',\n",
        "#  'اس',\n",
        "#  'همچنین',\n",
        "#  'اند',\n",
        "#  'اما',\n",
        "#  'کنند',\n",
        "#  'هر',\n",
        "#  'هایی',\n",
        "#  'پیش',\n",
        "#  'داشته',\n",
        "#  'داد',\n",
        "#  'روی',\n",
        "#  'داشت',\n",
        "#  'هستند',\n",
        "#  'بودند',\n",
        "#  'کردند',\n",
        "#  'داده',\n",
        "#  'زیر',   \n",
        "# 'این',\n",
        "# 'های',\n",
        "# ]\n",
        "# print(stopwords)\n",
        "stopwords"
      ]
    },
    {
      "cell_type": "markdown",
      "metadata": {
        "id": "Jw3b4LG2JEjP"
      },
      "source": [
        "<div dir=\"rtl\">\n",
        "\n",
        "در این مرحله با کمک تابع \n",
        "remove_stopwords\n",
        "کلمات بی معنی را حذف می‌کنیم. این کلمات را تنها زمانی حذف می‌کنیم که جزوی از کلمه‌ی دیگر نباشند. یعنی اول و آخر آن‌ها \n",
        "space\n",
        "باشد. دقت کنید که علائم نگارشی را حذف کرده‌ایم. همچنین، کلماتی که در ابتدا و یا اتنهای مقاله آمده‌اند نیاز به کد جداگانه دارند که این کار را انجام داده‌ام.\n",
        "\n",
        "</div>"
      ]
    },
    {
      "cell_type": "code",
      "execution_count": null,
      "metadata": {
        "colab": {
          "base_uri": "https://localhost:8080/"
        },
        "id": "lE2gwTxkAT2i",
        "outputId": "09fec906-5a53-4a66-95a2-40d08d8d30c5"
      },
      "outputs": [
        {
          "data": {
            "text/plain": [
              "[{'id': '1408',\n",
              "  'revid': '762412',\n",
              "  'text': 'تولی خان تولوی خان پسر چهارم چنگیز خان برادران جوجی جغتای اوگتای کوچک تر دلاوری قلعه گشایی سپاهیگری مانند نداشت هیچ پسران برادران چنگیز مانند لشکرکشی فتوحات نکرده چنگیز اوایل میل جانشینی تعیین بعد نظرش تغییر گفت منصب لشکرکشی ضبط یورت حفظ خزانه تو مناسبتر تولی بیشتر اوقات ملازم چنگیزخان همواره مشورت چون چنگیز بمرد شاهزادگان هریک مقام رفتند تولی یورت اصلی تختگاه چنگیزخان بماند آنکه قوریلتای مجلس بزرگ دایر اوگتای قاآنی برداشتند دستور اوگتای قاآن جدید تولی چین لشکر کشید سپاهیان التان خان بشکست رودخانه قراموران زمان هیچ کس نگذشته بگذشت برادرش پیوست تولی زمان قاآنی اوگتای بمرد جمله فرزندان منکوقاآن هولاگوخان قوبیلای قاآن اریق بوقا سرقویتی بیگی زن تولی خان زنی بسیار خردمند گفته زن خردمند فرزندان ادب فرهنگ تربیت چنان قدرت عظیم نفوذ قدرتمندش طول زمان رفتار مرگ گیوگ خان سلطنت طور قانونی پسرش منکوقاآن تعلق گرفت سلطنت غیررسمی تولی تولی درجنگ ایران مأمور فتح خراسان وارشد اولاد چنگیز خان وجود برادرش اوگتای رسما جانب پدر خانی منصوب مع هذا طور غیررسمی تعیین اوگتای جانب قوریلتای کمک سه مشاور پدرش محمود یلواج تاتاکوس یه لیوچوتسای طی دو سال ۶۲۴ ۶۲۶ هجری قمری مدت فاصله مرگ چنگیز خان جلوس اوگتای مقام قاآنی طور غیررسمی فرمانروایی دراین مدت ممالک چنگیز خان همان روش شیوه سبک سیاق سابق اداره مرگ مطابق تاریخ مخفی تاریخ سری مغولان تولی فدا بتواند اوگتای خان بیماری بسیار شدید طی کارزار چین درمان شمن مشخص ریشه بیماری اوگتای خان ارواح زمین آب چین عقیده شمن ارواح اینکه رانده سرزمین شان ویران ناراحت پیشکش زمین حیوانات مردم فقط تشدید بیماری اوگتای منجر هنگامی شمن پیشنهاد دادند عضو خانواده قربانی اوگتای بلافاصله بهتر تولی داوطلبانه بی درنگ مصرف نوشیدن نوشابه نفرین درگذشت حال عطاملک جوینی گوید تولی اثر الکلیسم گذشته ',\n",
              "  'title': 'تولی خان',\n",
              "  'url': 'https://fa.wikipedia.org/wiki?curid=1408'}]"
            ]
          },
          "execution_count": 27,
          "metadata": {},
          "output_type": "execute_result"
        }
      ],
      "source": [
        "def remove_stopwords(x):\n",
        "  for stop_word in stopwords:\n",
        "    with_space = ' ' + stop_word + ' '\n",
        "  \n",
        "    x['text'] = x['text'].replace(with_space, ' ')\n",
        "  \n",
        "    if x['text'].startswith(stop_word + ' '):\n",
        "      x['text'] = x['text'].replace(stop_word, ' ', 1)\n",
        "\n",
        "    if x['text'].endswith(' ' + stop_word):\n",
        "      x['text'] = ' '.join(x['text'].rsplit(stop_word, 1))\n",
        "\n",
        "\n",
        "\n",
        "    x['title'] = x['title'].replace(with_space, ' ')\n",
        "  \n",
        "    if x['title'].startswith(stop_word + ' '):\n",
        "      x['title'] = x['title'].replace(stop_word, ' ', 1)\n",
        "\n",
        "    if x['title'].endswith(' ' + stop_word):\n",
        "      x['title'] = ' '.join(x['title'].rsplit(stop_word, 1))\n",
        "  \n",
        "  return x\n",
        "\n",
        "\n",
        "articles_without_stopwords_rdd = cleansed_articles_rdd.map(remove_stopwords)\n",
        "# articles_without_stopwords_rdd.cache()\n",
        "articles_without_stopwords_rdd.take(1)"
      ]
    },
    {
      "cell_type": "markdown",
      "metadata": {
        "id": "Y7cNpOt4Q8KW"
      },
      "source": [
        "<div dir=\"rtl\">\n",
        "\n",
        "با کمک متغیر\n",
        "MIN_COUNT\n",
        "کلماتی که کمتر از این تعداد آمده باشند را به دست می‌آوریم. \n",
        "\n",
        "</div>\n"
      ]
    },
    {
      "cell_type": "code",
      "execution_count": null,
      "metadata": {
        "colab": {
          "base_uri": "https://localhost:8080/"
        },
        "id": "Ed70OMq8CVzv",
        "outputId": "795c7ac3-18f7-41ab-9e3b-68e528f81203"
      },
      "outputs": [
        {
          "name": "stdout",
          "output_type": "stream",
          "text": [
            "68646\n"
          ]
        }
      ],
      "source": [
        "MIN_COUNT = 20\n",
        "\n",
        "uncommon_words = words_count_rdd.filter(lambda x: x[1]<MIN_COUNT)\n",
        "uncommon_words = uncommon_words.map(lambda x: x[0])\n",
        "uncommon_words = uncommon_words.collect()\n",
        "print(len(uncommon_words))\n",
        "\n",
        "# commmon_words = ~uncommon"
      ]
    },
    {
      "cell_type": "markdown",
      "metadata": {
        "id": "8o7aZOVfRYv4"
      },
      "source": [
        "<div dir=\"rtl\">\n",
        "\n",
        "سپس ۱۰۰ تا از این کلمات را به دست می‌آوریم و حذف می‌کنیم تا نتیجه‌ی خواسته شده قسمت ۲ را به دست آوریم.\n",
        "\n",
        "</div>\n"
      ]
    },
    {
      "cell_type": "code",
      "execution_count": null,
      "metadata": {
        "colab": {
          "base_uri": "https://localhost:8080/"
        },
        "id": "LZTpV5dWGRaQ",
        "outputId": "4e1936c2-4167-472d-f535-f1192fa18d37"
      },
      "outputs": [
        {
          "data": {
            "text/plain": [
              "[{'id': '1408',\n",
              "  'revid': '762412',\n",
              "  'text': 'تولی خان تولوی خان پسر چهارم چنگیز خان برادران جوجی جغتای اوگتای کوچک تر دلاوری قلعه گشایی سپاهیگری مانند نداشت هیچ پسران برادران چنگیز مانند لشکرکشی فتوحات نکرده چنگیز اوایل میل جانشینی تعیین بعد نظرش تغییر گفت منصب لشکرکشی ضبط حفظ خزانه تو مناسبتر تولی بیشتر اوقات چنگیزخان همواره چون چنگیز بمرد شاهزادگان هریک مقام رفتند تولی اصلی تختگاه چنگیزخان بماند آنکه قوریلتای مجلس بزرگ دایر اوگتای قاآنی برداشتند دستور اوگتای قاآن جدید تولی چین لشکر کشید سپاهیان التان خان بشکست رودخانه قراموران زمان هیچ کس نگذشته بگذشت برادرش پیوست تولی زمان قاآنی اوگتای بمرد جمله فرزندان منکوقاآن هولاگوخان قوبیلای قاآن اریق بوقا سرقویتی بیگی زن تولی خان زنی بسیار خردمند گفته زن خردمند فرزندان ادب فرهنگ تربیت چنان قدرت عظیم نفوذ قدرتمندش طول زمان رفتار مرگ گیوگ خان سلطنت طور قانونی پسرش منکوقاآن تعلق گرفت سلطنت غیررسمی تولی تولی درجنگ ایران مأمور فتح خراسان وارشد اولاد چنگیز خان وجود برادرش اوگتای رسما جانب پدر خانی منصوب مع هذا طور غیررسمی تعیین اوگتای جانب قوریلتای کمک سه مشاور پدرش محمود یلواج تاتاکوس یه لیوچوتسای طی دو سال ۶۲۴ ۶۲۶ هجری قمری مدت فاصله مرگ چنگیز خان جلوس اوگتای مقام قاآنی طور غیررسمی فرمانروایی دراین مدت ممالک چنگیز خان همان روش شیوه سبک سیاق سابق اداره مرگ مطابق تاریخ مخفی تاریخ سری مغولان تولی فدا بتواند اوگتای خان بیماری بسیار شدید طی کارزار چین درمان شمن مشخص ریشه بیماری اوگتای خان ارواح زمین آب چین عقیده شمن ارواح اینکه رانده سرزمین شان ویران ناراحت زمین حیوانات مردم فقط تشدید بیماری اوگتای منجر هنگامی شمن پیشنهاد دادند عضو خانواده قربانی اوگتای بلافاصله بهتر تولی داوطلبانه بی درنگ مصرف نوشیدن نفرین درگذشت حال عطاملک گوید تولی اثر الکلیسم گذشته ',\n",
              "  'title': 'تولی خان',\n",
              "  'url': 'https://fa.wikipedia.org/wiki?curid=1408'}]"
            ]
          },
          "execution_count": 33,
          "metadata": {},
          "output_type": "execute_result"
        }
      ],
      "source": [
        "uncommon_words_100 = uncommon_words[:100]\n",
        "def remove_uncommon_words(x):\n",
        "  for uncommon_word in uncommon_words_100:\n",
        "    with_space = ' ' + uncommon_word + ' '\n",
        "  \n",
        "    x['text'] = x['text'].replace(with_space, ' ')\n",
        "  \n",
        "    if x['text'].startswith(uncommon_word + ' '):\n",
        "      x['text'] = x['text'].replace(uncommon_word, ' ', 1)\n",
        "\n",
        "    if x['text'].endswith(' ' + uncommon_word):\n",
        "      x['text'] = ' '.join(x['text'].rsplit(uncommon_word, 1))\n",
        "\n",
        "\n",
        "\n",
        "    x['title'] = x['title'].replace(with_space, ' ')\n",
        "  \n",
        "    if x['title'].startswith(uncommon_word + ' '):\n",
        "      x['title'] = x['title'].replace(uncommon_word, ' ', 1)\n",
        "\n",
        "    if x['title'].endswith(' ' + uncommon_word):\n",
        "      x['title'] = ' '.join(x['title'].rsplit(uncommon_word, 1))\n",
        "  \n",
        "  return x\n",
        "\n",
        "\n",
        "articles_cleaned_rdd = articles_without_stopwords_rdd.map(remove_uncommon_words)\n",
        "# articles_cleaned_rdd.cache().count()\n",
        "articles_cleaned_rdd.take(1)"
      ]
    },
    {
      "cell_type": "markdown",
      "metadata": {
        "id": "kMFH22d1SI5D"
      },
      "source": [
        "### Complete Code"
      ]
    },
    {
      "cell_type": "markdown",
      "metadata": {
        "id": "hblVMoAXSNs_"
      },
      "source": [
        "<div dir=\"rtl\">\n",
        "\n",
        "کد تمامی مراحل بالا به صورت یکجا در باکس زیر قرار دارد: \n",
        "</div>\n"
      ]
    },
    {
      "cell_type": "code",
      "execution_count": 3,
      "metadata": {
        "colab": {
          "base_uri": "https://localhost:8080/"
        },
        "id": "0sHu_klzs_QH",
        "outputId": "f8955b79-bac8-4a5a-f07d-b0779708fb3c"
      },
      "outputs": [
        {
          "data": {
            "text/plain": [
              "[{'id': '2',\n",
              "  'revid': '23528',\n",
              "  'text': ' lt templatestyles src صفحه اصلی styles css gt امروز میلادی برابر هجری خورشیدی UTC __NOEDITSECTION__',\n",
              "  'title': 'صفحه اصلی',\n",
              "  'url': 'https://fa.wikipedia.org/wiki?curid=2'}]"
            ]
          },
          "execution_count": 3,
          "metadata": {},
          "output_type": "execute_result"
        }
      ],
      "source": [
        "import json\n",
        "import re\n",
        "\n",
        "def remove_bad_words(x):\n",
        "  x['text'] = re.sub(r'\\W+', ' ', x['text'])\n",
        "  x['title'] = re.sub(r'\\W+', ' ', x['title'])\n",
        "  return x\n",
        "\n",
        "def remove_stopwords(x):\n",
        "  for stop_word in stopwords:\n",
        "    with_space = ' ' + stop_word + ' '\n",
        "  \n",
        "    x['text'] = x['text'].replace(with_space, ' ')\n",
        "  \n",
        "    if x['text'].startswith(stop_word + ' '):\n",
        "      x['text'] = x['text'].replace(stop_word, ' ', 1)\n",
        "\n",
        "    if x['text'].endswith(' ' + stop_word):\n",
        "      x['text'] = ' '.join(x['text'].rsplit(stop_word, 1))\n",
        "\n",
        "\n",
        "\n",
        "    x['title'] = x['title'].replace(with_space, ' ')\n",
        "  \n",
        "    if x['title'].startswith(stop_word + ' '):\n",
        "      x['title'] = x['title'].replace(stop_word, ' ', 1)\n",
        "\n",
        "    if x['title'].endswith(' ' + stop_word):\n",
        "      x['title'] = ' '.join(x['title'].rsplit(stop_word, 1))\n",
        "  \n",
        "  return x\n",
        "\n",
        "def remove_uncommon_words(x):\n",
        "  for uncommon_word in uncommon_words_100:\n",
        "    with_space = ' ' + uncommon_word + ' '\n",
        "  \n",
        "    x['text'] = x['text'].replace(with_space, ' ')\n",
        "  \n",
        "    if x['text'].startswith(uncommon_word + ' '):\n",
        "      x['text'] = x['text'].replace(uncommon_word, ' ', 1)\n",
        "\n",
        "    if x['text'].endswith(' ' + uncommon_word):\n",
        "      x['text'] = ' '.join(x['text'].rsplit(uncommon_word, 1))\n",
        "\n",
        "\n",
        "\n",
        "    x['title'] = x['title'].replace(with_space, ' ')\n",
        "  \n",
        "    if x['title'].startswith(uncommon_word + ' '):\n",
        "      x['title'] = x['title'].replace(uncommon_word, ' ', 1)\n",
        "\n",
        "    if x['title'].endswith(' ' + uncommon_word):\n",
        "      x['title'] = ' '.join(x['title'].rsplit(uncommon_word, 1))\n",
        "  \n",
        "  return x\n",
        "\n",
        "\n",
        "# env variables\n",
        "SAMPLE = False\n",
        "SAMPLE_SIZE = 0.1\n",
        "\n",
        "# articles_rdd = #TODO: parse the json string\n",
        "if SAMPLE:\n",
        "  articles_rdd = articles_rdd_orig.sample(True, SAMPLE_SIZE)\n",
        "  articles_rdd = articles_rdd.coalesce(10)\n",
        "  articles_rdd.cache()\n",
        "else:\n",
        "  articles_rdd = articles_rdd_orig\n",
        "\n",
        "articles_rdd_json = articles_rdd.map(lambda x: json.loads(x))\n",
        "\n",
        "\n",
        "# cleansed_articles_rdd= #TODO: cleansed text\n",
        "cleansed_articles_rdd = articles_rdd_json.map(remove_bad_words)\n",
        "\n",
        "\n",
        "# words_rdd = #TODO: extract words from title and description\n",
        "words_rdd = cleansed_articles_rdd.flatMap(lambda x: x['title'].split() + x['text'].split())\n",
        "\n",
        "\n",
        "# words_count_rdd = #TODO: make an rdd with the count of each word\n",
        "words_count_rdd = words_rdd.map(lambda x: (x, 1)).reduceByKey(lambda x,y: x+y)\n",
        "\n",
        "# top_100 = #TODO: find the 100 most common words\n",
        "top_100 = sc.parallelize(words_count_rdd.sortBy(lambda x: -x[1]).take(100))\n",
        "\n",
        "# stopwords = ['و', 'با'] #TODO: complete the list of stopwords based on top 100 common words\n",
        "stopwords = ['در', 'و', 'به', 'از', 'است', 'که', 'می', 'این', 'را', 'های', 'با', 'یک', 'شده', 'آن', 'ها', 'شد', 'بود', 'برای', 'کرد', 'او', 'شود', 'ای', 'دارد', 'بر', 'خود', 'تا', 'یا', 'وی', 'کند', 'نیز', 'باشد', 'پس', 'بوده', 'یکی', 'کرده', 'هم', 'توسط', 'بین', 'دیگر', 'اس', 'همچنین', 'اند', 'اما', 'کنند', 'هر', 'هایی', 'پیش', 'داشته', 'داد', 'روی', 'داشت', 'هستند', 'بودند', 'کردند', 'داده', 'زیر']\n",
        "\n",
        "\n",
        "# articles_without_stopwords_rdd = #TODO: remove stopwords from the article title and text\n",
        "articles_without_stopwords_rdd = cleansed_articles_rdd.map(remove_stopwords)\n",
        "\n",
        "\n",
        "MIN_COUNT = 20\n",
        "\n",
        "# uncommon_words = #TODO: list of the words that have occured less than MIN_COUNT in the whole corpus\n",
        "uncommon_words = words_count_rdd.filter(lambda x: x[1]<MIN_COUNT)\n",
        "uncommon_words = uncommon_words.map(lambda x: x[0])\n",
        "uncommon_words = uncommon_words.collect()\n",
        "\n",
        "\n",
        "# articles_cleaned_rdd = #TODO: remove uncommon words from articles_without_stopwords_rdd\n",
        "uncommon_words_100 = uncommon_words[:100]\n",
        "articles_cleaned_rdd = articles_without_stopwords_rdd.map(remove_uncommon_words)\n",
        "\n",
        "articles_cleaned_rdd.take(1) # This should output a dictionary with url,title and text keys. title and text should not have stopwords or uncommon."
      ]
    },
    {
      "cell_type": "markdown",
      "metadata": {
        "id": "pkgHTP5fs_QI"
      },
      "source": [
        "# Section 3: Exploration (20 Points)\n",
        "Please answer the following questions regarding the dataset:\n",
        "* How many unique words remain after the cleaning procedure?\n",
        "* What are the top 100 most common trigrams in the corpus?\n",
        "* Plot a distribution from document lengths using appropriate bin sizes with 100 bins\n",
        "* What are the top 100 most common english words in the corpus?\n",
        "* What is the url of the longest article?\n",
        "* How many articles contain your first name?!"
      ]
    },
    {
      "cell_type": "markdown",
      "metadata": {
        "id": "y8vw6gdqKzdP"
      },
      "source": [
        "#### How many unique words remain after the cleaning procedure?\n",
        "\n",
        "<div dir=\"rtl\">\n",
        "\n",
        "برای این کار، کلماتی که بیشتر از \n",
        "MIN_COUNT \n",
        "تکرار شده‌اند را نگه می‌داریم (که این یعنی کلمات غیر معمول را نمی‌شماریم). \n",
        "\n",
        "</div>\n"
      ]
    },
    {
      "cell_type": "code",
      "execution_count": 5,
      "metadata": {
        "colab": {
          "base_uri": "https://localhost:8080/"
        },
        "id": "nCv2slBWKxjD",
        "outputId": "81dcc19f-dbef-4063-f48f-b2c59e31dd20"
      },
      "outputs": [
        {
          "data": {
            "text/plain": [
              "105316"
            ]
          },
          "execution_count": 5,
          "metadata": {},
          "output_type": "execute_result"
        }
      ],
      "source": [
        "words_count_after_cleaning = words_count_rdd.filter(lambda x: x[1]>=MIN_COUNT)\n",
        "# words_after_cleaning = words_after_cleaning.map(lambda x: x[0])\n",
        "words_count_after_cleaning.cache().count()"
      ]
    },
    {
      "cell_type": "markdown",
      "metadata": {
        "id": "rIEreDgGGGG6"
      },
      "source": [
        "105316"
      ]
    },
    {
      "cell_type": "markdown",
      "metadata": {
        "id": "rrDZVr6lZxQk"
      },
      "source": [
        "### What are the top 100 most common trigrams in the corpus?"
      ]
    },
    {
      "cell_type": "markdown",
      "metadata": {
        "id": "PtvGLlB8W_rt"
      },
      "source": [
        "<div dir=\"rtl\">\n",
        "\n",
        "برای به دست آوردن سه تایی‌ها، روی کلماتی با طول ۳ فیلتر می‌کنیم. سپس با توجه به تکرار آن‌ها را مرتب می‌کنیم.\n",
        "\n",
        "</div>\n"
      ]
    },
    {
      "cell_type": "code",
      "execution_count": 6,
      "metadata": {
        "colab": {
          "base_uri": "https://localhost:8080/"
        },
        "id": "UFzykaS7Z19I",
        "outputId": "e92044c9-6766-4d10-dafb-b53a999dc248"
      },
      "outputs": [
        {
          "data": {
            "text/plain": [
              "[('است', 2398129),\n",
              " ('این', 1427387),\n",
              " ('های', 1234494),\n",
              " ('شده', 796789),\n",
              " ('سال', 735485)]"
            ]
          },
          "execution_count": 6,
          "metadata": {},
          "output_type": "execute_result"
        }
      ],
      "source": [
        "# trigrams = words_count_after_cleaning.filter(lambda x: len(x[0])==3).sortBy(lambda x: x[1], ascending=False).take(100)\n",
        "# trigrams[:5]\n",
        "trigrams"
      ]
    },
    {
      "cell_type": "markdown",
      "metadata": {
        "id": "KtJyRGXaZ-DH"
      },
      "source": [
        "### Plot a distribution from document lengths using appropriate bin sizes with 100 bins"
      ]
    },
    {
      "cell_type": "markdown",
      "metadata": {
        "id": "WZhD0F960LCk"
      },
      "source": [
        "<div dir=\"rtl\">\n",
        "\n",
        "ابتدا هر مقاله را به طولش \n",
        "map\n",
        "می‌کنیم. برای این که نمودار معنی‌دار‌تری به دست بیاوریم، مقالاتی با طول صفر را حذف می‌کنیم. همچنین با کمک انحراف از معیار و میانگین نیز داده‌های پرت را حذف می‌کنیم (تنها دلیل این کار، کشیدن نمودار زیباتری بوده است. برای این که نمودار اصلی را ببینید کافیست خطی که داده‌های پرت را حذف کرده‌ام را کامنت کنید و در خط بعدی از \n",
        "rdd\n",
        "قبلی استفاده کنید). \n",
        "\n",
        "</div>\n"
      ]
    },
    {
      "cell_type": "code",
      "execution_count": 7,
      "metadata": {
        "colab": {
          "base_uri": "https://localhost:8080/",
          "height": 300
        },
        "id": "tQxJDhZ9aAV5",
        "outputId": "ad5cbc34-6044-411a-e893-ab27e3acbdb4"
      },
      "outputs": [
        {
          "name": "stdout",
          "output_type": "stream",
          "text": [
            "sd is:  1628.2105611334082\n",
            "mean is:  473.1677509851592\n"
          ]
        },
        {
          "data": {
            "image/png": "[encoded data removed]",
            "text/plain": [
              "<Figure size 432x288 with 1 Axes>"
            ]
          },
          "metadata": {
            "needs_background": "light"
          },
          "output_type": "display_data"
        }
      ],
      "source": [
        "import matplotlib.pyplot as plt\n",
        "import math\n",
        "doc_lengths = articles_cleaned_rdd.map(lambda x: len(x['text']))\n",
        "doc_lengths = doc_lengths.filter(lambda x: x != 0)\n",
        "\n",
        "sd = math.sqrt(doc_lengths.variance())\n",
        "mean = doc_lengths.mean()\n",
        "\n",
        "print('sd is: ', sd)\n",
        "print('mean is: ', mean)\n",
        "\n",
        "doc_lenghts_outliers_removed = doc_lengths.filter(lambda x: mean -3*sd <x<mean + 3*sd)\n",
        "\n",
        "\n",
        "hist = doc_lenghts_outliers_removed.histogram(100)\n",
        "\n",
        "\n",
        "plt.hist(hist[0][:-1] , hist[0], weights=hist[1])\n",
        "plt.show()\n",
        "\n",
        "# print(hist[1])\n",
        "# print(hist[0])\n",
        "# print(sd)\n",
        "# print(mean)\n"
      ]
    },
    {
      "cell_type": "markdown",
      "metadata": {
        "id": "o_J7Nyh6oxMZ"
      },
      "source": [
        "![image.png](data:image/png;base64,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)"
      ]
    },
    {
      "cell_type": "markdown",
      "metadata": {
        "id": "egxr3kl5kMgW"
      },
      "source": [
        "### What are the top 100 most common english words in the corpus?"
      ]
    },
    {
      "cell_type": "markdown",
      "metadata": {
        "id": "EKGLiGN81KUE"
      },
      "source": [
        "<div dir=\"rtl\">\n",
        "\n",
        "برای پیدا کردن کلمات انگلیسی، با استفاده از یک\n",
        "regex\n",
        "ساده، تمامی کلماتی که با حروف انگلیسی نوشته شده‌اند را می‌یابیم. سپس آن‌ها را بر اساس تکرار مرتب می‌کنیم. \n",
        "\n",
        "</div>"
      ]
    },
    {
      "cell_type": "code",
      "execution_count": null,
      "metadata": {
        "id": "LSKsV4mQkNYl"
      },
      "outputs": [],
      "source": [
        "import re\n",
        "\n",
        "pattern = re.compile(r\"^[A-Za-z]+$\")\n",
        "\n",
        "top100_english = words_count_after_cleaning.filter(lambda x: not pattern.match(x[0]) is None).sortBy(lambda x: x[1], ascending=False)\n",
        "top100_english.take(100)\n"
      ]
    },
    {
      "cell_type": "markdown",
      "metadata": {
        "id": "2eqCwW8dgfr-"
      },
      "source": [
        "output:\n",
        "[('gt', 23402),\n",
        " ('lt', 22198),\n",
        " ('of', 14862),\n",
        " ('The', 9668),\n",
        " ('A', 9126),\n",
        " ('the', 8477),\n",
        " ('amp', 7943),\n",
        " ('http', 7544),\n",
        " ('Wikipedia', 7389),\n",
        " ('s', 7314),\n",
        " ('n', 7231),\n",
        " ('org', 6802),\n",
        " ('C', 6778),\n",
        " ('and', 6721),\n",
        " ('x', 6372),\n",
        " ('a', 6176),\n",
        " ('County', 5717),\n",
        " ('en', 5697),\n",
        " ('de', 5440),\n",
        " ('B', 5287),\n",
        " ('wikipedia', 5110),\n",
        " ('g', 4954),\n",
        " ('in', 4698),\n",
        " ('i', 4617),\n",
        " ('w', 4617),\n",
        " ('District', 4213),\n",
        " ('S', 3981),\n",
        " ('index', 3886),\n",
        " ('Free', 3822),\n",
        " ('title', 3813),\n",
        " ('I', 3806),\n",
        " ('to', 3795),\n",
        " ('php', 3790),\n",
        " ('Township', 3742),\n",
        " ('Encyclopedia', 3736),\n",
        " ('mol', 3699),\n",
        " ('www', 3652),\n",
        " ('contributors', 3616),\n",
        " ('https', 3564),\n",
        " ('X', 3526),\n",
        " ('oldid', 3481),\n",
        " ('com', 3292),\n",
        " ('accessed', 3215),\n",
        " ('D', 3153),\n",
        " ('m', 3105),\n",
        " ('T', 3061),\n",
        " ('R', 3031),\n",
        " ('II', 3017),\n",
        " ('E', 2952),\n",
        " ('P', 2891),\n",
        " ('N', 2874),\n",
        " ('c', 2819),\n",
        " ('M', 2779),\n",
        " ('III', 2752),\n",
        " ('G', 2684),\n",
        " ('p', 2681),\n",
        " ('L', 2674),\n",
        " ('b', 2650),\n",
        " ('for', 2617),\n",
        " ('k', 2608),\n",
        " ('d', 2571),\n",
        " ('Canton', 2554),\n",
        " ('V', 2473),\n",
        " ('F', 2406),\n",
        " ('y', 2382),\n",
        " ('national', 2376),\n",
        " ('team', 2338),\n",
        " ('O', 2274),\n",
        " ('women', 2231),\n",
        " ('wiki', 2214),\n",
        " ('H', 2180),\n",
        " ('DNA', 2122),\n",
        " ('t', 2104),\n",
        " ('f', 2069),\n",
        " ('under', 2048),\n",
        " ('football', 2011),\n",
        " ('K', 1913),\n",
        " ('web', 1822),\n",
        " ('e', 1749),\n",
        " ('is', 1655),\n",
        " ('on', 1645),\n",
        " ('if', 1627),\n",
        " ('j', 1619),\n",
        " ('district', 1598),\n",
        " ('ir', 1594),\n",
        " ('r', 1593),\n",
        " ('int', 1564),\n",
        " ('Y', 1533),\n",
        " ('Municipality', 1523),\n",
        " ('v', 1489),\n",
        " ('U', 1470),\n",
        " ('ref', 1429),\n",
        " ('end', 1421),\n",
        " ('br', 1392),\n",
        " ('New', 1379),\n",
        " ('J', 1367),\n",
        " ('section', 1362),\n",
        " ('model', 1260),\n",
        " ('La', 1243),\n",
        " ('ns', 1238)]"
      ]
    },
    {
      "cell_type": "markdown",
      "metadata": {
        "id": "_hsiuga5E0Zh"
      },
      "source": [
        "### What is the url of the longest article?"
      ]
    },
    {
      "cell_type": "markdown",
      "metadata": {
        "id": "UyxUQH9T1iCx"
      },
      "source": [
        "<div dir=\"rtl\">\n",
        "\n",
        "\n",
        "\n",
        "در این مرحله از هر مقاله یک دوتایی به صورت آدرس مقاله و طول آن درست می‌کنیم و بر اساس طول مرتب می‌کنیم. سپس اولین ردیف را به عنوان خروجی در نظر می‌گیریم.\n",
        "\n",
        "</div>"
      ]
    },
    {
      "cell_type": "code",
      "execution_count": 13,
      "metadata": {
        "colab": {
          "base_uri": "https://localhost:8080/"
        },
        "id": "syA-ZQmSE6gr",
        "outputId": "14364ead-2d15-40b6-9378-9823fe312145"
      },
      "outputs": [
        {
          "data": {
            "text/plain": [
              "[(131241, 'https://fa.wikipedia.org/wiki?curid=6522')]"
            ]
          },
          "execution_count": 13,
          "metadata": {},
          "output_type": "execute_result"
        }
      ],
      "source": [
        "urls_lengths = articles_cleaned_rdd.map(lambda x: (len(x['text']), x['url'])).sortBy(lambda x: x[0], ascending=False)\n",
        "urls_lengths.take(1)"
      ]
    },
    {
      "cell_type": "markdown",
      "metadata": {
        "id": "heatR1HHvyca"
      },
      "source": [
        "output: \n",
        "[(131241, 'https://fa.wikipedia.org/wiki?curid=6522')]"
      ]
    },
    {
      "cell_type": "markdown",
      "metadata": {
        "id": "UkE1RAO9GzXA"
      },
      "source": [
        "### How many articles contain your first name?!"
      ]
    },
    {
      "cell_type": "markdown",
      "metadata": {
        "id": "_uji32vq1426"
      },
      "source": [
        "<div dir=\"rtl\">\n",
        "\n",
        "تمامی مقالاتی که اسم من را دارند را فیلتر می‌کنیم و سپس تعداد آن‌ها را می‌شماریم.\n",
        "\n",
        "\n",
        "</div>\n"
      ]
    },
    {
      "cell_type": "code",
      "execution_count": 14,
      "metadata": {
        "colab": {
          "base_uri": "https://localhost:8080/"
        },
        "id": "1tZjKpW-G3oW",
        "outputId": "06f128f6-0fb9-4d20-d66c-f4324b60c14b"
      },
      "outputs": [
        {
          "data": {
            "text/plain": [
              "11863"
            ]
          },
          "execution_count": 14,
          "metadata": {},
          "output_type": "execute_result"
        }
      ],
      "source": [
        "name = 'امین'\n",
        "articles_cleaned_rdd.filter(lambda x: name in x['text']).count()"
      ]
    },
    {
      "cell_type": "code",
      "execution_count": null,
      "metadata": {
        "id": "RX0Yxk8C0Eme"
      },
      "outputs": [],
      "source": [
        "11863"
      ]
    },
    {
      "cell_type": "markdown",
      "metadata": {
        "id": "RbrJMehLs_QI"
      },
      "source": [
        "# Section 4: TF-IDF + Search (40 Points)"
      ]
    },
    {
      "cell_type": "code",
      "execution_count": null,
      "metadata": {
        "id": "6e9gBNpVs_QI"
      },
      "outputs": [],
      "source": [
        "word_df_rdd = #TODO: calculate document frequncy for each word\n",
        "articles_tf_idf_vectors = #TODO: add `vector` key to articles_cleaned_rdd dictionary with the tf_idf dictionary"
      ]
    },
    {
      "cell_type": "markdown",
      "metadata": {
        "id": "IuWOnCzR2GNu"
      },
      "source": [
        "<div dir=\"rtl\">\n",
        "\n",
        "ابتدا تعداد کل مقالات را به دست می‌آوریم. برای به دست آوردن \n",
        "df\n",
        "کافی است تعداد مقالاتی که هر کلمه در آن‌ها آمده است را بشماریم. برای این کار مجموعه‌ای (نه آرایه) از کلمات یک مقاله به دست می‌آوریم و به ازای هر کلمه دوتایی \n",
        "(کلمه، ۱) را می‌سازیم. \n",
        "سپس با یک \n",
        "reduce\n",
        "به ازای هر کلمه تعداد تکرار آن‌ در مقالات مختلف را به دست می‌آوریم. سپس برای به دست آوردن \n",
        "idf\n",
        "، \n",
        "به کمک فرمولی که در ویکیپدیا آمده است، محاسبات لازم را به دست می‌آوریم. در این مرحله از فرمول زیر استفاده کرده‌ام:\n",
        "\n",
        "$\\text{idf} = \\log(\\frac{N}{1+n_t})$\n",
        "\n",
        "زیرا با خواندن ویکیپدیا به نظر من منطقی ترین بود. در واقع دلیل فرمول گفته شده در اول این مقاله را متوجه نشدم. برای به دست آوردن \n",
        "tf\n",
        "نیز کافی است تعداد تکرار‌ها هرکلمه در هر مقاله را به دست آوریم. از فرمول زیر استفاده شده است:\n",
        "\n",
        "$\\text{tf} = \\frac{f_{t,d}}{len(d)}$\n",
        "\n",
        "که \n",
        "$f_{t,d}$\n",
        "تعداد تکرار کلمه‌ی \n",
        "t\n",
        "در مقاله‌ی \n",
        "d \n",
        "است. در آخر نیز با ضرب کردن \n",
        "tf\n",
        "در\n",
        "idf\n",
        "مربوطه، \n",
        "td-idf\n",
        "هر کلمه (در هر مقاله) را به دست می‌آوریم و در دیکشنری مربوط با کلید \n",
        "vector \n",
        "قرار می‌دهیم. \n",
        "\n",
        "\n",
        "\n",
        "</div>\n"
      ]
    },
    {
      "cell_type": "code",
      "execution_count": 4,
      "metadata": {
        "colab": {
          "base_uri": "https://localhost:8080/"
        },
        "id": "Lg5WXW9aeFTJ",
        "outputId": "edc62745-7838-470b-f4eb-86b99a947df2"
      },
      "outputs": [
        {
          "data": {
            "text/plain": [
              "[{'id': '37809',\n",
              "  'revid': '616716',\n",
              "  'text': 'نورالله تالقانی تاریخ نگاران نویسندگان روزنامه نگاران برجسته ترین چهره سیاسی معاصر افغانستان زندگی نورالله تالقانی سال ۱۳۱۸ خورشیدی برابر ۱۹۳۹ میلادی قریۀ سرای سنگ شهر تالقان مرکز ولایت تخار شمال افغانستان زاده نورالله تالقانی بمثابۀ پژوهشگر تاریخ نگار نویسنده ناشر فهرست طویلی کتاب علمی تاریخی سیاسی اجتماعی ادبی خدمات بزرگ فراموش ناشدنی مردم افغانستان بویژه اهل فرهنگ انجام زندگی نورالله تالقانی مشحون مبارزه راه برابری ملی اجتماعی فعالیت گستردۀ روشنگرانه دگروال نورالله تالقانی تبار دلیر مردان نامی چهره معدود فرهنگی تاریخ معاصر کشور افغانستان حلقه روشنفکران میهنی چه ساحه نظامی چه ملکی دارای جایگاه خاصی ویژگی خاص شادروان تالقانی بی خوف بی هراس دردهای مردم ستمدیدۀ خویش صراحت بازگو بیان نمود دلیرانه دفاع نماد راستین تلاش راه فراگیری علم دانش نماد راستین پیکار بی امان راه حق طلبی برابری زیستن تمام عمر زندگی پربار پرافتخار خویش صرف مطالعه نوشتن کتاب مطالب ناب پژوهشی علمی نمود تالقانی وسعت نظر نیک دور اندیشی کامل تحلیل درست توان شهامت خاصی برخوردار بهترین فرزندان میهن ماست غرور پرهیزکاری زندگی شرافتمندانه نمود جا برابر ابهت آرمان پاک انسانی اش سر تعظیم فرود آورد زیرا بهترین چهره درخشان فرهنگی ازبک معاصر کشور ماست غرور سر بلندی سرشار باده عشق میهن مردم رنجور آخرین لحظات زندگی هرگز آرام ننشست تحقیق نمود بی امان مبارزه نورالله تالقانی ۳۱ جوزای سال ۱۳۸۸ خورشیدی برابر ۲۱ ژوئن ۲۰۰۹ میلادی کابل وفات کردن تالقان خاک سپرده شدند مهم ترین کتاب کتاب افغانستان ماقبل آریایی فرهنگ اصطلاحات نوین سال ۲۰۱۰ کتاب تخاری کابل نشر نورالله تالقانی رئیس کمیته طبع نشر بیهقی پانویس وب گاه فردا',\n",
              "  'title': 'نورالله تالقانی',\n",
              "  'url': 'https://fa.wikipedia.org/wiki?curid=37809',\n",
              "  'vector': {'آخرین': 0.003323964671594958,\n",
              "   'آرام': 0.004098294137568328,\n",
              "   'آرمان': 0.0049774444157162645,\n",
              "   'آریایی': 0.005499146227388321,\n",
              "   'آورد': 0.0032031905497161067,\n",
              "   'ابهت': 0.007007684567393633,\n",
              "   'اجتماعی': 0.006897852443716327,\n",
              "   'ادبی': 0.004056988794632356,\n",
              "   'ازبک': 0.005776440773859937,\n",
              "   'اش': 0.0030421645097817827,\n",
              "   'اصطلاحات': 0.004912997227709084,\n",
              "   'افغانستان': 0.01912294626615801,\n",
              "   'امان': 0.009513440110989244,\n",
              "   'انجام': 0.002689540606063823,\n",
              "   'اندیشی': 0.006009668838918095,\n",
              "   'انسانی': 0.0038914329084153423,\n",
              "   'اهل': 0.0019600520010108224,\n",
              "   'باده': 0.006357451212235858,\n",
              "   'بازگو': 0.0053137257000548995,\n",
              "   'برابر': 0.008327076155887963,\n",
              "   'برابری': 0.00967939166863621,\n",
              "   'برجسته': 0.0036262336327405557,\n",
              "   'برخوردار': 0.0038900790091203276,\n",
              "   'بزرگ': 0.0026647315232223227,\n",
              "   'بلندی': 0.004724385800751866,\n",
              "   'بمثابۀ': 0.00941817716595453,\n",
              "   'بهترین': 0.006578589272800667,\n",
              "   'بویژه': 0.005470578363792802,\n",
              "   'بی': 0.010854953003173833,\n",
              "   'بیان': 0.0035295641911001316,\n",
              "   'بیهقی': 0.006071072303345098,\n",
              "   'تاریخ': 0.007187555866239951,\n",
              "   'تاریخی': 0.0031907399038977693,\n",
              "   'تالقان': 0.015053692991380067,\n",
              "   'تالقانی': 0.08955462092149495,\n",
              "   'تبار': 0.003975641778682878,\n",
              "   'تحقیق': 0.004114304580899284,\n",
              "   'تحلیل': 0.004020861579789954,\n",
              "   'تخار': 0.006563259863540608,\n",
              "   'تخاری': 0.007310700249298915,\n",
              "   'ترین': 0.005462380534417871,\n",
              "   'تعظیم': 0.006464340963112868,\n",
              "   'تلاش': 0.0034325404643093826,\n",
              "   'تمام': 0.0031003336990621543,\n",
              "   'توان': 0.0022854782583291862,\n",
              "   'جا': 0.0036126515361881543,\n",
              "   'جایگاه': 0.0039061634303742127,\n",
              "   'جوزای': 0.007507495670006955,\n",
              "   'حق': 0.0038910095198412945,\n",
              "   'حلقه': 0.004090145402549945,\n",
              "   'خاص': 0.003458068569280096,\n",
              "   'خاصی': 0.007595553489362366,\n",
              "   'خاک': 0.003650171686931561,\n",
              "   'خدمات': 0.0037115696617858727,\n",
              "   'خورشیدی': 0.007499421846753233,\n",
              "   'خوف': 0.006786947654826566,\n",
              "   'خویش': 0.008247668921383844,\n",
              "   'دارای': 0.0026769109460819235,\n",
              "   'دانش': 0.0035744361671301225,\n",
              "   'درخشان': 0.004765760186888915,\n",
              "   'دردهای': 0.00581308865494973,\n",
              "   'درست': 0.003845607817874574,\n",
              "   'دفاع': 0.0037759779233702564,\n",
              "   'دلیر': 0.0059761360448684735,\n",
              "   'دلیرانه': 0.0070259749373456455,\n",
              "   'دور': 0.00336973694789181,\n",
              "   'دگروال': 0.008280161083018331,\n",
              "   'رئیس': 0.00320630948417153,\n",
              "   'راستین': 0.011608215871051505,\n",
              "   'راه': 0.008474795600435778,\n",
              "   'رنجور': 0.006915170439699275,\n",
              "   'روزنامه': 0.0035980290945744117,\n",
              "   'روشنفکران': 0.0053451201563974185,\n",
              "   'روشنگرانه': 0.007588510928354263,\n",
              "   'زاده': 0.0020077039940726714,\n",
              "   'زندگی': 0.013154596482451751,\n",
              "   'زیرا': 0.003492999571179985,\n",
              "   'زیستن': 0.00622225477424422,\n",
              "   'ساحه': 0.006707601057445572,\n",
              "   'سال': 0.004340131372633738,\n",
              "   'ستمدیدۀ': 0.00941817716595453,\n",
              "   'سر': 0.006181640307646478,\n",
              "   'سرای': 0.004757339597759345,\n",
              "   'سرشار': 0.00518562756400009,\n",
              "   'سنگ': 0.0034080348470315854,\n",
              "   'سپرده': 0.004204729751972266,\n",
              "   'سیاسی': 0.006572690785877931,\n",
              "   'شادروان': 0.006448540065859261,\n",
              "   'شدند': 0.002978571923813551,\n",
              "   'شرافتمندانه': 0.0068339308302349765,\n",
              "   'شمال': 0.003083558234874553,\n",
              "   'شهامت': 0.006448540065859261,\n",
              "   'شهر': 0.002162822807878247,\n",
              "   'صراحت': 0.0054440494394606825,\n",
              "   'صرف': 0.004186428400933385,\n",
              "   'طبع': 0.0053812130944950656,\n",
              "   'طلبی': 0.005125436441892674,\n",
              "   'طویلی': 0.007115114718803939,\n",
              "   'عشق': 0.003847429256227848,\n",
              "   'علم': 0.0038223705650936254,\n",
              "   'علمی': 0.006639772757186855,\n",
              "   'عمر': 0.0037719288836289425,\n",
              "   'غرور': 0.01112460114601343,\n",
              "   'فراموش': 0.004839345318824453,\n",
              "   'فراگیری': 0.005030338982378759,\n",
              "   'فردا': 0.005078197412589785,\n",
              "   'فرزندان': 0.004283864684297079,\n",
              "   'فرهنگ': 0.00692992745808577,\n",
              "   'فرهنگی': 0.007126822841192251,\n",
              "   'فرود': 0.003667327019255531,\n",
              "   'فعالیت': 0.002709759304217713,\n",
              "   'فهرست': 0.0029662357390320268,\n",
              "   'قریۀ': 0.007787771935400989,\n",
              "   'لحظات': 0.005463400265143761,\n",
              "   'ماست': 0.010489353152782375,\n",
              "   'ماقبل': 0.005786501022805863,\n",
              "   'مبارزه': 0.007935426689392686,\n",
              "   'مردان': 0.003707634687713313,\n",
              "   'مردم': 0.008889450255982574,\n",
              "   'مرکز': 0.0024130265123575804,\n",
              "   'مشحون': 0.007104601796929347,\n",
              "   'مطالب': 0.0046258361784332165,\n",
              "   'مطالعه': 0.0038045840770342823,\n",
              "   'معاصر': 0.012123024844201406,\n",
              "   'معدود': 0.004969305990820747,\n",
              "   'ملکی': 0.005502923079003714,\n",
              "   'ملی': 0.0023832173362054667,\n",
              "   'مهم': 0.0031180732789982913,\n",
              "   'میلادی': 0.004512638558986711,\n",
              "   'میهن': 0.010076633816693343,\n",
              "   'میهنی': 0.005777868703264976,\n",
              "   'ناب': 0.005565412731288298,\n",
              "   'ناشدنی': 0.006696189553200379,\n",
              "   'ناشر': 0.0049629502772221765,\n",
              "   'نامی': 0.004393306725785116,\n",
              "   'نشر': 0.008522456784517515,\n",
              "   'نظامی': 0.0034186716127442974,\n",
              "   'نظر': 0.00277124832284053,\n",
              "   'نماد': 0.008700020615608655,\n",
              "   'نمود': 0.01231180111052318,\n",
              "   'ننشست': 0.007205769953222537,\n",
              "   'نورالله': 0.05072508233431646,\n",
              "   'نوشتن': 0.004087981521425665,\n",
              "   'نویسنده': 0.003298778906031819,\n",
              "   'نویسندگان': 0.00414121561809045,\n",
              "   'نوین': 0.004368099608559555,\n",
              "   'نگار': 0.004011569244120131,\n",
              "   'نگاران': 0.009840947253156027,\n",
              "   'نیک': 0.004453223369158377,\n",
              "   'هراس': 0.005444916959715746,\n",
              "   'هرگز': 0.004103510809666472,\n",
              "   'وب': 0.004145539587308604,\n",
              "   'وسعت': 0.0044901902729388345,\n",
              "   'وفات': 0.005064801175573223,\n",
              "   'ولایت': 0.004025815641430552,\n",
              "   'ویژگی': 0.003501116290384277,\n",
              "   'پانویس': 0.005452775795647166,\n",
              "   'پاک': 0.004473169781100201,\n",
              "   'پرافتخار': 0.006549495319346526,\n",
              "   'پربار': 0.006367747921398495,\n",
              "   'پرهیزکاری': 0.0074183558885486615,\n",
              "   'پژوهشگر': 0.0047063426282632674,\n",
              "   'پژوهشی': 0.004446380583813071,\n",
              "   'پیکار': 0.00576934658656068,\n",
              "   'چه': 0.006921902843730643,\n",
              "   'چهره': 0.011671759198876093,\n",
              "   'ژوئن': 0.003384357422776488,\n",
              "   'کابل': 0.009203190141348183,\n",
              "   'کامل': 0.003319742469836778,\n",
              "   'کتاب': 0.014692183682296273,\n",
              "   'کردن': 0.0029930781960483942,\n",
              "   'کشور': 0.004584132237149706,\n",
              "   'کمیته': 0.004078498059659834,\n",
              "   'گاه': 0.003651412114805948,\n",
              "   'گستردۀ': 0.007881070962353699,\n",
              "   '۱۳۱۸': 0.005483328811972654,\n",
              "   '۱۳۸۸': 0.004409121607441096,\n",
              "   '۱۹۳۹': 0.004530427023238672,\n",
              "   '۲۰۰۹': 0.0036102013752241677,\n",
              "   '۲۰۱۰': 0.003118658598406525,\n",
              "   '۲۱': 0.003402636784660852,\n",
              "   '۳۱': 0.0038213021077496607}}]"
            ]
          },
          "execution_count": 4,
          "metadata": {},
          "output_type": "execute_result"
        }
      ],
      "source": [
        "import math\n",
        "num_articles = articles_cleaned_rdd.count()\n",
        "\n",
        "\n",
        "word_df_rdd = articles_cleaned_rdd.flatMap(lambda x: [(word, 1)  for word in set(x['text'].split() + x['title'].split()) ] ).reduceByKey(lambda a,b: a+b)\n",
        "word_idf_rdd = word_df_rdd.map(lambda x: ( x[0], math.log(num_articles/(1+x[1])) ) )\n",
        "\n",
        "word_tf_rdd = articles_cleaned_rdd.flatMap(lambda x: [((word, x['id']), 1/len(x['text']+x['title'])) for word in x['title'].split() + x['text'].split()] ).reduceByKey(lambda a,b: a+b).map(lambda x: (x[0][0], (x[0][1], x[1])))\n",
        "\n",
        "\n",
        "articles_tf_idf_vectors = word_tf_rdd.join(word_idf_rdd)\n",
        "articles_tf_idf_vectors = articles_tf_idf_vectors.map(lambda x: (x[1][0][0], (x[0], x[1][0][1]*x[1][1]) ) )\n",
        "articles_tf_idf_vectors = articles_tf_idf_vectors.groupByKey().mapValues(dict)\n",
        "\n",
        "articles_cleaned_rdd_with_vector = articles_cleaned_rdd.map(lambda x: (x['id'], x)).join(articles_tf_idf_vectors).map(lambda x: {**x[1][0], 'vector':x[1][1]})\n",
        "articles_cleaned_rdd_with_vector.take(1)\n",
        "\n"
      ]
    },
    {
      "cell_type": "markdown",
      "metadata": {
        "id": "MXAFraics_QJ"
      },
      "source": [
        "## Searching"
      ]
    },
    {
      "cell_type": "markdown",
      "metadata": {
        "id": "nKYQFYcVgSh0"
      },
      "source": [
        "<div dir=\"rtl\">\n",
        "\n",
        "برای مقایسه کوئری داده‌شده، فرض می‌کنیم آن نیز یک مقاله است. حال کافی است روشی برای مقایسه دو مقاله پیدا کنیم. برای این کار، اگر برای هر مقاله یک بردار خیلی بزرگ از\n",
        "tf-idf\n",
        "تمام کلمات بسازیم، می‌توانیم مقالات را با هم مقایسه کنیم. هرچه این بردارها به هم شبیه تر باشند، دو مقاله بهم شبیه‌‌تر هستند. برای پیدا کردن شباهت این بردار‌ها نیز به سادگی از فاصله‌ی کسینوسی استفاده می‌کنیم. \n",
        "\n",
        "نکته‌ی مهمی که در این محاسبات وجود دارد این است که کلماتی که در هر دو مقاله وجود ندارند، تاثیری در محاسبه‌ی فاصله‌ی کسینوسی ندارد. و این یعنی تنها کافی است  از اجتماع کلمات برای به دست آوردن بردار\n",
        "tf-idf \n",
        "استفاده کنید.  زیرا ضرب دو درایه متناظر صفر می‌شود و در محاسبه‌ی اندازه‌ی دو بردار نیز تاثیر ندارند. \n",
        "\n",
        "</div>"
      ]
    },
    {
      "cell_type": "code",
      "execution_count": 5,
      "metadata": {
        "colab": {
          "base_uri": "https://localhost:8080/"
        },
        "id": "uKurx1Bks_QJ",
        "outputId": "1c818d3b-8aaf-4574-c929-138410a9a7b5"
      },
      "outputs": [
        {
          "data": {
            "text/plain": [
              "[('https://fa.wikipedia.org/wiki?curid=2623108', 0.3588232414820446),\n",
              " ('https://fa.wikipedia.org/wiki?curid=1152238', 0.3588232414820446),\n",
              " ('https://fa.wikipedia.org/wiki?curid=1165361', 0.39370446029345785),\n",
              " ('https://fa.wikipedia.org/wiki?curid=1234129', 0.40427629160174783),\n",
              " ('https://fa.wikipedia.org/wiki?curid=3554441', 0.44839310683020084),\n",
              " ('https://fa.wikipedia.org/wiki?curid=16668', 0.4823003303107112),\n",
              " ('https://fa.wikipedia.org/wiki?curid=1421451', 0.5058231099374553),\n",
              " ('https://fa.wikipedia.org/wiki?curid=77900', 0.5058231099374553),\n",
              " ('https://fa.wikipedia.org/wiki?curid=4765912', 0.5184505791783438),\n",
              " ('https://fa.wikipedia.org/wiki?curid=3540559', 0.5339559874831294)]"
            ]
          },
          "execution_count": 5,
          "metadata": {},
          "output_type": "execute_result"
        }
      ],
      "source": [
        "from scipy.spatial.distance import cosine\n",
        "\n",
        "query = 'هخامنشیان ساسانیان هگمتانه'\n",
        "\n",
        "q_tf_idf = {\n",
        "    'هخامنشیان': word_idf_rdd.lookup('هخامنشیان')[0] if word_idf_rdd.lookup('هخامنشیان') else math.log(num_articles),\n",
        "    'ساسانیان': word_idf_rdd.lookup('ساسانیان')[0] if word_idf_rdd.lookup('ساسانیان') else math.log(num_articles),\n",
        "    'هگمتانه': word_idf_rdd.lookup('هگمتانه')[0] if word_idf_rdd.lookup('هگمتانه') else math.log(num_articles)\n",
        "}\n",
        "\n",
        "\n",
        "def similarity(x):\n",
        "  x_tf_idf = x['vector']\n",
        "\n",
        "  # print('q is: ', q)\n",
        "  # print('v is: ', v)\n",
        "\n",
        "  keys = q_tf_idf.keys() | x_tf_idf.keys()\n",
        "  # print('keys are: ', keys)\n",
        "  sort = sorted(keys)\n",
        "  # print('keys after sort: ', sort)\n",
        "\n",
        "  x_tf_idf_vector = [None]*len(sort)\n",
        "  q_tf_idf_vector = [None]*len(sort)\n",
        "  for i, key in enumerate(sort):\n",
        "    x_tf_idf_vector[i] = x_tf_idf.get(key, 0)\n",
        "    q_tf_idf_vector[i] = q_tf_idf.get(key, 0)\n",
        "\n",
        "  # print(v_vector)\n",
        "  # print(q_vector)\n",
        "\n",
        "  distance = cosine(x_tf_idf_vector, q_tf_idf_vector)\n",
        "\n",
        "  # print(distance)\n",
        "\n",
        "  return (x['url'], distance)\n",
        "\n",
        "# similarity(x)\n",
        "\n",
        "\n",
        "# top_10_similar = #TODO: find similar wikipedia articles based on cosine similarity of tf-idf vectors\n",
        "\n",
        "top_10_similar = articles_cleaned_rdd_with_vector.map(similarity).sortBy(lambda x: x[1], ascending=True)\n",
        "top_10_similar.take(10)\n",
        "# top_10_similar = top_10_similar\n",
        "\n",
        "\n"
      ]
    },
    {
      "cell_type": "markdown",
      "metadata": {
        "id": "8LKL4MQJoUqr"
      },
      "source": [
        "[('https://fa.wikipedia.org/wiki?curid=2623108', 0.3588232414820446),\n",
        "\n",
        " ('https://fa.wikipedia.org/wiki?curid=1152238', 0.3588232414820446),\n",
        "\n",
        " ('https://fa.wikipedia.org/wiki?curid=1165361', 0.39370446029345785),\n",
        "\n",
        " ('https://fa.wikipedia.org/wiki?curid=1234129', 0.40427629160174783),\n",
        " \n",
        " ('https://fa.wikipedia.org/wiki?curid=3554441', 0.44839310683020084),\n",
        " \n",
        " ('https://fa.wikipedia.org/wiki?curid=16668', 0.4823003303107112),\n",
        " \n",
        " ('https://fa.wikipedia.org/wiki?curid=1421451', 0.5058231099374553),\n",
        " \n",
        " ('https://fa.wikipedia.org/wiki?curid=77900', 0.5058231099374553),\n",
        " \n",
        " ('https://fa.wikipedia.org/wiki?curid=4765912', 0.5184505791783438),\n",
        " \n",
        " ('https://fa.wikipedia.org/wiki?curid=3540559', 0.5339559874831294)]"
      ]
    }
  ],
  "metadata": {
    "colab": {
      "collapsed_sections": [
        "NRT2jHUps_P_"
      ],
      "name": "SUT - Data Mining Spark Exercise.ipynb",
      "provenance": []
    },
    "kernelspec": {
      "display_name": "Python 3",
      "language": "python",
      "name": "python3"
    },
    "language_info": {
      "codemirror_mode": {
        "name": "ipython",
        "version": 3
      },
      "file_extension": ".py",
      "mimetype": "text/x-python",
      "name": "python",
      "nbconvert_exporter": "python",
      "pygments_lexer": "ipython3",
      "version": "3.7.7"
    },
    "name": "SUT - Data Mining Spark Exercise",
    "notebookId": 3958686303135329,
    "toc": {
      "base_numbering": 1,
      "nav_menu": {},
      "number_sections": true,
      "sideBar": true,
      "skip_h1_title": false,
      "title_cell": "Table of Contents",
      "title_sidebar": "Contents",
      "toc_cell": false,
      "toc_position": {},
      "toc_section_display": true,
      "toc_window_display": false
    }
  },
  "nbformat": 4,
  "nbformat_minor": 0
}
