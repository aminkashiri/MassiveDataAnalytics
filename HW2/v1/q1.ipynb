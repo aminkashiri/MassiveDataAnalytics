{
 "cells": [
  {
   "cell_type": "code",
   "execution_count": 165,
   "metadata": {
    "colab": {
     "base_uri": "https://localhost:8080/"
    },
    "id": "jIfmGVYes-eg",
    "outputId": "3b328ef4-8e74-4988-8ae1-3cf5e8614289"
   },
   "outputs": [
    {
     "name": "stdout",
     "output_type": "stream",
     "text": [
      "Drive already mounted at /mount; to attempt to forcibly remount, call drive.mount(\"/mount\", force_remount=True).\n"
     ]
    }
   ],
   "source": [
    "from google.colab import drive\n",
    "drive.mount('/mount')"
   ]
  },
  {
   "cell_type": "code",
   "execution_count": 166,
   "metadata": {
    "colab": {
     "base_uri": "https://localhost:8080/"
    },
    "id": "ZNz7QnJc08qU",
    "outputId": "be5a52d1-40b0-41a8-dc4d-4718acf74404"
   },
   "outputs": [
    {
     "name": "stdout",
     "output_type": "stream",
     "text": [
      "/mount/My Drive/Colab Notebooks/MDA/HW1\n"
     ]
    }
   ],
   "source": [
    "cd /mount/My Drive/Colab Notebooks/MDA/HW1"
   ]
  },
  {
   "cell_type": "code",
   "execution_count": 2,
   "metadata": {
    "colab": {
     "base_uri": "https://localhost:8080/"
    },
    "id": "_e8vtbcI2KXW",
    "outputId": "eb005c0e-573f-4d53-a126-0bfa718e878c"
   },
   "outputs": [
    {
     "name": "stdout",
     "output_type": "stream",
     "text": [
      "q1.ipynb\n"
     ]
    }
   ],
   "source": [
    "ls"
   ]
  },
  {
   "cell_type": "code",
   "execution_count": 3,
   "metadata": {
    "colab": {
     "base_uri": "https://localhost:8080/",
     "height": 306
    },
    "id": "zFzLaT031B6I",
    "outputId": "c18398d6-b28d-4d56-82c2-b2578b19ddfa"
   },
   "outputs": [
    {
     "ename": "ModuleNotFoundError",
     "evalue": "No module named 'pandas'",
     "output_type": "error",
     "traceback": [
      "\u001b[0;31m---------------------------------------------------------------------------\u001b[0m",
      "\u001b[0;31mModuleNotFoundError\u001b[0m                       Traceback (most recent call last)",
      "\u001b[0;32m/tmp/ipykernel_9726/2754274774.py\u001b[0m in \u001b[0;36m<module>\u001b[0;34m\u001b[0m\n\u001b[0;32m----> 1\u001b[0;31m \u001b[0;32mimport\u001b[0m \u001b[0mpandas\u001b[0m \u001b[0;32mas\u001b[0m \u001b[0mpd\u001b[0m\u001b[0;34m\u001b[0m\u001b[0;34m\u001b[0m\u001b[0m\n\u001b[0m\u001b[1;32m      2\u001b[0m \u001b[0;34m\u001b[0m\u001b[0m\n\u001b[1;32m      3\u001b[0m \u001b[0mdf\u001b[0m \u001b[0;34m=\u001b[0m \u001b[0mpd\u001b[0m\u001b[0;34m.\u001b[0m\u001b[0mread_csv\u001b[0m\u001b[0;34m(\u001b[0m\u001b[0;34m'IMDB-Movie-Data.csv'\u001b[0m\u001b[0;34m)\u001b[0m\u001b[0;34m\u001b[0m\u001b[0;34m\u001b[0m\u001b[0m\n\u001b[1;32m      4\u001b[0m \u001b[0mdf\u001b[0m\u001b[0;34m.\u001b[0m\u001b[0mhead\u001b[0m\u001b[0;34m(\u001b[0m\u001b[0;36m5\u001b[0m\u001b[0;34m)\u001b[0m\u001b[0;34m\u001b[0m\u001b[0;34m\u001b[0m\u001b[0m\n\u001b[1;32m      5\u001b[0m \u001b[0;31m# df.loc[624]\u001b[0m\u001b[0;34m\u001b[0m\u001b[0;34m\u001b[0m\u001b[0m\n",
      "\u001b[0;31mModuleNotFoundError\u001b[0m: No module named 'pandas'"
     ]
    }
   ],
   "source": [
    "import pandas as pd\n",
    " \n",
    "df = pd.read_csv('IMDB-Movie-Data.csv')\n",
    "df.head(5)\n",
    "# df.loc[624]"
   ]
  },
  {
   "cell_type": "code",
   "execution_count": 169,
   "metadata": {
    "id": "u8L3zHok5794"
   },
   "outputs": [],
   "source": [
    "# type(df.head()['Genre'].str.split(','))\n",
    "# df.head()['Genre'].str.split(',').dtype\n",
    "# df.head()['Genre'].str.split(',')[0]\n",
    "# type(df.head()['Genre'].str.split(',')[0])"
   ]
  },
  {
   "cell_type": "code",
   "execution_count": 170,
   "metadata": {
    "colab": {
     "base_uri": "https://localhost:8080/"
    },
    "id": "om0NyFj37QjH",
    "outputId": "613943ae-b064-4444-a0e5-ea3e2534b2be"
   },
   "outputs": [
    {
     "data": {
      "text/plain": [
       "array(['Action', 'Adventure', 'Sci-Fi', 'Mystery', 'Horror', 'Thriller',\n",
       "       'Animation', 'Comedy', 'Family', 'Fantasy', 'Drama', 'Music',\n",
       "       'Biography', 'Romance', 'History', 'Crime', 'Western', 'War',\n",
       "       'Musical', 'Sport'], dtype=object)"
      ]
     },
     "execution_count": 170,
     "metadata": {},
     "output_type": "execute_result"
    }
   ],
   "source": [
    "sample = df.head()\n",
    "geners = pd.Series(df['Genre'].str.split(',').sum()).unique()\n",
    "geners"
   ]
  },
  {
   "cell_type": "code",
   "execution_count": 171,
   "metadata": {
    "colab": {
     "base_uri": "https://localhost:8080/",
     "height": 204
    },
    "id": "BpgVKblvHgYt",
    "outputId": "a4c41e26-b369-4030-e39b-cc414ced6eb4"
   },
   "outputs": [
    {
     "data": {
      "text/html": [
       "<div>\n",
       "<style scoped>\n",
       "    .dataframe tbody tr th:only-of-type {\n",
       "        vertical-align: middle;\n",
       "    }\n",
       "\n",
       "    .dataframe tbody tr th {\n",
       "        vertical-align: top;\n",
       "    }\n",
       "\n",
       "    .dataframe thead th {\n",
       "        text-align: right;\n",
       "    }\n",
       "</style>\n",
       "<table border=\"1\" class=\"dataframe\">\n",
       "  <thead>\n",
       "    <tr style=\"text-align: right;\">\n",
       "      <th></th>\n",
       "      <th>Rank</th>\n",
       "      <th>Title</th>\n",
       "      <th>Genre</th>\n",
       "      <th>Description</th>\n",
       "      <th>Director</th>\n",
       "      <th>Actors</th>\n",
       "      <th>Year</th>\n",
       "      <th>Runtime (Minutes)</th>\n",
       "      <th>Rating</th>\n",
       "      <th>Votes</th>\n",
       "      <th>Revenue (Millions)</th>\n",
       "      <th>Metascore</th>\n",
       "    </tr>\n",
       "  </thead>\n",
       "  <tbody>\n",
       "    <tr>\n",
       "      <th>0</th>\n",
       "      <td>1</td>\n",
       "      <td>Guardians of the Galaxy</td>\n",
       "      <td>Action</td>\n",
       "      <td>A group of intergalactic criminals are forced ...</td>\n",
       "      <td>James Gunn</td>\n",
       "      <td>Chris Pratt, Vin Diesel, Bradley Cooper, Zoe S...</td>\n",
       "      <td>2014</td>\n",
       "      <td>121</td>\n",
       "      <td>8.1</td>\n",
       "      <td>757074</td>\n",
       "      <td>333.13</td>\n",
       "      <td>76.0</td>\n",
       "    </tr>\n",
       "    <tr>\n",
       "      <th>0</th>\n",
       "      <td>1</td>\n",
       "      <td>Guardians of the Galaxy</td>\n",
       "      <td>Adventure</td>\n",
       "      <td>A group of intergalactic criminals are forced ...</td>\n",
       "      <td>James Gunn</td>\n",
       "      <td>Chris Pratt, Vin Diesel, Bradley Cooper, Zoe S...</td>\n",
       "      <td>2014</td>\n",
       "      <td>121</td>\n",
       "      <td>8.1</td>\n",
       "      <td>757074</td>\n",
       "      <td>333.13</td>\n",
       "      <td>76.0</td>\n",
       "    </tr>\n",
       "    <tr>\n",
       "      <th>0</th>\n",
       "      <td>1</td>\n",
       "      <td>Guardians of the Galaxy</td>\n",
       "      <td>Sci-Fi</td>\n",
       "      <td>A group of intergalactic criminals are forced ...</td>\n",
       "      <td>James Gunn</td>\n",
       "      <td>Chris Pratt, Vin Diesel, Bradley Cooper, Zoe S...</td>\n",
       "      <td>2014</td>\n",
       "      <td>121</td>\n",
       "      <td>8.1</td>\n",
       "      <td>757074</td>\n",
       "      <td>333.13</td>\n",
       "      <td>76.0</td>\n",
       "    </tr>\n",
       "    <tr>\n",
       "      <th>1</th>\n",
       "      <td>2</td>\n",
       "      <td>Prometheus</td>\n",
       "      <td>Adventure</td>\n",
       "      <td>Following clues to the origin of mankind, a te...</td>\n",
       "      <td>Ridley Scott</td>\n",
       "      <td>Noomi Rapace, Logan Marshall-Green, Michael Fa...</td>\n",
       "      <td>2012</td>\n",
       "      <td>124</td>\n",
       "      <td>7.0</td>\n",
       "      <td>485820</td>\n",
       "      <td>126.46</td>\n",
       "      <td>65.0</td>\n",
       "    </tr>\n",
       "    <tr>\n",
       "      <th>1</th>\n",
       "      <td>2</td>\n",
       "      <td>Prometheus</td>\n",
       "      <td>Mystery</td>\n",
       "      <td>Following clues to the origin of mankind, a te...</td>\n",
       "      <td>Ridley Scott</td>\n",
       "      <td>Noomi Rapace, Logan Marshall-Green, Michael Fa...</td>\n",
       "      <td>2012</td>\n",
       "      <td>124</td>\n",
       "      <td>7.0</td>\n",
       "      <td>485820</td>\n",
       "      <td>126.46</td>\n",
       "      <td>65.0</td>\n",
       "    </tr>\n",
       "  </tbody>\n",
       "</table>\n",
       "</div>"
      ],
      "text/plain": [
       "   Rank                    Title  ... Revenue (Millions) Metascore\n",
       "0     1  Guardians of the Galaxy  ...             333.13      76.0\n",
       "0     1  Guardians of the Galaxy  ...             333.13      76.0\n",
       "0     1  Guardians of the Galaxy  ...             333.13      76.0\n",
       "1     2               Prometheus  ...             126.46      65.0\n",
       "1     2               Prometheus  ...             126.46      65.0\n",
       "\n",
       "[5 rows x 12 columns]"
      ]
     },
     "execution_count": 171,
     "metadata": {},
     "output_type": "execute_result"
    }
   ],
   "source": [
    "# df.Genre.str.split(',').str.len()\n",
    "# df.Genre.str.split(',').sum()[:10]\n",
    "\n",
    "\n",
    "deformed_df = df.reindex(df.index.repeat(df.Genre.str.split(',').str.len()))\n",
    "deformed_df['Genre'] = df.Genre.str.split(',').sum()\n",
    "deformed_df.head(5)"
   ]
  },
  {
   "cell_type": "markdown",
   "metadata": {
    "id": "zwhL61A2afHi"
   },
   "source": [
    "Note that we have NaN values, so simply dividing sum by size doesn't give us mean. But mean function handles this for us."
   ]
  },
  {
   "cell_type": "code",
   "execution_count": 172,
   "metadata": {
    "colab": {
     "base_uri": "https://localhost:8080/",
     "height": 391
    },
    "id": "MwheruFo8gHu",
    "outputId": "d3437793-642f-40af-b81f-f4fdd9c891ee"
   },
   "outputs": [
    {
     "data": {
      "text/plain": [
       "Genre\n",
       "Action       124.494476\n",
       "Adventure    154.177024\n",
       "Animation    191.223404\n",
       "Biography     55.801600\n",
       "Comedy        75.750784\n",
       "Crime         61.804769\n",
       "Drama         49.844205\n",
       "Family       126.175714\n",
       "Fantasy      131.850108\n",
       "History       52.923846\n",
       "Horror        36.705269\n",
       "Music         47.070000\n",
       "Musical       81.642000\n",
       "Mystery       54.627640\n",
       "Romance       42.503023\n",
       "Sci-Fi       135.552545\n",
       "Sport         65.042500\n",
       "Thriller      69.577255\n",
       "War           53.433000\n",
       "Western      111.824000\n",
       "Name: Revenue (Millions), dtype: float64"
      ]
     },
     "metadata": {},
     "output_type": "display_data"
    }
   ],
   "source": [
    "# sample = deformed_df.head()\n",
    "# sample.groupby('Genre')['Revenue (Millions)'].agg('sum')\n",
    "# sample.groupby('Genre')['Revenue (Millions)'].size()\n",
    "\n",
    "# display(deformed_df.groupby('Genre')['Revenue (Millions)'].size())\n",
    "# display(deformed_df.groupby('Genre')['Revenue (Millions)'].agg('sum'))\n",
    "display(deformed_df.groupby('Genre')['Revenue (Millions)'].mean())"
   ]
  },
  {
   "cell_type": "code",
   "execution_count": 173,
   "metadata": {
    "colab": {
     "base_uri": "https://localhost:8080/",
     "height": 385
    },
    "id": "rwJy4wCS9u2p",
    "outputId": "574dff34-fdd5-4307-909a-141219a74455"
   },
   "outputs": [
    {
     "data": {
      "text/html": [
       "<div>\n",
       "<style scoped>\n",
       "    .dataframe tbody tr th:only-of-type {\n",
       "        vertical-align: middle;\n",
       "    }\n",
       "\n",
       "    .dataframe tbody tr th {\n",
       "        vertical-align: top;\n",
       "    }\n",
       "\n",
       "    .dataframe thead th {\n",
       "        text-align: right;\n",
       "    }\n",
       "</style>\n",
       "<table border=\"1\" class=\"dataframe\">\n",
       "  <thead>\n",
       "    <tr style=\"text-align: right;\">\n",
       "      <th></th>\n",
       "      <th>Rank</th>\n",
       "      <th>Title</th>\n",
       "      <th>Genre</th>\n",
       "      <th>Description</th>\n",
       "      <th>Director</th>\n",
       "      <th>Actors</th>\n",
       "      <th>Year</th>\n",
       "      <th>Runtime (Minutes)</th>\n",
       "      <th>Rating</th>\n",
       "      <th>Votes</th>\n",
       "      <th>Revenue (Millions)</th>\n",
       "      <th>Metascore</th>\n",
       "    </tr>\n",
       "  </thead>\n",
       "  <tbody>\n",
       "    <tr>\n",
       "      <th>38</th>\n",
       "      <td>39</td>\n",
       "      <td>The Magnificent Seven</td>\n",
       "      <td>Western</td>\n",
       "      <td>Seven gunmen in the old west gradually come to...</td>\n",
       "      <td>Antoine Fuqua</td>\n",
       "      <td>Denzel Washington, Chris Pratt, Ethan Hawke,Vi...</td>\n",
       "      <td>2016</td>\n",
       "      <td>132</td>\n",
       "      <td>6.9</td>\n",
       "      <td>122853</td>\n",
       "      <td>93.38</td>\n",
       "      <td>54.0</td>\n",
       "    </tr>\n",
       "    <tr>\n",
       "      <th>139</th>\n",
       "      <td>140</td>\n",
       "      <td>Brimstone</td>\n",
       "      <td>Western</td>\n",
       "      <td>From the moment the new reverend climbs the pu...</td>\n",
       "      <td>Martin Koolhoven</td>\n",
       "      <td>Dakota Fanning, Guy Pearce, Kit Harington,Cari...</td>\n",
       "      <td>2016</td>\n",
       "      <td>148</td>\n",
       "      <td>7.1</td>\n",
       "      <td>13004</td>\n",
       "      <td>NaN</td>\n",
       "      <td>44.0</td>\n",
       "    </tr>\n",
       "    <tr>\n",
       "      <th>144</th>\n",
       "      <td>145</td>\n",
       "      <td>Django Unchained</td>\n",
       "      <td>Western</td>\n",
       "      <td>With the help of a German bounty hunter , a fr...</td>\n",
       "      <td>Quentin Tarantino</td>\n",
       "      <td>Jamie Foxx, Christoph Waltz, Leonardo DiCaprio...</td>\n",
       "      <td>2012</td>\n",
       "      <td>165</td>\n",
       "      <td>8.4</td>\n",
       "      <td>1039115</td>\n",
       "      <td>162.80</td>\n",
       "      <td>81.0</td>\n",
       "    </tr>\n",
       "    <tr>\n",
       "      <th>642</th>\n",
       "      <td>643</td>\n",
       "      <td>The Ridiculous 6</td>\n",
       "      <td>Western</td>\n",
       "      <td>An outlaw who was raised by Native Americans d...</td>\n",
       "      <td>Frank Coraci</td>\n",
       "      <td>Adam Sandler, Terry Crews, Jorge Garcia, Taylo...</td>\n",
       "      <td>2015</td>\n",
       "      <td>119</td>\n",
       "      <td>4.8</td>\n",
       "      <td>31149</td>\n",
       "      <td>NaN</td>\n",
       "      <td>18.0</td>\n",
       "    </tr>\n",
       "    <tr>\n",
       "      <th>743</th>\n",
       "      <td>744</td>\n",
       "      <td>True Grit</td>\n",
       "      <td>Western</td>\n",
       "      <td>A tough U.S. Marshal helps a stubborn teenager...</td>\n",
       "      <td>Ethan Coen</td>\n",
       "      <td>Jeff Bridges, Matt Damon, Hailee Steinfeld,Jos...</td>\n",
       "      <td>2010</td>\n",
       "      <td>110</td>\n",
       "      <td>7.6</td>\n",
       "      <td>254904</td>\n",
       "      <td>171.03</td>\n",
       "      <td>80.0</td>\n",
       "    </tr>\n",
       "    <tr>\n",
       "      <th>745</th>\n",
       "      <td>746</td>\n",
       "      <td>A Million Ways to Die in the West</td>\n",
       "      <td>Western</td>\n",
       "      <td>As a cowardly farmer begins to fall for the my...</td>\n",
       "      <td>Seth MacFarlane</td>\n",
       "      <td>Seth MacFarlane, Charlize Theron, Liam Neeson,...</td>\n",
       "      <td>2014</td>\n",
       "      <td>116</td>\n",
       "      <td>6.1</td>\n",
       "      <td>144779</td>\n",
       "      <td>42.62</td>\n",
       "      <td>44.0</td>\n",
       "    </tr>\n",
       "    <tr>\n",
       "      <th>969</th>\n",
       "      <td>970</td>\n",
       "      <td>The Lone Ranger</td>\n",
       "      <td>Western</td>\n",
       "      <td>Native American warrior Tonto recounts the unt...</td>\n",
       "      <td>Gore Verbinski</td>\n",
       "      <td>Johnny Depp, Armie Hammer, William Fichtner,To...</td>\n",
       "      <td>2013</td>\n",
       "      <td>150</td>\n",
       "      <td>6.5</td>\n",
       "      <td>190855</td>\n",
       "      <td>89.29</td>\n",
       "      <td>NaN</td>\n",
       "    </tr>\n",
       "  </tbody>\n",
       "</table>\n",
       "</div>"
      ],
      "text/plain": [
       "     Rank                              Title  ... Revenue (Millions) Metascore\n",
       "38     39              The Magnificent Seven  ...              93.38      54.0\n",
       "139   140                          Brimstone  ...                NaN      44.0\n",
       "144   145                   Django Unchained  ...             162.80      81.0\n",
       "642   643                   The Ridiculous 6  ...                NaN      18.0\n",
       "743   744                          True Grit  ...             171.03      80.0\n",
       "745   746  A Million Ways to Die in the West  ...              42.62      44.0\n",
       "969   970                    The Lone Ranger  ...              89.29       NaN\n",
       "\n",
       "[7 rows x 12 columns]"
      ]
     },
     "execution_count": 173,
     "metadata": {},
     "output_type": "execute_result"
    }
   ],
   "source": [
    "deformed_df[deformed_df.Genre=='Western']"
   ]
  },
  {
   "cell_type": "markdown",
   "metadata": {
    "id": "ppJGRxudbdUM"
   },
   "source": [
    "<div dir = rtl>\n",
    "مشکلی که اینجا با آن \n",
    "  $\\mathbf{a}$\n",
    "\n",
    " \n",
    "  </div>"
   ]
  },
  {
   "cell_type": "markdown",
   "metadata": {
    "id": "UDgq3Wfuhu_p"
   },
   "source": [
    "##ج"
   ]
  },
  {
   "cell_type": "code",
   "execution_count": 181,
   "metadata": {
    "colab": {
     "base_uri": "https://localhost:8080/",
     "height": 306
    },
    "id": "PEfHGRLThn0f",
    "outputId": "7335681b-3355-483c-c9ae-93f524fbaad6"
   },
   "outputs": [
    {
     "data": {
      "text/html": [
       "<div>\n",
       "<style scoped>\n",
       "    .dataframe tbody tr th:only-of-type {\n",
       "        vertical-align: middle;\n",
       "    }\n",
       "\n",
       "    .dataframe tbody tr th {\n",
       "        vertical-align: top;\n",
       "    }\n",
       "\n",
       "    .dataframe thead th {\n",
       "        text-align: right;\n",
       "    }\n",
       "</style>\n",
       "<table border=\"1\" class=\"dataframe\">\n",
       "  <thead>\n",
       "    <tr style=\"text-align: right;\">\n",
       "      <th></th>\n",
       "      <th>Rank</th>\n",
       "      <th>Title</th>\n",
       "      <th>Genre</th>\n",
       "      <th>Description</th>\n",
       "      <th>Director</th>\n",
       "      <th>Actors</th>\n",
       "      <th>Year</th>\n",
       "      <th>Runtime (Minutes)</th>\n",
       "      <th>Rating</th>\n",
       "      <th>Votes</th>\n",
       "      <th>Revenue (Millions)</th>\n",
       "      <th>Metascore</th>\n",
       "    </tr>\n",
       "  </thead>\n",
       "  <tbody>\n",
       "    <tr>\n",
       "      <th>0</th>\n",
       "      <td>1</td>\n",
       "      <td>Guardians of the Galaxy</td>\n",
       "      <td>Action,Adventure,Sci-Fi</td>\n",
       "      <td>A group of intergalactic criminals are forced ...</td>\n",
       "      <td>James Gunn</td>\n",
       "      <td>Chris Pratt, Vin Diesel, Bradley Cooper, Zoe S...</td>\n",
       "      <td>2014</td>\n",
       "      <td>121</td>\n",
       "      <td>8.1</td>\n",
       "      <td>757074</td>\n",
       "      <td>333.13</td>\n",
       "      <td>76.0</td>\n",
       "    </tr>\n",
       "    <tr>\n",
       "      <th>1</th>\n",
       "      <td>2</td>\n",
       "      <td>Prometheus</td>\n",
       "      <td>Adventure,Mystery,Sci-Fi</td>\n",
       "      <td>Following clues to the origin of mankind, a te...</td>\n",
       "      <td>Ridley Scott</td>\n",
       "      <td>Noomi Rapace, Logan Marshall-Green, Michael Fa...</td>\n",
       "      <td>2012</td>\n",
       "      <td>124</td>\n",
       "      <td>7.0</td>\n",
       "      <td>485820</td>\n",
       "      <td>126.46</td>\n",
       "      <td>65.0</td>\n",
       "    </tr>\n",
       "    <tr>\n",
       "      <th>2</th>\n",
       "      <td>3</td>\n",
       "      <td>Split</td>\n",
       "      <td>Horror,Thriller</td>\n",
       "      <td>Three girls are kidnapped by a man with a diag...</td>\n",
       "      <td>M. Night Shyamalan</td>\n",
       "      <td>James McAvoy, Anya Taylor-Joy, Haley Lu Richar...</td>\n",
       "      <td>2016</td>\n",
       "      <td>117</td>\n",
       "      <td>7.3</td>\n",
       "      <td>157606</td>\n",
       "      <td>138.12</td>\n",
       "      <td>62.0</td>\n",
       "    </tr>\n",
       "    <tr>\n",
       "      <th>3</th>\n",
       "      <td>4</td>\n",
       "      <td>Sing</td>\n",
       "      <td>Animation,Comedy,Family</td>\n",
       "      <td>In a city of humanoid animals, a hustling thea...</td>\n",
       "      <td>Christophe Lourdelet</td>\n",
       "      <td>Matthew McConaughey,Reese Witherspoon, Seth Ma...</td>\n",
       "      <td>2016</td>\n",
       "      <td>108</td>\n",
       "      <td>7.2</td>\n",
       "      <td>60545</td>\n",
       "      <td>270.32</td>\n",
       "      <td>59.0</td>\n",
       "    </tr>\n",
       "    <tr>\n",
       "      <th>4</th>\n",
       "      <td>5</td>\n",
       "      <td>Suicide Squad</td>\n",
       "      <td>Action,Adventure,Fantasy</td>\n",
       "      <td>A secret government agency recruits some of th...</td>\n",
       "      <td>David Ayer</td>\n",
       "      <td>Will Smith, Jared Leto, Margot Robbie, Viola D...</td>\n",
       "      <td>2016</td>\n",
       "      <td>123</td>\n",
       "      <td>6.2</td>\n",
       "      <td>393727</td>\n",
       "      <td>325.02</td>\n",
       "      <td>40.0</td>\n",
       "    </tr>\n",
       "  </tbody>\n",
       "</table>\n",
       "</div>"
      ],
      "text/plain": [
       "   Rank                    Title  ... Revenue (Millions) Metascore\n",
       "0     1  Guardians of the Galaxy  ...             333.13      76.0\n",
       "1     2               Prometheus  ...             126.46      65.0\n",
       "2     3                    Split  ...             138.12      62.0\n",
       "3     4                     Sing  ...             270.32      59.0\n",
       "4     5            Suicide Squad  ...             325.02      40.0\n",
       "\n",
       "[5 rows x 12 columns]"
      ]
     },
     "execution_count": 181,
     "metadata": {},
     "output_type": "execute_result"
    }
   ],
   "source": [
    "df3 = df[df.Year.between(2006,2016)]\n",
    "# df3 = df3.sort_values(by='Year')\n",
    "df3.head()"
   ]
  },
  {
   "cell_type": "code",
   "execution_count": 192,
   "metadata": {
    "colab": {
     "base_uri": "https://localhost:8080/"
    },
    "id": "Fak0uSu-jy3R",
    "outputId": "4d8d7750-43bb-4616-f4b2-252733f9b25f"
   },
   "outputs": [
    {
     "data": {
      "text/plain": [
       "array(['Chris Pratt', 'Vin Diesel', 'Bradley Cooper', ...,\n",
       "       'Thomas Middleditch', 'Shannon Woodward', 'Cheryl Hines'],\n",
       "      dtype=object)"
      ]
     },
     "execution_count": 192,
     "metadata": {},
     "output_type": "execute_result"
    }
   ],
   "source": [
    "actors = pd.Series(df3.Actors.str.split(',').sum()).str.strip().unique()\n",
    "actors"
   ]
  },
  {
   "cell_type": "markdown",
   "metadata": {
    "id": "OsuzFtUbL195"
   },
   "source": [
    "### راه اول"
   ]
  },
  {
   "cell_type": "code",
   "execution_count": 343,
   "metadata": {
    "colab": {
     "base_uri": "https://localhost:8080/",
     "height": 359
    },
    "id": "QfQZ2OUWn-Zy",
    "outputId": "008bc02e-eb15-436f-e091-037f8825b3cb"
   },
   "outputs": [
    {
     "data": {
      "text/html": [
       "<div>\n",
       "<style scoped>\n",
       "    .dataframe tbody tr th:only-of-type {\n",
       "        vertical-align: middle;\n",
       "    }\n",
       "\n",
       "    .dataframe tbody tr th {\n",
       "        vertical-align: top;\n",
       "    }\n",
       "\n",
       "    .dataframe thead th {\n",
       "        text-align: right;\n",
       "    }\n",
       "</style>\n",
       "<table border=\"1\" class=\"dataframe\">\n",
       "  <thead>\n",
       "    <tr style=\"text-align: right;\">\n",
       "      <th></th>\n",
       "      <th>Actor</th>\n",
       "      <th>Title</th>\n",
       "    </tr>\n",
       "  </thead>\n",
       "  <tbody>\n",
       "    <tr>\n",
       "      <th>0</th>\n",
       "      <td>Chris Pratt</td>\n",
       "      <td>Guardians of the Galaxy</td>\n",
       "    </tr>\n",
       "    <tr>\n",
       "      <th>0</th>\n",
       "      <td>Vin Diesel</td>\n",
       "      <td>Guardians of the Galaxy</td>\n",
       "    </tr>\n",
       "    <tr>\n",
       "      <th>0</th>\n",
       "      <td>Bradley Cooper</td>\n",
       "      <td>Guardians of the Galaxy</td>\n",
       "    </tr>\n",
       "    <tr>\n",
       "      <th>0</th>\n",
       "      <td>Zoe Saldana</td>\n",
       "      <td>Guardians of the Galaxy</td>\n",
       "    </tr>\n",
       "    <tr>\n",
       "      <th>1</th>\n",
       "      <td>Noomi Rapace</td>\n",
       "      <td>Prometheus</td>\n",
       "    </tr>\n",
       "    <tr>\n",
       "      <th>1</th>\n",
       "      <td>Logan Marshall-Green</td>\n",
       "      <td>Prometheus</td>\n",
       "    </tr>\n",
       "    <tr>\n",
       "      <th>1</th>\n",
       "      <td>Michael Fassbender</td>\n",
       "      <td>Prometheus</td>\n",
       "    </tr>\n",
       "    <tr>\n",
       "      <th>1</th>\n",
       "      <td>Charlize Theron</td>\n",
       "      <td>Prometheus</td>\n",
       "    </tr>\n",
       "    <tr>\n",
       "      <th>2</th>\n",
       "      <td>James McAvoy</td>\n",
       "      <td>Split</td>\n",
       "    </tr>\n",
       "    <tr>\n",
       "      <th>2</th>\n",
       "      <td>Anya Taylor-Joy</td>\n",
       "      <td>Split</td>\n",
       "    </tr>\n",
       "  </tbody>\n",
       "</table>\n",
       "</div>"
      ],
      "text/plain": [
       "                  Actor                    Title\n",
       "0           Chris Pratt  Guardians of the Galaxy\n",
       "0            Vin Diesel  Guardians of the Galaxy\n",
       "0        Bradley Cooper  Guardians of the Galaxy\n",
       "0           Zoe Saldana  Guardians of the Galaxy\n",
       "1          Noomi Rapace               Prometheus\n",
       "1  Logan Marshall-Green               Prometheus\n",
       "1    Michael Fassbender               Prometheus\n",
       "1       Charlize Theron               Prometheus\n",
       "2          James McAvoy                    Split\n",
       "2       Anya Taylor-Joy                    Split"
      ]
     },
     "execution_count": 343,
     "metadata": {},
     "output_type": "execute_result"
    }
   ],
   "source": [
    "deformed_df3 = df.reindex(df.index.repeat(df.Actors.str.split(',').str.len()))\n",
    "# deformed_df3['Actor'] = pd.Series(df3.Actors.str.split(',').sum()).str.strip()\n",
    "deformed_df3['Actor'] = df3.Actors.str.split(',').sum()\n",
    "# deformed_df3 = deformed_df3.drop('Actors', axis=1)\n",
    "deformed_df3 = deformed_df3[['Actor','Title']]\n",
    "deformed_df3.Actor = deformed_df3.Actor.str.strip()\n",
    "deformed_df3.head(10)"
   ]
  },
  {
   "cell_type": "code",
   "execution_count": null,
   "metadata": {
    "id": "7NXVOMlbFSaW"
   },
   "outputs": [],
   "source": [
    "# pd.Series(df3.Actors.str.split(',').sum()).str.strip()\n",
    "# df3.Actors.str.split(',').sum()[:5]\n",
    "# df3.Actors.str.split(',')"
   ]
  },
  {
   "cell_type": "code",
   "execution_count": 344,
   "metadata": {
    "colab": {
     "base_uri": "https://localhost:8080/",
     "height": 419
    },
    "id": "xRjzDyz3pqYb",
    "outputId": "34335fb8-1f95-452d-83a4-6bd4df3b73d9"
   },
   "outputs": [
    {
     "data": {
      "text/html": [
       "<div>\n",
       "<style scoped>\n",
       "    .dataframe tbody tr th:only-of-type {\n",
       "        vertical-align: middle;\n",
       "    }\n",
       "\n",
       "    .dataframe tbody tr th {\n",
       "        vertical-align: top;\n",
       "    }\n",
       "\n",
       "    .dataframe thead th {\n",
       "        text-align: right;\n",
       "    }\n",
       "</style>\n",
       "<table border=\"1\" class=\"dataframe\">\n",
       "  <thead>\n",
       "    <tr style=\"text-align: right;\">\n",
       "      <th></th>\n",
       "      <th>Actor_left</th>\n",
       "      <th>Title</th>\n",
       "      <th>Actor_right</th>\n",
       "    </tr>\n",
       "  </thead>\n",
       "  <tbody>\n",
       "    <tr>\n",
       "      <th>1</th>\n",
       "      <td>Chris Pratt</td>\n",
       "      <td>Guardians of the Galaxy</td>\n",
       "      <td>Vin Diesel</td>\n",
       "    </tr>\n",
       "    <tr>\n",
       "      <th>2</th>\n",
       "      <td>Chris Pratt</td>\n",
       "      <td>Guardians of the Galaxy</td>\n",
       "      <td>Bradley Cooper</td>\n",
       "    </tr>\n",
       "    <tr>\n",
       "      <th>3</th>\n",
       "      <td>Chris Pratt</td>\n",
       "      <td>Guardians of the Galaxy</td>\n",
       "      <td>Zoe Saldana</td>\n",
       "    </tr>\n",
       "    <tr>\n",
       "      <th>4</th>\n",
       "      <td>Vin Diesel</td>\n",
       "      <td>Guardians of the Galaxy</td>\n",
       "      <td>Chris Pratt</td>\n",
       "    </tr>\n",
       "    <tr>\n",
       "      <th>6</th>\n",
       "      <td>Vin Diesel</td>\n",
       "      <td>Guardians of the Galaxy</td>\n",
       "      <td>Bradley Cooper</td>\n",
       "    </tr>\n",
       "    <tr>\n",
       "      <th>...</th>\n",
       "      <td>...</td>\n",
       "      <td>...</td>\n",
       "      <td>...</td>\n",
       "    </tr>\n",
       "    <tr>\n",
       "      <th>16018</th>\n",
       "      <td>Robbie Amell</td>\n",
       "      <td>Nine Lives</td>\n",
       "      <td>Jennifer Garner</td>\n",
       "    </tr>\n",
       "    <tr>\n",
       "      <th>16020</th>\n",
       "      <td>Robbie Amell</td>\n",
       "      <td>Nine Lives</td>\n",
       "      <td>Cheryl Hines</td>\n",
       "    </tr>\n",
       "    <tr>\n",
       "      <th>16021</th>\n",
       "      <td>Cheryl Hines</td>\n",
       "      <td>Nine Lives</td>\n",
       "      <td>Kevin Spacey</td>\n",
       "    </tr>\n",
       "    <tr>\n",
       "      <th>16022</th>\n",
       "      <td>Cheryl Hines</td>\n",
       "      <td>Nine Lives</td>\n",
       "      <td>Jennifer Garner</td>\n",
       "    </tr>\n",
       "    <tr>\n",
       "      <th>16023</th>\n",
       "      <td>Cheryl Hines</td>\n",
       "      <td>Nine Lives</td>\n",
       "      <td>Robbie Amell</td>\n",
       "    </tr>\n",
       "  </tbody>\n",
       "</table>\n",
       "<p>12026 rows × 3 columns</p>\n",
       "</div>"
      ],
      "text/plain": [
       "         Actor_left                    Title      Actor_right\n",
       "1       Chris Pratt  Guardians of the Galaxy       Vin Diesel\n",
       "2       Chris Pratt  Guardians of the Galaxy   Bradley Cooper\n",
       "3       Chris Pratt  Guardians of the Galaxy      Zoe Saldana\n",
       "4        Vin Diesel  Guardians of the Galaxy      Chris Pratt\n",
       "6        Vin Diesel  Guardians of the Galaxy   Bradley Cooper\n",
       "...             ...                      ...              ...\n",
       "16018  Robbie Amell               Nine Lives  Jennifer Garner\n",
       "16020  Robbie Amell               Nine Lives     Cheryl Hines\n",
       "16021  Cheryl Hines               Nine Lives     Kevin Spacey\n",
       "16022  Cheryl Hines               Nine Lives  Jennifer Garner\n",
       "16023  Cheryl Hines               Nine Lives     Robbie Amell\n",
       "\n",
       "[12026 rows x 3 columns]"
      ]
     },
     "execution_count": 344,
     "metadata": {},
     "output_type": "execute_result"
    }
   ],
   "source": [
    "# sample = deformed_df3.head()\n",
    "# deformed_df3 = pd.merge(sample,sample, on='Title', suffixes = ('_left','_right'))\n",
    "deformed_df3 = pd.merge(deformed_df3,deformed_df3, on='Title', suffixes = ('_left','_right'))\n",
    "deformed_df3 = deformed_df3[deformed_df3.Actor_left != deformed_df3.Actor_right]\n",
    "deformed_df3"
   ]
  },
  {
   "cell_type": "code",
   "execution_count": 345,
   "metadata": {
    "colab": {
     "base_uri": "https://localhost:8080/",
     "height": 514
    },
    "id": "efUOz8yVrFmc",
    "outputId": "622c7d1d-ec13-4b8d-f34f-ff9cee344f45"
   },
   "outputs": [
    {
     "data": {
      "text/html": [
       "<div>\n",
       "<style scoped>\n",
       "    .dataframe tbody tr th:only-of-type {\n",
       "        vertical-align: middle;\n",
       "    }\n",
       "\n",
       "    .dataframe tbody tr th {\n",
       "        vertical-align: top;\n",
       "    }\n",
       "\n",
       "    .dataframe thead th {\n",
       "        text-align: right;\n",
       "    }\n",
       "</style>\n",
       "<table border=\"1\" class=\"dataframe\">\n",
       "  <thead>\n",
       "    <tr style=\"text-align: right;\">\n",
       "      <th></th>\n",
       "      <th>Actor_left</th>\n",
       "      <th>Title</th>\n",
       "      <th>Actor_right</th>\n",
       "    </tr>\n",
       "  </thead>\n",
       "  <tbody>\n",
       "    <tr>\n",
       "      <th>1</th>\n",
       "      <td>Chris Pratt</td>\n",
       "      <td>Guardians of the Galaxy</td>\n",
       "      <td>Vin Diesel</td>\n",
       "    </tr>\n",
       "    <tr>\n",
       "      <th>2</th>\n",
       "      <td>Bradley Cooper</td>\n",
       "      <td>Guardians of the Galaxy</td>\n",
       "      <td>Chris Pratt</td>\n",
       "    </tr>\n",
       "    <tr>\n",
       "      <th>3</th>\n",
       "      <td>Chris Pratt</td>\n",
       "      <td>Guardians of the Galaxy</td>\n",
       "      <td>Zoe Saldana</td>\n",
       "    </tr>\n",
       "    <tr>\n",
       "      <th>6</th>\n",
       "      <td>Bradley Cooper</td>\n",
       "      <td>Guardians of the Galaxy</td>\n",
       "      <td>Vin Diesel</td>\n",
       "    </tr>\n",
       "    <tr>\n",
       "      <th>7</th>\n",
       "      <td>Vin Diesel</td>\n",
       "      <td>Guardians of the Galaxy</td>\n",
       "      <td>Zoe Saldana</td>\n",
       "    </tr>\n",
       "    <tr>\n",
       "      <th>11</th>\n",
       "      <td>Bradley Cooper</td>\n",
       "      <td>Guardians of the Galaxy</td>\n",
       "      <td>Zoe Saldana</td>\n",
       "    </tr>\n",
       "    <tr>\n",
       "      <th>17</th>\n",
       "      <td>Logan Marshall-Green</td>\n",
       "      <td>Prometheus</td>\n",
       "      <td>Noomi Rapace</td>\n",
       "    </tr>\n",
       "    <tr>\n",
       "      <th>18</th>\n",
       "      <td>Michael Fassbender</td>\n",
       "      <td>Prometheus</td>\n",
       "      <td>Noomi Rapace</td>\n",
       "    </tr>\n",
       "    <tr>\n",
       "      <th>19</th>\n",
       "      <td>Charlize Theron</td>\n",
       "      <td>Prometheus</td>\n",
       "      <td>Noomi Rapace</td>\n",
       "    </tr>\n",
       "    <tr>\n",
       "      <th>22</th>\n",
       "      <td>Logan Marshall-Green</td>\n",
       "      <td>Prometheus</td>\n",
       "      <td>Michael Fassbender</td>\n",
       "    </tr>\n",
       "    <tr>\n",
       "      <th>23</th>\n",
       "      <td>Charlize Theron</td>\n",
       "      <td>Prometheus</td>\n",
       "      <td>Logan Marshall-Green</td>\n",
       "    </tr>\n",
       "    <tr>\n",
       "      <th>27</th>\n",
       "      <td>Charlize Theron</td>\n",
       "      <td>Prometheus</td>\n",
       "      <td>Michael Fassbender</td>\n",
       "    </tr>\n",
       "    <tr>\n",
       "      <th>33</th>\n",
       "      <td>Anya Taylor-Joy</td>\n",
       "      <td>Split</td>\n",
       "      <td>James McAvoy</td>\n",
       "    </tr>\n",
       "    <tr>\n",
       "      <th>34</th>\n",
       "      <td>Haley Lu Richardson</td>\n",
       "      <td>Split</td>\n",
       "      <td>James McAvoy</td>\n",
       "    </tr>\n",
       "    <tr>\n",
       "      <th>35</th>\n",
       "      <td>James McAvoy</td>\n",
       "      <td>Split</td>\n",
       "      <td>Jessica Sula</td>\n",
       "    </tr>\n",
       "  </tbody>\n",
       "</table>\n",
       "</div>"
      ],
      "text/plain": [
       "              Actor_left                    Title           Actor_right\n",
       "1            Chris Pratt  Guardians of the Galaxy            Vin Diesel\n",
       "2         Bradley Cooper  Guardians of the Galaxy           Chris Pratt\n",
       "3            Chris Pratt  Guardians of the Galaxy           Zoe Saldana\n",
       "6         Bradley Cooper  Guardians of the Galaxy            Vin Diesel\n",
       "7             Vin Diesel  Guardians of the Galaxy           Zoe Saldana\n",
       "11        Bradley Cooper  Guardians of the Galaxy           Zoe Saldana\n",
       "17  Logan Marshall-Green               Prometheus          Noomi Rapace\n",
       "18    Michael Fassbender               Prometheus          Noomi Rapace\n",
       "19       Charlize Theron               Prometheus          Noomi Rapace\n",
       "22  Logan Marshall-Green               Prometheus    Michael Fassbender\n",
       "23       Charlize Theron               Prometheus  Logan Marshall-Green\n",
       "27       Charlize Theron               Prometheus    Michael Fassbender\n",
       "33       Anya Taylor-Joy                    Split          James McAvoy\n",
       "34   Haley Lu Richardson                    Split          James McAvoy\n",
       "35          James McAvoy                    Split          Jessica Sula"
      ]
     },
     "execution_count": 345,
     "metadata": {},
     "output_type": "execute_result"
    }
   ],
   "source": [
    "deformed_df3[['Actor_left', 'Actor_right']] = np.sort(deformed_df3[['Actor_left', 'Actor_right']], axis=1)\n",
    "# deformed_df3_temp = deformed_df3.groupby(by=['Actor_left','Title','Actor_right']).first()\n",
    "deformed_df3 = deformed_df3.drop_duplicates(subset=['Actor_left', 'Title', 'Actor_right'], keep='first')\n",
    "deformed_df3.head(15)"
   ]
  },
  {
   "cell_type": "code",
   "execution_count": 365,
   "metadata": {
    "colab": {
     "base_uri": "https://localhost:8080/",
     "height": 359
    },
    "id": "k3NYTCbp8Kwy",
    "outputId": "7449d9dd-af3e-481b-8238-2fd3c49a7afe"
   },
   "outputs": [
    {
     "data": {
      "text/html": [
       "<div>\n",
       "<style scoped>\n",
       "    .dataframe tbody tr th:only-of-type {\n",
       "        vertical-align: middle;\n",
       "    }\n",
       "\n",
       "    .dataframe tbody tr th {\n",
       "        vertical-align: top;\n",
       "    }\n",
       "\n",
       "    .dataframe thead th {\n",
       "        text-align: right;\n",
       "    }\n",
       "</style>\n",
       "<table border=\"1\" class=\"dataframe\">\n",
       "  <thead>\n",
       "    <tr style=\"text-align: right;\">\n",
       "      <th></th>\n",
       "      <th>Actor_left</th>\n",
       "      <th>Actor_right</th>\n",
       "      <th>Titles</th>\n",
       "    </tr>\n",
       "  </thead>\n",
       "  <tbody>\n",
       "    <tr>\n",
       "      <th>152</th>\n",
       "      <td>Adam Sandler</td>\n",
       "      <td>Kevin James</td>\n",
       "      <td>[Pixels, Grown Ups 2, Grown Ups, Hotel Transyl...</td>\n",
       "    </tr>\n",
       "    <tr>\n",
       "      <th>2305</th>\n",
       "      <td>Daniel Radcliffe</td>\n",
       "      <td>Emma Watson</td>\n",
       "      <td>[Harry Potter and the Deathly Hallows: Part 2,...</td>\n",
       "    </tr>\n",
       "    <tr>\n",
       "      <th>2315</th>\n",
       "      <td>Daniel Radcliffe</td>\n",
       "      <td>Rupert Grint</td>\n",
       "      <td>[Harry Potter and the Deathly Hallows: Part 2,...</td>\n",
       "    </tr>\n",
       "    <tr>\n",
       "      <th>2953</th>\n",
       "      <td>Emma Watson</td>\n",
       "      <td>Rupert Grint</td>\n",
       "      <td>[Harry Potter and the Deathly Hallows: Part 2,...</td>\n",
       "    </tr>\n",
       "    <tr>\n",
       "      <th>3418</th>\n",
       "      <td>Helena Bonham Carter</td>\n",
       "      <td>Johnny Depp</td>\n",
       "      <td>[Alice Through the Looking Glass, Alice in Won...</td>\n",
       "    </tr>\n",
       "    <tr>\n",
       "      <th>3992</th>\n",
       "      <td>Jennifer Lawrence</td>\n",
       "      <td>Josh Hutcherson</td>\n",
       "      <td>[The Hunger Games, The Hunger Games: Mockingja...</td>\n",
       "    </tr>\n",
       "    <tr>\n",
       "      <th>3995</th>\n",
       "      <td>Jennifer Lawrence</td>\n",
       "      <td>Liam Hemsworth</td>\n",
       "      <td>[The Hunger Games, The Hunger Games: Mockingja...</td>\n",
       "    </tr>\n",
       "    <tr>\n",
       "      <th>4359</th>\n",
       "      <td>Josh Hutcherson</td>\n",
       "      <td>Liam Hemsworth</td>\n",
       "      <td>[The Hunger Games, The Hunger Games: Mockingja...</td>\n",
       "    </tr>\n",
       "    <tr>\n",
       "      <th>4653</th>\n",
       "      <td>Kristen Stewart</td>\n",
       "      <td>Robert Pattinson</td>\n",
       "      <td>[Twilight, The Twilight Saga: Breaking Dawn - ...</td>\n",
       "    </tr>\n",
       "    <tr>\n",
       "      <th>5421</th>\n",
       "      <td>Paul Walker</td>\n",
       "      <td>Vin Diesel</td>\n",
       "      <td>[Furious Seven, Furious 6, Fast Five, Fast &amp; F...</td>\n",
       "    </tr>\n",
       "  </tbody>\n",
       "</table>\n",
       "</div>"
      ],
      "text/plain": [
       "                Actor_left  ...                                             Titles\n",
       "152           Adam Sandler  ...  [Pixels, Grown Ups 2, Grown Ups, Hotel Transyl...\n",
       "2305      Daniel Radcliffe  ...  [Harry Potter and the Deathly Hallows: Part 2,...\n",
       "2315      Daniel Radcliffe  ...  [Harry Potter and the Deathly Hallows: Part 2,...\n",
       "2953           Emma Watson  ...  [Harry Potter and the Deathly Hallows: Part 2,...\n",
       "3418  Helena Bonham Carter  ...  [Alice Through the Looking Glass, Alice in Won...\n",
       "3992     Jennifer Lawrence  ...  [The Hunger Games, The Hunger Games: Mockingja...\n",
       "3995     Jennifer Lawrence  ...  [The Hunger Games, The Hunger Games: Mockingja...\n",
       "4359       Josh Hutcherson  ...  [The Hunger Games, The Hunger Games: Mockingja...\n",
       "4653       Kristen Stewart  ...  [Twilight, The Twilight Saga: Breaking Dawn - ...\n",
       "5421           Paul Walker  ...  [Furious Seven, Furious 6, Fast Five, Fast & F...\n",
       "\n",
       "[10 rows x 3 columns]"
      ]
     },
     "execution_count": 365,
     "metadata": {},
     "output_type": "execute_result"
    }
   ],
   "source": [
    "result3 = deformed_df3.groupby(by=['Actor_left','Actor_right'])['Title'].apply(list).reset_index(name='Titles')\n",
    "result3 = result3[result3['Titles'].str.len()>3]\n",
    "# result3.head()\n",
    "result3"
   ]
  },
  {
   "cell_type": "code",
   "execution_count": 380,
   "metadata": {
    "colab": {
     "base_uri": "https://localhost:8080/"
    },
    "id": "ljt2IC159SzQ",
    "outputId": "6a8221c9-ca17-4eab-d7b9-449987310b49"
   },
   "outputs": [
    {
     "data": {
      "text/plain": [
       "Titles\n",
       "Alice Through the Looking Glass,Alice in Wonderland,Sweeney Todd: The Demon Barber of Fleet Street,Dark Shadows                                                                             [Helena Bonham Carter, Johnny Depp]\n",
       "Furious Seven,Furious 6,Fast Five,Fast & Furious                                                                                                                                                      [Paul Walker, Vin Diesel]\n",
       "Harry Potter and the Deathly Hallows: Part 2,Harry Potter and the Order of the Phoenix,Harry Potter and the Deathly Hallows: Part 1,Harry Potter and the Half-Blood Prince    [Daniel Radcliffe, Emma Watson, Daniel Radclif...\n",
       "Pixels,Grown Ups 2,Grown Ups,Hotel Transylvania 2                                                                                                                                                   [Adam Sandler, Kevin James]\n",
       "The Hunger Games,The Hunger Games: Mockingjay - Part 2,The Hunger Games: Catching Fire,The Hunger Games: Mockingjay - Part 1                                                  [Jennifer Lawrence, Josh Hutcherson, Jennifer ...\n",
       "Twilight,The Twilight Saga: Breaking Dawn - Part 2,The Twilight Saga: Breaking Dawn - Part 1,The Twilight Saga: Eclipse                                                                     [Kristen Stewart, Robert Pattinson]\n",
       "Name: Actors, dtype: object"
      ]
     },
     "execution_count": 380,
     "metadata": {},
     "output_type": "execute_result"
    }
   ],
   "source": [
    "# result3['Actor_left'] + result3['Actor_right']\n",
    "# result3['Titles'] = result3.Titles.str.join(',')\n",
    "# result3['Actors'] = result3.apply(lambda x: [x['Actor_left'], x['Actor_right']], axis=1)\n",
    "# result3.groupby(by='Titles')[['Titles','Actors']].agg('sum')['Actors']\n",
    "# result3.groupby(by='Titles').agg('sum')['Actors']\n",
    "result3.groupby(by='Titles').agg('sum')['Actors']"
   ]
  },
  {
   "cell_type": "markdown",
   "metadata": {
    "id": "1t_feuOXL50K"
   },
   "source": [
    "### راه دوم"
   ]
  },
  {
   "cell_type": "code",
   "execution_count": 335,
   "metadata": {
    "colab": {
     "base_uri": "https://localhost:8080/",
     "height": 359
    },
    "id": "WhjxYpjGMXnj",
    "outputId": "cc912577-b0d6-4a88-baa4-de761d1079fc"
   },
   "outputs": [
    {
     "data": {
      "text/html": [
       "<div>\n",
       "<style scoped>\n",
       "    .dataframe tbody tr th:only-of-type {\n",
       "        vertical-align: middle;\n",
       "    }\n",
       "\n",
       "    .dataframe tbody tr th {\n",
       "        vertical-align: top;\n",
       "    }\n",
       "\n",
       "    .dataframe thead th {\n",
       "        text-align: right;\n",
       "    }\n",
       "</style>\n",
       "<table border=\"1\" class=\"dataframe\">\n",
       "  <thead>\n",
       "    <tr style=\"text-align: right;\">\n",
       "      <th></th>\n",
       "      <th>Actor</th>\n",
       "      <th>Title</th>\n",
       "    </tr>\n",
       "  </thead>\n",
       "  <tbody>\n",
       "    <tr>\n",
       "      <th>0</th>\n",
       "      <td>Chris Pratt</td>\n",
       "      <td>Guardians of the Galaxy</td>\n",
       "    </tr>\n",
       "    <tr>\n",
       "      <th>0</th>\n",
       "      <td>Vin Diesel</td>\n",
       "      <td>Guardians of the Galaxy</td>\n",
       "    </tr>\n",
       "    <tr>\n",
       "      <th>0</th>\n",
       "      <td>Bradley Cooper</td>\n",
       "      <td>Guardians of the Galaxy</td>\n",
       "    </tr>\n",
       "    <tr>\n",
       "      <th>0</th>\n",
       "      <td>Zoe Saldana</td>\n",
       "      <td>Guardians of the Galaxy</td>\n",
       "    </tr>\n",
       "    <tr>\n",
       "      <th>1</th>\n",
       "      <td>Noomi Rapace</td>\n",
       "      <td>Prometheus</td>\n",
       "    </tr>\n",
       "    <tr>\n",
       "      <th>1</th>\n",
       "      <td>Logan Marshall-Green</td>\n",
       "      <td>Prometheus</td>\n",
       "    </tr>\n",
       "    <tr>\n",
       "      <th>1</th>\n",
       "      <td>Michael Fassbender</td>\n",
       "      <td>Prometheus</td>\n",
       "    </tr>\n",
       "    <tr>\n",
       "      <th>1</th>\n",
       "      <td>Charlize Theron</td>\n",
       "      <td>Prometheus</td>\n",
       "    </tr>\n",
       "    <tr>\n",
       "      <th>2</th>\n",
       "      <td>James McAvoy</td>\n",
       "      <td>Split</td>\n",
       "    </tr>\n",
       "    <tr>\n",
       "      <th>2</th>\n",
       "      <td>Anya Taylor-Joy</td>\n",
       "      <td>Split</td>\n",
       "    </tr>\n",
       "  </tbody>\n",
       "</table>\n",
       "</div>"
      ],
      "text/plain": [
       "                  Actor                    Title\n",
       "0           Chris Pratt  Guardians of the Galaxy\n",
       "0            Vin Diesel  Guardians of the Galaxy\n",
       "0        Bradley Cooper  Guardians of the Galaxy\n",
       "0           Zoe Saldana  Guardians of the Galaxy\n",
       "1          Noomi Rapace               Prometheus\n",
       "1  Logan Marshall-Green               Prometheus\n",
       "1    Michael Fassbender               Prometheus\n",
       "1       Charlize Theron               Prometheus\n",
       "2          James McAvoy                    Split\n",
       "2       Anya Taylor-Joy                    Split"
      ]
     },
     "execution_count": 335,
     "metadata": {},
     "output_type": "execute_result"
    }
   ],
   "source": [
    "deformed_df3 = df.reindex(df.index.repeat(df.Actors.str.split(',').str.len()))\n",
    "# deformed_df3['Actor'] = pd.Series(df3.Actors.str.split(',').sum()).str.strip()\n",
    "deformed_df3['Actor'] = df3.Actors.str.split(',').sum()\n",
    "# deformed_df3 = deformed_df3.drop('Actors', axis=1)\n",
    "deformed_df3 = deformed_df3[['Actor','Title']]\n",
    "deformed_df3.Actor = deformed_df3.Actor.str.strip()\n",
    "deformed_df3.head(10)"
   ]
  },
  {
   "cell_type": "code",
   "execution_count": 336,
   "metadata": {
    "colab": {
     "base_uri": "https://localhost:8080/",
     "height": 419
    },
    "id": "MD9H6IOiMlLq",
    "outputId": "2c3a7d4f-145f-4c7f-f322-a68ce4566867"
   },
   "outputs": [
    {
     "data": {
      "text/html": [
       "<div>\n",
       "<style scoped>\n",
       "    .dataframe tbody tr th:only-of-type {\n",
       "        vertical-align: middle;\n",
       "    }\n",
       "\n",
       "    .dataframe tbody tr th {\n",
       "        vertical-align: top;\n",
       "    }\n",
       "\n",
       "    .dataframe thead th {\n",
       "        text-align: right;\n",
       "    }\n",
       "</style>\n",
       "<table border=\"1\" class=\"dataframe\">\n",
       "  <thead>\n",
       "    <tr style=\"text-align: right;\">\n",
       "      <th></th>\n",
       "      <th>Actor</th>\n",
       "      <th>Title_left</th>\n",
       "      <th>Title_right</th>\n",
       "    </tr>\n",
       "  </thead>\n",
       "  <tbody>\n",
       "    <tr>\n",
       "      <th>1</th>\n",
       "      <td>Chris Pratt</td>\n",
       "      <td>Guardians of the Galaxy</td>\n",
       "      <td>Passengers</td>\n",
       "    </tr>\n",
       "    <tr>\n",
       "      <th>2</th>\n",
       "      <td>Chris Pratt</td>\n",
       "      <td>Guardians of the Galaxy</td>\n",
       "      <td>The Magnificent Seven</td>\n",
       "    </tr>\n",
       "    <tr>\n",
       "      <th>3</th>\n",
       "      <td>Chris Pratt</td>\n",
       "      <td>Guardians of the Galaxy</td>\n",
       "      <td>Jurassic World</td>\n",
       "    </tr>\n",
       "    <tr>\n",
       "      <th>4</th>\n",
       "      <td>Chris Pratt</td>\n",
       "      <td>Guardians of the Galaxy</td>\n",
       "      <td>The Lego Movie</td>\n",
       "    </tr>\n",
       "    <tr>\n",
       "      <th>5</th>\n",
       "      <td>Chris Pratt</td>\n",
       "      <td>Guardians of the Galaxy</td>\n",
       "      <td>Zero Dark Thirty</td>\n",
       "    </tr>\n",
       "    <tr>\n",
       "      <th>...</th>\n",
       "      <td>...</td>\n",
       "      <td>...</td>\n",
       "      <td>...</td>\n",
       "    </tr>\n",
       "    <tr>\n",
       "      <th>15918</th>\n",
       "      <td>Robert Patrick</td>\n",
       "      <td>Endless Love</td>\n",
       "      <td>Bridge to Terabithia</td>\n",
       "    </tr>\n",
       "    <tr>\n",
       "      <th>15988</th>\n",
       "      <td>Thomas Mann</td>\n",
       "      <td>Me and Earl and the Dying Girl</td>\n",
       "      <td>Project X</td>\n",
       "    </tr>\n",
       "    <tr>\n",
       "      <th>15989</th>\n",
       "      <td>Thomas Mann</td>\n",
       "      <td>Project X</td>\n",
       "      <td>Me and Earl and the Dying Girl</td>\n",
       "    </tr>\n",
       "    <tr>\n",
       "      <th>16005</th>\n",
       "      <td>Evan Rachel Wood</td>\n",
       "      <td>Into the Forest</td>\n",
       "      <td>Across the Universe</td>\n",
       "    </tr>\n",
       "    <tr>\n",
       "      <th>16006</th>\n",
       "      <td>Evan Rachel Wood</td>\n",
       "      <td>Across the Universe</td>\n",
       "      <td>Into the Forest</td>\n",
       "    </tr>\n",
       "  </tbody>\n",
       "</table>\n",
       "<p>12084 rows × 3 columns</p>\n",
       "</div>"
      ],
      "text/plain": [
       "                  Actor  ...                     Title_right\n",
       "1           Chris Pratt  ...                      Passengers\n",
       "2           Chris Pratt  ...           The Magnificent Seven\n",
       "3           Chris Pratt  ...                  Jurassic World\n",
       "4           Chris Pratt  ...                  The Lego Movie\n",
       "5           Chris Pratt  ...                Zero Dark Thirty\n",
       "...                 ...  ...                             ...\n",
       "15918    Robert Patrick  ...            Bridge to Terabithia\n",
       "15988       Thomas Mann  ...                       Project X\n",
       "15989       Thomas Mann  ...  Me and Earl and the Dying Girl\n",
       "16005  Evan Rachel Wood  ...             Across the Universe\n",
       "16006  Evan Rachel Wood  ...                 Into the Forest\n",
       "\n",
       "[12084 rows x 3 columns]"
      ]
     },
     "execution_count": 336,
     "metadata": {},
     "output_type": "execute_result"
    }
   ],
   "source": [
    "deformed_df3 = pd.merge(deformed_df3,deformed_df3, on='Actor', suffixes = ('_left','_right'))\n",
    "deformed_df3 = deformed_df3[deformed_df3.Title_left != deformed_df3.Title_right]\n",
    "deformed_df3"
   ]
  },
  {
   "cell_type": "code",
   "execution_count": 338,
   "metadata": {
    "colab": {
     "base_uri": "https://localhost:8080/",
     "height": 419
    },
    "id": "66mpZODVM3rL",
    "outputId": "75836ba8-094d-4f68-d6b4-71ccca93cb3a"
   },
   "outputs": [
    {
     "data": {
      "text/html": [
       "<div>\n",
       "<style scoped>\n",
       "    .dataframe tbody tr th:only-of-type {\n",
       "        vertical-align: middle;\n",
       "    }\n",
       "\n",
       "    .dataframe tbody tr th {\n",
       "        vertical-align: top;\n",
       "    }\n",
       "\n",
       "    .dataframe thead th {\n",
       "        text-align: right;\n",
       "    }\n",
       "</style>\n",
       "<table border=\"1\" class=\"dataframe\">\n",
       "  <thead>\n",
       "    <tr style=\"text-align: right;\">\n",
       "      <th></th>\n",
       "      <th>Actor</th>\n",
       "      <th>Title_left</th>\n",
       "      <th>Title_right</th>\n",
       "    </tr>\n",
       "  </thead>\n",
       "  <tbody>\n",
       "    <tr>\n",
       "      <th>1</th>\n",
       "      <td>Chris Pratt</td>\n",
       "      <td>Guardians of the Galaxy</td>\n",
       "      <td>Passengers</td>\n",
       "    </tr>\n",
       "    <tr>\n",
       "      <th>2</th>\n",
       "      <td>Chris Pratt</td>\n",
       "      <td>Guardians of the Galaxy</td>\n",
       "      <td>The Magnificent Seven</td>\n",
       "    </tr>\n",
       "    <tr>\n",
       "      <th>3</th>\n",
       "      <td>Chris Pratt</td>\n",
       "      <td>Guardians of the Galaxy</td>\n",
       "      <td>Jurassic World</td>\n",
       "    </tr>\n",
       "    <tr>\n",
       "      <th>4</th>\n",
       "      <td>Chris Pratt</td>\n",
       "      <td>Guardians of the Galaxy</td>\n",
       "      <td>The Lego Movie</td>\n",
       "    </tr>\n",
       "    <tr>\n",
       "      <th>5</th>\n",
       "      <td>Chris Pratt</td>\n",
       "      <td>Guardians of the Galaxy</td>\n",
       "      <td>Zero Dark Thirty</td>\n",
       "    </tr>\n",
       "    <tr>\n",
       "      <th>...</th>\n",
       "      <td>...</td>\n",
       "      <td>...</td>\n",
       "      <td>...</td>\n",
       "    </tr>\n",
       "    <tr>\n",
       "      <th>15881</th>\n",
       "      <td>Kristin Davis</td>\n",
       "      <td>Sex and the City</td>\n",
       "      <td>Sex and the City 2</td>\n",
       "    </tr>\n",
       "    <tr>\n",
       "      <th>15890</th>\n",
       "      <td>David Morse</td>\n",
       "      <td>Concussion</td>\n",
       "      <td>Disturbia</td>\n",
       "    </tr>\n",
       "    <tr>\n",
       "      <th>15917</th>\n",
       "      <td>Robert Patrick</td>\n",
       "      <td>Bridge to Terabithia</td>\n",
       "      <td>Endless Love</td>\n",
       "    </tr>\n",
       "    <tr>\n",
       "      <th>15988</th>\n",
       "      <td>Thomas Mann</td>\n",
       "      <td>Me and Earl and the Dying Girl</td>\n",
       "      <td>Project X</td>\n",
       "    </tr>\n",
       "    <tr>\n",
       "      <th>16005</th>\n",
       "      <td>Evan Rachel Wood</td>\n",
       "      <td>Across the Universe</td>\n",
       "      <td>Into the Forest</td>\n",
       "    </tr>\n",
       "  </tbody>\n",
       "</table>\n",
       "<p>6042 rows × 3 columns</p>\n",
       "</div>"
      ],
      "text/plain": [
       "                  Actor                      Title_left            Title_right\n",
       "1           Chris Pratt         Guardians of the Galaxy             Passengers\n",
       "2           Chris Pratt         Guardians of the Galaxy  The Magnificent Seven\n",
       "3           Chris Pratt         Guardians of the Galaxy         Jurassic World\n",
       "4           Chris Pratt         Guardians of the Galaxy         The Lego Movie\n",
       "5           Chris Pratt         Guardians of the Galaxy       Zero Dark Thirty\n",
       "...                 ...                             ...                    ...\n",
       "15881     Kristin Davis                Sex and the City     Sex and the City 2\n",
       "15890       David Morse                      Concussion              Disturbia\n",
       "15917    Robert Patrick            Bridge to Terabithia           Endless Love\n",
       "15988       Thomas Mann  Me and Earl and the Dying Girl              Project X\n",
       "16005  Evan Rachel Wood             Across the Universe        Into the Forest\n",
       "\n",
       "[6042 rows x 3 columns]"
      ]
     },
     "execution_count": 338,
     "metadata": {},
     "output_type": "execute_result"
    }
   ],
   "source": [
    "deformed_df3[['Title_left', 'Title_right']] = np.sort(deformed_df3[['Title_left', 'Title_right']], axis=1)\n",
    "deformed_df3 = deformed_df3.drop_duplicates(subset=['Title_left', 'Actor', 'Title_right'], keep='first')\n",
    "deformed_df3.head(15)"
   ]
  },
  {
   "cell_type": "code",
   "execution_count": 342,
   "metadata": {
    "colab": {
     "base_uri": "https://localhost:8080/",
     "height": 419
    },
    "id": "DOm6VfA9NU0X",
    "outputId": "5c8f1709-a89d-41cf-ebda-7084d1c6ec7a"
   },
   "outputs": [
    {
     "data": {
      "text/html": [
       "<div>\n",
       "<style scoped>\n",
       "    .dataframe tbody tr th:only-of-type {\n",
       "        vertical-align: middle;\n",
       "    }\n",
       "\n",
       "    .dataframe tbody tr th {\n",
       "        vertical-align: top;\n",
       "    }\n",
       "\n",
       "    .dataframe thead th {\n",
       "        text-align: right;\n",
       "    }\n",
       "</style>\n",
       "<table border=\"1\" class=\"dataframe\">\n",
       "  <thead>\n",
       "    <tr style=\"text-align: right;\">\n",
       "      <th></th>\n",
       "      <th>Title_left</th>\n",
       "      <th>Title_right</th>\n",
       "      <th>Actors</th>\n",
       "    </tr>\n",
       "  </thead>\n",
       "  <tbody>\n",
       "    <tr>\n",
       "      <th>45</th>\n",
       "      <td>10 Years</td>\n",
       "      <td>Step Up</td>\n",
       "      <td>[Channing Tatum, Jenna Dewan Tatum]</td>\n",
       "    </tr>\n",
       "    <tr>\n",
       "      <th>126</th>\n",
       "      <td>2012</td>\n",
       "      <td>Half of a Yellow Sun</td>\n",
       "      <td>[Chiwetel Ejiofor, Thandie Newton]</td>\n",
       "    </tr>\n",
       "    <tr>\n",
       "      <th>134</th>\n",
       "      <td>20th Century Women</td>\n",
       "      <td>Jackie</td>\n",
       "      <td>[Greta Gerwig, Billy Crudup]</td>\n",
       "    </tr>\n",
       "    <tr>\n",
       "      <th>146</th>\n",
       "      <td>21</td>\n",
       "      <td>Superman Returns</td>\n",
       "      <td>[Kate Bosworth, Kevin Spacey]</td>\n",
       "    </tr>\n",
       "    <tr>\n",
       "      <th>148</th>\n",
       "      <td>21 Jump Street</td>\n",
       "      <td>22 Jump Street</td>\n",
       "      <td>[Jonah Hill, Channing Tatum, Ice Cube]</td>\n",
       "    </tr>\n",
       "    <tr>\n",
       "      <th>...</th>\n",
       "      <td>...</td>\n",
       "      <td>...</td>\n",
       "      <td>...</td>\n",
       "    </tr>\n",
       "    <tr>\n",
       "      <th>5768</th>\n",
       "      <td>Transformers</td>\n",
       "      <td>Transformers: Dark of the Moon</td>\n",
       "      <td>[Shia LaBeouf, Josh Duhamel, Tyrese Gibson]</td>\n",
       "    </tr>\n",
       "    <tr>\n",
       "      <th>5769</th>\n",
       "      <td>Transformers</td>\n",
       "      <td>Transformers: Revenge of the Fallen</td>\n",
       "      <td>[Shia LaBeouf, Megan Fox, Josh Duhamel, Tyrese...</td>\n",
       "    </tr>\n",
       "    <tr>\n",
       "      <th>5770</th>\n",
       "      <td>Transformers: Dark of the Moon</td>\n",
       "      <td>Transformers: Revenge of the Fallen</td>\n",
       "      <td>[Shia LaBeouf, Josh Duhamel, Tyrese Gibson]</td>\n",
       "    </tr>\n",
       "    <tr>\n",
       "      <th>5807</th>\n",
       "      <td>X-Men: Apocalypse</td>\n",
       "      <td>X: First Class</td>\n",
       "      <td>[Michael Fassbender, James McAvoy, Jennifer La...</td>\n",
       "    </tr>\n",
       "    <tr>\n",
       "      <th>5808</th>\n",
       "      <td>X-Men: Days of Future Past</td>\n",
       "      <td>X-Men: The Last Stand</td>\n",
       "      <td>[Hugh Jackman, Patrick Stewart]</td>\n",
       "    </tr>\n",
       "  </tbody>\n",
       "</table>\n",
       "<p>171 rows × 3 columns</p>\n",
       "</div>"
      ],
      "text/plain": [
       "                          Title_left  ...                                             Actors\n",
       "45                          10 Years  ...                [Channing Tatum, Jenna Dewan Tatum]\n",
       "126                             2012  ...                 [Chiwetel Ejiofor, Thandie Newton]\n",
       "134               20th Century Women  ...                       [Greta Gerwig, Billy Crudup]\n",
       "146                               21  ...                      [Kate Bosworth, Kevin Spacey]\n",
       "148                   21 Jump Street  ...             [Jonah Hill, Channing Tatum, Ice Cube]\n",
       "...                              ...  ...                                                ...\n",
       "5768                    Transformers  ...        [Shia LaBeouf, Josh Duhamel, Tyrese Gibson]\n",
       "5769                    Transformers  ...  [Shia LaBeouf, Megan Fox, Josh Duhamel, Tyrese...\n",
       "5770  Transformers: Dark of the Moon  ...        [Shia LaBeouf, Josh Duhamel, Tyrese Gibson]\n",
       "5807               X-Men: Apocalypse  ...  [Michael Fassbender, James McAvoy, Jennifer La...\n",
       "5808      X-Men: Days of Future Past  ...                    [Hugh Jackman, Patrick Stewart]\n",
       "\n",
       "[171 rows x 3 columns]"
      ]
     },
     "execution_count": 342,
     "metadata": {},
     "output_type": "execute_result"
    }
   ],
   "source": [
    "result3 = deformed_df3.groupby(by=['Title_left','Title_right'])['Actor'].apply(list).reset_index(name='Actors')\n",
    "result3 = result3[result3['Actors'].str.len()>1]\n",
    "# result3.head()\n",
    "result3"
   ]
  },
  {
   "cell_type": "markdown",
   "metadata": {
    "id": "WCg36-woAdNY"
   },
   "source": [
    "##د"
   ]
  },
  {
   "cell_type": "code",
   "execution_count": 305,
   "metadata": {
    "colab": {
     "base_uri": "https://localhost:8080/"
    },
    "id": "_hsQaRNEAeg1",
    "outputId": "03f7ce80-e0f3-4c79-e817-7b29a173e44a"
   },
   "outputs": [
    {
     "data": {
      "text/plain": [
       "array(['Action', 'Adventure', 'Sci-Fi', 'Comedy', 'Drama', 'Music',\n",
       "       'Biography', 'History', 'Mystery', 'Fantasy', 'War', 'Crime',\n",
       "       'Thriller', 'Western', 'Romance', 'Sport', 'Musical', 'Family',\n",
       "       'Animation', 'Horror'], dtype=object)"
      ]
     },
     "execution_count": 305,
     "metadata": {},
     "output_type": "execute_result"
    }
   ],
   "source": [
    "df4 = df[(df['Runtime (Minutes)']>110) & (7.5<df.Rating) & (df.Rating<8.5)]\n",
    "# display(df4.head(5))\n",
    "geners4 = pd.Series(df4.Genre.str.split(',').sum()).unique()\n",
    "geners4"
   ]
  },
  {
   "cell_type": "markdown",
   "metadata": {
    "id": "p2QMlbW4CJS4"
   },
   "source": [
    "##ه"
   ]
  },
  {
   "cell_type": "code",
   "execution_count": null,
   "metadata": {
    "id": "F3GzTN8TCLQG"
   },
   "outputs": [],
   "source": [
    "deformed_df5 = df.reindex(df.index.repeat(df.Actors.str.split(',').str.len()))\n",
    "deformed_df5['Actor'] = df.Actors.str.split(',').sum()\n",
    "deformed_df5 = deformed_df5[['Actor','Title']]\n",
    "deformed_df5.head(10)"
   ]
  }
 ],
 "metadata": {
  "colab": {
   "collapsed_sections": [
    "1t_feuOXL50K",
    "WCg36-woAdNY",
    "p2QMlbW4CJS4"
   ],
   "name": "q1.ipynb",
   "provenance": []
  },
  "kernelspec": {
   "display_name": "Python 3",
   "name": "python3"
  },
  "language_info": {
   "codemirror_mode": {
    "name": "ipython",
    "version": 3
   },
   "file_extension": ".py",
   "mimetype": "text/x-python",
   "name": "python",
   "nbconvert_exporter": "python",
   "pygments_lexer": "ipython3",
   "version": "3.9.7"
  }
 },
 "nbformat": 4,
 "nbformat_minor": 0
}
