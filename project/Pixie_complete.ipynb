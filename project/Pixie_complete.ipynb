{
 "cells": [
  {
   "cell_type": "markdown",
   "metadata": {},
   "source": [
    "# Pixie Complete"
   ]
  },
  {
   "cell_type": "markdown",
   "metadata": {},
   "source": [
    "### Initialize"
   ]
  },
  {
   "cell_type": "code",
   "execution_count": 1,
   "metadata": {},
   "outputs": [
    {
     "name": "stderr",
     "output_type": "stream",
     "text": [
      "22/02/14 12:14:54 WARN Utils: Your hostname, fatemeh-ZenBook-13-UX310UFR resolves to a loopback address: 127.0.1.1; using 192.168.1.103 instead (on interface wlp2s0)\n",
      "22/02/14 12:14:54 WARN Utils: Set SPARK_LOCAL_IP if you need to bind to another address\n",
      "WARNING: An illegal reflective access operation has occurred\n",
      "WARNING: Illegal reflective access by org.apache.spark.unsafe.Platform (file:/home/fatemeh/uni/Term7/Dig%20Data/HW3/big_data_env/lib/python3.8/site-packages/pyspark/jars/spark-unsafe_2.12-3.2.0.jar) to constructor java.nio.DirectByteBuffer(long,int)\n",
      "WARNING: Please consider reporting this to the maintainers of org.apache.spark.unsafe.Platform\n",
      "WARNING: Use --illegal-access=warn to enable warnings of further illegal reflective access operations\n",
      "WARNING: All illegal access operations will be denied in a future release\n",
      "Using Spark's default log4j profile: org/apache/spark/log4j-defaults.properties\n",
      "Setting default log level to \"WARN\".\n",
      "To adjust logging level use sc.setLogLevel(newLevel). For SparkR, use setLogLevel(newLevel).\n",
      "22/02/14 12:14:55 WARN NativeCodeLoader: Unable to load native-hadoop library for your platform... using builtin-java classes where applicable\n",
      "22/02/14 12:14:56 WARN Utils: Service 'SparkUI' could not bind on port 4040. Attempting port 4041.\n",
      "22/02/14 12:14:56 WARN Utils: Service 'SparkUI' could not bind on port 4041. Attempting port 4042.\n"
     ]
    }
   ],
   "source": [
    "from pyspark.sql import SparkSession\n",
    "from pyspark.sql.types import StructType,StructField, StringType, IntegerType,TimestampType\n",
    "\n",
    "spark = SparkSession \\\n",
    "    .builder \\\n",
    "    .appName(\"Spark_Processor\") \\\n",
    "    .master(\"local[*]\") \\\n",
    "    .getOrCreate()\n",
    "\n",
    "sc = spark.sparkContext\n",
    "\n",
    "schema = StructType([ \\\n",
    "        StructField(\"DEVICE_CODE\", IntegerType(), True), \n",
    "        StructField(\"SYSTEM_ID\",IntegerType(),True), \\\n",
    "        StructField(\"ORIGINE_CAR_KEY\",IntegerType(),True), \\\n",
    "        StructField(\"FINAL_CAR_KEY\", IntegerType(),True), \\\n",
    "        StructField(\"CHECK_STATUS_KEY\", IntegerType(), True), \\\n",
    "        StructField(\"COMPANY_ID\", StringType(), True), \\\n",
    "        StructField(\"PASS_DAY_TIME\", TimestampType(), True)\n",
    "    ])"
   ]
  },
  {
   "cell_type": "code",
   "execution_count": 2,
   "metadata": {},
   "outputs": [
    {
     "name": "stdout",
     "output_type": "stream",
     "text": [
      "+-----------+---------+---------------+-------------+----------------+----------+-------------------+\n",
      "|DEVICE_CODE|SYSTEM_ID|ORIGINE_CAR_KEY|FINAL_CAR_KEY|CHECK_STATUS_KEY|COMPANY_ID|      PASS_DAY_TIME|\n",
      "+-----------+---------+---------------+-------------+----------------+----------+-------------------+\n",
      "|     200501|       81|       10477885|     10477885|               5|       161|2021-06-01 03:54:39|\n",
      "+-----------+---------+---------------+-------------+----------------+----------+-------------------+\n",
      "only showing top 1 row\n",
      "\n"
     ]
    }
   ],
   "source": [
    "df = spark.read.csv('Traffic.csv',header=True,schema=schema)\n",
    "df.show(1)"
   ]
  },
  {
   "cell_type": "markdown",
   "metadata": {},
   "source": [
    "##### Remove 8th day"
   ]
  },
  {
   "cell_type": "code",
   "execution_count": 3,
   "metadata": {},
   "outputs": [
    {
     "name": "stdout",
     "output_type": "stream",
     "text": [
      "+-----------+---------+---------------+-------------+----------------+----------+-------------------+---+\n",
      "|DEVICE_CODE|SYSTEM_ID|ORIGINE_CAR_KEY|FINAL_CAR_KEY|CHECK_STATUS_KEY|COMPANY_ID|      PASS_DAY_TIME|day|\n",
      "+-----------+---------+---------------+-------------+----------------+----------+-------------------+---+\n",
      "|     200501|       81|       10477885|     10477885|               5|       161|2021-06-01 03:54:39|152|\n",
      "+-----------+---------+---------------+-------------+----------------+----------+-------------------+---+\n",
      "only showing top 1 row\n",
      "\n"
     ]
    }
   ],
   "source": [
    "from pyspark.sql.functions import dayofyear\n",
    "df = df.withColumn('day', dayofyear(df.PASS_DAY_TIME))\n",
    "df = df.filter(df.day != 159)\n",
    "df.show(1)"
   ]
  },
  {
   "cell_type": "code",
   "execution_count": 4,
   "metadata": {},
   "outputs": [
    {
     "name": "stderr",
     "output_type": "stream",
     "text": [
      "[Stage 4:>                                                          (0 + 1) / 1]\r"
     ]
    },
    {
     "name": "stdout",
     "output_type": "stream",
     "text": [
      "+-----------+---------+---------------+-------------+----------------+----------+-------------------+---+-----+\n",
      "|DEVICE_CODE|SYSTEM_ID|ORIGINE_CAR_KEY|FINAL_CAR_KEY|CHECK_STATUS_KEY|COMPANY_ID|      PASS_DAY_TIME|day|count|\n",
      "+-----------+---------+---------------+-------------+----------------+----------+-------------------+---+-----+\n",
      "|     803001|      102|        7631929|      7631929|               6|       161|2021-06-01 10:37:55|152|    1|\n",
      "|   22010048|      284|        7631930|      7631930|               5|       161|2021-06-02 13:21:00|153|    1|\n",
      "|     900158|      283|        7631979|      7631979|               5|       264|2021-06-06 12:30:50|157|    9|\n",
      "|  100700881|      283|        7631979|      7631979|               5|       264|2021-06-06 17:46:08|157|    9|\n",
      "|     900222|      283|        7631979|      7631979|               5|       264|2021-06-06 17:49:52|157|    9|\n",
      "+-----------+---------+---------------+-------------+----------------+----------+-------------------+---+-----+\n",
      "only showing top 5 rows\n",
      "\n"
     ]
    },
    {
     "name": "stderr",
     "output_type": "stream",
     "text": [
      "                                                                                \r"
     ]
    }
   ],
   "source": [
    "\n",
    "from pyspark.sql.functions import hour,dayofweek, count\n",
    "from pyspark.sql.window import Window\n",
    "\n",
    "window = Window.partitionBy('FINAL_CAR_KEY')\n",
    "df_with_car_count = df.withColumn('count', count('FINAL_CAR_KEY').over(window))\n",
    "df_cleaned = df_with_car_count.filter(df_with_car_count['count'] < 1000)\n",
    "df_cleaned.show(5)"
   ]
  },
  {
   "cell_type": "markdown",
   "metadata": {},
   "source": [
    "### Main Code"
   ]
  },
  {
   "cell_type": "code",
   "execution_count": 5,
   "metadata": {},
   "outputs": [],
   "source": [
    "weekday = 1\n",
    "hour = 18"
   ]
  },
  {
   "cell_type": "code",
   "execution_count": 6,
   "metadata": {},
   "outputs": [
    {
     "name": "stderr",
     "output_type": "stream",
     "text": [
      "[Stage 5:==================================>                       (9 + 6) / 15]\r"
     ]
    }
   ],
   "source": [
    "from pyspark.sql.functions import hour,dayofweek\n",
    "\n",
    "df_with_time_columns = df_cleaned.withColumn('weekday', dayofweek(df.PASS_DAY_TIME))\n",
    "df_with_time_columns = df_with_time_columns.withColumn('day_hour', hour(df.PASS_DAY_TIME))\n",
    "df_with_time_columns = df_with_time_columns.select('DEVICE_CODE', 'FINAL_CAR_KEY', 'weekday', 'day_hour')\n",
    "df_with_time_columns.show(5)"
   ]
  },
  {
   "cell_type": "code",
   "execution_count": null,
   "metadata": {},
   "outputs": [
    {
     "name": "stderr",
     "output_type": "stream",
     "text": [
      "[Stage 16:>                                                         (0 + 1) / 1]\r"
     ]
    },
    {
     "name": "stdout",
     "output_type": "stream",
     "text": [
      "+-----------+-------------+-------+--------+\n",
      "|DEVICE_CODE|FINAL_CAR_KEY|weekday|day_hour|\n",
      "+-----------+-------------+-------+--------+\n",
      "|     900158|      7631979|      1|      12|\n",
      "+-----------+-------------+-------+--------+\n",
      "only showing top 1 row\n",
      "\n"
     ]
    },
    {
     "name": "stderr",
     "output_type": "stream",
     "text": [
      "                                                                                \r"
     ]
    }
   ],
   "source": [
    "import pyspark.sql.functions as f\n",
    "df_in_hour = df_with_time_columns.filter(df_with_time_columns['weekday'] == weekday)\n",
    "df_in_hour.show(1)"
   ]
  },
  {
   "cell_type": "code",
   "execution_count": null,
   "metadata": {},
   "outputs": [
    {
     "name": "stderr",
     "output_type": "stream",
     "text": [
      "[Stage 17:====================================================>   (14 + 1) / 15]\r"
     ]
    },
    {
     "name": "stdout",
     "output_type": "stream",
     "text": [
      "+-----------+-------------+-------+--------+\n",
      "|DEVICE_CODE|FINAL_CAR_KEY|weekday|day_hour|\n",
      "+-----------+-------------+-------+--------+\n",
      "|     900235|      7631981|      1|      18|\n",
      "|     209103|      7631981|      1|      18|\n",
      "+-----------+-------------+-------+--------+\n",
      "only showing top 2 rows\n",
      "\n"
     ]
    },
    {
     "name": "stderr",
     "output_type": "stream",
     "text": [
      "                                                                                \r"
     ]
    }
   ],
   "source": [
    "df_final = df_in_hour.filter(df_in_hour['day_hour'] == hour)\n",
    "df_final.show(2)"
   ]
  },
  {
   "cell_type": "code",
   "execution_count": null,
   "metadata": {},
   "outputs": [
    {
     "name": "stderr",
     "output_type": "stream",
     "text": [
      "                                                                                \r"
     ]
    },
    {
     "name": "stdout",
     "output_type": "stream",
     "text": [
      "15364\n"
     ]
    },
    {
     "name": "stderr",
     "output_type": "stream",
     "text": [
      "[Stage 29:====================================================>   (14 + 1) / 15]\r"
     ]
    },
    {
     "name": "stdout",
     "output_type": "stream",
     "text": [
      "+-----------+-------------+-------+--------+\n",
      "|DEVICE_CODE|FINAL_CAR_KEY|weekday|day_hour|\n",
      "+-----------+-------------+-------+--------+\n",
      "|     631368|      7633351|      1|      18|\n",
      "|     900247|      7633351|      1|      18|\n",
      "|        145|      7633351|      1|      18|\n",
      "|     900164|      7633351|      1|      18|\n",
      "|  100700841|      7633351|      1|      20|\n",
      "+-----------+-------------+-------+--------+\n",
      "only showing top 5 rows\n",
      "\n"
     ]
    },
    {
     "name": "stderr",
     "output_type": "stream",
     "text": [
      "                                                                                \r"
     ]
    }
   ],
   "source": [
    "car_counts = df_final.groupBy('FINAL_CAR_KEY').count()\n",
    "traffic_cars = car_counts.filter(car_counts['count'] < 1000).sort('count', ascending=False).select('FINAL_CAR_KEY').take(1000)\n",
    "traffic_cars = [x.FINAL_CAR_KEY for x in traffic_cars]\n",
    "top_cars_df = df_in_hour.filter(df.FINAL_CAR_KEY.isin(traffic_cars))\n",
    "# print(top_cars_df.count())\n",
    "top_cars_df.show(5)"
   ]
  },
  {
   "cell_type": "markdown",
   "metadata": {},
   "source": [
    "<h5 dir=\"rtl\">\n",
    " این مرحله، \n",
    " df\n",
    " را به صورتی در می‌آورد که نشان‌دهنده‌ی یال‌های گراف ما باشد.  \n",
    "</h5> \n"
   ]
  },
  {
   "cell_type": "code",
   "execution_count": null,
   "metadata": {},
   "outputs": [
    {
     "name": "stderr",
     "output_type": "stream",
     "text": [
      "[Stage 32:============================================>           (12 + 3) / 15]\r"
     ]
    },
    {
     "name": "stdout",
     "output_type": "stream",
     "text": [
      "+-----------+-------------+-----+\n",
      "|DEVICE_CODE|FINAL_CAR_KEY|count|\n",
      "+-----------+-------------+-----+\n",
      "|     631368|      7633351|    1|\n",
      "|     900247|      7633351|    1|\n",
      "|        145|      7633351|    1|\n",
      "|     900164|      7633351|    1|\n",
      "|  100700841|      7633351|    1|\n",
      "+-----------+-------------+-----+\n",
      "only showing top 5 rows\n",
      "\n"
     ]
    },
    {
     "name": "stderr",
     "output_type": "stream",
     "text": [
      "                                                                                \r"
     ]
    }
   ],
   "source": [
    "camera_car_df = top_cars_df.groupBy('DEVICE_CODE', 'FINAL_CAR_KEY').count()\n",
    "camera_car_df.show(5)"
   ]
  },
  {
   "cell_type": "markdown",
   "metadata": {},
   "source": [
    "<h5 dir=\"rtl\">\n",
    " سپس ماشین‌ها و دوربین‌ها را اندیس گذاری می‌کنیم.  \n",
    "</h5> \n"
   ]
  },
  {
   "cell_type": "code",
   "execution_count": null,
   "metadata": {},
   "outputs": [
    {
     "name": "stderr",
     "output_type": "stream",
     "text": [
      "[Stage 47:=========================================>              (11 + 4) / 15]\r"
     ]
    },
    {
     "name": "stdout",
     "output_type": "stream",
     "text": [
      "+-----------+-------------+-----+---------+------------+\n",
      "|DEVICE_CODE|FINAL_CAR_KEY|count|CAR_INDEX|CAMERA_INDEX|\n",
      "+-----------+-------------+-----+---------+------------+\n",
      "|     631368|      7633351|    1|    577.0|        42.0|\n",
      "|     900247|      7633351|    1|    577.0|       107.0|\n",
      "|        145|      7633351|    1|    577.0|        41.0|\n",
      "|     900164|      7633351|    1|    577.0|        25.0|\n",
      "|  100700841|      7633351|    1|    577.0|         7.0|\n",
      "+-----------+-------------+-----+---------+------------+\n",
      "only showing top 5 rows\n",
      "\n"
     ]
    },
    {
     "name": "stderr",
     "output_type": "stream",
     "text": [
      "                                                                                \r"
     ]
    }
   ],
   "source": [
    "from pyspark.ml.feature import StringIndexer\n",
    "\n",
    "camera_car_indexed_df = StringIndexer(inputCol='FINAL_CAR_KEY', outputCol='CAR_INDEX').fit(camera_car_df).transform(camera_car_df)\n",
    "camera_car_indexed_df = StringIndexer(inputCol='DEVICE_CODE', outputCol='CAMERA_INDEX').fit(camera_car_indexed_df).transform(camera_car_indexed_df)\n",
    "\n",
    "camera_car_indexed_df.show(5)"
   ]
  },
  {
   "cell_type": "markdown",
   "metadata": {},
   "source": [
    "<h5 dir=\"rtl\">\n",
    " حال در دو\n",
    " rdd\n",
    " متفاوت، یال‌های خارج شونده‌ از هر ماشین، و هر دوربین را نگه می‌داریم. \n",
    "</h5> \n"
   ]
  },
  {
   "cell_type": "code",
   "execution_count": null,
   "metadata": {},
   "outputs": [
    {
     "name": "stderr",
     "output_type": "stream",
     "text": [
      "                                                                                \r"
     ]
    }
   ],
   "source": [
    "cars_edges = camera_car_indexed_df.rdd.map(lambda x: (int(x.CAR_INDEX), int(x.CAMERA_INDEX))).groupByKey().mapValues(list).sortByKey()\n",
    "camera_edges = camera_car_indexed_df.rdd.map(lambda x: (int(x.CAMERA_INDEX), int(x.CAR_INDEX))).groupByKey().mapValues(list).sortByKey()\n",
    "CAR_COUNT = cars_edges.count()\n",
    "CAMERA_COUNT = camera_edges.count()\n",
    "# cars_edges.take(2)\n",
    "# camera_edges.take(2)"
   ]
  },
  {
   "cell_type": "markdown",
   "metadata": {},
   "source": [
    "<h5 dir=\"rtl\">\n",
    " اکنون با استفاده از الگوریتم \n",
    " Pixie\n",
    " می‌توانیم نزدیک ترین دوربین به هر دوربین دیگر را به دست آوریم. در مورد معنی «نزدیک ترین» در مستند ارائه شده در بخش \n",
    " Pixie\n",
    " صحبت کرده‌ام. دوربین کوئری من به صورت رندم انتخاب شده است (متغیر\n",
    " query_camera).\n",
    "</h5> \n"
   ]
  },
  {
   "cell_type": "markdown",
   "metadata": {},
   "source": [
    "<h5 dir=\"rtl\">\n",
    " متغیر \n",
    " alpha\n",
    " نشان دهنده‌ی احتمالی است که به راس اولیه بازمی‌گردیم. تعداد مراحل الگوریتم نیز با متغیر \n",
    " steps\n",
    " مشخص می‌شود. \n",
    "</h5> \n"
   ]
  },
  {
   "cell_type": "code",
   "execution_count": null,
   "metadata": {},
   "outputs": [],
   "source": [
    "query_camera = 400\n",
    "query_car = 300\n",
    "STEPS = 1000"
   ]
  },
  {
   "cell_type": "code",
   "execution_count": null,
   "metadata": {},
   "outputs": [],
   "source": [
    "import os\n",
    "import random\n",
    "\n",
    "os.environ['PYTHONHASHSEED'] = '0'\n",
    "\n",
    "def pixie(query_camera, steps=1000):\n",
    "    camera_scores = [0]*CAMERA_COUNT\n",
    "\n",
    "    related_camera = query_camera\n",
    "    alpha = 0.2\n",
    "    for i in range(steps):\n",
    "        if i%100 == 0:\n",
    "            print('i is: ',i)\n",
    "\n",
    "        related_car = camera_edges.lookup(query_camera)[0]\n",
    "        r = random.randint(0, len(related_car)-1)\n",
    "        related_car = related_car[r]\n",
    "\n",
    "        related_camera = cars_edges.lookup(related_car)[0]\n",
    "        r = random.randint(0, len(related_camera)-1)\n",
    "        related_camera = related_camera[r]\n",
    "        camera_scores[related_camera] += 1\n",
    "\n",
    "        r = random.random()\n",
    "        if r < alpha:\n",
    "            related_camera = query_camera\n",
    "\n",
    "    return camera_scores\n",
    "\n",
    "def pixie_on_cars(query_car, steps=1000):\n",
    "    car_scores = [0]*CAR_COUNT\n",
    "\n",
    "    related_car = query_car\n",
    "    alpha = 0.2\n",
    "    for i in range(steps):\n",
    "        if i%100 == 0:\n",
    "            print('i is: ',i)\n",
    "\n",
    "        related_camera = camera_edges.lookup(query_camera)[0]\n",
    "        r = random.randint(0, len(related_camera)-1)\n",
    "        related_camera = related_camera[r]\n",
    "\n",
    "        related_car = cars_edges.lookup(related_car)[0]\n",
    "        r = random.randint(0, len(related_car)-1)\n",
    "        related_car = related_car[r]\n",
    "        car_scores[related_car] += 1\n",
    "\n",
    "        r = random.random()\n",
    "        if r < alpha:\n",
    "            related_car = query_car\n",
    "\n",
    "    return car_scores\n",
    "\n",
    "\n"
   ]
  },
  {
   "cell_type": "code",
   "execution_count": null,
   "metadata": {},
   "outputs": [],
   "source": [
    "def get_top_k(input_list, k, remove=None):\n",
    "    top_k = sorted([(i,x) for i,x in enumerate(input_list)], key = lambda x: -x[1])[:k+1]\n",
    "    if remove:\n",
    "        for x in top_k:\n",
    "            if x[0] == remove:\n",
    "                top_k.remove(x)\n",
    "                return top_k\n",
    "    else:\n",
    "        top_k = top_k[:k]\n",
    "    return top_k"
   ]
  },
  {
   "cell_type": "code",
   "execution_count": null,
   "metadata": {},
   "outputs": [
    {
     "name": "stdout",
     "output_type": "stream",
     "text": [
      "i is:  0\n",
      "i is:  100\n",
      "i is:  200\n",
      "i is:  300\n",
      "i is:  400\n",
      "i is:  500\n",
      "i is:  600\n",
      "i is:  700\n",
      "i is:  800\n",
      "i is:  900\n"
     ]
    }
   ],
   "source": [
    "camera_scores = pixie(query_camera, STEPS)"
   ]
  },
  {
   "cell_type": "markdown",
   "metadata": {},
   "source": [
    "<h5 dir=\"rtl\">\n",
    " تابع زیر یک لیست را به صورت یک نمودار میله‌ای نمایش می‌دهد. \n",
    "</h5> \n"
   ]
  },
  {
   "cell_type": "code",
   "execution_count": null,
   "metadata": {},
   "outputs": [],
   "source": [
    "from matplotlib import pyplot as plt\n",
    "def plot_barchart(input_list, title=None):\n",
    "    fig = plt.figure(figsize = (40, 10))\n",
    "    labels = list(map(lambda x: str(x), range(len(input_list))))\n",
    "    plt.bar(labels, input_list, color='red', width = 0.7)\n",
    "    plt.xticks(rotation='vertical',fontsize=10)\n",
    "    if title:\n",
    "        plt.title(title)\n",
    "    plt.show()"
   ]
  },
  {
   "cell_type": "markdown",
   "metadata": {},
   "source": [
    "<h5 dir=\"rtl\">\n",
    " در این مرحله‌ نتیجه‌ی اجرای الگوریتم برای یک دوربین دلخواه در یک زمان خاص نمایش داده‌شده است. \n",
    "</h5> \n"
   ]
  },
  {
   "cell_type": "code",
   "execution_count": null,
   "metadata": {},
   "outputs": [
    {
     "data": {
      "image/png": "[encoded data removed]",
      "text/plain": [
       "<Figure size 2880x720 with 1 Axes>"
      ]
     },
     "metadata": {
      "needs_background": "light"
     },
     "output_type": "display_data"
    }
   ],
   "source": [
    "plot_barchart(camera_scores)"
   ]
  },
  {
   "cell_type": "code",
   "execution_count": null,
   "metadata": {},
   "outputs": [
    {
     "name": "stdout",
     "output_type": "stream",
     "text": [
      "[(94, 121), (315, 116), (63, 115), (39, 113), (53, 113), (112, 113), (50, 104), (85, 98), (0, 0), (1, 0)]\n"
     ]
    }
   ],
   "source": [
    "top_k = get_top_k(camera_scores, 10, 400)\n",
    "\n",
    "print(top_k)"
   ]
  },
  {
   "cell_type": "code",
   "execution_count": 52,
   "metadata": {},
   "outputs": [
    {
     "name": "stdout",
     "output_type": "stream",
     "text": [
      "i is:  0\n",
      "i is:  100\n",
      "i is:  200\n",
      "i is:  300\n",
      "i is:  400\n",
      "i is:  500\n",
      "i is:  600\n",
      "i is:  700\n",
      "i is:  800\n",
      "i is:  900\n"
     ]
    }
   ],
   "source": [
    "camera_scores2 = pixie(top_k[0][0], STEPS)"
   ]
  },
  {
   "cell_type": "code",
   "execution_count": 53,
   "metadata": {},
   "outputs": [
    {
     "data": {
      "image/png": "[encoded data removed]",
      "text/plain": [
       "<Figure size 2880x720 with 1 Axes>"
      ]
     },
     "metadata": {
      "needs_background": "light"
     },
     "output_type": "display_data"
    }
   ],
   "source": [
    "plot_barchart(camera_scores2)"
   ]
  },
  {
   "cell_type": "markdown",
   "metadata": {},
   "source": [
    "<h5 dir=\"rtl\">\n",
    " حال مشابه همان کار را برای یک ماشین دلخواه انجام می‌دهیم. راجب معنی این نمودار‌ها در مستند توضیح داده‌ام. \n",
    "</h5> \n"
   ]
  },
  {
   "cell_type": "code",
   "execution_count": 18,
   "metadata": {},
   "outputs": [
    {
     "name": "stdout",
     "output_type": "stream",
     "text": [
      "i is:  0\n",
      "i is:  100\n",
      "i is:  200\n",
      "i is:  300\n",
      "i is:  400\n",
      "i is:  500\n",
      "i is:  600\n",
      "i is:  700\n",
      "i is:  800\n",
      "i is:  900\n"
     ]
    }
   ],
   "source": [
    "car_scores = pixie_on_cars(query_car, STEPS)"
   ]
  },
  {
   "cell_type": "code",
   "execution_count": 36,
   "metadata": {},
   "outputs": [
    {
     "data": {
      "image/png": "[encoded data removed]",
      "text/plain": [
       "<Figure size 2880x720 with 1 Axes>"
      ]
     },
     "metadata": {
      "needs_background": "light"
     },
     "output_type": "display_data"
    }
   ],
   "source": [
    "plot_barchart(car_scores)"
   ]
  },
  {
   "cell_type": "markdown",
   "metadata": {},
   "source": [
    "<h5 dir=\"rtl\">\n",
    " در این قسمت نوع «نزدیک»ترین دوربین‌ها به دوربین کوئری را چاپ کرده‌ام. توضیحات لازم را در مستند نوشته‌ام.  \n",
    "</h5> \n"
   ]
  },
  {
   "cell_type": "code",
   "execution_count": null,
   "metadata": {},
   "outputs": [],
   "source": [
    "def get_device_code(camera_index):\n",
    "    device_code = camera_car_indexed_df.filter(camera_car_indexed_df.CAMERA_INDEX == camera_index).take(1)[0]['DEVICE_CODE']\n",
    "    return device_code\n",
    "\n",
    "def get_system_id(device_code):\n",
    "    system_id = top_cars_df.filter(top_cars_df.DEVICE_CODE == device_code).take(1)[0]['SYSTEM_ID']\n",
    "    return system_id\n",
    "\n",
    "def get_system_id_from_index(camera_index):\n",
    "    dc = get_device_code(camera_index)\n",
    "    si = get_system_id(dc)\n",
    "    return si\n",
    "\n",
    "\n"
   ]
  },
  {
   "cell_type": "code",
   "execution_count": null,
   "metadata": {},
   "outputs": [],
   "source": [
    "# print(get_system_id_from_index(query_camera))\n",
    "# for k in top_k:\n",
    "#     print(get_system_id_from_index(k[0]))"
   ]
  },
  {
   "cell_type": "code",
   "execution_count": null,
   "metadata": {},
   "outputs": [
    {
     "name": "stderr",
     "output_type": "stream",
     "text": [
      "                                                                                \r"
     ]
    },
    {
     "name": "stdout",
     "output_type": "stream",
     "text": [
      "query device code is:  147\n",
      "(94, 121)\n"
     ]
    },
    {
     "name": "stderr",
     "output_type": "stream",
     "text": [
      "                                                                                \r"
     ]
    },
    {
     "name": "stdout",
     "output_type": "stream",
     "text": [
      "230106\n",
      "(315, 116)\n"
     ]
    },
    {
     "name": "stderr",
     "output_type": "stream",
     "text": [
      "                                                                                \r"
     ]
    },
    {
     "name": "stdout",
     "output_type": "stream",
     "text": [
      "213202\n",
      "(63, 115)\n"
     ]
    },
    {
     "name": "stderr",
     "output_type": "stream",
     "text": [
      "                                                                                \r"
     ]
    },
    {
     "name": "stdout",
     "output_type": "stream",
     "text": [
      "213402\n",
      "(39, 113)\n"
     ]
    },
    {
     "name": "stderr",
     "output_type": "stream",
     "text": [
      "                                                                                \r"
     ]
    },
    {
     "name": "stdout",
     "output_type": "stream",
     "text": [
      "900221\n",
      "(53, 113)\n"
     ]
    },
    {
     "name": "stderr",
     "output_type": "stream",
     "text": [
      "[Stage 6122:>                                                      (0 + 8) / 15]\r"
     ]
    }
   ],
   "source": [
    "device_code = get_device_code(query_camera)\n",
    "print('query device code is: ', device_code)\n",
    "top_k_device_code = []\n",
    "for k in top_k:\n",
    "    print(k)\n",
    "    device_code_loop = get_device_code(k[0])\n",
    "    print(device_code_loop)\n",
    "    top_k_device_code.append(device_code_loop)\n",
    "\n",
    "print(top_k_device_code)\n"
   ]
  },
  {
   "cell_type": "code",
   "execution_count": null,
   "metadata": {},
   "outputs": [
    {
     "name": "stdout",
     "output_type": "stream",
     "text": [
      "+-----------+---------+---------------+-------------+----------------+----------+-------------------+---+\n",
      "|DEVICE_CODE|SYSTEM_ID|ORIGINE_CAR_KEY|FINAL_CAR_KEY|CHECK_STATUS_KEY|COMPANY_ID|      PASS_DAY_TIME|day|\n",
      "+-----------+---------+---------------+-------------+----------------+----------+-------------------+---+\n",
      "|     213402|       81|       10262304|     10262304|               5|       161|2021-06-01 04:04:16|152|\n",
      "|     213402|       81|       10893216|     10893216|               5|       161|2021-06-01 03:53:24|152|\n",
      "|     213402|       81|       11608284|     11608284|               5|       161|2021-06-01 04:12:32|152|\n",
      "|     213402|       81|       14230233|     14230233|               5|       161|2021-06-01 03:51:06|152|\n",
      "|     213402|       81|        7749542|      7749542|               5|       161|2021-06-01 04:00:45|152|\n",
      "+-----------+---------+---------------+-------------+----------------+----------+-------------------+---+\n",
      "only showing top 5 rows\n",
      "\n"
     ]
    }
   ],
   "source": [
    "cluster = df.filter(df.DEVICE_CODE.isin(top_k_device_code + [device_code]))\n",
    "cluster.show(5)"
   ]
  },
  {
   "cell_type": "code",
   "execution_count": null,
   "metadata": {},
   "outputs": [
    {
     "name": "stderr",
     "output_type": "stream",
     "text": [
      "                                                                                \r"
     ]
    },
    {
     "data": {
      "text/plain": [
       "[(213402,\n",
       "  [92,\n",
       "   56,\n",
       "   21,\n",
       "   40,\n",
       "   24,\n",
       "   57,\n",
       "   114,\n",
       "   171,\n",
       "   183,\n",
       "   321,\n",
       "   424,\n",
       "   417,\n",
       "   364,\n",
       "   432,\n",
       "   380,\n",
       "   431,\n",
       "   409,\n",
       "   526,\n",
       "   624,\n",
       "   665,\n",
       "   607,\n",
       "   523,\n",
       "   207,\n",
       "   140,\n",
       "   93,\n",
       "   47,\n",
       "   27,\n",
       "   16,\n",
       "   32,\n",
       "   161,\n",
       "   659,\n",
       "   481,\n",
       "   568,\n",
       "   562,\n",
       "   443,\n",
       "   284,\n",
       "   149,\n",
       "   245,\n",
       "   301,\n",
       "   413,\n",
       "   597,\n",
       "   436,\n",
       "   705,\n",
       "   673,\n",
       "   531,\n",
       "   398,\n",
       "   129,\n",
       "   132,\n",
       "   88,\n",
       "   42,\n",
       "   24,\n",
       "   30,\n",
       "   47,\n",
       "   173,\n",
       "   704,\n",
       "   423,\n",
       "   537,\n",
       "   465,\n",
       "   390,\n",
       "   332,\n",
       "   99,\n",
       "   133,\n",
       "   376,\n",
       "   385,\n",
       "   530,\n",
       "   593,\n",
       "   667,\n",
       "   633,\n",
       "   659,\n",
       "   492,\n",
       "   201,\n",
       "   135,\n",
       "   68,\n",
       "   41,\n",
       "   10,\n",
       "   25,\n",
       "   33,\n",
       "   139,\n",
       "   596,\n",
       "   343,\n",
       "   614,\n",
       "   599,\n",
       "   488,\n",
       "   302,\n",
       "   141,\n",
       "   199,\n",
       "   355,\n",
       "   375,\n",
       "   559,\n",
       "   605,\n",
       "   536,\n",
       "   582,\n",
       "   599,\n",
       "   432,\n",
       "   177,\n",
       "   120,\n",
       "   78,\n",
       "   51,\n",
       "   35,\n",
       "   19,\n",
       "   34,\n",
       "   116,\n",
       "   333,\n",
       "   406,\n",
       "   469,\n",
       "   554,\n",
       "   435,\n",
       "   389,\n",
       "   219,\n",
       "   556,\n",
       "   676,\n",
       "   477,\n",
       "   498,\n",
       "   470,\n",
       "   553,\n",
       "   672,\n",
       "   607,\n",
       "   516,\n",
       "   207,\n",
       "   158,\n",
       "   102,\n",
       "   53,\n",
       "   27,\n",
       "   48,\n",
       "   46,\n",
       "   56,\n",
       "   107,\n",
       "   109,\n",
       "   199,\n",
       "   282,\n",
       "   322,\n",
       "   423,\n",
       "   390,\n",
       "   486,\n",
       "   383,\n",
       "   349,\n",
       "   380,\n",
       "   501,\n",
       "   657,\n",
       "   590,\n",
       "   615,\n",
       "   475,\n",
       "   163,\n",
       "   136,\n",
       "   82,\n",
       "   61,\n",
       "   31,\n",
       "   40,\n",
       "   35,\n",
       "   53,\n",
       "   121,\n",
       "   167,\n",
       "   246,\n",
       "   307,\n",
       "   377,\n",
       "   391,\n",
       "   306,\n",
       "   345,\n",
       "   387,\n",
       "   355,\n",
       "   392,\n",
       "   464,\n",
       "   449,\n",
       "   538,\n",
       "   467,\n",
       "   518,\n",
       "   173,\n",
       "   134]),\n",
       " (144,\n",
       "  [8,\n",
       "   13,\n",
       "   2,\n",
       "   8,\n",
       "   4,\n",
       "   18,\n",
       "   86,\n",
       "   113,\n",
       "   122,\n",
       "   144,\n",
       "   196,\n",
       "   284,\n",
       "   294,\n",
       "   265,\n",
       "   247,\n",
       "   209,\n",
       "   216,\n",
       "   288,\n",
       "   394,\n",
       "   383,\n",
       "   108,\n",
       "   48,\n",
       "   16,\n",
       "   18,\n",
       "   17,\n",
       "   13,\n",
       "   6,\n",
       "   5,\n",
       "   8,\n",
       "   87,\n",
       "   747,\n",
       "   947,\n",
       "   589,\n",
       "   324,\n",
       "   239,\n",
       "   257,\n",
       "   265,\n",
       "   265,\n",
       "   255,\n",
       "   229,\n",
       "   346,\n",
       "   360,\n",
       "   355,\n",
       "   338,\n",
       "   166,\n",
       "   39,\n",
       "   16,\n",
       "   15,\n",
       "   7,\n",
       "   7,\n",
       "   6,\n",
       "   1,\n",
       "   7,\n",
       "   46,\n",
       "   729,\n",
       "   910,\n",
       "   669,\n",
       "   307,\n",
       "   357,\n",
       "   254,\n",
       "   367,\n",
       "   301,\n",
       "   321,\n",
       "   263,\n",
       "   376,\n",
       "   332,\n",
       "   357,\n",
       "   468,\n",
       "   156,\n",
       "   32,\n",
       "   18,\n",
       "   16,\n",
       "   13,\n",
       "   6,\n",
       "   2,\n",
       "   5,\n",
       "   5,\n",
       "   51,\n",
       "   639,\n",
       "   891,\n",
       "   626,\n",
       "   336,\n",
       "   319,\n",
       "   310,\n",
       "   308,\n",
       "   281,\n",
       "   282,\n",
       "   283,\n",
       "   369,\n",
       "   342,\n",
       "   374,\n",
       "   407,\n",
       "   150,\n",
       "   46,\n",
       "   13,\n",
       "   10,\n",
       "   18,\n",
       "   5,\n",
       "   2,\n",
       "   8,\n",
       "   2,\n",
       "   29,\n",
       "   290,\n",
       "   425,\n",
       "   389,\n",
       "   314,\n",
       "   338,\n",
       "   316,\n",
       "   341,\n",
       "   473,\n",
       "   432,\n",
       "   303,\n",
       "   262,\n",
       "   348,\n",
       "   380,\n",
       "   378,\n",
       "   131,\n",
       "   72,\n",
       "   21,\n",
       "   16,\n",
       "   12,\n",
       "   6,\n",
       "   2,\n",
       "   5,\n",
       "   4,\n",
       "   13,\n",
       "   75,\n",
       "   111,\n",
       "   120,\n",
       "   159,\n",
       "   200,\n",
       "   236,\n",
       "   313,\n",
       "   325,\n",
       "   216,\n",
       "   205,\n",
       "   192,\n",
       "   232,\n",
       "   328,\n",
       "   350,\n",
       "   93,\n",
       "   77,\n",
       "   20,\n",
       "   17,\n",
       "   11,\n",
       "   4,\n",
       "   7,\n",
       "   3,\n",
       "   8,\n",
       "   26,\n",
       "   92,\n",
       "   113,\n",
       "   140,\n",
       "   142,\n",
       "   148,\n",
       "   211,\n",
       "   273,\n",
       "   254,\n",
       "   205,\n",
       "   176,\n",
       "   186,\n",
       "   229,\n",
       "   280,\n",
       "   309,\n",
       "   97,\n",
       "   41,\n",
       "   17,\n",
       "   15]),\n",
       " (230106,\n",
       "  [33,\n",
       "   24,\n",
       "   16,\n",
       "   16,\n",
       "   13,\n",
       "   20,\n",
       "   44,\n",
       "   31,\n",
       "   67,\n",
       "   130,\n",
       "   174,\n",
       "   196,\n",
       "   217,\n",
       "   214,\n",
       "   195,\n",
       "   147,\n",
       "   168,\n",
       "   183,\n",
       "   300,\n",
       "   286,\n",
       "   244,\n",
       "   192,\n",
       "   68,\n",
       "   44,\n",
       "   37,\n",
       "   3,\n",
       "   11,\n",
       "   9,\n",
       "   15,\n",
       "   72,\n",
       "   518,\n",
       "   692,\n",
       "   505,\n",
       "   390,\n",
       "   363,\n",
       "   292,\n",
       "   292,\n",
       "   245,\n",
       "   234,\n",
       "   158,\n",
       "   242,\n",
       "   240,\n",
       "   377,\n",
       "   311,\n",
       "   255,\n",
       "   163,\n",
       "   31,\n",
       "   23,\n",
       "   27,\n",
       "   18,\n",
       "   15,\n",
       "   14,\n",
       "   24,\n",
       "   84,\n",
       "   548,\n",
       "   716,\n",
       "   605,\n",
       "   421,\n",
       "   421,\n",
       "   269,\n",
       "   271,\n",
       "   186,\n",
       "   204,\n",
       "   148,\n",
       "   298,\n",
       "   223,\n",
       "   248,\n",
       "   255,\n",
       "   253,\n",
       "   196,\n",
       "   58,\n",
       "   40,\n",
       "   22,\n",
       "   19,\n",
       "   8,\n",
       "   13,\n",
       "   20,\n",
       "   81,\n",
       "   469,\n",
       "   627,\n",
       "   527,\n",
       "   364,\n",
       "   341,\n",
       "   256,\n",
       "   229,\n",
       "   200,\n",
       "   148,\n",
       "   151,\n",
       "   198,\n",
       "   216,\n",
       "   235,\n",
       "   320,\n",
       "   224,\n",
       "   203,\n",
       "   62,\n",
       "   39,\n",
       "   29,\n",
       "   19,\n",
       "   14,\n",
       "   15,\n",
       "   15,\n",
       "   52,\n",
       "   206,\n",
       "   329,\n",
       "   339,\n",
       "   323,\n",
       "   355,\n",
       "   280,\n",
       "   217,\n",
       "   240,\n",
       "   323,\n",
       "   191,\n",
       "   229,\n",
       "   260,\n",
       "   271,\n",
       "   372,\n",
       "   284,\n",
       "   239,\n",
       "   68,\n",
       "   52,\n",
       "   36,\n",
       "   19,\n",
       "   18,\n",
       "   18,\n",
       "   23,\n",
       "   26,\n",
       "   61,\n",
       "   75,\n",
       "   76,\n",
       "   139,\n",
       "   187,\n",
       "   201,\n",
       "   260,\n",
       "   216,\n",
       "   141,\n",
       "   124,\n",
       "   155,\n",
       "   196,\n",
       "   237,\n",
       "   254,\n",
       "   215,\n",
       "   270,\n",
       "   62,\n",
       "   51,\n",
       "   29,\n",
       "   20,\n",
       "   24,\n",
       "   18,\n",
       "   12,\n",
       "   16,\n",
       "   64,\n",
       "   74,\n",
       "   112,\n",
       "   153,\n",
       "   183,\n",
       "   181,\n",
       "   220,\n",
       "   166,\n",
       "   174,\n",
       "   135,\n",
       "   153,\n",
       "   165,\n",
       "   194,\n",
       "   217,\n",
       "   196,\n",
       "   147,\n",
       "   57,\n",
       "   32]),\n",
       " (147,\n",
       "  [9,\n",
       "   5,\n",
       "   0,\n",
       "   1,\n",
       "   1,\n",
       "   3,\n",
       "   0,\n",
       "   8,\n",
       "   4,\n",
       "   9,\n",
       "   13,\n",
       "   13,\n",
       "   16,\n",
       "   15,\n",
       "   17,\n",
       "   15,\n",
       "   17,\n",
       "   18,\n",
       "   13,\n",
       "   23,\n",
       "   22,\n",
       "   27,\n",
       "   15,\n",
       "   6,\n",
       "   13,\n",
       "   4,\n",
       "   1,\n",
       "   4,\n",
       "   3,\n",
       "   5,\n",
       "   5,\n",
       "   17,\n",
       "   10,\n",
       "   18,\n",
       "   14,\n",
       "   9,\n",
       "   14,\n",
       "   13,\n",
       "   13,\n",
       "   14,\n",
       "   21,\n",
       "   21,\n",
       "   27,\n",
       "   24,\n",
       "   34,\n",
       "   18,\n",
       "   6,\n",
       "   9,\n",
       "   6,\n",
       "   5,\n",
       "   1,\n",
       "   2,\n",
       "   2,\n",
       "   2,\n",
       "   9,\n",
       "   30,\n",
       "   15,\n",
       "   9,\n",
       "   16,\n",
       "   7,\n",
       "   9,\n",
       "   19,\n",
       "   13,\n",
       "   13,\n",
       "   20,\n",
       "   22,\n",
       "   17,\n",
       "   31,\n",
       "   30,\n",
       "   30,\n",
       "   18,\n",
       "   10,\n",
       "   5,\n",
       "   3,\n",
       "   0,\n",
       "   2,\n",
       "   0,\n",
       "   2,\n",
       "   4,\n",
       "   29,\n",
       "   13,\n",
       "   10,\n",
       "   22,\n",
       "   5,\n",
       "   14,\n",
       "   14,\n",
       "   9,\n",
       "   15,\n",
       "   24,\n",
       "   27,\n",
       "   18,\n",
       "   21,\n",
       "   38,\n",
       "   24,\n",
       "   11,\n",
       "   3,\n",
       "   6,\n",
       "   1,\n",
       "   1,\n",
       "   1,\n",
       "   2,\n",
       "   4,\n",
       "   3,\n",
       "   10,\n",
       "   14,\n",
       "   20,\n",
       "   18,\n",
       "   22,\n",
       "   25,\n",
       "   13,\n",
       "   28,\n",
       "   0,\n",
       "   0,\n",
       "   0,\n",
       "   23,\n",
       "   29,\n",
       "   20,\n",
       "   38,\n",
       "   8,\n",
       "   8,\n",
       "   8,\n",
       "   7,\n",
       "   0,\n",
       "   3,\n",
       "   0,\n",
       "   0,\n",
       "   1,\n",
       "   7,\n",
       "   7,\n",
       "   13,\n",
       "   12,\n",
       "   15,\n",
       "   6,\n",
       "   21,\n",
       "   10,\n",
       "   10,\n",
       "   10,\n",
       "   11,\n",
       "   14,\n",
       "   17,\n",
       "   22,\n",
       "   26,\n",
       "   14,\n",
       "   8,\n",
       "   7,\n",
       "   3,\n",
       "   1,\n",
       "   4,\n",
       "   0,\n",
       "   1,\n",
       "   3,\n",
       "   5,\n",
       "   5,\n",
       "   10,\n",
       "   7,\n",
       "   8,\n",
       "   10,\n",
       "   15,\n",
       "   12,\n",
       "   14,\n",
       "   11,\n",
       "   20,\n",
       "   23,\n",
       "   30,\n",
       "   9,\n",
       "   22,\n",
       "   8,\n",
       "   7]),\n",
       " (900221,\n",
       "  [34,\n",
       "   37,\n",
       "   29,\n",
       "   21,\n",
       "   23,\n",
       "   24,\n",
       "   86,\n",
       "   105,\n",
       "   129,\n",
       "   167,\n",
       "   239,\n",
       "   285,\n",
       "   368,\n",
       "   367,\n",
       "   318,\n",
       "   250,\n",
       "   322,\n",
       "   362,\n",
       "   480,\n",
       "   586,\n",
       "   571,\n",
       "   418,\n",
       "   124,\n",
       "   75,\n",
       "   49,\n",
       "   36,\n",
       "   15,\n",
       "   19,\n",
       "   32,\n",
       "   78,\n",
       "   338,\n",
       "   670,\n",
       "   445,\n",
       "   348,\n",
       "   340,\n",
       "   391,\n",
       "   377,\n",
       "   307,\n",
       "   419,\n",
       "   507,\n",
       "   463,\n",
       "   659,\n",
       "   594,\n",
       "   604,\n",
       "   572,\n",
       "   370,\n",
       "   104,\n",
       "   73,\n",
       "   40,\n",
       "   31,\n",
       "   18,\n",
       "   16,\n",
       "   24,\n",
       "   66,\n",
       "   378,\n",
       "   677,\n",
       "   508,\n",
       "   357,\n",
       "   392,\n",
       "   353,\n",
       "   375,\n",
       "   354,\n",
       "   503,\n",
       "   466,\n",
       "   473,\n",
       "   488,\n",
       "   551,\n",
       "   577,\n",
       "   548,\n",
       "   439,\n",
       "   111,\n",
       "   67,\n",
       "   46,\n",
       "   27,\n",
       "   17,\n",
       "   13,\n",
       "   18,\n",
       "   73,\n",
       "   346,\n",
       "   634,\n",
       "   490,\n",
       "   300,\n",
       "   357,\n",
       "   379,\n",
       "   332,\n",
       "   328,\n",
       "   448,\n",
       "   480,\n",
       "   472,\n",
       "   583,\n",
       "   584,\n",
       "   547,\n",
       "   500,\n",
       "   445,\n",
       "   107,\n",
       "   83,\n",
       "   31,\n",
       "   17,\n",
       "   15,\n",
       "   22,\n",
       "   21,\n",
       "   60,\n",
       "   167,\n",
       "   300,\n",
       "   315,\n",
       "   291,\n",
       "   325,\n",
       "   361,\n",
       "   446,\n",
       "   569,\n",
       "   585,\n",
       "   516,\n",
       "   403,\n",
       "   492,\n",
       "   569,\n",
       "   551,\n",
       "   667,\n",
       "   519,\n",
       "   117,\n",
       "   103,\n",
       "   56,\n",
       "   33,\n",
       "   16,\n",
       "   26,\n",
       "   24,\n",
       "   34,\n",
       "   80,\n",
       "   124,\n",
       "   127,\n",
       "   148,\n",
       "   221,\n",
       "   330,\n",
       "   460,\n",
       "   433,\n",
       "   329,\n",
       "   244,\n",
       "   257,\n",
       "   305,\n",
       "   398,\n",
       "   510,\n",
       "   467,\n",
       "   465,\n",
       "   114,\n",
       "   65,\n",
       "   55,\n",
       "   45,\n",
       "   24,\n",
       "   28,\n",
       "   15,\n",
       "   29,\n",
       "   92,\n",
       "   104,\n",
       "   134,\n",
       "   161,\n",
       "   221,\n",
       "   303,\n",
       "   343,\n",
       "   350,\n",
       "   315,\n",
       "   250,\n",
       "   261,\n",
       "   300,\n",
       "   383,\n",
       "   452,\n",
       "   418,\n",
       "   345,\n",
       "   124,\n",
       "   66])]"
      ]
     },
     "execution_count": 43,
     "metadata": {},
     "output_type": "execute_result"
    }
   ],
   "source": [
    "from pyspark.sql import functions\n",
    "df_with_time_columns = cluster.withColumn('time', (dayofweek(df.PASS_DAY_TIME)-1)*24 + functions.hour(df.PASS_DAY_TIME))\n",
    "df_with_time_columns = df_with_time_columns.select('DEVICE_CODE', 'FINAL_CAR_KEY', 'time')\n",
    "df2 = df_with_time_columns.groupBy('DEVICE_CODE', 'time').count()\n",
    "\n",
    "\n",
    "def convert_to_vector(x):\n",
    "    camera = x[0]\n",
    "    daily_list = x[1]\n",
    "    vector = [0]*24*7\n",
    "    for y in daily_list:\n",
    "        index = y[0]\n",
    "        count = y[1]\n",
    "        vector[index] = count\n",
    "\n",
    "    return (camera, vector)\n",
    "\n",
    "\n",
    "camera_vectors = df2.rdd.map(lambda x: \n",
    "    (\n",
    "    x['DEVICE_CODE'], \n",
    "    (\n",
    "        x['time'],\n",
    "        x['count']\n",
    "    )\n",
    "    )\n",
    ").groupByKey().mapValues(list).map(convert_to_vector)\n",
    "\n",
    "camera_vectors.take(5)\n"
   ]
  },
  {
   "cell_type": "code",
   "execution_count": null,
   "metadata": {},
   "outputs": [
    {
     "data": {
      "image/png": "[encoded data removed]",
      "text/plain": [
       "<Figure size 2880x576 with 1 Axes>"
      ]
     },
     "metadata": {
      "needs_background": "light"
     },
     "output_type": "display_data"
    }
   ],
   "source": [
    "\n",
    "import matplotlib.pyplot as plt\n",
    "vectors = camera_vectors.collect()\n",
    "sum_list = [0]*24*7\n",
    "for v in vectors:\n",
    "    for i, value in enumerate(v[1]):\n",
    "        sum_list[i] += value\n",
    "\n",
    "avg_list = list(map(lambda x: x/len(vectors), sum_list))\n",
    "\n",
    "\n",
    "\n",
    "\n",
    "fig = plt.figure(figsize = (40, 8))\n",
    "labels = list(map(lambda x: str(x), range(24*7)))\n",
    "plt.bar(labels, avg_list, color ='black', width = 0.7)\n",
    "plt.xticks(rotation='vertical', fontsize=9)\n",
    "plt.show()"
   ]
  },
  {
   "cell_type": "code",
   "execution_count": null,
   "metadata": {},
   "outputs": [],
   "source": [
    "for v in vectors:\n",
    "    fig = plt.figure(figsize = (40, 8))\n",
    "    labels = list(map(lambda x: str(x), range(24*7)))\n",
    "    plt.bar(labels, vectors[1], color ='black', width = 0.7)\n",
    "    plt.xticks(rotation='vertical', fontsize=9)\n",
    "    plt.show()\n"
   ]
  }
 ],
 "metadata": {
  "interpreter": {
   "hash": "ae917f7814ccb34d4acac350c21a9b5c6bba089bcf202fb1054d30d044271271"
  },
  "kernelspec": {
   "display_name": "Python 3.9.7 64-bit ('HW-QXNApxFg': pipenv)",
   "language": "python",
   "name": "python3"
  },
  "language_info": {
   "codemirror_mode": {
    "name": "ipython",
    "version": 3
   },
   "file_extension": ".py",
   "mimetype": "text/x-python",
   "name": "python",
   "nbconvert_exporter": "python",
   "pygments_lexer": "ipython3",
   "version": "3.8.10"
  },
  "orig_nbformat": 4
 },
 "nbformat": 4,
 "nbformat_minor": 2
}
