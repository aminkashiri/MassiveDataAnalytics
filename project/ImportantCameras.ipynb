{
 "cells": [
  {
   "cell_type": "markdown",
   "metadata": {},
   "source": [
    "# Important Traffic Nodes"
   ]
  },
  {
   "cell_type": "markdown",
   "metadata": {},
   "source": [
    "### Initialize"
   ]
  },
  {
   "cell_type": "code",
   "execution_count": 1,
   "metadata": {},
   "outputs": [
    {
     "name": "stderr",
     "output_type": "stream",
     "text": [
      "22/02/10 12:32:53 WARN Utils: Your hostname, jupyter resolves to a loopback address: 127.0.1.1; using 172.16.199.67 instead (on interface eth0)\n",
      "22/02/10 12:32:53 WARN Utils: Set SPARK_LOCAL_IP if you need to bind to another address\n",
      "Using Spark's default log4j profile: org/apache/spark/log4j-defaults.properties\n",
      "Setting default log level to \"WARN\".\n",
      "To adjust logging level use sc.setLogLevel(newLevel). For SparkR, use setLogLevel(newLevel).\n",
      "22/02/10 12:32:56 WARN NativeCodeLoader: Unable to load native-hadoop library for your platform... using builtin-java classes where applicable\n"
     ]
    }
   ],
   "source": [
    "from pyspark.sql import SparkSession\n",
    "from pyspark.sql.types import StructType,StructField, StringType, IntegerType,TimestampType\n",
    "\n",
    "spark = SparkSession \\\n",
    "    .builder \\\n",
    "    .appName(\"Spark_Processor\") \\\n",
    "    .master(\"local[*]\") \\\n",
    "    .getOrCreate()\n",
    "\n",
    "sc = spark.sparkContext\n",
    "\n",
    "schema = StructType([ \\\n",
    "        StructField(\"DEVICE_CODE\", IntegerType(), True), \n",
    "        StructField(\"SYSTEM_ID\",IntegerType(),True), \\\n",
    "        StructField(\"ORIGINE_CAR_KEY\",IntegerType(),True), \\\n",
    "        StructField(\"FINAL_CAR_KEY\", IntegerType(),True), \\\n",
    "        StructField(\"CHECK_STATUS_KEY\", IntegerType(), True), \\\n",
    "        StructField(\"COMPANY_ID\", StringType(), True), \\\n",
    "        StructField(\"PASS_DAY_TIME\", TimestampType(), True)\n",
    "    ])"
   ]
  },
  {
   "cell_type": "code",
   "execution_count": 2,
   "metadata": {},
   "outputs": [
    {
     "name": "stderr",
     "output_type": "stream",
     "text": [
      "[Stage 0:>                                                          (0 + 1) / 1]\r"
     ]
    },
    {
     "name": "stdout",
     "output_type": "stream",
     "text": [
      "+-----------+---------+---------------+-------------+----------------+----------+-------------------+\n",
      "|DEVICE_CODE|SYSTEM_ID|ORIGINE_CAR_KEY|FINAL_CAR_KEY|CHECK_STATUS_KEY|COMPANY_ID|      PASS_DAY_TIME|\n",
      "+-----------+---------+---------------+-------------+----------------+----------+-------------------+\n",
      "|     200501|       81|       10477885|     10477885|               5|       161|2021-06-01 03:54:39|\n",
      "+-----------+---------+---------------+-------------+----------------+----------+-------------------+\n",
      "only showing top 1 row\n",
      "\n"
     ]
    },
    {
     "name": "stderr",
     "output_type": "stream",
     "text": [
      "                                                                                \r"
     ]
    }
   ],
   "source": [
    "df = spark.read.csv('Traffic.csv',header=True,schema=schema)\n",
    "df.show(1)"
   ]
  },
  {
   "cell_type": "markdown",
   "metadata": {},
   "source": [
    "### Keep only 7 days"
   ]
  },
  {
   "cell_type": "code",
   "execution_count": 13,
   "metadata": {},
   "outputs": [
    {
     "name": "stdout",
     "output_type": "stream",
     "text": [
      "+-----------+---------+---------------+-------------+----------------+----------+-------------------+---+\n",
      "|DEVICE_CODE|SYSTEM_ID|ORIGINE_CAR_KEY|FINAL_CAR_KEY|CHECK_STATUS_KEY|COMPANY_ID|      PASS_DAY_TIME|day|\n",
      "+-----------+---------+---------------+-------------+----------------+----------+-------------------+---+\n",
      "|     200501|       81|       10477885|     10477885|               5|       161|2021-06-01 03:54:39|152|\n",
      "+-----------+---------+---------------+-------------+----------------+----------+-------------------+---+\n",
      "only showing top 1 row\n",
      "\n"
     ]
    }
   ],
   "source": [
    "from pyspark.sql.functions import dayofyear\n",
    "df = df.withColumn('day', dayofyear(df.PASS_DAY_TIME))\n",
    "df = df.filter(df.day != 159)\n",
    "df.show(1)"
   ]
  },
  {
   "cell_type": "markdown",
   "metadata": {},
   "source": [
    "### Remove outliers"
   ]
  },
  {
   "cell_type": "code",
   "execution_count": 14,
   "metadata": {},
   "outputs": [
    {
     "name": "stderr",
     "output_type": "stream",
     "text": [
      "[Stage 27:>                                                         (0 + 1) / 1]\r"
     ]
    },
    {
     "name": "stdout",
     "output_type": "stream",
     "text": [
      "+-----------+---------+---------------+-------------+----------------+----------+-------------------+---+-----+\n",
      "|DEVICE_CODE|SYSTEM_ID|ORIGINE_CAR_KEY|FINAL_CAR_KEY|CHECK_STATUS_KEY|COMPANY_ID|      PASS_DAY_TIME|day|count|\n",
      "+-----------+---------+---------------+-------------+----------------+----------+-------------------+---+-----+\n",
      "|        114|       81|        7631984|      7631984|               5|       161|2021-06-03 07:34:29|154|   15|\n",
      "|     631781|       81|        7631984|      7631984|               5|       161|2021-06-03 07:32:39|154|   15|\n",
      "|     900130|      283|        7631984|      7631984|               5|       264|2021-06-03 13:04:24|154|   15|\n",
      "|     203001|       81|        7631984|      7631984|               5|       161|2021-06-03 13:13:56|154|   15|\n",
      "|     631349|       81|        7631984|      7631984|               5|       161|2021-06-03 13:26:40|154|   15|\n",
      "+-----------+---------+---------------+-------------+----------------+----------+-------------------+---+-----+\n",
      "only showing top 5 rows\n",
      "\n"
     ]
    },
    {
     "name": "stderr",
     "output_type": "stream",
     "text": [
      "                                                                                \r"
     ]
    }
   ],
   "source": [
    "from pyspark.sql.functions import count\n",
    "from pyspark.sql.window import Window\n",
    "\n",
    "window = Window.partitionBy('FINAL_CAR_KEY')\n",
    "df_with_car_count = df.withColumn('count', count('FINAL_CAR_KEY').over(window))\n",
    "df_cleaned = df_with_car_count.filter(df_with_car_count['count'] < 1000)\n",
    "df_cleaned.show(5)"
   ]
  },
  {
   "cell_type": "code",
   "execution_count": 15,
   "metadata": {},
   "outputs": [
    {
     "name": "stderr",
     "output_type": "stream",
     "text": [
      "[Stage 34:=====================================================>  (23 + 1) / 24]\r"
     ]
    },
    {
     "name": "stdout",
     "output_type": "stream",
     "text": [
      "+-----------+---------+---------------+-------------+----------------+----------+-------------------+---+-----+------+\n",
      "|DEVICE_CODE|SYSTEM_ID|ORIGINE_CAR_KEY|FINAL_CAR_KEY|CHECK_STATUS_KEY|COMPANY_ID|      PASS_DAY_TIME|day|count|camera|\n",
      "+-----------+---------+---------------+-------------+----------------+----------+-------------------+---+-----+------+\n",
      "|        114|       81|        7631984|      7631984|               5|       161|2021-06-03 07:34:29|154|   15|    43|\n",
      "|     631781|       81|        7631984|      7631984|               5|       161|2021-06-03 07:32:39|154|   15|   342|\n",
      "|     900130|      283|        7631984|      7631984|               5|       264|2021-06-03 13:04:24|154|   15|   297|\n",
      "|     203001|       81|        7631984|      7631984|               5|       161|2021-06-03 13:13:56|154|   15|   279|\n",
      "|     631349|       81|        7631984|      7631984|               5|       161|2021-06-03 13:26:40|154|   15|   356|\n",
      "+-----------+---------+---------------+-------------+----------------+----------+-------------------+---+-----+------+\n",
      "only showing top 5 rows\n",
      "\n"
     ]
    },
    {
     "name": "stderr",
     "output_type": "stream",
     "text": [
      "                                                                                \r"
     ]
    }
   ],
   "source": [
    "from pyspark.ml.feature import StringIndexer\n",
    "from pyspark.sql.types import IntegerType\n",
    "\n",
    "df_cleaned_indexed = StringIndexer(inputCol='DEVICE_CODE', outputCol='camera').fit(df_cleaned).transform(df_cleaned)\n",
    "df_cleaned_indexed = df_cleaned_indexed.withColumn('camera', df_cleaned_indexed['camera'].cast(IntegerType()))\n",
    "df_cleaned_indexed.show(5)"
   ]
  },
  {
   "cell_type": "code",
   "execution_count": 16,
   "metadata": {},
   "outputs": [],
   "source": [
    "# df_cleaned_indexed.groupBy('camera').count().sort('count', ascending=False).show()\n",
    "# df_cleaned_indexed.groupBy('FINAL_CAR_KEY').count().sort('count', ascending=False).show()"
   ]
  },
  {
   "cell_type": "code",
   "execution_count": 17,
   "metadata": {},
   "outputs": [
    {
     "name": "stderr",
     "output_type": "stream",
     "text": [
      "[Stage 39:>                                                         (0 + 1) / 1]\r"
     ]
    },
    {
     "name": "stdout",
     "output_type": "stream",
     "text": [
      "+-------------+---+------+----+\n",
      "|FINAL_CAR_KEY|day|camera|next|\n",
      "+-------------+---+------+----+\n",
      "|      7631984|154|   342|  43|\n",
      "|      7631984|154|    43| 297|\n",
      "|      7631984|154|   297| 228|\n",
      "|      7631984|154|   228| 279|\n",
      "|      7631984|154|   279| 312|\n",
      "+-------------+---+------+----+\n",
      "only showing top 5 rows\n",
      "\n"
     ]
    },
    {
     "name": "stderr",
     "output_type": "stream",
     "text": [
      "                                                                                \r"
     ]
    }
   ],
   "source": [
    "from pyspark.sql.functions import dayofyear, lead\n",
    "\n",
    "df_with_day = df_cleaned_indexed.withColumn('day', dayofyear(df.PASS_DAY_TIME))\n",
    "\n",
    "window = Window.partitionBy('FINAL_CAR_KEY', 'day').orderBy('FINAL_CAR_KEY','PASS_DAY_TIME')\n",
    "df_with_next = df_with_day.withColumn('next', lead('camera', offset=1,  default=-1).over(window))\n",
    "df_with_next = df_with_next.filter(df_with_next.next != -1).select('FINAL_CAR_KEY', 'day', 'camera', 'next')\n",
    "df_with_next.show(5)"
   ]
  },
  {
   "cell_type": "code",
   "execution_count": 18,
   "metadata": {},
   "outputs": [
    {
     "name": "stderr",
     "output_type": "stream",
     "text": [
      "[Stage 42:=====================================================>  (26 + 1) / 27]\r"
     ]
    },
    {
     "name": "stdout",
     "output_type": "stream",
     "text": [
      "+------+----+-----+\n",
      "|camera|next|count|\n",
      "+------+----+-----+\n",
      "|   115| 401|  304|\n",
      "|    32|  26|16503|\n",
      "|   114| 194|  488|\n",
      "|   114|  15| 1129|\n",
      "|   241| 131|   42|\n",
      "+------+----+-----+\n",
      "only showing top 5 rows\n",
      "\n"
     ]
    },
    {
     "name": "stderr",
     "output_type": "stream",
     "text": [
      "                                                                                \r"
     ]
    }
   ],
   "source": [
    "graph_df = df_with_next.groupBy(\n",
    "    'camera',\n",
    "    'next'\n",
    ").count()\n",
    "graph_df.show(5)"
   ]
  },
  {
   "cell_type": "code",
   "execution_count": 19,
   "metadata": {},
   "outputs": [
    {
     "name": "stderr",
     "output_type": "stream",
     "text": [
      "[Stage 54:>                                                       (0 + 18) / 18]\r"
     ]
    },
    {
     "name": "stdout",
     "output_type": "stream",
     "text": [
      "1022\n",
      "1024\n"
     ]
    },
    {
     "name": "stderr",
     "output_type": "stream",
     "text": [
      "                                                                                \r"
     ]
    }
   ],
   "source": [
    "from pyspark.mllib.linalg.distributed import CoordinateMatrix\n",
    "utility_matrix = CoordinateMatrix(graph_df.rdd.map(lambda x: (int(x['camera']), int(x['next']), x['count']) ))\n",
    "print(utility_matrix.numCols())\n",
    "print(utility_matrix.numRows())"
   ]
  },
  {
   "cell_type": "code",
   "execution_count": 3,
   "metadata": {},
   "outputs": [
    {
     "name": "stdout",
     "output_type": "stream",
     "text": [
      "root\n",
      " |-- employee_name: string (nullable = true)\n",
      " |-- department: string (nullable = true)\n",
      " |-- salary: long (nullable = true)\n",
      "\n"
     ]
    },
    {
     "name": "stderr",
     "output_type": "stream",
     "text": [
      "                                                                                \r"
     ]
    },
    {
     "name": "stdout",
     "output_type": "stream",
     "text": [
      "+-------------+----------+------+\n",
      "|employee_name|department|salary|\n",
      "+-------------+----------+------+\n",
      "|James        |Sales     |3000  |\n",
      "|Michael      |Sales     |4600  |\n",
      "|Robert       |Sales     |4100  |\n",
      "|Maria        |Finance   |3000  |\n",
      "|James        |Sales     |3000  |\n",
      "|Scott        |Finance   |3300  |\n",
      "|Jen          |Finance   |3900  |\n",
      "|Jeff         |Marketing |3000  |\n",
      "|Kumar        |Marketing |2000  |\n",
      "|Saif         |Sales     |4100  |\n",
      "+-------------+----------+------+\n",
      "\n"
     ]
    }
   ],
   "source": [
    "simpleData = ((\"James\", \"Sales\", 3000), \\\n",
    "    (\"Michael\", \"Sales\", 4600),  \\\n",
    "    (\"Robert\", \"Sales\", 4100),   \\\n",
    "    (\"Maria\", \"Finance\", 3000),  \\\n",
    "    (\"James\", \"Sales\", 3000),    \\\n",
    "    (\"Scott\", \"Finance\", 3300),  \\\n",
    "    (\"Jen\", \"Finance\", 3900),    \\\n",
    "    (\"Jeff\", \"Marketing\", 3000), \\\n",
    "    (\"Kumar\", \"Marketing\", 2000),\\\n",
    "    (\"Saif\", \"Sales\", 4100) \\\n",
    "  )\n",
    " \n",
    "columns= [\"employee_name\", \"department\", \"salary\"]\n",
    "grpah_df = spark.createDataFrame(data = simpleData, schema = columns)\n",
    "grpah_df.printSchema()\n",
    "grpah_df.show(truncate=False)"
   ]
  },
  {
   "cell_type": "code",
   "execution_count": 30,
   "metadata": {},
   "outputs": [
    {
     "name": "stdout",
     "output_type": "stream",
     "text": [
      "23\n",
      "12\n"
     ]
    }
   ],
   "source": [
    "from pyspark.mllib.linalg.distributed import CoordinateMatrix\n",
    "utility_matrix2 = CoordinateMatrix(grpah_df.rdd.map(lambda x: (22,11,1)))\n",
    "print(utility_matrix2.numRows())\n",
    "print(utility_matrix2.numCols())\n",
    "# svd2 = utility_matrix2.toRowMatrix().computeSVD(10, computeU=True)\n",
    "# hubs2 = svd2.U.rows.map(lambda x: x.toArray()[0] * -1).collect()\n",
    "# auths2 = svd2.V.toArray()\n",
    "# auths2 = auths2[:,0] * -1\n",
    "# # print(auths)\n",
    "# print('number of hubs: ', len(hubs2))\n",
    "# print('number of auth: ', len(auths2))"
   ]
  },
  {
   "cell_type": "code",
   "execution_count": 44,
   "metadata": {},
   "outputs": [
    {
     "name": "stderr",
     "output_type": "stream",
     "text": [
      "22/02/10 12:54:56 WARN RowMatrix: The input data is not directly cached, which may hurt performance if its parent RDDs are also uncached.\n"
     ]
    },
    {
     "name": "stdout",
     "output_type": "stream",
     "text": [
      "<pyspark.mllib.linalg.distributed.RowMatrix object at 0x7fdcaac8b130>\n",
      "[386741.66052041174,214540.89004039083,134342.6053269712,119643.50388471477,105990.32825396415,95462.4460834679,88385.36613613699,83931.94580445538,78952.91922846096,76106.5565333638]\n",
      "DenseMatrix([[ 2.80028746e-02, -9.10351853e-01, -1.51801914e-02, ...,\n",
      "              -1.40691615e-02,  8.60266938e-03,  4.58349304e-02],\n",
      "             [ 9.91106269e-01,  3.67875503e-02, -1.93493747e-03, ...,\n",
      "              -2.43548991e-02, -5.32753265e-03, -2.60319828e-03],\n",
      "             [ 8.44525330e-03, -2.74138588e-01,  1.26195916e-02, ...,\n",
      "              -2.06705102e-01,  2.02635485e-02,  9.44339304e-02],\n",
      "             ...,\n",
      "             [ 1.51307902e-09, -3.19552388e-08,  3.30655677e-08, ...,\n",
      "              -3.64411014e-07, -9.57783433e-07, -1.61163627e-06],\n",
      "             [ 2.86527960e-10, -2.59174137e-09,  1.23379112e-08, ...,\n",
      "              -8.07788475e-07,  8.20141481e-07,  1.71903949e-06],\n",
      "             [ 8.28226023e-10, -1.19905543e-08,  2.81368856e-08, ...,\n",
      "              -1.71884432e-06, -9.32544779e-07,  4.06350007e-06]])\n"
     ]
    },
    {
     "name": "stderr",
     "output_type": "stream",
     "text": [
      "22/02/10 12:55:10 WARN RowMatrix: The input data was not directly cached, which may hurt performance if its parent RDDs are also uncached.\n"
     ]
    }
   ],
   "source": [
    "svd = utility_matrix.toRowMatrix().computeSVD(10, computeU=True)\n",
    "u = svd.U\n",
    "s = svd.s\n",
    "v = svd.V\n",
    "print(u)\n",
    "print(s)\n",
    "print(v)"
   ]
  },
  {
   "cell_type": "code",
   "execution_count": 51,
   "metadata": {},
   "outputs": [
    {
     "name": "stdout",
     "output_type": "stream",
     "text": [
      "0.9103518534769625\n",
      "-0.045834930431429007\n"
     ]
    }
   ],
   "source": [
    "import numpy as np\n",
    "def normalize_norm2(x):\n",
    "    normalized = x / np.sqrt(np.sum(x**2))\n",
    "    print(np.sqrt(np.sum(x**2)))\n",
    "    return normalized\n",
    "\n",
    "def normalize(x):\n",
    "    normalized = x / np.sum(x)\n",
    "    # print(np.sum(x))\n",
    "    return normalized\n",
    "\n",
    "hubs = u.rows.map(lambda x: x.toArray()[0]).collect() # u is row matrix\n",
    "hubs = normalize(np.array(hubs))\n",
    "auths = v.toArray() # V is Dense matrix\n",
    "# auths = auths[:,0] * -1\n",
    "auths = auths[0,:] * -1\n",
    "print(max(auths))\n",
    "print(min(auths))\n",
    "\n",
    "# hubs = normalize(np.array(hubs))\n",
    "# auths = normalize(auths)\n",
    "\n",
    "# print(type(auths))\n",
    "# print(type(hubs))\n",
    "# print('number of hubs: ', len(hubs))\n",
    "# print('number of auth: ', len(auths))\n",
    "\n",
    "# print('hubs ratings: ', hubs[:10])\n",
    "# print('auths ratings: ', auths[:10])"
   ]
  },
  {
   "cell_type": "code",
   "execution_count": 23,
   "metadata": {},
   "outputs": [
    {
     "data": {
      "image/png": "[encoded data removed]",
      "text/plain": [
       "<Figure size 2880x720 with 1 Axes>"
      ]
     },
     "metadata": {
      "needs_background": "light"
     },
     "output_type": "display_data"
    },
    {
     "data": {
      "image/png": "[encoded data removed]",
      "text/plain": [
       "<Figure size 2880x720 with 1 Axes>"
      ]
     },
     "metadata": {
      "needs_background": "light"
     },
     "output_type": "display_data"
    }
   ],
   "source": [
    "from matplotlib import pyplot as plt\n",
    "fig = plt.figure(figsize = (40, 10))\n",
    "labels = list(map(lambda x: str(x), range(len(auths))))\n",
    "plt.bar(labels, auths, color ='blue', width = 0.7)\n",
    "plt.xticks(rotation='vertical',fontsize=8)\n",
    "plt.title('auths')\n",
    "plt.show()\n",
    "fig = plt.figure(figsize = (40, 10))\n",
    "labels = list(map(lambda x: str(x), range(len(hubs))))\n",
    "plt.bar(labels, hubs, color ='blue', width = 0.7)\n",
    "plt.xticks(rotation='vertical',fontsize=8)\n",
    "plt.title('hubs')\n",
    "plt.show()"
   ]
  },
  {
   "cell_type": "code",
   "execution_count": 32,
   "metadata": {},
   "outputs": [
    {
     "name": "stdout",
     "output_type": "stream",
     "text": [
      "[(40, 0.9964850053867111), (845, 0.058093302293745375), (231, 0.04091254454276203), (910, 0.02763743344131759), (12, 0.014886513994762351), (135, 0.011163666151927088), (80, 0.011138287631333501), (598, 0.009323695061557696), (739, 0.009022243057086793), (340, 0.007636657512307252)]\n",
      "[(1, 0.9911062693983415), (36, 0.1140858058721279), (178, 0.03645516647852918), (31, 0.031537127253750644), (0, 0.02800287457139237), (3, 0.01821051531519488), (59, 0.016221622638043116), (52, 0.010669775250003927), (196, 0.010450749974414255), (5, 0.010196419933779984)]\n"
     ]
    }
   ],
   "source": [
    "k = 10\n",
    "top_hubs = sorted([(i,x) for i,x in enumerate(hubs)], key = lambda x: -x[1])[:k]\n",
    "top_auths = sorted([(i,x) for i,x in enumerate(auths)], key = lambda x: -x[1])[:k]\n",
    "print(top_hubs)\n",
    "print(top_auths)"
   ]
  }
 ],
 "metadata": {
  "interpreter": {
   "hash": "ae917f7814ccb34d4acac350c21a9b5c6bba089bcf202fb1054d30d044271271"
  },
  "kernelspec": {
   "display_name": "Python 3.9.7 64-bit ('HW-QXNApxFg': pipenv)",
   "language": "python",
   "name": "python3"
  },
  "language_info": {
   "codemirror_mode": {
    "name": "ipython",
    "version": 3
   },
   "file_extension": ".py",
   "mimetype": "text/x-python",
   "name": "python",
   "nbconvert_exporter": "python",
   "pygments_lexer": "ipython3",
   "version": "3.9.7"
  },
  "orig_nbformat": 4
 },
 "nbformat": 4,
 "nbformat_minor": 2
}
