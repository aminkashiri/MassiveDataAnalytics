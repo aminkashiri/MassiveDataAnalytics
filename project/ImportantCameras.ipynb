{
 "cells": [
  {
   "cell_type": "markdown",
   "metadata": {},
   "source": [
    "# Important Traffic Nodes"
   ]
  },
  {
   "cell_type": "markdown",
   "metadata": {},
   "source": [
    "### Initialize"
   ]
  },
  {
   "cell_type": "code",
   "execution_count": 1,
   "metadata": {},
   "outputs": [
    {
     "name": "stderr",
     "output_type": "stream",
     "text": [
      "22/02/11 19:51:54 WARN Utils: Your hostname, amin-X556UQK resolves to a loopback address: 127.0.1.1; using 192.168.43.227 instead (on interface wlp3s0)\n",
      "22/02/11 19:51:54 WARN Utils: Set SPARK_LOCAL_IP if you need to bind to another address\n",
      "WARNING: An illegal reflective access operation has occurred\n",
      "WARNING: Illegal reflective access by org.apache.spark.unsafe.Platform (file:/opt/spark/jars/spark-unsafe_2.12-3.2.0.jar) to constructor java.nio.DirectByteBuffer(long,int)\n",
      "WARNING: Please consider reporting this to the maintainers of org.apache.spark.unsafe.Platform\n",
      "WARNING: Use --illegal-access=warn to enable warnings of further illegal reflective access operations\n",
      "WARNING: All illegal access operations will be denied in a future release\n",
      "Using Spark's default log4j profile: org/apache/spark/log4j-defaults.properties\n",
      "Setting default log level to \"WARN\".\n",
      "To adjust logging level use sc.setLogLevel(newLevel). For SparkR, use setLogLevel(newLevel).\n",
      "22/02/11 19:51:55 WARN NativeCodeLoader: Unable to load native-hadoop library for your platform... using builtin-java classes where applicable\n"
     ]
    }
   ],
   "source": [
    "from pyspark.sql import SparkSession\n",
    "from pyspark.sql.types import StructType,StructField, StringType, IntegerType,TimestampType\n",
    "\n",
    "spark = SparkSession \\\n",
    "    .builder \\\n",
    "    .appName(\"Spark_Processor\") \\\n",
    "    .master(\"local[*]\") \\\n",
    "    .getOrCreate()\n",
    "\n",
    "sc = spark.sparkContext\n",
    "\n",
    "schema = StructType([ \\\n",
    "        StructField(\"DEVICE_CODE\", IntegerType(), True), \n",
    "        StructField(\"SYSTEM_ID\",IntegerType(),True), \\\n",
    "        StructField(\"ORIGINE_CAR_KEY\",IntegerType(),True), \\\n",
    "        StructField(\"FINAL_CAR_KEY\", IntegerType(),True), \\\n",
    "        StructField(\"CHECK_STATUS_KEY\", IntegerType(), True), \\\n",
    "        StructField(\"COMPANY_ID\", StringType(), True), \\\n",
    "        StructField(\"PASS_DAY_TIME\", TimestampType(), True)\n",
    "    ])"
   ]
  },
  {
   "cell_type": "code",
   "execution_count": 2,
   "metadata": {},
   "outputs": [
    {
     "name": "stdout",
     "output_type": "stream",
     "text": [
      "+-----------+---------+---------------+-------------+----------------+----------+-------------------+\n",
      "|DEVICE_CODE|SYSTEM_ID|ORIGINE_CAR_KEY|FINAL_CAR_KEY|CHECK_STATUS_KEY|COMPANY_ID|      PASS_DAY_TIME|\n",
      "+-----------+---------+---------------+-------------+----------------+----------+-------------------+\n",
      "|     200501|       81|       10477885|     10477885|               5|       161|2021-06-01 03:54:39|\n",
      "+-----------+---------+---------------+-------------+----------------+----------+-------------------+\n",
      "only showing top 1 row\n",
      "\n"
     ]
    }
   ],
   "source": [
    "df = spark.read.csv('Traffic.csv',header=True,schema=schema)\n",
    "df.show(1)"
   ]
  },
  {
   "cell_type": "markdown",
   "metadata": {},
   "source": [
    "##### Keep only 7 days"
   ]
  },
  {
   "cell_type": "code",
   "execution_count": 3,
   "metadata": {},
   "outputs": [
    {
     "name": "stdout",
     "output_type": "stream",
     "text": [
      "+-----------+---------+---------------+-------------+----------------+----------+-------------------+---+\n",
      "|DEVICE_CODE|SYSTEM_ID|ORIGINE_CAR_KEY|FINAL_CAR_KEY|CHECK_STATUS_KEY|COMPANY_ID|      PASS_DAY_TIME|day|\n",
      "+-----------+---------+---------------+-------------+----------------+----------+-------------------+---+\n",
      "|     200501|       81|       10477885|     10477885|               5|       161|2021-06-01 03:54:39|152|\n",
      "+-----------+---------+---------------+-------------+----------------+----------+-------------------+---+\n",
      "only showing top 1 row\n",
      "\n"
     ]
    }
   ],
   "source": [
    "from pyspark.sql.functions import dayofyear\n",
    "df = df.withColumn('day', dayofyear(df.PASS_DAY_TIME))\n",
    "df = df.filter(df.day != 159)\n",
    "df.show(1)"
   ]
  },
  {
   "cell_type": "markdown",
   "metadata": {},
   "source": [
    "##### Remove outliers"
   ]
  },
  {
   "cell_type": "code",
   "execution_count": 4,
   "metadata": {},
   "outputs": [
    {
     "name": "stderr",
     "output_type": "stream",
     "text": [
      "[Stage 4:>                                                          (0 + 1) / 1]\r"
     ]
    },
    {
     "name": "stdout",
     "output_type": "stream",
     "text": [
      "+-----------+---------+---------------+-------------+----------------+----------+-------------------+---+-----+\n",
      "|DEVICE_CODE|SYSTEM_ID|ORIGINE_CAR_KEY|FINAL_CAR_KEY|CHECK_STATUS_KEY|COMPANY_ID|      PASS_DAY_TIME|day|count|\n",
      "+-----------+---------+---------------+-------------+----------------+----------+-------------------+---+-----+\n",
      "|     803001|      102|        7631929|      7631929|               6|       161|2021-06-01 10:37:55|152|    1|\n",
      "|   22010048|      284|        7631930|      7631930|               5|       161|2021-06-02 13:21:00|153|    1|\n",
      "|     900158|      283|        7631979|      7631979|               5|       264|2021-06-06 12:30:50|157|    9|\n",
      "|  100700881|      283|        7631979|      7631979|               5|       264|2021-06-06 17:46:08|157|    9|\n",
      "|     900222|      283|        7631979|      7631979|               5|       264|2021-06-06 17:49:52|157|    9|\n",
      "+-----------+---------+---------------+-------------+----------------+----------+-------------------+---+-----+\n",
      "only showing top 5 rows\n",
      "\n"
     ]
    },
    {
     "name": "stderr",
     "output_type": "stream",
     "text": [
      "                                                                                \r"
     ]
    }
   ],
   "source": [
    "from pyspark.sql.functions import count\n",
    "from pyspark.sql.window import Window\n",
    "\n",
    "window = Window.partitionBy('FINAL_CAR_KEY')\n",
    "df_with_car_count = df.withColumn('count', count('FINAL_CAR_KEY').over(window))\n",
    "df_cleaned = df_with_car_count.filter(df_with_car_count['count'] < 1000)\n",
    "df_cleaned.show(5)"
   ]
  },
  {
   "cell_type": "markdown",
   "metadata": {},
   "source": [
    "##### Index Data"
   ]
  },
  {
   "cell_type": "code",
   "execution_count": 5,
   "metadata": {},
   "outputs": [
    {
     "name": "stderr",
     "output_type": "stream",
     "text": [
      "[Stage 13:>                                                         (0 + 1) / 1]\r"
     ]
    },
    {
     "name": "stdout",
     "output_type": "stream",
     "text": [
      "+-----------+---------+---------------+-------------+----------------+----------+-------------------+---+-----+------+\n",
      "|DEVICE_CODE|SYSTEM_ID|ORIGINE_CAR_KEY|FINAL_CAR_KEY|CHECK_STATUS_KEY|COMPANY_ID|      PASS_DAY_TIME|day|count|camera|\n",
      "+-----------+---------+---------------+-------------+----------------+----------+-------------------+---+-----+------+\n",
      "|     803001|      102|        7631929|      7631929|               6|       161|2021-06-01 10:37:55|152|    1|   371|\n",
      "|   22010048|      284|        7631930|      7631930|               5|       161|2021-06-02 13:21:00|153|    1|    70|\n",
      "|     900158|      283|        7631979|      7631979|               5|       264|2021-06-06 12:30:50|157|    9|    91|\n",
      "|  100700881|      283|        7631979|      7631979|               5|       264|2021-06-06 17:46:08|157|    9|    56|\n",
      "|     900222|      283|        7631979|      7631979|               5|       264|2021-06-06 17:49:52|157|    9|    14|\n",
      "+-----------+---------+---------------+-------------+----------------+----------+-------------------+---+-----+------+\n",
      "only showing top 5 rows\n",
      "\n"
     ]
    },
    {
     "name": "stderr",
     "output_type": "stream",
     "text": [
      "                                                                                \r"
     ]
    }
   ],
   "source": [
    "from pyspark.ml.feature import StringIndexer\n",
    "from pyspark.sql.types import IntegerType\n",
    "\n",
    "df_cleaned_indexed = StringIndexer(inputCol='DEVICE_CODE', outputCol='camera').fit(df_cleaned).transform(df_cleaned)\n",
    "df_cleaned_indexed = df_cleaned_indexed.withColumn('camera', df_cleaned_indexed['camera'].cast(IntegerType()))\n",
    "df_cleaned_indexed.show(5)"
   ]
  },
  {
   "cell_type": "code",
   "execution_count": 16,
   "metadata": {},
   "outputs": [],
   "source": [
    "# df_cleaned_indexed.groupBy('camera').count().sort('count', ascending=False).show()\n",
    "# df_cleaned_indexed.groupBy('FINAL_CAR_KEY').count().sort('count', ascending=False).show()"
   ]
  },
  {
   "cell_type": "markdown",
   "metadata": {},
   "source": [
    "### Main Code"
   ]
  },
  {
   "cell_type": "markdown",
   "metadata": {},
   "source": [
    "<h5 dir=\"rtl\">\n",
    " در این قسمت، با استفاده ازت\n",
    " window function\n",
    " ها برای هر ماشینی، دوربین بعدی‌ای که دیده‌است را به دست آوردم. در مورد روش این کار در فایل مستند بیشتر توضیح می‌دهم. \n",
    "</h5> \n"
   ]
  },
  {
   "cell_type": "code",
   "execution_count": 6,
   "metadata": {},
   "outputs": [
    {
     "name": "stderr",
     "output_type": "stream",
     "text": [
      "[Stage 16:>                                                         (0 + 1) / 1]\r"
     ]
    },
    {
     "name": "stdout",
     "output_type": "stream",
     "text": [
      "+-------------+---+------+----+\n",
      "|FINAL_CAR_KEY|day|camera|next|\n",
      "+-------------+---+------+----+\n",
      "|      7631935|152|    16|  62|\n",
      "|      7631935|152|    62| 266|\n",
      "|      7631935|154|    16| 284|\n",
      "|      7631935|155|     4|  43|\n",
      "|      7631935|155|    43|  74|\n",
      "+-------------+---+------+----+\n",
      "only showing top 5 rows\n",
      "\n"
     ]
    },
    {
     "name": "stderr",
     "output_type": "stream",
     "text": [
      "                                                                                \r"
     ]
    }
   ],
   "source": [
    "from pyspark.sql.functions import dayofyear, lead\n",
    "\n",
    "df_with_day = df_cleaned_indexed.withColumn('day', dayofyear(df.PASS_DAY_TIME))\n",
    "\n",
    "window = Window.partitionBy('FINAL_CAR_KEY', 'day').orderBy('FINAL_CAR_KEY','PASS_DAY_TIME')\n",
    "df_with_next = df_with_day.withColumn('next', lead('camera', offset=1,  default=-1).over(window))\n",
    "df_with_next = df_with_next.filter(df_with_next.next != -1).select('FINAL_CAR_KEY', 'day', 'camera', 'next')\n",
    "df_with_next.show(5)"
   ]
  },
  {
   "cell_type": "markdown",
   "metadata": {},
   "source": [
    "<h5 dir=\"rtl\">\n",
    " حال با \n",
    " groupBy\n",
    " بر روی دوربین، و دوربین بعدی، \n",
    " dfی \n",
    " به دست می‌آورم که نشان‌دهندی دوربین‌های پشت سر هم است. تعداد پشت هم آمدن این دوربین‌ها را نیز به دست می‌آورم.\n",
    "</h5> \n"
   ]
  },
  {
   "cell_type": "code",
   "execution_count": 7,
   "metadata": {},
   "outputs": [
    {
     "name": "stderr",
     "output_type": "stream",
     "text": [
      "[Stage 19:=================================================>        (6 + 1) / 7]\r"
     ]
    },
    {
     "name": "stdout",
     "output_type": "stream",
     "text": [
      "+------+----+-----+\n",
      "|camera|next|count|\n",
      "+------+----+-----+\n",
      "|   203|   4| 1150|\n",
      "|   115| 401|  304|\n",
      "|    32|  26|16503|\n",
      "|   114| 194|  488|\n",
      "|   114|  15| 1129|\n",
      "+------+----+-----+\n",
      "only showing top 5 rows\n",
      "\n"
     ]
    },
    {
     "name": "stderr",
     "output_type": "stream",
     "text": [
      "                                                                                \r"
     ]
    }
   ],
   "source": [
    "graph_df = df_with_next.groupBy(\n",
    "    'camera',\n",
    "    'next'\n",
    ").count()\n",
    "graph_df.show(5)"
   ]
  },
  {
   "cell_type": "markdown",
   "metadata": {},
   "source": [
    "<h5 dir=\"rtl\">\n",
    "با کمک اطلاعات بالا، می‌توانم ماتریسی برای یک گراف از دوربین‌ها به دوربین‌ها بکشیم. \n",
    "</h5> \n"
   ]
  },
  {
   "cell_type": "code",
   "execution_count": 8,
   "metadata": {},
   "outputs": [
    {
     "name": "stderr",
     "output_type": "stream",
     "text": [
      "                                                                                \r"
     ]
    }
   ],
   "source": [
    "from pyspark.mllib.linalg.distributed import CoordinateMatrix\n",
    "utility_matrix = CoordinateMatrix(graph_df.rdd.map(lambda x: (int(x['camera']), int(x['next']), x['count']) ))\n",
    "# print(utility_matrix.numCols())\n",
    "# print(utility_matrix.numRows())"
   ]
  },
  {
   "cell_type": "markdown",
   "metadata": {},
   "source": [
    "<h5 dir=\"rtl\">\n",
    " با استفاده از ماتریس به دست آمده، تجزیه‌ی\n",
    " SVD\n",
    " را انجام می‌دهیم و \n",
    " hubها \n",
    " و \n",
    " authority\n",
    " ها را به دست می‌آوریم. \n",
    "</h5> \n"
   ]
  },
  {
   "cell_type": "code",
   "execution_count": 9,
   "metadata": {},
   "outputs": [
    {
     "name": "stderr",
     "output_type": "stream",
     "text": [
      "22/02/11 20:22:28 WARN RowMatrix: The input data is not directly cached, which may hurt performance if its parent RDDs are also uncached.\n",
      "22/02/11 20:22:28 WARN InstanceBuilder$NativeARPACK: Failed to load implementation from:dev.ludovic.netlib.arpack.JNIARPACK\n",
      "                                                                                \r"
     ]
    },
    {
     "name": "stdout",
     "output_type": "stream",
     "text": [
      "<pyspark.mllib.linalg.distributed.RowMatrix object at 0x7f46325a0ee0>\n",
      "[386741.67802308785,214540.8772724982,134342.0690476529,119643.48021983699,105990.25657949396,95462.17183492436,88385.35891124135,83931.93854594021,78953.3450148508,76106.26440260708]\n",
      "DenseMatrix([[-2.80030432e-02,  9.10351905e-01, -1.51804943e-02, ...,\n",
      "              -1.40690626e-02,  8.60209391e-03,  4.58374252e-02],\n",
      "             [-9.91106215e-01, -3.67882046e-02, -1.93499356e-03, ...,\n",
      "              -2.43549029e-02, -5.32822156e-03, -2.60279730e-03],\n",
      "             [-8.44532595e-03,  2.74138595e-01,  1.26202463e-02, ...,\n",
      "              -2.06703524e-01,  2.02544512e-02,  9.44381380e-02],\n",
      "             ...,\n",
      "             [-1.51308417e-09,  3.19553250e-08,  3.30660881e-08, ...,\n",
      "              -3.64442829e-07, -9.57695811e-07, -1.61148264e-06],\n",
      "             [-2.86525991e-10,  2.59184703e-09,  1.23380030e-08, ...,\n",
      "              -8.07766224e-07,  8.19925869e-07,  1.71890656e-06],\n",
      "             [-8.28219994e-10,  1.19903767e-08,  2.81367096e-08, ...,\n",
      "              -1.71873063e-06, -9.33104059e-07,  4.06359561e-06]])\n"
     ]
    },
    {
     "name": "stderr",
     "output_type": "stream",
     "text": [
      "22/02/11 20:22:45 WARN RowMatrix: The input data was not directly cached, which may hurt performance if its parent RDDs are also uncached.\n"
     ]
    }
   ],
   "source": [
    "svd = utility_matrix.toRowMatrix().computeSVD(10, computeU=True)\n",
    "u = svd.U\n",
    "s = svd.s\n",
    "v = svd.V\n",
    "print(u)\n",
    "print(s)\n",
    "print(v)"
   ]
  },
  {
   "cell_type": "code",
   "execution_count": 10,
   "metadata": {},
   "outputs": [
    {
     "name": "stdout",
     "output_type": "stream",
     "text": [
      "hubs ratings:  [7.35924179e-05 1.62424994e-07 1.83038392e-08 2.58034345e-06\n",
      " 8.11002491e-06 1.28585119e-06 5.45229750e-04 1.82549641e-05\n",
      " 3.64489701e-07 1.28696593e-07]\n",
      "auths ratings:  [0.01903011 0.67352887 0.00573921 0.01237716 0.00379258 0.00692922\n",
      " 0.00098463 0.00290984 0.00087717 0.0011397 ]\n"
     ]
    }
   ],
   "source": [
    "import numpy as np\n",
    "def normalize_norm2(x):\n",
    "    normalized = x / np.sqrt(np.sum(x**2))\n",
    "    print(np.sqrt(np.sum(x**2)))\n",
    "    return normalized\n",
    "\n",
    "def normalize(x):\n",
    "    normalized = x / np.sum(x)\n",
    "    # print(np.sum(x))\n",
    "    return normalized\n",
    "\n",
    "hubs = u.rows.map(lambda x: x.toArray()[0]).collect() # u is row matrix\n",
    "hubs = normalize(np.array(hubs))\n",
    "auths = v.toArray() # V is Dense matrix\n",
    "auths = auths[:,0] * -1\n",
    "auths = normalize(auths)\n",
    "\n",
    "# print('number of hubs: ', len(hubs))\n",
    "# print('number of auth: ', len(auths))\n",
    "\n",
    "print('hubs ratings: ', hubs[:10])\n",
    "print('auths ratings: ', auths[:10])"
   ]
  },
  {
   "cell_type": "markdown",
   "metadata": {},
   "source": [
    "<h5 dir=\"rtl\">\n",
    " در این مرحله نیز نمودار امتیازهای کسب شده برای دوربین‌ها را رسم می‌کنیم.  \n",
    "</h5> \n"
   ]
  },
  {
   "cell_type": "code",
   "execution_count": 11,
   "metadata": {},
   "outputs": [
    {
     "data": {
      "image/png": "[encoded data removed]",
      "text/plain": [
       "<Figure size 2880x720 with 1 Axes>"
      ]
     },
     "metadata": {
      "needs_background": "light"
     },
     "output_type": "display_data"
    },
    {
     "data": {
      "image/png": "[encoded data removed]",
      "text/plain": [
       "<Figure size 2880x720 with 1 Axes>"
      ]
     },
     "metadata": {
      "needs_background": "light"
     },
     "output_type": "display_data"
    }
   ],
   "source": [
    "from matplotlib import pyplot as plt\n",
    "fig = plt.figure(figsize = (40, 10))\n",
    "labels = list(map(lambda x: str(x), range(len(auths))))\n",
    "plt.bar(labels, auths, color ='blue', width = 0.7)\n",
    "plt.xticks(rotation='vertical',fontsize=8)\n",
    "plt.title('auths')\n",
    "plt.show()\n",
    "fig = plt.figure(figsize = (40, 10))\n",
    "labels = list(map(lambda x: str(x), range(len(hubs))))\n",
    "plt.bar(labels, hubs, color ='blue', width = 0.7)\n",
    "plt.xticks(rotation='vertical',fontsize=8)\n",
    "plt.title('hubs')\n",
    "plt.show()"
   ]
  },
  {
   "cell_type": "markdown",
   "metadata": {},
   "source": [
    "<h5 dir=\"rtl\">\n",
    " در نهایت نیز بیشترین امتیازها را چاپ می‌کنیم.  \n",
    "</h5> \n"
   ]
  },
  {
   "cell_type": "code",
   "execution_count": 32,
   "metadata": {},
   "outputs": [
    {
     "name": "stdout",
     "output_type": "stream",
     "text": [
      "[(40, 0.9964850053867111), (845, 0.058093302293745375), (231, 0.04091254454276203), (910, 0.02763743344131759), (12, 0.014886513994762351), (135, 0.011163666151927088), (80, 0.011138287631333501), (598, 0.009323695061557696), (739, 0.009022243057086793), (340, 0.007636657512307252)]\n",
      "[(1, 0.9911062693983415), (36, 0.1140858058721279), (178, 0.03645516647852918), (31, 0.031537127253750644), (0, 0.02800287457139237), (3, 0.01821051531519488), (59, 0.016221622638043116), (52, 0.010669775250003927), (196, 0.010450749974414255), (5, 0.010196419933779984)]\n"
     ]
    }
   ],
   "source": [
    "k = 10\n",
    "top_hubs = sorted([(i,x) for i,x in enumerate(hubs)], key = lambda x: -x[1])[:k]\n",
    "top_auths = sorted([(i,x) for i,x in enumerate(auths)], key = lambda x: -x[1])[:k]\n",
    "print(top_hubs)\n",
    "print(top_auths)"
   ]
  }
 ],
 "metadata": {
  "interpreter": {
   "hash": "ae917f7814ccb34d4acac350c21a9b5c6bba089bcf202fb1054d30d044271271"
  },
  "kernelspec": {
   "display_name": "Python 3.9.7 64-bit ('HW-QXNApxFg': pipenv)",
   "language": "python",
   "name": "python3"
  },
  "language_info": {
   "codemirror_mode": {
    "name": "ipython",
    "version": 3
   },
   "file_extension": ".py",
   "mimetype": "text/x-python",
   "name": "python",
   "nbconvert_exporter": "python",
   "pygments_lexer": "ipython3",
   "version": "3.9.7"
  },
  "orig_nbformat": 4
 },
 "nbformat": 4,
 "nbformat_minor": 2
}
