{
 "cells": [
  {
   "cell_type": "code",
   "execution_count": 1,
   "metadata": {},
   "outputs": [
    {
     "name": "stderr",
     "output_type": "stream",
     "text": [
      "22/02/05 11:40:10 WARN Utils: Your hostname, amin-X556UQK resolves to a loopback address: 127.0.1.1; using 192.168.43.227 instead (on interface wlp3s0)\n",
      "22/02/05 11:40:10 WARN Utils: Set SPARK_LOCAL_IP if you need to bind to another address\n",
      "WARNING: An illegal reflective access operation has occurred\n",
      "WARNING: Illegal reflective access by org.apache.spark.unsafe.Platform (file:/opt/spark/jars/spark-unsafe_2.12-3.2.0.jar) to constructor java.nio.DirectByteBuffer(long,int)\n",
      "WARNING: Please consider reporting this to the maintainers of org.apache.spark.unsafe.Platform\n",
      "WARNING: Use --illegal-access=warn to enable warnings of further illegal reflective access operations\n",
      "WARNING: All illegal access operations will be denied in a future release\n",
      "Using Spark's default log4j profile: org/apache/spark/log4j-defaults.properties\n",
      "Setting default log level to \"WARN\".\n",
      "To adjust logging level use sc.setLogLevel(newLevel). For SparkR, use setLogLevel(newLevel).\n",
      "22/02/05 11:40:17 WARN NativeCodeLoader: Unable to load native-hadoop library for your platform... using builtin-java classes where applicable\n"
     ]
    }
   ],
   "source": [
    "from pyspark.sql import SparkSession\n",
    "from pyspark.sql.types import StructType,StructField, StringType, IntegerType,TimestampType\n",
    "\n",
    "spark = SparkSession \\\n",
    "    .builder \\\n",
    "    .appName(\"Spark_Processor\") \\\n",
    "    .master(\"local[*]\") \\\n",
    "    .getOrCreate()\n",
    "\n",
    "schema = StructType([ \\\n",
    "        StructField(\"DEVICE_CODE\", IntegerType(), True), \n",
    "        StructField(\"SYSTEM_ID\",IntegerType(),True), \\\n",
    "        StructField(\"ORIGINE_CAR_KEY\",StringType(),True), \\\n",
    "        StructField(\"FINAL_CAR_KEY\",StringType(),True), \\\n",
    "        StructField(\"CHECK_STATUS_KEY\", IntegerType(), True), \\\n",
    "        StructField(\"COMPANY_ID\", StringType(), True), \\\n",
    "        StructField(\"PASS_DAY_TIME\", TimestampType(), True)\n",
    "    ])"
   ]
  },
  {
   "cell_type": "code",
   "execution_count": 2,
   "metadata": {},
   "outputs": [
    {
     "name": "stderr",
     "output_type": "stream",
     "text": [
      "                                                                                \r"
     ]
    },
    {
     "name": "stdout",
     "output_type": "stream",
     "text": [
      "+-----------+---------+---------------+-------------+----------------+----------+-------------------+\n",
      "|DEVICE_CODE|SYSTEM_ID|ORIGINE_CAR_KEY|FINAL_CAR_KEY|CHECK_STATUS_KEY|COMPANY_ID|      PASS_DAY_TIME|\n",
      "+-----------+---------+---------------+-------------+----------------+----------+-------------------+\n",
      "|     200501|       81|       10477885|     10477885|               5|       161|2021-06-01 03:54:39|\n",
      "|        155|       81|       87625017|     87625017|               5|       161|2021-06-01 04:14:21|\n",
      "|     631757|       81|        8652928|      8652928|               5|       161|2021-06-01 03:58:57|\n",
      "|     631757|       81|        8548123|      8548123|               5|       161|2021-06-01 04:01:38|\n",
      "|     631757|       81|       24715264|     24715264|               5|       161|2021-06-01 03:56:57|\n",
      "+-----------+---------+---------------+-------------+----------------+----------+-------------------+\n",
      "only showing top 5 rows\n",
      "\n"
     ]
    }
   ],
   "source": [
    "df = spark.read.csv('Sample_Traffic.csv',header=True,schema=schema)\n",
    "df.show(5)"
   ]
  },
  {
   "cell_type": "code",
   "execution_count": 45,
   "metadata": {},
   "outputs": [
    {
     "name": "stderr",
     "output_type": "stream",
     "text": [
      "[Stage 155:>                                                        (0 + 4) / 4]\r"
     ]
    },
    {
     "name": "stdout",
     "output_type": "stream",
     "text": [
      "all count:  4910236\n",
      "car count:  1520404\n",
      "camera count:  993\n"
     ]
    },
    {
     "name": "stderr",
     "output_type": "stream",
     "text": [
      "                                                                                \r"
     ]
    }
   ],
   "source": [
    "DATA_COUNT = df.count()\n",
    "CAR_COUNT = df.select('FINAL_CAR_KEY').distinct().count()\n",
    "CAMERA_COUNT = df.select('DEVICE_CODE').distinct().count()\n",
    "print('all count: ', DATA_COUNT)\n",
    "print('car count: ', CAR_COUNT)\n",
    "print('camera count: ', CAMERA_COUNT)"
   ]
  },
  {
   "cell_type": "code",
   "execution_count": 48,
   "metadata": {},
   "outputs": [
    {
     "name": "stderr",
     "output_type": "stream",
     "text": [
      "[Stage 170:>                                                        (0 + 4) / 4]\r"
     ]
    },
    {
     "name": "stdout",
     "output_type": "stream",
     "text": [
      "+-------------+------+\n",
      "|FINAL_CAR_KEY| count|\n",
      "+-------------+------+\n",
      "|     64111706|398901|\n",
      "|     69177480|  9976|\n",
      "|      8073331|  3121|\n",
      "|     28621897|   509|\n",
      "|     21683458|   311|\n",
      "|      7633319|   308|\n",
      "|      9093773|   305|\n",
      "|      7736465|   234|\n",
      "|     27397278|   167|\n",
      "|      8396536|   166|\n",
      "+-------------+------+\n",
      "only showing top 10 rows\n",
      "\n"
     ]
    },
    {
     "name": "stderr",
     "output_type": "stream",
     "text": [
      "                                                                                \r"
     ]
    }
   ],
   "source": [
    "car_counts = df.groupBy('FINAL_CAR_KEY').count()\n",
    "car_counts.sort('count', ascending=False).show(10)"
   ]
  },
  {
   "cell_type": "code",
   "execution_count": 75,
   "metadata": {},
   "outputs": [
    {
     "name": "stderr",
     "output_type": "stream",
     "text": [
      "                                                                                \r"
     ]
    },
    {
     "name": "stdout",
     "output_type": "stream",
     "text": [
      "+-----------+---------+---------------+-------------+----------------+----------+-------------------+\n",
      "|DEVICE_CODE|SYSTEM_ID|ORIGINE_CAR_KEY|FINAL_CAR_KEY|CHECK_STATUS_KEY|COMPANY_ID|      PASS_DAY_TIME|\n",
      "+-----------+---------+---------------+-------------+----------------+----------+-------------------+\n",
      "|        100|       81|       22810018|     22810018|               5|       161|2021-06-01 04:10:54|\n",
      "|     631763|       81|        7633319|      7633319|               5|       161|2021-06-01 02:28:23|\n",
      "|     206602|       81|        8614075|      8614075|               5|       161|2021-06-01 02:24:01|\n",
      "|     101301|       81|        7713151|      7713151|               5|       161|2021-06-01 01:57:46|\n",
      "|     202101|       81|        7713151|      7713151|               5|       161|2021-06-01 02:21:58|\n",
      "+-----------+---------+---------------+-------------+----------------+----------+-------------------+\n",
      "only showing top 5 rows\n",
      "\n"
     ]
    }
   ],
   "source": [
    "# traffic_cars = car_counts.filter(car_counts['count'] < 1000).sort('count', ascending=False).select('FINAL_CAR_KEY').take(103)[3:]\n",
    "traffic_cars = car_counts.filter(car_counts['count'] < 1000).sort('count', ascending=False).select('FINAL_CAR_KEY').take(100)\n",
    "traffic_cars = [x.FINAL_CAR_KEY for x in traffic_cars]\n",
    "top_cars_df = df.filter(df.FINAL_CAR_KEY.isin(traffic_cars))\n",
    "top_cars_df.show(5)"
   ]
  },
  {
   "cell_type": "code",
   "execution_count": 76,
   "metadata": {},
   "outputs": [
    {
     "name": "stderr",
     "output_type": "stream",
     "text": [
      "                                                                                \r"
     ]
    },
    {
     "data": {
      "text/plain": [
       "7996"
      ]
     },
     "execution_count": 76,
     "metadata": {},
     "output_type": "execute_result"
    }
   ],
   "source": [
    "TOP_CARS_COUNT = top_cars_df.count()\n",
    "TOP_CARS_COUNT"
   ]
  },
  {
   "cell_type": "code",
   "execution_count": 77,
   "metadata": {},
   "outputs": [
    {
     "name": "stderr",
     "output_type": "stream",
     "text": [
      "[Stage 409:>                                                        (0 + 4) / 4]\r"
     ]
    },
    {
     "name": "stdout",
     "output_type": "stream",
     "text": [
      "+-----------+-------------+-----+\n",
      "|DEVICE_CODE|FINAL_CAR_KEY|count|\n",
      "+-----------+-------------+-----+\n",
      "|     631357|     13565906|    4|\n",
      "|     900249|     11054045|    3|\n",
      "|     900124|      7633319|   12|\n",
      "|        135|     11086409|    1|\n",
      "|     631829|     11054045|    1|\n",
      "+-----------+-------------+-----+\n",
      "only showing top 5 rows\n",
      "\n"
     ]
    },
    {
     "name": "stderr",
     "output_type": "stream",
     "text": [
      "                                                                                \r"
     ]
    }
   ],
   "source": [
    "camera_car_df = top_cars_df.groupBy('DEVICE_CODE', 'FINAL_CAR_KEY').count()\n",
    "camera_car_df.show(5)"
   ]
  },
  {
   "cell_type": "code",
   "execution_count": 78,
   "metadata": {},
   "outputs": [
    {
     "name": "stderr",
     "output_type": "stream",
     "text": [
      "[Stage 424:==============>                                          (1 + 3) / 4]\r"
     ]
    },
    {
     "name": "stdout",
     "output_type": "stream",
     "text": [
      "+-----------+-------------+-----+---------+------------+\n",
      "|DEVICE_CODE|FINAL_CAR_KEY|count|CAR_INDEX|CAMERA_INDEX|\n",
      "+-----------+-------------+-----+---------+------------+\n",
      "|     631357|     13565906|    4|     13.0|        49.0|\n",
      "|     900249|     11054045|    3|     31.0|        18.0|\n",
      "|     900124|      7633319|   12|      0.0|        69.0|\n",
      "|        135|     11086409|    1|      3.0|       141.0|\n",
      "|     631829|     11054045|    1|     31.0|         6.0|\n",
      "+-----------+-------------+-----+---------+------------+\n",
      "only showing top 5 rows\n",
      "\n"
     ]
    },
    {
     "name": "stderr",
     "output_type": "stream",
     "text": [
      "                                                                                \r"
     ]
    }
   ],
   "source": [
    "from pyspark.ml.feature import StringIndexer\n",
    "\n",
    "camera_car_indexed_df = StringIndexer(inputCol='FINAL_CAR_KEY', outputCol='CAR_INDEX').fit(camera_car_df).transform(camera_car_df)\n",
    "camera_car_indexed_df = StringIndexer(inputCol='DEVICE_CODE', outputCol='CAMERA_INDEX').fit(camera_car_indexed_df).transform(camera_car_indexed_df)\n",
    "\n",
    "camera_car_indexed_df.show(5)\n",
    " "
   ]
  },
  {
   "cell_type": "code",
   "execution_count": 79,
   "metadata": {},
   "outputs": [
    {
     "name": "stderr",
     "output_type": "stream",
     "text": [
      "                                                                                \r"
     ]
    },
    {
     "data": {
      "text/plain": [
       "331"
      ]
     },
     "execution_count": 79,
     "metadata": {},
     "output_type": "execute_result"
    }
   ],
   "source": [
    "camera_car_df.select('DEVICE_CODE').distinct().count()"
   ]
  },
  {
   "cell_type": "code",
   "execution_count": 80,
   "metadata": {},
   "outputs": [
    {
     "name": "stderr",
     "output_type": "stream",
     "text": [
      "                                                                                \r"
     ]
    }
   ],
   "source": [
    "from pyspark.mllib.linalg.distributed import CoordinateMatrix\n",
    "utility_matrix = CoordinateMatrix(camera_car_indexed_df.rdd.map(lambda x: (int(x['CAR_INDEX']), int(x['CAMERA_INDEX']), x['count']) ))"
   ]
  },
  {
   "cell_type": "code",
   "execution_count": 81,
   "metadata": {},
   "outputs": [
    {
     "name": "stderr",
     "output_type": "stream",
     "text": [
      "22/02/05 21:30:20 WARN RowMatrix: The input data is not directly cached, which may hurt performance if its parent RDDs are also uncached.\n"
     ]
    },
    {
     "name": "stdout",
     "output_type": "stream",
     "text": [
      "[505.0079430191736,448.42958191481915,234.00214006787655,179.17324440605807,164.08997936278325,128.8881130237476,92.03411869027215,85.3951828912464,81.33165440646407,73.68270074109343]\n"
     ]
    },
    {
     "name": "stderr",
     "output_type": "stream",
     "text": [
      "22/02/05 21:30:22 WARN RowMatrix: The input data was not directly cached, which may hurt performance if its parent RDDs are also uncached.\n"
     ]
    }
   ],
   "source": [
    "svd = utility_matrix.toRowMatrix().computeSVD(10, computeU=True)\n",
    "print(svd.s)"
   ]
  },
  {
   "cell_type": "code",
   "execution_count": 70,
   "metadata": {},
   "outputs": [
    {
     "name": "stdout",
     "output_type": "stream",
     "text": [
      "380\n",
      "200\n"
     ]
    }
   ],
   "source": [
    "print(utility_matrix.numCols())\n",
    "print(utility_matrix.numRows())"
   ]
  },
  {
   "cell_type": "code",
   "execution_count": null,
   "metadata": {},
   "outputs": [],
   "source": [
    "rdd = df.rdd.map(lambda x: ((x['FINAL_CAR_KEY'], x['PASS_DAY_TIME'].date()),  x['DEVICE_CODE']))\n",
    "rdd.take(5)"
   ]
  }
 ],
 "metadata": {
  "interpreter": {
   "hash": "ae917f7814ccb34d4acac350c21a9b5c6bba089bcf202fb1054d30d044271271"
  },
  "kernelspec": {
   "display_name": "Python 3.9.7 64-bit ('HW-QXNApxFg': pipenv)",
   "language": "python",
   "name": "python3"
  },
  "language_info": {
   "codemirror_mode": {
    "name": "ipython",
    "version": 3
   },
   "file_extension": ".py",
   "mimetype": "text/x-python",
   "name": "python",
   "nbconvert_exporter": "python",
   "pygments_lexer": "ipython3",
   "version": "3.9.7"
  },
  "orig_nbformat": 4
 },
 "nbformat": 4,
 "nbformat_minor": 2
}
