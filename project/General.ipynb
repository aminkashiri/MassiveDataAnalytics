{
 "cells": [
  {
   "cell_type": "code",
   "execution_count": 1,
   "metadata": {},
   "outputs": [
    {
     "name": "stderr",
     "output_type": "stream",
     "text": [
      "22/02/12 22:51:20 WARN Utils: Your hostname, amin-X556UQK resolves to a loopback address: 127.0.1.1; using 192.168.1.100 instead (on interface wlp3s0)\n",
      "22/02/12 22:51:20 WARN Utils: Set SPARK_LOCAL_IP if you need to bind to another address\n",
      "WARNING: An illegal reflective access operation has occurred\n",
      "WARNING: Illegal reflective access by org.apache.spark.unsafe.Platform (file:/opt/spark/jars/spark-unsafe_2.12-3.2.0.jar) to constructor java.nio.DirectByteBuffer(long,int)\n",
      "WARNING: Please consider reporting this to the maintainers of org.apache.spark.unsafe.Platform\n",
      "WARNING: Use --illegal-access=warn to enable warnings of further illegal reflective access operations\n",
      "WARNING: All illegal access operations will be denied in a future release\n",
      "Using Spark's default log4j profile: org/apache/spark/log4j-defaults.properties\n",
      "Setting default log level to \"WARN\".\n",
      "To adjust logging level use sc.setLogLevel(newLevel). For SparkR, use setLogLevel(newLevel).\n",
      "22/02/12 22:51:21 WARN NativeCodeLoader: Unable to load native-hadoop library for your platform... using builtin-java classes where applicable\n",
      "22/02/12 22:51:23 WARN Utils: Service 'SparkUI' could not bind on port 4040. Attempting port 4041.\n"
     ]
    }
   ],
   "source": [
    "from pyspark.sql import SparkSession\n",
    "from pyspark.sql.types import StructType,StructField, StringType, IntegerType,TimestampType\n",
    "\n",
    "spark = SparkSession \\\n",
    "    .builder \\\n",
    "    .appName(\"Spark_Processor\") \\\n",
    "    .master(\"local[*]\") \\\n",
    "    .getOrCreate()\n",
    "\n",
    "sc = spark.sparkContext\n",
    "\n",
    "schema = StructType([ \\\n",
    "        StructField(\"DEVICE_CODE\", IntegerType(), True), \n",
    "        StructField(\"SYSTEM_ID\",IntegerType(),True), \\\n",
    "        StructField(\"ORIGINE_CAR_KEY\",IntegerType(),True), \\\n",
    "        StructField(\"FINAL_CAR_KEY\", IntegerType(),True), \\\n",
    "        StructField(\"CHECK_STATUS_KEY\", IntegerType(), True), \\\n",
    "        StructField(\"COMPANY_ID\", StringType(), True), \\\n",
    "        StructField(\"PASS_DAY_TIME\", TimestampType(), True)\n",
    "    ])"
   ]
  },
  {
   "cell_type": "code",
   "execution_count": 2,
   "metadata": {},
   "outputs": [
    {
     "name": "stdout",
     "output_type": "stream",
     "text": [
      "+-----------+---------+---------------+-------------+----------------+----------+-------------------+\n",
      "|DEVICE_CODE|SYSTEM_ID|ORIGINE_CAR_KEY|FINAL_CAR_KEY|CHECK_STATUS_KEY|COMPANY_ID|      PASS_DAY_TIME|\n",
      "+-----------+---------+---------------+-------------+----------------+----------+-------------------+\n",
      "|     200501|       81|       10477885|     10477885|               5|       161|2021-06-01 03:54:39|\n",
      "|        155|       81|       87625017|     87625017|               5|       161|2021-06-01 04:14:21|\n",
      "|     631757|       81|        8652928|      8652928|               5|       161|2021-06-01 03:58:57|\n",
      "|     631757|       81|        8548123|      8548123|               5|       161|2021-06-01 04:01:38|\n",
      "|     631757|       81|       24715264|     24715264|               5|       161|2021-06-01 03:56:57|\n",
      "+-----------+---------+---------------+-------------+----------------+----------+-------------------+\n",
      "only showing top 5 rows\n",
      "\n"
     ]
    },
    {
     "name": "stderr",
     "output_type": "stream",
     "text": [
      "                                                                                \r"
     ]
    }
   ],
   "source": [
    "df = spark.read.csv('Traffic.csv',header=True,schema=schema)\n",
    "df.show(5)"
   ]
  },
  {
   "cell_type": "code",
   "execution_count": 5,
   "metadata": {},
   "outputs": [
    {
     "name": "stdout",
     "output_type": "stream",
     "text": [
      "+----------+---------------+\n",
      "|COMPANY_ID|   COMPANY_NAME|\n",
      "+----------+---------------+\n",
      "|        61|دید افزار سیستم|\n",
      "|        62|           فناپ|\n",
      "|       141|     شرکت‌ همسو|\n",
      "|       161|        دنا‌ وب|\n",
      "|       181|   هوشمند‌ آسیا|\n",
      "+----------+---------------+\n",
      "only showing top 5 rows\n",
      "\n"
     ]
    },
    {
     "name": "stderr",
     "output_type": "stream",
     "text": [
      "22/02/12 22:59:51 WARN CSVHeaderChecker: Number of column in CSV header is not equal to number of fields in the schema:\n",
      " Header length: 3, schema size: 2\n",
      "CSV file: file:///home/amin/amin/University/Term7/MDA/HW/project/CompanyID.csv\n"
     ]
    }
   ],
   "source": [
    "schema_company = StructType([ \\\n",
    "        StructField(\"COMPANY_ID\", IntegerType(), True), \n",
    "        StructField(\"COMPANY_NAME\", StringType(), True), \\\n",
    "    ])\n",
    "        # StructField(\"ActiveSystemID\", TimestampType(), True)\n",
    "companies = spark.read.csv('CompanyID.csv',header=True,schema=schema_company)\n",
    "companies.show(5)"
   ]
  },
  {
   "cell_type": "code",
   "execution_count": 3,
   "metadata": {},
   "outputs": [
    {
     "name": "stderr",
     "output_type": "stream",
     "text": [
      "[Stage 10:================================================>       (13 + 2) / 15]\r"
     ]
    },
    {
     "name": "stdout",
     "output_type": "stream",
     "text": [
      "all count:  34989160\n",
      "car count:  5487645\n",
      "camera count:  1035\n"
     ]
    },
    {
     "name": "stderr",
     "output_type": "stream",
     "text": [
      "                                                                                \r"
     ]
    }
   ],
   "source": [
    "DATA_COUNT = df.count()\n",
    "CAR_COUNT = df.select('FINAL_CAR_KEY').distinct().count()\n",
    "CAMERA_COUNT = df.select('DEVICE_CODE').distinct().count()\n",
    "print('all count: ', DATA_COUNT)\n",
    "print('car count: ', CAR_COUNT)\n",
    "print('camera count: ', CAMERA_COUNT)"
   ]
  },
  {
   "cell_type": "code",
   "execution_count": 4,
   "metadata": {},
   "outputs": [
    {
     "name": "stderr",
     "output_type": "stream",
     "text": [
      "22/02/11 22:47:40 WARN RowBasedKeyValueBatch: Calling spill() on RowBasedKeyValueBatch. Will not spill but return 0.\n",
      "22/02/11 22:47:40 WARN RowBasedKeyValueBatch: Calling spill() on RowBasedKeyValueBatch. Will not spill but return 0.\n",
      "22/02/11 22:47:41 WARN RowBasedKeyValueBatch: Calling spill() on RowBasedKeyValueBatch. Will not spill but return 0.\n",
      "22/02/11 22:47:41 WARN RowBasedKeyValueBatch: Calling spill() on RowBasedKeyValueBatch. Will not spill but return 0.\n",
      "                                                                                \r"
     ]
    },
    {
     "name": "stdout",
     "output_type": "stream",
     "text": [
      "+-------------+-------+\n",
      "|FINAL_CAR_KEY|  count|\n",
      "+-------------+-------+\n",
      "|     64111706|1891912|\n",
      "|     69177480|  80818|\n",
      "|      8073331|  30194|\n",
      "|     67682391|   6227|\n",
      "|      7633319|   1579|\n",
      "|     14919817|   1513|\n",
      "|     19516092|   1385|\n",
      "|      8396536|    804|\n",
      "|     73138295|    730|\n",
      "|     23975824|    550|\n",
      "+-------------+-------+\n",
      "only showing top 10 rows\n",
      "\n"
     ]
    }
   ],
   "source": [
    "car_counts = df.groupBy('FINAL_CAR_KEY').count()\n",
    "car_counts.sort('count', ascending=False).show(10)"
   ]
  },
  {
   "cell_type": "code",
   "execution_count": 3,
   "metadata": {},
   "outputs": [
    {
     "name": "stderr",
     "output_type": "stream",
     "text": [
      "[Stage 3:=====================================================>   (16 + 1) / 17]\r"
     ]
    },
    {
     "name": "stdout",
     "output_type": "stream",
     "text": [
      "+-------------+-----------+------+\n",
      "|FINAL_CAR_KEY|DEVICE_CODE| count|\n",
      "+-------------+-----------+------+\n",
      "|     64111706|   22010039|101540|\n",
      "|     64111706|   22010048| 74714|\n",
      "|     64111706|   22010061| 73444|\n",
      "|     64111706|   22010040| 51751|\n",
      "|     64111706|   22010078| 49628|\n",
      "|     64111706|   22010047| 43255|\n",
      "|     64111706|   22010059| 39823|\n",
      "|     64111706|   22010053| 39176|\n",
      "|     64111706|   22010054| 38625|\n",
      "|     64111706|   22010083| 34779|\n",
      "|     64111706|   22010060| 33991|\n",
      "|     64111706|   22010058| 31256|\n",
      "|     64111706|     631640| 30567|\n",
      "|     64111706|   22010079| 30521|\n",
      "|     64111706|   22010080| 30356|\n",
      "|     64111706|   22010088| 24077|\n",
      "|     64111706|  100701119| 21319|\n",
      "|     69177480|   22010061| 19105|\n",
      "|     64111706|   22010094| 16564|\n",
      "|     64111706|   22010087| 15686|\n",
      "+-------------+-----------+------+\n",
      "only showing top 20 rows\n",
      "\n"
     ]
    },
    {
     "name": "stderr",
     "output_type": "stream",
     "text": [
      "                                                                                \r"
     ]
    }
   ],
   "source": [
    "car_camera_counts = df.groupBy('FINAL_CAR_KEY', 'DEVICE_CODE').count()\n",
    "car_camera_counts.sort('count', ascending=False).show(20)"
   ]
  },
  {
   "cell_type": "code",
   "execution_count": 22,
   "metadata": {},
   "outputs": [
    {
     "name": "stderr",
     "output_type": "stream",
     "text": [
      "[Stage 1721:>                                                       (0 + 1) / 1]\r"
     ]
    },
    {
     "name": "stdout",
     "output_type": "stream",
     "text": [
      "+-------+--------------------+------------------+--------------------+-------------------+------------------+------------------+\n",
      "|summary|         DEVICE_CODE|         SYSTEM_ID|     ORIGINE_CAR_KEY|      FINAL_CAR_KEY|  CHECK_STATUS_KEY|        COMPANY_ID|\n",
      "+-------+--------------------+------------------+--------------------+-------------------+------------------+------------------+\n",
      "|  count|            34989160|          34989160|            34989160|           34989159|          34989159|          34989160|\n",
      "|   mean|2.2262293326161418E7|236.54757084765683|3.6067905310963854E7|3.702608833010948E7|5.2871780656402745|218.93599797765935|\n",
      "| stddev| 3.741603259148462E7| 84.44216726147245|3.1140705482597664E7|3.076635128051584E7|0.6188797307503013| 63.36385080523604|\n",
      "|    min|                 100|                81|           100000013|          100000013|                 1|                 0|\n",
      "|    25%|              900107|               282|           9713210.0|          9839529.0|                 5|             161.0|\n",
      "|    50%|              900234|               283|         2.0175049E7|        2.1887373E7|                 5|             264.0|\n",
      "|    75%|            22010079|               283|         6.6180892E7|        6.4111706E7|                 5|             264.0|\n",
      "|    max|           100701294|               290|             9999999|            9999999|                 7|                61|\n",
      "+-------+--------------------+------------------+--------------------+-------------------+------------------+------------------+\n",
      "\n"
     ]
    },
    {
     "name": "stderr",
     "output_type": "stream",
     "text": [
      "                                                                                \r"
     ]
    }
   ],
   "source": [
    "df.summary().show()"
   ]
  },
  {
   "cell_type": "markdown",
   "metadata": {},
   "source": [
    "##### Most Crimes"
   ]
  },
  {
   "cell_type": "code",
   "execution_count": 3,
   "metadata": {},
   "outputs": [
    {
     "name": "stderr",
     "output_type": "stream",
     "text": [
      "[Stage 3:>                                                          (0 + 1) / 1]\r"
     ]
    },
    {
     "name": "stdout",
     "output_type": "stream",
     "text": [
      "+-----------+---------+---------------+-------------+----------------+----------+-------------------+-----+\n",
      "|DEVICE_CODE|SYSTEM_ID|ORIGINE_CAR_KEY|FINAL_CAR_KEY|CHECK_STATUS_KEY|COMPANY_ID|      PASS_DAY_TIME|count|\n",
      "+-----------+---------+---------------+-------------+----------------+----------+-------------------+-----+\n",
      "|     803001|      102|        7631929|      7631929|               6|       161|2021-06-01 10:37:55|    1|\n",
      "|     900158|      283|        7631979|      7631979|               5|       264|2021-06-06 12:30:50|   11|\n",
      "|  100700881|      283|        7631979|      7631979|               5|       264|2021-06-06 17:46:08|   11|\n",
      "|     900222|      283|        7631979|      7631979|               5|       264|2021-06-06 17:49:52|   11|\n",
      "|  100700820|      283|        7631979|      7631979|               5|       264|2021-06-06 22:45:18|   11|\n",
      "+-----------+---------+---------------+-------------+----------------+----------+-------------------+-----+\n",
      "only showing top 5 rows\n",
      "\n"
     ]
    },
    {
     "name": "stderr",
     "output_type": "stream",
     "text": [
      "                                                                                \r"
     ]
    }
   ],
   "source": [
    "from pyspark.sql.functions import hour,dayofweek, count\n",
    "from pyspark.sql.window import Window\n",
    "\n",
    "window = Window.partitionBy('FINAL_CAR_KEY')\n",
    "df_with_car_count = df.withColumn('count', count('FINAL_CAR_KEY').over(window))\n",
    "df_cleaned = df_with_car_count.filter(df_with_car_count['count'] < 1000)\n",
    "df_cleaned.show(5)"
   ]
  },
  {
   "cell_type": "code",
   "execution_count": 8,
   "metadata": {},
   "outputs": [
    {
     "name": "stderr",
     "output_type": "stream",
     "text": [
      "22/02/11 22:55:39 WARN RowBasedKeyValueBatch: Calling spill() on RowBasedKeyValueBatch. Will not spill but return 0.\n",
      "22/02/11 22:55:39 WARN RowBasedKeyValueBatch: Calling spill() on RowBasedKeyValueBatch. Will not spill but return 0.\n",
      "22/02/11 22:55:40 WARN RowBasedKeyValueBatch: Calling spill() on RowBasedKeyValueBatch. Will not spill but return 0.\n",
      "22/02/11 22:55:40 WARN RowBasedKeyValueBatch: Calling spill() on RowBasedKeyValueBatch. Will not spill but return 0.\n",
      "22/02/11 22:55:41 WARN RowBasedKeyValueBatch: Calling spill() on RowBasedKeyValueBatch. Will not spill but return 0.\n",
      "22/02/11 22:55:41 WARN RowBasedKeyValueBatch: Calling spill() on RowBasedKeyValueBatch. Will not spill but return 0.\n",
      "22/02/11 22:55:41 WARN RowBasedKeyValueBatch: Calling spill() on RowBasedKeyValueBatch. Will not spill but return 0.\n",
      "22/02/11 22:55:41 WARN RowBasedKeyValueBatch: Calling spill() on RowBasedKeyValueBatch. Will not spill but return 0.\n",
      "22/02/11 22:55:42 WARN RowBasedKeyValueBatch: Calling spill() on RowBasedKeyValueBatch. Will not spill but return 0.\n",
      "22/02/11 22:55:42 WARN RowBasedKeyValueBatch: Calling spill() on RowBasedKeyValueBatch. Will not spill but return 0.\n",
      "[Stage 27:==============================================>           (4 + 1) / 5]\r"
     ]
    },
    {
     "name": "stdout",
     "output_type": "stream",
     "text": [
      "+-------------+-----+\n",
      "|FINAL_CAR_KEY|count|\n",
      "+-------------+-----+\n",
      "|     73138295|  730|\n",
      "|     23975824|  539|\n",
      "|     28621897|  508|\n",
      "|      9288458|  462|\n",
      "|     67483228|  393|\n",
      "|      8137760|  362|\n",
      "|     43211832|  351|\n",
      "|     10195991|  344|\n",
      "|     21683458|  313|\n",
      "|      9093773|  306|\n",
      "|     10146615|  293|\n",
      "|     17890990|  292|\n",
      "|      7822296|  287|\n",
      "|      8772489|  281|\n",
      "|     20143061|  261|\n",
      "|      7685553|  260|\n",
      "|      8140950|  258|\n",
      "|     35811639|  252|\n",
      "|      8783398|  240|\n",
      "|      7713151|  238|\n",
      "+-------------+-----+\n",
      "only showing top 20 rows\n",
      "\n"
     ]
    },
    {
     "name": "stderr",
     "output_type": "stream",
     "text": [
      "                                                                                \r"
     ]
    }
   ],
   "source": [
    "crimes_df = df_cleaned.filter(~df_cleaned.SYSTEM_ID.isin([84,283,284]))\n",
    "crimes_count_df = crimes_df.groupBy('FINAL_CAR_KEY').count()\n",
    "crimes_count_df.orderBy('count', ascending=False).show(20)"
   ]
  },
  {
   "cell_type": "markdown",
   "metadata": {},
   "source": [
    "##### Best Cameras"
   ]
  },
  {
   "cell_type": "code",
   "execution_count": 14,
   "metadata": {},
   "outputs": [
    {
     "name": "stderr",
     "output_type": "stream",
     "text": [
      "[Stage 36:>                                                         (0 + 1) / 1]\r"
     ]
    },
    {
     "name": "stdout",
     "output_type": "stream",
     "text": [
      "+-----------+---------+---------------+-------------+----------------+----------+-------------------+-----+-------+\n",
      "|DEVICE_CODE|SYSTEM_ID|ORIGINE_CAR_KEY|FINAL_CAR_KEY|CHECK_STATUS_KEY|COMPANY_ID|      PASS_DAY_TIME|count|correct|\n",
      "+-----------+---------+---------------+-------------+----------------+----------+-------------------+-----+-------+\n",
      "|     803001|      102|        7631929|      7631929|               6|       161|2021-06-01 10:37:55|    1|      1|\n",
      "|     900158|      283|        7631979|      7631979|               5|       264|2021-06-06 12:30:50|   11|      1|\n",
      "|  100700881|      283|        7631979|      7631979|               5|       264|2021-06-06 17:46:08|   11|      1|\n",
      "|     900222|      283|        7631979|      7631979|               5|       264|2021-06-06 17:49:52|   11|      1|\n",
      "|  100700820|      283|        7631979|      7631979|               5|       264|2021-06-06 22:45:18|   11|      1|\n",
      "|     900194|      283|        7631979|      7631979|               6|       264|2021-06-07 12:45:08|   11|      1|\n",
      "|     900217|      283|        7631979|      7631979|               5|       264|2021-06-07 13:03:25|   11|      1|\n",
      "|     900225|      283|        7631979|      7631979|               5|       264|2021-06-07 14:11:46|   11|      1|\n",
      "|     900207|      283|        7631979|      7631979|               5|       264|2021-06-07 13:52:58|   11|      1|\n",
      "|     900272|      283|        7631979|      7631979|               5|       264|2021-06-08 16:35:10|   11|      1|\n",
      "|     900272|      283|        7631979|      7631979|               5|       264|2021-06-08 17:13:41|   11|      1|\n",
      "|     631795|       81|        7631979|      7631979|               5|       161|2021-06-07 13:49:14|   11|      1|\n",
      "|        114|       81|        7631984|      7631984|               5|       161|2021-06-03 07:34:29|   15|      1|\n",
      "|     631781|       81|        7631984|      7631984|               5|       161|2021-06-03 07:32:39|   15|      1|\n",
      "|     900130|      283|        7631984|      7631984|               5|       264|2021-06-03 13:04:24|   15|      1|\n",
      "|     203001|       81|        7631984|      7631984|               5|       161|2021-06-03 13:13:56|   15|      1|\n",
      "|     631349|       81|        7631984|      7631984|               5|       161|2021-06-03 13:26:40|   15|      1|\n",
      "|        150|       81|        7631984|      7631984|               5|       161|2021-06-03 13:16:54|   15|      1|\n",
      "|   22009923|       81|        7631984|      7631984|               5|       161|2021-06-03 13:08:10|   15|      1|\n",
      "|     631357|       81|        7631984|      7631984|               5|       161|2021-06-06 12:22:19|   15|      1|\n",
      "|     900107|      283|        7631984|      7631984|               5|       264|2021-06-06 14:09:21|   15|      1|\n",
      "|  100700824|      283|        7631984|      7631984|               5|       264|2021-06-06 13:54:47|   15|      1|\n",
      "|     631349|       81|        7631984|      7631984|               5|       161|2021-06-06 14:22:45|   15|      1|\n",
      "|        114|       81|        7631984|      7631984|               5|       161|2021-06-06 13:49:36|   15|      1|\n",
      "|        114|       81|        7631984|      7631984|               5|       161|2021-06-06 13:49:37|   15|      1|\n",
      "|     631795|       81|        7631984|      7631984|               5|       161|2021-06-06 08:12:56|   15|      1|\n",
      "|     230101|       81|        7631984|      7631984|               5|       161|2021-06-06 13:48:47|   15|      1|\n",
      "|        163|       81|        7632011|      7632011|               5|       161|2021-06-02 06:06:10|    3|      1|\n",
      "|     900269|      283|        7632011|      7632011|               5|       264|2021-06-03 02:21:39|    3|      1|\n",
      "|     631830|       81|        7632011|      7632011|               5|       161|2021-06-07 11:06:16|    3|      1|\n",
      "|     900207|      283|        7632044|      7632044|               5|       264|2021-06-01 16:40:57|   38|      1|\n",
      "|     900268|      283|        7632044|      7632044|               5|       264|2021-06-01 17:25:59|   38|      1|\n",
      "|     900182|      283|        7632044|      7632044|               5|       264|2021-06-01 16:30:05|   38|      1|\n",
      "|     900269|      283|        7632044|      7632044|               6|       264|2021-06-02 11:47:16|   38|      1|\n",
      "|     631832|       81|        7632044|      7632044|               5|       161|2021-06-02 11:43:39|   38|      1|\n",
      "|     631782|       81|        7632044|      7632044|               5|       161|2021-06-02 16:11:16|   38|      1|\n",
      "|     200301|       81|        7632044|      7632044|               5|       161|2021-06-02 16:32:14|   38|      1|\n",
      "|     631350|       81|        7632044|      7632044|               5|       161|2021-06-02 16:12:27|   38|      1|\n",
      "|     900277|      283|        7632044|      7632044|               5|       264|2021-06-02 18:16:31|   38|      1|\n",
      "|     200301|       81|        7632044|      7632044|               5|       161|2021-06-02 18:25:43|   38|      1|\n",
      "|     900227|      283|        7632044|      7632044|               5|       264|2021-06-03 19:22:14|   38|      1|\n",
      "|     900269|      283|        7632044|      7632044|               5|       264|2021-06-03 19:26:20|   38|      1|\n",
      "|     200502|       81|        7632044|      7632044|               5|       161|2021-06-04 11:55:45|   38|      1|\n",
      "|     631831|       81|        7632044|      7632044|               5|       161|2021-06-04 19:26:24|   38|      1|\n",
      "|     631356|       81|        7632044|      7632044|               5|       161|2021-06-04 19:25:19|   38|      1|\n",
      "|     900227|      283|        7632044|      7632044|               5|       264|2021-06-04 19:20:28|   38|      1|\n",
      "|     200301|       81|        7632044|      7632044|               5|       161|2021-06-04 19:59:03|   38|      1|\n",
      "|     631350|       81|        7632044|      7632044|               5|       161|2021-06-04 19:47:35|   38|      1|\n",
      "|     200502|       81|        7632044|      7632044|               5|       161|2021-06-05 11:26:22|   38|      1|\n",
      "|     200301|       81|        7632044|      7632044|               5|       161|2021-06-06 15:04:35|   38|      1|\n",
      "|     631782|       81|        7632044|      7632044|               5|       161|2021-06-06 14:50:52|   38|      1|\n",
      "|     631350|       81|        7632044|      7632044|               5|       161|2021-06-06 14:52:09|   38|      1|\n",
      "|        104|       81|        7632044|      7632044|               5|       161|2021-06-06 13:26:08|   38|      1|\n",
      "|     900223|      283|        7632044|      7632044|               6|       264|2021-06-07 10:18:03|   38|      1|\n",
      "|     900225|      283|        7632044|      7632044|               6|       264|2021-06-07 10:15:08|   38|      1|\n",
      "|  100701130|      283|        7632044|      7632044|               6|       264|2021-06-07 12:18:29|   38|      1|\n",
      "|  100701100|      283|        7632044|      7632044|               6|       264|2021-06-07 12:06:00|   38|      1|\n",
      "|     900243|      283|        7632044|      7632044|               5|       264|2021-06-07 13:10:40|   38|      1|\n",
      "|     900277|      283|        7632044|      7632044|               5|       264|2021-06-07 20:58:49|   38|      1|\n",
      "|     900243|      283|        7632044|      7632044|               5|       264|2021-06-08 12:30:53|   38|      1|\n",
      "|     900182|      283|        7632044|      7632044|               6|       264|2021-06-08 14:49:50|   38|      1|\n",
      "|  100701130|      283|        7632044|      7632044|               5|       264|2021-06-08 14:55:17|   38|      1|\n",
      "|     900277|      283|        7632044|      7632044|               5|       264|2021-06-08 18:11:22|   38|      1|\n",
      "|     200301|       81|        7632044|      7632044|               5|       161|2021-06-08 18:18:42|   38|      1|\n",
      "|     200502|       81|        7632044|      7632044|               5|       161|2021-06-06 18:12:13|   38|      1|\n",
      "|     200502|       81|        7632044|      7632044|               5|       161|2021-06-05 19:08:45|   38|      1|\n",
      "|     200502|       81|        7632044|      7632044|               5|       161|2021-06-07 18:22:36|   38|      1|\n",
      "|     200502|       81|        7632044|      7632044|               5|       161|2021-06-07 21:08:27|   38|      1|\n",
      "|     631349|       81|        7632045|      7632045|               5|       161|2021-06-03 18:12:58|    6|      1|\n",
      "|     631795|       81|        7632045|      7632045|               5|       161|2021-06-03 17:25:21|    6|      1|\n",
      "|     900101|      283|        7632045|      7632045|               5|       264|2021-06-03 17:45:17|    6|      1|\n",
      "|     631719|       81|        7632045|      7632045|               5|       161|2021-06-06 18:52:28|    6|      1|\n",
      "|     900102|      283|        7632045|      7632045|               5|       264|2021-06-06 21:32:02|    6|      1|\n",
      "|     631349|       81|        7632045|      7632045|               5|       161|2021-06-08 20:01:20|    6|      1|\n",
      "|     631346|       81|        7632067|      7632067|               5|       161|2021-06-02 15:26:02|   16|      1|\n",
      "|     631795|       81|        7632067|      7632067|               5|       161|2021-06-02 15:31:52|   16|      1|\n",
      "|     631346|       81|        7632067|      7632067|               6|       161|2021-06-02 15:18:32|   16|      1|\n",
      "|     631782|       81|        7632067|      7632067|               5|       161|2021-06-02 15:14:37|   16|      1|\n",
      "|        103|       81|        7632067|      7632067|               5|       161|2021-06-02 21:32:03|   16|      1|\n",
      "|     200902|       81|        7632067|      7632067|               5|       161|2021-06-02 21:35:10|   16|      1|\n",
      "|     900207|      283|        7632067|      7632067|               5|       264|2021-06-02 21:26:28|   16|      1|\n",
      "|     631782|       81|        7632067|      7632067|               5|       161|2021-06-04 18:57:08|   16|      1|\n",
      "|     900277|      283|        7632067|      7632067|               5|       264|2021-06-04 19:27:44|   16|      1|\n",
      "|     101301|       81|        7632067|      7632067|               5|       161|2021-06-04 19:01:18|   16|      1|\n",
      "|        150|       81|        7632067|      7632067|               5|       161|2021-06-04 19:04:30|   16|      1|\n",
      "|        115|       81|        7632067|      7632067|               5|       161|2021-06-04 19:23:20|   16|      1|\n",
      "|     900246|      283|        7632067|      7632067|               5|       264|2021-06-05 18:19:09|   16|      1|\n",
      "|  100700881|      283|        7632067|      7632067|               5|       264|2021-06-05 18:27:01|   16|      1|\n",
      "|     900207|      283|        7632067|      7632067|               6|       264|2021-06-07 12:43:26|   16|      1|\n",
      "|     631763|       81|        7632067|      7632067|               5|       161|2021-06-05 18:22:40|   16|      1|\n",
      "|  100700868|      283|        7632140|      7632140|               5|       264|2021-06-01 19:32:32|    8|      1|\n",
      "|     900222|      283|        7632140|      7632140|               5|       264|2021-06-01 19:29:57|    8|      1|\n",
      "|  100700866|      283|        7632140|      7632140|               5|       264|2021-06-01 19:32:51|    8|      1|\n",
      "|     900222|      283|        7632140|      7632140|               5|       264|2021-06-02 14:12:16|    8|      1|\n",
      "|  100700866|      283|        7632140|      7632140|               6|       264|2021-06-02 14:15:14|    8|      1|\n",
      "|  100700866|      283|        7632140|      7632140|               5|       264|2021-06-07 21:22:04|    8|      1|\n",
      "|     900222|      283|        7632140|      7632140|               5|       264|2021-06-07 21:19:25|    8|      1|\n",
      "|     900222|      283|        7632140|      7632140|               5|       264|2021-06-08 21:51:03|    8|      1|\n",
      "|        142|       81|        7632153|      7632153|               5|       161|2021-06-01 07:28:56|   31|      1|\n",
      "|     900256|      283|        7632153|      7632153|               5|       264|2021-06-01 07:24:16|   31|      1|\n",
      "+-----------+---------+---------------+-------------+----------------+----------+-------------------+-----+-------+\n",
      "only showing top 100 rows\n",
      "\n"
     ]
    },
    {
     "name": "stderr",
     "output_type": "stream",
     "text": [
      "                                                                                \r"
     ]
    }
   ],
   "source": [
    "from pyspark.sql.functions import when, col\n",
    "df_with_corrects = df_cleaned.withColumn('correct', when(col('ORIGINE_CAR_KEY') == col('FINAL_CAR_KEY'), 1).otherwise(0))\n",
    "df_with_corrects.show(100)"
   ]
  },
  {
   "cell_type": "code",
   "execution_count": 16,
   "metadata": {},
   "outputs": [
    {
     "name": "stderr",
     "output_type": "stream",
     "text": [
      "22/02/11 23:18:39 WARN RowBasedKeyValueBatch: Calling spill() on RowBasedKeyValueBatch. Will not spill but return 0.\n",
      "22/02/11 23:18:40 WARN RowBasedKeyValueBatch: Calling spill() on RowBasedKeyValueBatch. Will not spill but return 0.\n",
      "[Stage 42:==================================================>       (7 + 1) / 8]\r"
     ]
    },
    {
     "name": "stdout",
     "output_type": "stream",
     "text": [
      "+-----------+------------+--------+\n",
      "|DEVICE_CODE|sum(correct)|count(1)|\n",
      "+-----------+------------+--------+\n",
      "|     631926|         562|     685|\n",
      "|        148|        3631|    3631|\n",
      "|     631488|         592|     592|\n",
      "|     811803|         476|     476|\n",
      "|    1001043|         425|     483|\n",
      "+-----------+------------+--------+\n",
      "only showing top 5 rows\n",
      "\n"
     ]
    },
    {
     "name": "stderr",
     "output_type": "stream",
     "text": [
      "                                                                                \r"
     ]
    }
   ],
   "source": [
    "success_rate_df = df_with_corrects.groupBy('DEVICE_CODE').agg({\n",
    "    '*': 'count',\n",
    "    'correct': 'sum'\n",
    "})\n",
    "success_rate_df.show(5)"
   ]
  },
  {
   "cell_type": "code",
   "execution_count": 19,
   "metadata": {},
   "outputs": [
    {
     "name": "stderr",
     "output_type": "stream",
     "text": [
      "22/02/11 23:20:45 WARN RowBasedKeyValueBatch: Calling spill() on RowBasedKeyValueBatch. Will not spill but return 0.\n",
      "22/02/11 23:20:45 WARN RowBasedKeyValueBatch: Calling spill() on RowBasedKeyValueBatch. Will not spill but return 0.\n",
      "[Stage 48:==================================================>       (7 + 1) / 8]\r"
     ]
    },
    {
     "name": "stdout",
     "output_type": "stream",
     "text": [
      "+-----------+------------+--------+------------------+\n",
      "|DEVICE_CODE|sum(correct)|count(1)|      correct_rate|\n",
      "+-----------+------------+--------+------------------+\n",
      "|     631926|         562|     685|0.8204379562043795|\n",
      "|        148|        3631|    3631|               1.0|\n",
      "|     631488|         592|     592|               1.0|\n",
      "|     811803|         476|     476|               1.0|\n",
      "|    1001043|         425|     483|0.8799171842650103|\n",
      "+-----------+------------+--------+------------------+\n",
      "only showing top 5 rows\n",
      "\n"
     ]
    },
    {
     "name": "stderr",
     "output_type": "stream",
     "text": [
      "                                                                                \r"
     ]
    }
   ],
   "source": [
    "success_rate_df = success_rate_df.withColumn('correct_rate', success_rate_df['sum(correct)'] / success_rate_df['count(1)'])\n",
    "success_rate_df.show(5)"
   ]
  },
  {
   "cell_type": "code",
   "execution_count": 20,
   "metadata": {},
   "outputs": [
    {
     "name": "stderr",
     "output_type": "stream",
     "text": [
      "22/02/11 23:22:26 WARN RowBasedKeyValueBatch: Calling spill() on RowBasedKeyValueBatch. Will not spill but return 0.\n",
      "22/02/11 23:22:27 WARN RowBasedKeyValueBatch: Calling spill() on RowBasedKeyValueBatch. Will not spill but return 0.\n",
      "[Stage 54:==================================================>       (7 + 1) / 8]\r"
     ]
    },
    {
     "name": "stdout",
     "output_type": "stream",
     "text": [
      "+-----------+------------+--------+------------+\n",
      "|DEVICE_CODE|sum(correct)|count(1)|correct_rate|\n",
      "+-----------+------------+--------+------------+\n",
      "|     900232|       56668|   56668|         1.0|\n",
      "|     200901|        3628|    3628|         1.0|\n",
      "|     900203|      136885|  136885|         1.0|\n",
      "|        148|        3631|    3631|         1.0|\n",
      "|     631488|         592|     592|         1.0|\n",
      "+-----------+------------+--------+------------+\n",
      "only showing top 5 rows\n",
      "\n"
     ]
    },
    {
     "name": "stderr",
     "output_type": "stream",
     "text": [
      "                                                                                \r"
     ]
    }
   ],
   "source": [
    "success_rate_df_sorted = success_rate_df.sort('correct_rate', ascending=False)\n",
    "success_rate_df_sorted.show(5)"
   ]
  },
  {
   "cell_type": "code",
   "execution_count": 21,
   "metadata": {},
   "outputs": [
    {
     "name": "stderr",
     "output_type": "stream",
     "text": [
      "22/02/11 23:23:24 WARN RowBasedKeyValueBatch: Calling spill() on RowBasedKeyValueBatch. Will not spill but return 0.\n",
      "22/02/11 23:23:24 WARN RowBasedKeyValueBatch: Calling spill() on RowBasedKeyValueBatch. Will not spill but return 0.\n",
      "                                                                                \r"
     ]
    },
    {
     "name": "stdout",
     "output_type": "stream",
     "text": [
      "+-------+-------------------+\n",
      "|summary|       correct_rate|\n",
      "+-------+-------------------+\n",
      "|  count|               1033|\n",
      "|   mean| 0.9436302470613623|\n",
      "| stddev|0.09830451187865522|\n",
      "|    min|               0.46|\n",
      "|    25%| 0.8947368421052632|\n",
      "|    50%|                1.0|\n",
      "|    75%|                1.0|\n",
      "|    max|                1.0|\n",
      "+-------+-------------------+\n",
      "\n"
     ]
    }
   ],
   "source": [
    "success_rate_df_sorted.select('correct_rate').summary().show()"
   ]
  },
  {
   "cell_type": "markdown",
   "metadata": {},
   "source": [
    "##### Best Companies"
   ]
  },
  {
   "cell_type": "code",
   "execution_count": 6,
   "metadata": {},
   "outputs": [
    {
     "name": "stderr",
     "output_type": "stream",
     "text": [
      "22/02/12 23:03:12 WARN CSVHeaderChecker: Number of column in CSV header is not equal to number of fields in the schema:\n",
      " Header length: 3, schema size: 2\n",
      "CSV file: file:///home/amin/amin/University/Term7/MDA/HW/project/CompanyID.csv\n",
      "22/02/12 23:03:44 WARN RowBasedKeyValueBatch: Calling spill() on RowBasedKeyValueBatch. Will not spill but return 0.\n",
      "                                                                                \r"
     ]
    }
   ],
   "source": [
    "\n",
    "from pyspark.sql.functions import when, col\n",
    "df_with_corrects = df_cleaned.withColumn('correct', when(col('ORIGINE_CAR_KEY') == col('FINAL_CAR_KEY'), 1).otherwise(0))\n",
    "\n",
    "# df_with_corrects = df_with_corrects.join(companies, df_with_corrects.COMPANY_ID == companies.COMPANY_ID)\n",
    "\n",
    "success_rate_df = df_with_corrects.groupBy('COMPANY_ID').agg({\n",
    "    '*': 'count',\n",
    "    'correct': 'sum'\n",
    "})\n",
    "success_rate_df = success_rate_df.withColumn('correct_rate', success_rate_df['sum(correct)'] / success_rate_df['count(1)'])\n",
    "success_rate_df = success_rate_df.join(companies, success_rate_df.COMPANY_ID == companies.COMPANY_ID)\n",
    "success_rate_df_sorted = success_rate_df.sort('correct_rate', ascending=False).take(5)\n"
   ]
  },
  {
   "cell_type": "code",
   "execution_count": 7,
   "metadata": {},
   "outputs": [
    {
     "data": {
      "text/plain": [
       "[Row(COMPANY_ID='264', sum(correct)=20837743, count(1)=20837743, correct_rate=1.0, COMPANY_ID=264, COMPANY_NAME='بصیر\\u200c پردازش'),\n",
       " Row(COMPANY_ID='161', sum(correct)=10943676, count(1)=10943936, correct_rate=0.999976242551126, COMPANY_ID=161, COMPANY_NAME='دنا\\u200c وب'),\n",
       " Row(COMPANY_ID='61', sum(correct)=13337, count(1)=14038, correct_rate=0.9500641116968229, COMPANY_ID=61, COMPANY_NAME='دید افزار سیستم'),\n",
       " Row(COMPANY_ID='274', sum(correct)=126779, count(1)=141735, correct_rate=0.8944791335943839, COMPANY_ID=274, COMPANY_NAME='داتیس'),\n",
       " Row(COMPANY_ID='181', sum(correct)=15244, count(1)=18764, correct_rate=0.81240673630356, COMPANY_ID=181, COMPANY_NAME='هوشمند\\u200c آسیا')]"
      ]
     },
     "execution_count": 7,
     "metadata": {},
     "output_type": "execute_result"
    }
   ],
   "source": [
    "success_rate_df_sorted"
   ]
  }
 ],
 "metadata": {
  "interpreter": {
   "hash": "ae917f7814ccb34d4acac350c21a9b5c6bba089bcf202fb1054d30d044271271"
  },
  "kernelspec": {
   "display_name": "Python 3.9.7 64-bit ('HW-QXNApxFg': pipenv)",
   "language": "python",
   "name": "python3"
  },
  "language_info": {
   "codemirror_mode": {
    "name": "ipython",
    "version": 3
   },
   "file_extension": ".py",
   "mimetype": "text/x-python",
   "name": "python",
   "nbconvert_exporter": "python",
   "pygments_lexer": "ipython3",
   "version": "3.9.7"
  },
  "orig_nbformat": 4
 },
 "nbformat": 4,
 "nbformat_minor": 2
}
