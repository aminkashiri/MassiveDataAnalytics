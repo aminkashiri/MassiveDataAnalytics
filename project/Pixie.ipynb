{
 "cells": [
  {
   "cell_type": "markdown",
   "metadata": {},
   "source": [
    "# Pixie"
   ]
  },
  {
   "cell_type": "markdown",
   "metadata": {},
   "source": [
    "### Initialize"
   ]
  },
  {
   "cell_type": "code",
   "execution_count": 1,
   "metadata": {},
   "outputs": [
    {
     "name": "stderr",
     "output_type": "stream",
     "text": [
      "22/02/11 16:22:09 WARN Utils: Your hostname, amin-X556UQK resolves to a loopback address: 127.0.1.1; using 172.20.0.1 instead (on interface br-13093d199dae)\n",
      "22/02/11 16:22:09 WARN Utils: Set SPARK_LOCAL_IP if you need to bind to another address\n",
      "WARNING: An illegal reflective access operation has occurred\n",
      "WARNING: Illegal reflective access by org.apache.spark.unsafe.Platform (file:/opt/spark/jars/spark-unsafe_2.12-3.2.0.jar) to constructor java.nio.DirectByteBuffer(long,int)\n",
      "WARNING: Please consider reporting this to the maintainers of org.apache.spark.unsafe.Platform\n",
      "WARNING: Use --illegal-access=warn to enable warnings of further illegal reflective access operations\n",
      "WARNING: All illegal access operations will be denied in a future release\n",
      "Using Spark's default log4j profile: org/apache/spark/log4j-defaults.properties\n",
      "Setting default log level to \"WARN\".\n",
      "To adjust logging level use sc.setLogLevel(newLevel). For SparkR, use setLogLevel(newLevel).\n",
      "22/02/11 16:22:10 WARN NativeCodeLoader: Unable to load native-hadoop library for your platform... using builtin-java classes where applicable\n"
     ]
    }
   ],
   "source": [
    "from pyspark.sql import SparkSession\n",
    "from pyspark.sql.types import StructType,StructField, StringType, IntegerType,TimestampType\n",
    "\n",
    "spark = SparkSession \\\n",
    "    .builder \\\n",
    "    .appName(\"Spark_Processor\") \\\n",
    "    .master(\"local[*]\") \\\n",
    "    .getOrCreate()\n",
    "\n",
    "sc = spark.sparkContext\n",
    "\n",
    "schema = StructType([ \\\n",
    "        StructField(\"DEVICE_CODE\", IntegerType(), True), \n",
    "        StructField(\"SYSTEM_ID\",IntegerType(),True), \\\n",
    "        StructField(\"ORIGINE_CAR_KEY\",IntegerType(),True), \\\n",
    "        StructField(\"FINAL_CAR_KEY\", IntegerType(),True), \\\n",
    "        StructField(\"CHECK_STATUS_KEY\", IntegerType(), True), \\\n",
    "        StructField(\"COMPANY_ID\", StringType(), True), \\\n",
    "        StructField(\"PASS_DAY_TIME\", TimestampType(), True)\n",
    "    ])"
   ]
  },
  {
   "cell_type": "code",
   "execution_count": 2,
   "metadata": {},
   "outputs": [
    {
     "name": "stdout",
     "output_type": "stream",
     "text": [
      "+-----------+---------+---------------+-------------+----------------+----------+-------------------+\n",
      "|DEVICE_CODE|SYSTEM_ID|ORIGINE_CAR_KEY|FINAL_CAR_KEY|CHECK_STATUS_KEY|COMPANY_ID|      PASS_DAY_TIME|\n",
      "+-----------+---------+---------------+-------------+----------------+----------+-------------------+\n",
      "|     200501|       81|       10477885|     10477885|               5|       161|2021-06-01 03:54:39|\n",
      "+-----------+---------+---------------+-------------+----------------+----------+-------------------+\n",
      "only showing top 1 row\n",
      "\n"
     ]
    }
   ],
   "source": [
    "df = spark.read.csv('Traffic.csv',header=True,schema=schema)\n",
    "df.show(1)"
   ]
  },
  {
   "cell_type": "markdown",
   "metadata": {},
   "source": [
    "##### Remove 8th day"
   ]
  },
  {
   "cell_type": "code",
   "execution_count": 3,
   "metadata": {},
   "outputs": [
    {
     "name": "stdout",
     "output_type": "stream",
     "text": [
      "+-----------+---------+---------------+-------------+----------------+----------+-------------------+---+\n",
      "|DEVICE_CODE|SYSTEM_ID|ORIGINE_CAR_KEY|FINAL_CAR_KEY|CHECK_STATUS_KEY|COMPANY_ID|      PASS_DAY_TIME|day|\n",
      "+-----------+---------+---------------+-------------+----------------+----------+-------------------+---+\n",
      "|     200501|       81|       10477885|     10477885|               5|       161|2021-06-01 03:54:39|152|\n",
      "+-----------+---------+---------------+-------------+----------------+----------+-------------------+---+\n",
      "only showing top 1 row\n",
      "\n"
     ]
    }
   ],
   "source": [
    "from pyspark.sql.functions import dayofyear\n",
    "df = df.withColumn('day', dayofyear(df.PASS_DAY_TIME))\n",
    "df = df.filter(df.day != 159)\n",
    "df.show(1)"
   ]
  },
  {
   "cell_type": "markdown",
   "metadata": {},
   "source": [
    "### Main Code"
   ]
  },
  {
   "cell_type": "markdown",
   "metadata": {},
   "source": [
    "##### Keep high traffic cars"
   ]
  },
  {
   "cell_type": "markdown",
   "metadata": {},
   "source": [
    "<h5 dir=\"rtl\">\n",
    " در این مرحله تنها ماشین‌های پرتردد را نگه می‌داریم. همچنین داده‌های پرت را نیز حذف می‌کنیم. \n",
    "</h5> \n"
   ]
  },
  {
   "cell_type": "code",
   "execution_count": 4,
   "metadata": {},
   "outputs": [
    {
     "name": "stderr",
     "output_type": "stream",
     "text": [
      "22/02/11 16:26:51 WARN RowBasedKeyValueBatch: Calling spill() on RowBasedKeyValueBatch. Will not spill but return 0.\n",
      "22/02/11 16:26:51 WARN RowBasedKeyValueBatch: Calling spill() on RowBasedKeyValueBatch. Will not spill but return 0.\n",
      "22/02/11 16:26:51 WARN RowBasedKeyValueBatch: Calling spill() on RowBasedKeyValueBatch. Will not spill but return 0.\n",
      "22/02/11 16:26:51 WARN RowBasedKeyValueBatch: Calling spill() on RowBasedKeyValueBatch. Will not spill but return 0.\n",
      "                                                                                \r"
     ]
    },
    {
     "name": "stdout",
     "output_type": "stream",
     "text": [
      "212498\n",
      "+-----------+---------+---------------+-------------+----------------+----------+-------------------+---+\n",
      "|DEVICE_CODE|SYSTEM_ID|ORIGINE_CAR_KEY|FINAL_CAR_KEY|CHECK_STATUS_KEY|COMPANY_ID|      PASS_DAY_TIME|day|\n",
      "+-----------+---------+---------------+-------------+----------------+----------+-------------------+---+\n",
      "|     206602|       81|        8334658|      8334658|               5|       161|2021-06-01 04:09:16|152|\n",
      "|     211901|       81|        8447803|      8447803|               5|       161|2021-06-01 03:12:10|152|\n",
      "|     206601|       81|        8683677|      8683677|               5|       161|2021-06-01 04:01:34|152|\n",
      "|     205202|       81|        7826265|      7826265|               5|       161|2021-06-01 03:50:18|152|\n",
      "|     631763|       81|        9026234|      9026234|               5|       161|2021-06-01 02:42:56|152|\n",
      "+-----------+---------+---------------+-------------+----------------+----------+-------------------+---+\n",
      "only showing top 5 rows\n",
      "\n"
     ]
    }
   ],
   "source": [
    "car_counts = df.groupBy('FINAL_CAR_KEY').count()\n",
    "traffic_cars = car_counts.filter(car_counts['count'] < 1000).sort('count', ascending=False).select('FINAL_CAR_KEY').take(1000)\n",
    "traffic_cars = [x.FINAL_CAR_KEY for x in traffic_cars]\n",
    "top_cars_df = df.filter(df.FINAL_CAR_KEY.isin(traffic_cars))\n",
    "print(top_cars_df.count())\n",
    "top_cars_df.show(5)"
   ]
  },
  {
   "cell_type": "markdown",
   "metadata": {},
   "source": [
    "<h5 dir=\"rtl\">\n",
    " این مرحله، \n",
    " df\n",
    " را به صورتی در می‌آورد که نشان‌دهنده‌ی یال‌های گراف ما باشد.  \n",
    "</h5> \n"
   ]
  },
  {
   "cell_type": "code",
   "execution_count": 5,
   "metadata": {},
   "outputs": [
    {
     "name": "stderr",
     "output_type": "stream",
     "text": [
      "[Stage 9:=====================================================>   (14 + 1) / 15]\r"
     ]
    },
    {
     "name": "stdout",
     "output_type": "stream",
     "text": [
      "+-----------+-------------+-----+\n",
      "|DEVICE_CODE|FINAL_CAR_KEY|count|\n",
      "+-----------+-------------+-----+\n",
      "|     203902|      8358717|  173|\n",
      "|     631832|      7671807|    5|\n",
      "|     631829|     10286523|    3|\n",
      "|     212802|     65021527|   14|\n",
      "|     631795|      7646099|    8|\n",
      "+-----------+-------------+-----+\n",
      "only showing top 5 rows\n",
      "\n"
     ]
    },
    {
     "name": "stderr",
     "output_type": "stream",
     "text": [
      "                                                                                \r"
     ]
    }
   ],
   "source": [
    "camera_car_df = top_cars_df.groupBy('DEVICE_CODE', 'FINAL_CAR_KEY').count()\n",
    "camera_car_df.show(5)"
   ]
  },
  {
   "cell_type": "markdown",
   "metadata": {},
   "source": [
    "<h5 dir=\"rtl\">\n",
    " سپس ماشین‌ها و دوربین‌ها را اندیس گذاری می‌کنیم.  \n",
    "</h5> \n"
   ]
  },
  {
   "cell_type": "code",
   "execution_count": 6,
   "metadata": {},
   "outputs": [
    {
     "name": "stderr",
     "output_type": "stream",
     "text": [
      "[Stage 24:====================================================>   (14 + 1) / 15]\r"
     ]
    },
    {
     "name": "stdout",
     "output_type": "stream",
     "text": [
      "+-----------+-------------+-----+---------+------------+\n",
      "|DEVICE_CODE|FINAL_CAR_KEY|count|CAR_INDEX|CAMERA_INDEX|\n",
      "+-----------+-------------+-----+---------+------------+\n",
      "|     203902|      8358717|  173|    995.0|        89.0|\n",
      "|     631832|      7671807|    5|    355.0|        75.0|\n",
      "|     631829|     10286523|    3|     86.0|        21.0|\n",
      "|     212802|     65021527|   14|    735.0|        66.0|\n",
      "|     631795|      7646099|    8|    305.0|        34.0|\n",
      "+-----------+-------------+-----+---------+------------+\n",
      "only showing top 5 rows\n",
      "\n"
     ]
    },
    {
     "name": "stderr",
     "output_type": "stream",
     "text": [
      "                                                                                \r"
     ]
    }
   ],
   "source": [
    "from pyspark.ml.feature import StringIndexer\n",
    "\n",
    "camera_car_indexed_df = StringIndexer(inputCol='FINAL_CAR_KEY', outputCol='CAR_INDEX').fit(camera_car_df).transform(camera_car_df)\n",
    "camera_car_indexed_df = StringIndexer(inputCol='DEVICE_CODE', outputCol='CAMERA_INDEX').fit(camera_car_indexed_df).transform(camera_car_indexed_df)\n",
    "\n",
    "camera_car_indexed_df.show(5)"
   ]
  },
  {
   "cell_type": "markdown",
   "metadata": {},
   "source": [
    "<h5 dir=\"rtl\">\n",
    " حال در دو\n",
    " rdd\n",
    " متفاوت، یال‌های خارج شونده‌ از هر ماشین، و هر دوربین را نگه می‌داریم. \n",
    "</h5> \n"
   ]
  },
  {
   "cell_type": "code",
   "execution_count": 7,
   "metadata": {},
   "outputs": [
    {
     "name": "stderr",
     "output_type": "stream",
     "text": [
      "                                                                                \r"
     ]
    }
   ],
   "source": [
    "cars_edges = camera_car_indexed_df.rdd.map(lambda x: (int(x.CAR_INDEX), int(x.CAMERA_INDEX))).groupByKey().mapValues(list).sortByKey()\n",
    "camera_edges = camera_car_indexed_df.rdd.map(lambda x: (int(x.CAMERA_INDEX), int(x.CAR_INDEX))).groupByKey().mapValues(list).sortByKey()\n",
    "CAR_COUNT = cars_edges.count()\n",
    "CAMERA_COUNT = camera_edges.count()\n",
    "# cars_edges.take(2)\n",
    "# camera_edges.take(2)"
   ]
  },
  {
   "cell_type": "markdown",
   "metadata": {},
   "source": [
    "<h5 dir=\"rtl\">\n",
    " اکنون با استفاده از الگوریتم \n",
    " Pixie\n",
    " می‌توانیم نزدیک ترین دوربین به هر دوربین دیگر را به دست آوریم. در مورد معنی «نزدیک ترین» در مستند ارائه شده در بخش \n",
    " Pixie\n",
    " صحبت کرده‌ام. دوربین کوئری من به صورت رندم انتخاب شده است (متغیر\n",
    " query_camera).\n",
    "</h5> \n"
   ]
  },
  {
   "cell_type": "markdown",
   "metadata": {},
   "source": [
    "<h5 dir=\"rtl\">\n",
    " متغیر \n",
    " alpha\n",
    " نشان دهنده‌ی احتمالی است که به راس اولیه بازمی‌گردیم. تعداد مراحل الگوریتم نیز با متغیر \n",
    " steps\n",
    " مشخص می‌شود. \n",
    "</h5> \n"
   ]
  },
  {
   "cell_type": "code",
   "execution_count": 45,
   "metadata": {},
   "outputs": [],
   "source": [
    "query_camera = 400\n",
    "query_car = 300\n",
    "STEPS = 1000"
   ]
  },
  {
   "cell_type": "code",
   "execution_count": 46,
   "metadata": {},
   "outputs": [],
   "source": [
    "import os\n",
    "import random\n",
    "\n",
    "os.environ['PYTHONHASHSEED'] = '0'\n",
    "\n",
    "def pixie(query_camera, steps=1000):\n",
    "    camera_scores = [0]*CAMERA_COUNT\n",
    "\n",
    "    related_camera = query_camera\n",
    "    alpha = 0.2\n",
    "    for i in range(steps):\n",
    "        if i%100 == 0:\n",
    "            print('i is: ',i)\n",
    "\n",
    "        related_car = camera_edges.lookup(query_camera)[0]\n",
    "        r = random.randint(0, len(related_car)-1)\n",
    "        related_car = related_car[r]\n",
    "\n",
    "        related_camera = cars_edges.lookup(related_car)[0]\n",
    "        r = random.randint(0, len(related_camera)-1)\n",
    "        related_camera = related_camera[r]\n",
    "        camera_scores[related_camera] += 1\n",
    "\n",
    "        r = random.random()\n",
    "        if r < alpha:\n",
    "            related_camera = query_camera\n",
    "\n",
    "    return camera_scores\n",
    "\n",
    "def pixie_on_cars(query_car, steps=1000):\n",
    "    car_scores = [0]*CAR_COUNT\n",
    "\n",
    "    related_car = query_car\n",
    "    alpha = 0.2\n",
    "    for i in range(steps):\n",
    "        if i%100 == 0:\n",
    "            print('i is: ',i)\n",
    "\n",
    "        related_camera = camera_edges.lookup(query_camera)[0]\n",
    "        r = random.randint(0, len(related_camera)-1)\n",
    "        related_camera = related_camera[r]\n",
    "\n",
    "        related_car = cars_edges.lookup(related_car)[0]\n",
    "        r = random.randint(0, len(related_car)-1)\n",
    "        related_car = related_car[r]\n",
    "        car_scores[related_car] += 1\n",
    "\n",
    "        r = random.random()\n",
    "        if r < alpha:\n",
    "            related_car = query_car\n",
    "\n",
    "    return car_scores\n",
    "\n",
    "\n"
   ]
  },
  {
   "cell_type": "code",
   "execution_count": 47,
   "metadata": {},
   "outputs": [],
   "source": [
    "def get_top_k(input_list, k, remove=None):\n",
    "    top_k = sorted([(i,x) for i,x in enumerate(input_list)], key = lambda x: -x[1])[:k+1]\n",
    "    if remove:\n",
    "        for x in top_k:\n",
    "            if x[0] == remove:\n",
    "                top_k.remove(x)\n",
    "                return top_k\n",
    "    else:\n",
    "        top_k = top_k[:k]\n",
    "    return top_k"
   ]
  },
  {
   "cell_type": "code",
   "execution_count": 48,
   "metadata": {},
   "outputs": [
    {
     "name": "stdout",
     "output_type": "stream",
     "text": [
      "i is:  0\n",
      "i is:  100\n",
      "i is:  200\n",
      "i is:  300\n",
      "i is:  400\n",
      "i is:  500\n",
      "i is:  600\n",
      "i is:  700\n",
      "i is:  800\n",
      "i is:  900\n"
     ]
    }
   ],
   "source": [
    "camera_scores = pixie(query_camera, STEPS)"
   ]
  },
  {
   "cell_type": "markdown",
   "metadata": {},
   "source": [
    "<h5 dir=\"rtl\">\n",
    " تابع زیر یک لیست را به صورت یک نمودار میله‌ای نمایش می‌دهد. \n",
    "</h5> \n"
   ]
  },
  {
   "cell_type": "code",
   "execution_count": 49,
   "metadata": {},
   "outputs": [],
   "source": [
    "from matplotlib import pyplot as plt\n",
    "def plot_barchart(input_list, title=None):\n",
    "    fig = plt.figure(figsize = (40, 10))\n",
    "    labels = list(map(lambda x: str(x), range(len(input_list))))\n",
    "    plt.bar(labels, input_list, color='red', width = 0.7)\n",
    "    plt.xticks(rotation='vertical',fontsize=10)\n",
    "    if title:\n",
    "        plt.title(title)\n",
    "    plt.show()"
   ]
  },
  {
   "cell_type": "markdown",
   "metadata": {},
   "source": [
    "<h5 dir=\"rtl\">\n",
    " در این مرحله‌ نتیجه‌ی اجرای الگوریتم برای یک دوربین دلخواه نمایش داده‌شده است. \n",
    "</h5> \n"
   ]
  },
  {
   "cell_type": "code",
   "execution_count": 50,
   "metadata": {},
   "outputs": [
    {
     "data": {
      "image/png": "[encoded data removed]",
      "text/plain": [
       "<Figure size 2880x720 with 1 Axes>"
      ]
     },
     "metadata": {
      "needs_background": "light"
     },
     "output_type": "display_data"
    }
   ],
   "source": [
    "plot_barchart(camera_scores)"
   ]
  },
  {
   "cell_type": "code",
   "execution_count": 51,
   "metadata": {},
   "outputs": [
    {
     "name": "stdout",
     "output_type": "stream",
     "text": [
      "[(15, 18), (139, 17), (109, 16), (38, 14), (47, 14), (3, 13), (278, 13), (45, 12), (50, 12), (271, 12)]\n"
     ]
    }
   ],
   "source": [
    "top_k = get_top_k(camera_scores, 10, 400)\n",
    "\n",
    "print(top_k)"
   ]
  },
  {
   "cell_type": "code",
   "execution_count": 52,
   "metadata": {},
   "outputs": [
    {
     "name": "stdout",
     "output_type": "stream",
     "text": [
      "i is:  0\n",
      "i is:  100\n",
      "i is:  200\n",
      "i is:  300\n",
      "i is:  400\n",
      "i is:  500\n",
      "i is:  600\n",
      "i is:  700\n",
      "i is:  800\n",
      "i is:  900\n"
     ]
    }
   ],
   "source": [
    "camera_scores2 = pixie(top_k[0][0], STEPS)"
   ]
  },
  {
   "cell_type": "code",
   "execution_count": 53,
   "metadata": {},
   "outputs": [
    {
     "data": {
      "image/png": "[encoded data removed]",
      "text/plain": [
       "<Figure size 2880x720 with 1 Axes>"
      ]
     },
     "metadata": {
      "needs_background": "light"
     },
     "output_type": "display_data"
    }
   ],
   "source": [
    "plot_barchart(camera_scores2)"
   ]
  },
  {
   "cell_type": "markdown",
   "metadata": {},
   "source": [
    "<h5 dir=\"rtl\">\n",
    " حال مشابه همان کار را برای یک ماشین دلخواه انجام می‌دهیم. راجب معنی این نمودار‌ها در مستند توضیح داده‌ام. \n",
    "</h5> \n"
   ]
  },
  {
   "cell_type": "code",
   "execution_count": 18,
   "metadata": {},
   "outputs": [
    {
     "name": "stdout",
     "output_type": "stream",
     "text": [
      "i is:  0\n",
      "i is:  100\n",
      "i is:  200\n",
      "i is:  300\n",
      "i is:  400\n",
      "i is:  500\n",
      "i is:  600\n",
      "i is:  700\n",
      "i is:  800\n",
      "i is:  900\n"
     ]
    }
   ],
   "source": [
    "car_scores = pixie_on_cars(query_car, STEPS)"
   ]
  },
  {
   "cell_type": "code",
   "execution_count": 36,
   "metadata": {},
   "outputs": [
    {
     "data": {
      "image/png": "[encoded data removed]",
      "text/plain": [
       "<Figure size 2880x720 with 1 Axes>"
      ]
     },
     "metadata": {
      "needs_background": "light"
     },
     "output_type": "display_data"
    }
   ],
   "source": [
    "plot_barchart(car_scores)"
   ]
  },
  {
   "cell_type": "markdown",
   "metadata": {},
   "source": [
    "<h5 dir=\"rtl\">\n",
    " در این قسمت نوع «نزدیک»ترین دوربین‌ها به دوربین کوئری را چاپ کرده‌ام. توضیحات لازم را در مستند نوشته‌ام.  \n",
    "</h5> \n"
   ]
  },
  {
   "cell_type": "code",
   "execution_count": 44,
   "metadata": {},
   "outputs": [
    {
     "name": "stderr",
     "output_type": "stream",
     "text": [
      "                                                                                \r"
     ]
    },
    {
     "name": "stdout",
     "output_type": "stream",
     "text": [
      "81\n"
     ]
    },
    {
     "name": "stderr",
     "output_type": "stream",
     "text": [
      "                                                                                \r"
     ]
    },
    {
     "name": "stdout",
     "output_type": "stream",
     "text": [
      "283\n"
     ]
    },
    {
     "name": "stderr",
     "output_type": "stream",
     "text": [
      "                                                                                \r"
     ]
    },
    {
     "name": "stdout",
     "output_type": "stream",
     "text": [
      "283\n"
     ]
    },
    {
     "name": "stderr",
     "output_type": "stream",
     "text": [
      "                                                                                \r"
     ]
    },
    {
     "name": "stdout",
     "output_type": "stream",
     "text": [
      "283\n"
     ]
    },
    {
     "name": "stderr",
     "output_type": "stream",
     "text": [
      "                                                                                \r"
     ]
    },
    {
     "name": "stdout",
     "output_type": "stream",
     "text": [
      "81\n"
     ]
    },
    {
     "name": "stderr",
     "output_type": "stream",
     "text": [
      "                                                                                \r"
     ]
    },
    {
     "name": "stdout",
     "output_type": "stream",
     "text": [
      "283\n"
     ]
    },
    {
     "name": "stderr",
     "output_type": "stream",
     "text": [
      "                                                                                \r"
     ]
    },
    {
     "name": "stdout",
     "output_type": "stream",
     "text": [
      "81\n"
     ]
    },
    {
     "name": "stderr",
     "output_type": "stream",
     "text": [
      "                                                                                \r"
     ]
    },
    {
     "name": "stdout",
     "output_type": "stream",
     "text": [
      "81\n"
     ]
    },
    {
     "name": "stderr",
     "output_type": "stream",
     "text": [
      "                                                                                \r"
     ]
    },
    {
     "name": "stdout",
     "output_type": "stream",
     "text": [
      "81\n"
     ]
    },
    {
     "name": "stderr",
     "output_type": "stream",
     "text": [
      "                                                                                \r"
     ]
    },
    {
     "name": "stdout",
     "output_type": "stream",
     "text": [
      "283\n"
     ]
    },
    {
     "name": "stderr",
     "output_type": "stream",
     "text": [
      "                                                                                \r"
     ]
    },
    {
     "name": "stdout",
     "output_type": "stream",
     "text": [
      "283\n"
     ]
    }
   ],
   "source": [
    "def get_device_code(camera_index):\n",
    "    device_code = camera_car_indexed_df.filter(camera_car_indexed_df.CAMERA_INDEX == camera_index).take(1)[0]['DEVICE_CODE']\n",
    "    return device_code\n",
    "\n",
    "def get_system_id(device_code):\n",
    "    system_id = top_cars_df.filter(top_cars_df.DEVICE_CODE == device_code).take(1)[0]['SYSTEM_ID']\n",
    "    return system_id\n",
    "\n",
    "def get_system_id_from_index(camera_index):\n",
    "    dc = get_device_code(camera_index)\n",
    "    si = get_system_id(dc)\n",
    "    return si\n",
    "\n",
    "print(get_system_id_from_index(query_camera))\n",
    "for k in top_k:\n",
    "    print(get_system_id_from_index(k[0]))\n",
    "\n"
   ]
  }
 ],
 "metadata": {
  "interpreter": {
   "hash": "ae917f7814ccb34d4acac350c21a9b5c6bba089bcf202fb1054d30d044271271"
  },
  "kernelspec": {
   "display_name": "Python 3.9.7 64-bit ('HW-QXNApxFg': pipenv)",
   "language": "python",
   "name": "python3"
  },
  "language_info": {
   "codemirror_mode": {
    "name": "ipython",
    "version": 3
   },
   "file_extension": ".py",
   "mimetype": "text/x-python",
   "name": "python",
   "nbconvert_exporter": "python",
   "pygments_lexer": "ipython3",
   "version": "3.9.7"
  },
  "orig_nbformat": 4
 },
 "nbformat": 4,
 "nbformat_minor": 2
}
