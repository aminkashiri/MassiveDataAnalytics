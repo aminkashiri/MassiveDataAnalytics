{
  "cells": [
    {
      "cell_type": "markdown",
      "metadata": {
        "id": "kPt5q27L5557"
      },
      "source": [
        "# MDA 2021\n",
        "-----------------------------------------------------------------"
      ]
    },
    {
      "cell_type": "markdown",
      "metadata": {
        "id": "p0-YhEpP_Ds-"
      },
      "source": [
        "## Setup\n",
        "--------------------------------------------------"
      ]
    },
    {
      "cell_type": "markdown",
      "metadata": {
        "id": "Zsj5WYpR9QId"
      },
      "source": [
        "Let's setup Spark on your Colab environment.  Run the cell below!"
      ]
    },
    {
      "cell_type": "code",
      "execution_count": 1,
      "metadata": {
        "colab": {
          "base_uri": "https://localhost:8080/"
        },
        "id": "k-qHai2252mI",
        "outputId": "b0411162-bc70-43b0-e708-f42c94a808a0"
      },
      "outputs": [
        {
          "name": "stdout",
          "output_type": "stream",
          "text": [
            "Requirement already satisfied: pyspark in /home/amin/.local/share/virtualenvs/HW-QXNApxFg/lib/python3.9/site-packages (3.2.0)\n",
            "Requirement already satisfied: py4j==0.10.9.2 in /home/amin/.local/share/virtualenvs/HW-QXNApxFg/lib/python3.9/site-packages (from pyspark) (0.10.9.2)\n",
            "\u001b[33mWARNING: You are using pip version 21.2.4; however, version 21.3.1 is available.\n",
            "You should consider upgrading via the '/home/amin/.local/share/virtualenvs/HW-QXNApxFg/bin/python -m pip install --upgrade pip' command.\u001b[0m\n",
            "\u001b[33mWARNING: You are using pip version 21.2.4; however, version 21.3.1 is available.\n",
            "You should consider upgrading via the '/home/amin/.local/share/virtualenvs/HW-QXNApxFg/bin/python -m pip install --upgrade pip' command.\u001b[0m\n",
            "\u001b[1;31mE: \u001b[0mCould not open lock file /var/lib/dpkg/lock-frontend - open (13: Permission denied)\u001b[0m\n",
            "\u001b[1;31mE: \u001b[0mUnable to acquire the dpkg frontend lock (/var/lib/dpkg/lock-frontend), are you root?\u001b[0m\n"
          ]
        }
      ],
      "source": [
        "!pip install pyspark\n",
        "!pip install -U -q PyDrive\n",
        "!apt install openjdk-8-jdk-headless -qq\n",
        "import os\n",
        "os.environ[\"JAVA_HOME\"] = \"/usr/lib/jvm/java-8-openjdk-amd64\""
      ]
    },
    {
      "cell_type": "markdown",
      "metadata": {
        "id": "-CJ71AKe91eh"
      },
      "source": [
        "Now we authenticate a Google Drive client to processing data\n",
        "\n",
        "**Make sure to follow the interactive instructions.**"
      ]
    },
    {
      "cell_type": "code",
      "execution_count": 2,
      "metadata": {
        "colab": {
          "base_uri": "https://localhost:8080/"
        },
        "id": "5K93ABEy9Zlo",
        "outputId": "8edeb2a1-35ba-463a-f36d-bcca540bce87"
      },
      "outputs": [
        {
          "name": "stdout",
          "output_type": "stream",
          "text": [
            "Mounted at /content/drive\n"
          ]
        }
      ],
      "source": [
        "from google.colab import drive\n",
        "# This will prompt for authorization.\n",
        "drive.mount('/content/drive')"
      ]
    },
    {
      "cell_type": "markdown",
      "metadata": {
        "id": "5bK7ob3k4Yd1"
      },
      "source": [
        "## Check and extract data\n",
        "--------------------------------------------------"
      ]
    },
    {
      "cell_type": "code",
      "execution_count": null,
      "metadata": {
        "colab": {
          "base_uri": "https://localhost:8080/"
        },
        "id": "sT70OpRGzkWh",
        "outputId": "cee8742c-a408-4630-da62-fee1eaa0a987"
      },
      "outputs": [
        {
          "name": "stdout",
          "output_type": "stream",
          "text": [
            " checkstatus.csv   MDA_2021.ipynb       SystemID.csv\n",
            " CompanyID.csv\t   Sample_Data.zip      Traffic.csv\n",
            " Data.zip\t   Sample_Traffic.csv  'پروژه MDA2021.pdf'\n"
          ]
        }
      ],
      "source": [
        "!ls '/content/drive/My Drive/Colab Notebooks/MDA/HW3/'"
      ]
    },
    {
      "cell_type": "code",
      "execution_count": 2,
      "metadata": {
        "colab": {
          "base_uri": "https://localhost:8080/"
        },
        "id": "kLoUDlZrzoAg",
        "outputId": "8d6c6cca-23ff-42bc-a6c4-99e93dcc4720"
      },
      "outputs": [
        {
          "name": "stdout",
          "output_type": "stream",
          "text": [
            "Archive:  ./Sample_Data.zip\n",
            "  inflating: ./Sample_Traffic.csv    \n"
          ]
        }
      ],
      "source": [
        "# !unzip \"/content/drive/My Drive/Colab Notebooks/MDA/HW3/Sample_Data.zip\" -d \"/content/drive/My Drive/Colab Notebooks/MDA/HW3\"\n",
        "!unzip \"./Sample_Data.zip\" -d \"./\""
      ]
    },
    {
      "cell_type": "markdown",
      "metadata": {
        "id": "qwtlO4_m_LbQ"
      },
      "source": [
        "the cells above, extract data which is in '/content/drive/My Drive/Test' to /content/drive/My Drive/Test/Traffic.csv  "
      ]
    },
    {
      "cell_type": "markdown",
      "metadata": {
        "id": "CRaF2A_j_nC7"
      },
      "source": [
        "## Initializing Spark and read data\n",
        "--------------------------------------------------"
      ]
    },
    {
      "cell_type": "code",
      "execution_count": 1,
      "metadata": {
        "id": "lDh957r_0snm"
      },
      "outputs": [
        {
          "name": "stderr",
          "output_type": "stream",
          "text": [
            "21/12/28 17:45:36 WARN Utils: Your hostname, amin-X556UQK resolves to a loopback address: 127.0.1.1; using 192.168.1.6 instead (on interface wlp3s0)\n",
            "21/12/28 17:45:36 WARN Utils: Set SPARK_LOCAL_IP if you need to bind to another address\n",
            "WARNING: An illegal reflective access operation has occurred\n",
            "WARNING: Illegal reflective access by org.apache.spark.unsafe.Platform (file:/opt/spark/jars/spark-unsafe_2.12-3.2.0.jar) to constructor java.nio.DirectByteBuffer(long,int)\n",
            "WARNING: Please consider reporting this to the maintainers of org.apache.spark.unsafe.Platform\n",
            "WARNING: Use --illegal-access=warn to enable warnings of further illegal reflective access operations\n",
            "WARNING: All illegal access operations will be denied in a future release\n",
            "Using Spark's default log4j profile: org/apache/spark/log4j-defaults.properties\n",
            "Setting default log level to \"WARN\".\n",
            "To adjust logging level use sc.setLogLevel(newLevel). For SparkR, use setLogLevel(newLevel).\n",
            "21/12/28 17:45:37 WARN NativeCodeLoader: Unable to load native-hadoop library for your platform... using builtin-java classes where applicable\n",
            "21/12/28 17:45:38 WARN Utils: Service 'SparkUI' could not bind on port 4040. Attempting port 4041.\n",
            "21/12/28 17:45:38 WARN Utils: Service 'SparkUI' could not bind on port 4041. Attempting port 4042.\n"
          ]
        }
      ],
      "source": [
        "from pyspark import SparkContext, SparkConf \n",
        "from pyspark.sql import SparkSession\n",
        "from pyspark.sql.types import StructType,StructField, StringType, IntegerType,TimestampType\n",
        "from pyspark.sql.functions import col,current_timestamp,to_date,hour,dayofweek\n",
        "spark = SparkSession \\\n",
        "    .builder \\\n",
        "    .appName(\"Spark_Processor\") \\\n",
        "    .master(\"local[*]\") \\\n",
        "    .getOrCreate()\n",
        "\n",
        "sc=spark.sparkContext\n",
        "\n",
        "schema = StructType([ \\\n",
        "        StructField(\"DEVICE_CODE\", IntegerType(), True), \n",
        "        StructField(\"SYSTEM_ID\",IntegerType(),True), \\\n",
        "        StructField(\"ORIGINE_CAR_KEY\",StringType(),True), \\\n",
        "        StructField(\"FINAL_CAR_KEY\",StringType(),True), \\\n",
        "        StructField(\"CHECK_STATUS_KEY\", IntegerType(), True), \\\n",
        "        StructField(\"COMPANY_ID\", StringType(), True), \\\n",
        "        StructField(\"PASS_DAY_TIME\", TimestampType(), True)\n",
        "    ])"
      ]
    },
    {
      "cell_type": "markdown",
      "metadata": {},
      "source": [
        "<h3 dir=\"rtl\">\n",
        " در این قسمت، لطفا آدرس فایل \n",
        "csv\n",
        " را به جای آدرس قرار داده شده جایگذاری کنید.  \n",
        "  \n",
        "</h3> "
      ]
    },
    {
      "cell_type": "code",
      "execution_count": 2,
      "metadata": {
        "colab": {
          "base_uri": "https://localhost:8080/"
        },
        "id": "CGoJ3OTX3Lz_",
        "outputId": "4eb0eb19-071a-46d0-bbfe-9a00b87e0aef"
      },
      "outputs": [
        {
          "name": "stdout",
          "output_type": "stream",
          "text": [
            "+-----------+---------+---------------+-------------+----------------+----------+-------------------+\n",
            "|DEVICE_CODE|SYSTEM_ID|ORIGINE_CAR_KEY|FINAL_CAR_KEY|CHECK_STATUS_KEY|COMPANY_ID|      PASS_DAY_TIME|\n",
            "+-----------+---------+---------------+-------------+----------------+----------+-------------------+\n",
            "|     200501|       81|       10477885|     10477885|               5|       161|2021-06-01 03:54:39|\n",
            "|        155|       81|       87625017|     87625017|               5|       161|2021-06-01 04:14:21|\n",
            "|     631757|       81|        8652928|      8652928|               5|       161|2021-06-01 03:58:57|\n",
            "|     631757|       81|        8548123|      8548123|               5|       161|2021-06-01 04:01:38|\n",
            "|     631757|       81|       24715264|     24715264|               5|       161|2021-06-01 03:56:57|\n",
            "+-----------+---------+---------------+-------------+----------------+----------+-------------------+\n",
            "only showing top 5 rows\n",
            "\n"
          ]
        }
      ],
      "source": [
        "# df=spark.read.csv('/content/drive/My Drive/Colab Notebooks/MDA/HW3/Sample_Traffic.csv',header=True,schema=schema)\n",
        "df=spark.read.csv('Sample_Traffic.csv',header=True,schema=schema)\n",
        "# df.select('DEVICE_CODE').distinct().count()\n",
        "df.show(5)"
      ]
    },
    {
      "cell_type": "markdown",
      "metadata": {},
      "source": [
        "<h3 dir=\"rtl\">\n",
        " با استفاده از یک بار فرایند \n",
        " map\n",
        " ، هر ردیف از \n",
        " df\n",
        " را به صورت کلید پلاک خودرو، و زمان عبور از مسیر در می‌آوریم. مقدار این کلید را نیز برابر کد دستگاه (\n",
        "     که نمایانگر مسیر عبوری است \n",
        " ) \n",
        " می‌گذاریم. \n",
        " rdd\n",
        " به دست آمده به ازای هر مسیر در هر روز، یک ردیف خواهد داشت. \n",
        "</h3> \n"
      ]
    },
    {
      "cell_type": "code",
      "execution_count": 3,
      "metadata": {
        "colab": {
          "base_uri": "https://localhost:8080/"
        },
        "id": "RhYYY2TRjgCv",
        "outputId": "3240f0b9-8a19-4d4c-c33b-1386efe9f881"
      },
      "outputs": [
        {
          "name": "stderr",
          "output_type": "stream",
          "text": [
            "                                                                                \r"
          ]
        },
        {
          "data": {
            "text/plain": [
              "[(('10477885', datetime.date(2021, 6, 1)), 200501),\n",
              " (('87625017', datetime.date(2021, 6, 1)), 155),\n",
              " (('8652928', datetime.date(2021, 6, 1)), 631757),\n",
              " (('8548123', datetime.date(2021, 6, 1)), 631757),\n",
              " (('24715264', datetime.date(2021, 6, 1)), 631757)]"
            ]
          },
          "execution_count": 3,
          "metadata": {},
          "output_type": "execute_result"
        }
      ],
      "source": [
        "rdd = df.rdd.map(lambda x: ((x['FINAL_CAR_KEY'], x['PASS_DAY_TIME'].date()),  x['DEVICE_CODE']))\n",
        "rdd.take(5)"
      ]
    },
    {
      "cell_type": "markdown",
      "metadata": {},
      "source": [
        "<h3 dir=\"rtl\">\n",
        " اگر \n",
        " rdd\n",
        " بالا را به کمک کلیدش \n",
        " group_by\n",
        " کنیم، برای هر ماشین در هر روز خاص، تمام مسیر‌هایی که عبور کرده در یک لیست خواهیم داشت. البته به دلیل ماهیت مسئله \n",
        " frequent_itemsets\n",
        " ، \n",
        " به جای لیست از\n",
        " set\n",
        " استفاده کرده‌ام، تا مسیر‌های تکراری نداشته باشیم. هرچند می‌توان مسئله را به گونه‌ای تعریف کرد که ترتیب و یا تعداد تکرار مسیرها تاثیر گذار باشد، اما با توجه به خروجی‌ای که ما می‌خوایم، این فرض چیزی از کلیت مسئله نمی‌کاهد.  \n",
        "</h3> \n"
      ]
    },
    {
      "cell_type": "code",
      "execution_count": 31,
      "metadata": {
        "colab": {
          "base_uri": "https://localhost:8080/"
        },
        "id": "PrTYvjMNku-d",
        "outputId": "9c392bc2-5afb-4fe3-975d-25c9b778df14"
      },
      "outputs": [
        {
          "name": "stderr",
          "output_type": "stream",
          "text": [
            "                                                                                \r"
          ]
        },
        {
          "data": {
            "text/plain": [
              "[(('69939810', datetime.date(2021, 6, 1)), {206602, 631830, 900233}),\n",
              " (('11046172', datetime.date(2021, 6, 1)), {206602}),\n",
              " (('29077699', datetime.date(2021, 6, 1)),\n",
              "  {119,\n",
              "   128,\n",
              "   206602,\n",
              "   208602,\n",
              "   210602,\n",
              "   631367,\n",
              "   631763,\n",
              "   631829,\n",
              "   900135,\n",
              "   900233,\n",
              "   900234,\n",
              "   900240,\n",
              "   900246,\n",
              "   900266,\n",
              "   22010111,\n",
              "   22010123}),\n",
              " (('40682798', datetime.date(2021, 6, 1)), {206602}),\n",
              " (('48823778', datetime.date(2021, 6, 1)), {206602})]"
            ]
          },
          "execution_count": 31,
          "metadata": {},
          "output_type": "execute_result"
        }
      ],
      "source": [
        "path_rdd = rdd.groupByKey().mapValues(set)\n",
        "path_rdd.take(5)"
      ]
    },
    {
      "cell_type": "code",
      "execution_count": 235,
      "metadata": {},
      "outputs": [
        {
          "name": "stderr",
          "output_type": "stream",
          "text": [
            "                                                                                \r"
          ]
        },
        {
          "data": {
            "text/plain": [
              "1520404"
            ]
          },
          "execution_count": 235,
          "metadata": {},
          "output_type": "execute_result"
        }
      ],
      "source": [
        "path_rdd.count()"
      ]
    },
    {
      "cell_type": "markdown",
      "metadata": {
        "id": "HvfBcc4pouA3"
      },
      "source": [
        "# ب)"
      ]
    },
    {
      "cell_type": "markdown",
      "metadata": {},
      "source": [
        "## Step by Step"
      ]
    },
    {
      "cell_type": "markdown",
      "metadata": {},
      "source": [
        "<h3 dir=\"rtl\">\n",
        " برای برخی از کاربردها، نیازی به نگه داشتن پلاک و روز نداریم. بنابرین در یک \n",
        " RDD\n",
        " دیگر آن‌ها را بدون پلاک و روز نگه می‌داریم.  \n",
        "</h3> \n"
      ]
    },
    {
      "cell_type": "code",
      "execution_count": 242,
      "metadata": {
        "id": "Hcs4hiW_ovuP"
      },
      "outputs": [],
      "source": [
        "import numpy as np\n",
        "import math\n",
        "\n",
        "path_rdd_without_key = path_rdd.map(lambda x: x[1])\n",
        "# path_rdd_without_key.take(10)"
      ]
    },
    {
      "cell_type": "code",
      "execution_count": 243,
      "metadata": {},
      "outputs": [],
      "source": [
        "# sample_path = path_rdd.take(3)[2]\n",
        "# sample_path\n",
        "sample_path = {206602, 631830, 900233}"
      ]
    },
    {
      "cell_type": "markdown",
      "metadata": {},
      "source": [
        "<h3 dir=\"rtl\">\n",
        " تابع زیر، به عنوان ورودی یک مسیر می‌گیرد. سپس با اشتراک گرفتن بین این مسیر و مسیر نمونه، و تقسیم کردن اندازه‌ی اشتراک به ضرب اندازه‌ی دو مسیر، فاصله‌ی کسینوسی بین مسیر نمونه و آن مسیر را محاسبه می‌کند و خروجی می‌دهد. \n",
        "</h3> \n"
      ]
    },
    {
      "cell_type": "code",
      "execution_count": 244,
      "metadata": {},
      "outputs": [],
      "source": [
        "def similarity(xx):\n",
        "    x = xx[1] \n",
        "    # print('sample_path is: ', sample_path)\n",
        "    # print('x is: ', x)\n",
        "\n",
        "    distance = len(sample_path.intersection(x))  / math.sqrt((len(x)*len(sample_path)) ) \n",
        "    # print(distance)\n",
        "\n",
        "    return (xx, distance)\n"
      ]
    },
    {
      "cell_type": "markdown",
      "metadata": {},
      "source": [
        "<h3 dir=\"rtl\">\n",
        " در این مرحله ۵ مسیر با بیشترین شباهت را نشان می‌دهیم. در هر \n",
        " tuple\n",
        " دو مقدار اول پلاک ماشین و تاریخ هستد و درایه‌ی بعدی مسیر طی شده. درایه‌ی آخر نیز میزان شباهت است. \n",
        "</h3> \n"
      ]
    },
    {
      "cell_type": "code",
      "execution_count": 246,
      "metadata": {},
      "outputs": [
        {
          "name": "stderr",
          "output_type": "stream",
          "text": [
            "                                                                                \r"
          ]
        },
        {
          "data": {
            "text/plain": [
              "[((('69939810', datetime.date(2021, 6, 1)), {206602, 631830, 900233}), 1.0),\n",
              " ((('11888001', datetime.date(2021, 6, 1)), {206602, 631830}),\n",
              "  0.8164965809277261),\n",
              " ((('9538558', datetime.date(2021, 6, 1)), {206602, 900233}),\n",
              "  0.8164965809277261),\n",
              " ((('17644738', datetime.date(2021, 6, 1)), {206602, 631830}),\n",
              "  0.8164965809277261),\n",
              " ((('8807618', datetime.date(2021, 6, 1)), {206602, 900233}),\n",
              "  0.8164965809277261)]"
            ]
          },
          "execution_count": 246,
          "metadata": {},
          "output_type": "execute_result"
        }
      ],
      "source": [
        "path_rdd.map(similarity).sortBy(lambda x: x[1], ascending=False).take(5)"
      ]
    },
    {
      "cell_type": "markdown",
      "metadata": {},
      "source": [
        "# ج)"
      ]
    },
    {
      "cell_type": "markdown",
      "metadata": {},
      "source": [
        "<h3 dir=\"rtl\">\n",
        " تابع زیر به عنوان ورودی تعداد توابع هش را می‌گیرد، و به همان تعداد بردارهایی از ۱ و -۱ می‌سازد. در این مرحله، این بردارها را به صورت دیکشنری ساختیم. زیرا در مراحل بعدی، برای محاسبه‌ی ضرب داخلی کار ما خیلی راحت تر می‌شود و سرعت محاسبه نیز بالاتر می‌رود. \n",
        "</h3> \n"
      ]
    },
    {
      "cell_type": "code",
      "execution_count": 247,
      "metadata": {},
      "outputs": [],
      "source": [
        "import random\n",
        "def generate_vectors(n):\n",
        "    all_path = dict.fromkeys(path_rdd_without_key.flatMap(lambda x: x).distinct().collect(), 1)\n",
        "\n",
        "\n",
        "    vectors = [None]*n\n",
        "    for i in range(n):\n",
        "        v = all_path.copy()\n",
        "        for key in all_path:\n",
        "            v[key] = [1,-1][random.randint(0, 1)]\n",
        "\n",
        "        vectors[i] = v\n",
        "\n",
        "    return vectors"
      ]
    },
    {
      "cell_type": "markdown",
      "metadata": {},
      "source": [
        "<h3 dir=\"rtl\">\n",
        " متغیر \n",
        " n\n",
        " تعداد توابع هش را نشان می‌دهد. متغیرهای \n",
        " AND \n",
        " و\n",
        " OR \n",
        " نیز به ترتیب ضخامت نوار و تعداد نوار‌ها را نشان می‌دهند. به وضوح داریم:\n",
        " AND . OR = n \n",
        "\n",
        " همچنین در این قسمت تابع بالا را نیز استفاده می‌کنیم تا بردار‌های رندم را تولید کنیم. \n",
        "</h3> \n"
      ]
    },
    {
      "cell_type": "code",
      "execution_count": 248,
      "metadata": {},
      "outputs": [
        {
          "name": "stderr",
          "output_type": "stream",
          "text": [
            "                                                                                \r"
          ]
        }
      ],
      "source": [
        "n = 500\n",
        "AND = 25\n",
        "OR = 20\n",
        "vectors = generate_vectors(n)"
      ]
    },
    {
      "cell_type": "markdown",
      "metadata": {},
      "source": [
        "<h3 dir=\"rtl\">\n",
        " تابع به عنوان ورودی لیستی از مسیر‌ها دریافت می‌کند و در خروجی \n",
        " signature\n",
        " آن را به دست می‌آورد. برای این کار، به ازای هر بردار، باید ضرب داخلی بردار متناظر با این لیست، در تمام بردار‌های رندم مرحله‌ی قبلی را به دست آوریم. از آنجایی که لیست‌ها به نسبت تمام جاده‌های ممکن کوچک‌اند، در این جا تنها درایه‌هایی از بردار‌های رندم را می‌گیریم که در لیست ما وجود دارند و به سادگی ضرب داخلی را به دست می‌آوریم. سپس اگر ضرب داخلی مثبت شد، نتیجه‌ی آن هش را ۱ و در غیر این صورت صفر در نظر می‌گیریم.  \n",
        "</h3> \n"
      ]
    },
    {
      "cell_type": "code",
      "execution_count": 249,
      "metadata": {},
      "outputs": [],
      "source": [
        "def min_hash(path):\n",
        "    column = path[1] \n",
        "    n = len(vectors)\n",
        "    signature = [1]*n\n",
        "    for i, v in enumerate(vectors):\n",
        "        # print('v is: ', v)\n",
        "        sum = 0\n",
        "        for key in column:\n",
        "            # print('key is: ', key)\n",
        "            # print('v[key] = ', v[key])\n",
        "            sum += v[key]\n",
        "\n",
        "        if sum < 0:\n",
        "            signature[i] = 0\n",
        "            \n",
        "    return (path[0], path[1], signature)\n"
      ]
    },
    {
      "cell_type": "markdown",
      "metadata": {},
      "source": [
        "<h3 dir=\"rtl\">\n",
        " حال با استفاده از تابع بالا و یک مرحله\n",
        " map\n",
        " برای هر مسیر \n",
        " sinatureش \n",
        " را حساب می‌کنیم.  \n",
        "</h3> \n"
      ]
    },
    {
      "cell_type": "code",
      "execution_count": 250,
      "metadata": {},
      "outputs": [],
      "source": [
        "signatures = path_rdd.map(min_hash)"
      ]
    },
    {
      "cell_type": "markdown",
      "metadata": {},
      "source": [
        "<h3 dir=\"rtl\">\n",
        "  تابع زیر نیز به عنوان ورودی یک \n",
        "  signature\n",
        "  می‌گیرد و در خروجی، به ازای هر بند از این \n",
        "signature\n",
        "یک \n",
        "tuple\n",
        "تولید می‌کند، که تمام اطلاعات مربوط به شماره‌ی هش، مقدار هش و اطلاعات اولیه را نگه می‌دارد. دلیل نگه داشتن این اطلاعت، استفاده از آن‌ها در مراحل بعدی برای نشان دادن نتیجه است. ترکیب شماره‌ی هش و مقدار هش، به ما یک سبد خاص از یک هش را می‌دهد. در چند مرحله‌ی بعد از این نکته‌ استفاده می‌کنیم.\n",
        "</h3> \n"
      ]
    },
    {
      "cell_type": "code",
      "execution_count": 251,
      "metadata": {},
      "outputs": [],
      "source": [
        "def hash_band(x):\n",
        "    signature = x[2]\n",
        "    # print(signature)\n",
        "    output = []\n",
        "    for i in range(OR):\n",
        "        band = signature[i*AND:(i+1)*AND]\n",
        "        # print(band)\n",
        "        band_binary = ''.join(str(digit) for digit in band)\n",
        "        band_hash = int(band_binary, 2)\n",
        "        # print(band_hash)\n",
        "        output.append(\n",
        "            (x[0], i, band_hash, x[1], x[2])\n",
        "        )\n",
        "\n",
        "    return output"
      ]
    },
    {
      "cell_type": "markdown",
      "metadata": {},
      "source": [
        "<h3 dir=\"rtl\">\n",
        "  حال به کمک تابعی که توضیح دادیم، \n",
        "  tupleهای \n",
        "  گفته شده را به دست می‌آوریم.  \n",
        "</h3> \n"
      ]
    },
    {
      "cell_type": "code",
      "execution_count": null,
      "metadata": {},
      "outputs": [],
      "source": [
        "hash_baskets = signatures.flatMap(hash_band)\n",
        "# hash_baskets.take(2)"
      ]
    },
    {
      "cell_type": "markdown",
      "metadata": {},
      "source": [
        "<h3 dir=\"rtl\">\n",
        " در این مرحله مراحل بالا را برای مسیر فرضی نمونه خود نیز انجام می‌دهیم. \n",
        "</h3> \n"
      ]
    },
    {
      "cell_type": "code",
      "execution_count": 253,
      "metadata": {},
      "outputs": [
        {
          "name": "stdout",
          "output_type": "stream",
          "text": [
            "('sample car', {900233, 206602, 631830}, [0, 0, 1, 1, 1, 1, 0, 0, 0, 0, 1, 0, 1, 1, 1, 0, 1, 0, 1, 0, 1, 0, 1, 0, 0, 0, 1, 0, 0, 0, 1, 1, 0, 1, 1, 1, 1, 1, 1, 0, 0, 0, 0, 1, 1, 1, 1, 1, 0, 0, 1, 0, 1, 1, 0, 0, 1, 1, 1, 0, 0, 1, 1, 0, 0, 0, 0, 1, 0, 1, 1, 1, 1, 1, 0, 0, 1, 0, 0, 1, 1, 0, 0, 0, 0, 0, 0, 0, 1, 0, 0, 1, 1, 1, 0, 0, 1, 1, 1, 0, 1, 0, 1, 0, 1, 1, 0, 1, 1, 0, 1, 1, 1, 1, 0, 1, 1, 0, 0, 1, 1, 1, 0, 1, 1, 1, 0, 1, 1, 0, 1, 1, 1, 1, 0, 0, 1, 0, 0, 0, 1, 0, 0, 0, 1, 0, 0, 0, 1, 0, 0, 1, 1, 1, 0, 0, 1, 1, 1, 1, 1, 1, 1, 1, 1, 0, 0, 0, 0, 1, 0, 0, 1, 1, 0, 0, 0, 1, 1, 1, 1, 1, 1, 1, 1, 1, 1, 0, 0, 0, 1, 1, 1, 1, 1, 1, 0, 0, 1, 1, 1, 0, 1, 1, 0, 0, 0, 0, 0, 0, 1, 1, 0, 1, 0, 0, 1, 0, 0, 0, 1, 1, 0, 0, 1, 1, 0, 1, 0, 0, 0, 0, 1, 1, 0, 1, 0, 1, 0, 0, 1, 1, 1, 1, 0, 0, 1, 0, 1, 1, 1, 0, 1, 0, 0, 0, 1, 0, 0, 0, 0, 0, 0, 0, 0, 0, 1, 0, 0, 0, 0, 1, 0, 0, 1, 0, 1, 0, 0, 1, 1, 0, 0, 0, 0, 0, 0, 0, 0, 0, 1, 1, 1, 1, 1, 1, 1, 1, 1, 0, 0, 0, 0, 0, 1, 1, 0, 1, 1, 0, 0, 0, 0, 0, 0, 1, 0, 1, 1, 0, 1, 1, 0, 1, 0, 0, 1, 0, 1, 0, 0, 1, 0, 0, 1, 1, 0, 1, 0, 0, 0, 1, 1, 1, 0, 0, 1, 0, 0, 0, 1, 1, 0, 0, 0, 1, 1, 0, 0, 1, 1, 1, 1, 0, 1, 1, 0, 0, 0, 1, 0, 0, 0, 1, 1, 1, 0, 0, 0, 0, 0, 1, 1, 1, 1, 1, 0, 1, 1, 0, 1, 1, 1, 0, 0, 0, 1, 0, 1, 1, 0, 0, 1, 1, 0, 1, 1, 1, 1, 1, 0, 0, 1, 1, 1, 1, 0, 1, 1, 1, 1, 1, 0, 0, 1, 0, 1, 1, 1, 0, 1, 1, 1, 1, 1, 1, 0, 1, 1, 1, 0, 0, 1, 1, 0, 0, 0, 0, 1, 1, 1, 0, 1, 1, 1, 0, 0, 0, 1, 0, 1, 1, 0, 0, 0, 1, 1, 0, 1, 0, 0, 1, 0, 0, 0, 1, 1, 0, 0, 0, 0, 1, 1, 0, 0, 1, 0, 1, 1, 1, 1, 1, 1, 1, 0, 0, 0, 1, 0, 1])\n",
            "('sample car', 0, 7888212, {900233, 206602, 631830}, [0, 0, 1, 1, 1, 1, 0, 0, 0, 0, 1, 0, 1, 1, 1, 0, 1, 0, 1, 0, 1, 0, 1, 0, 0, 0, 1, 0, 0, 0, 1, 1, 0, 1, 1, 1, 1, 1, 1, 0, 0, 0, 0, 1, 1, 1, 1, 1, 0, 0, 1, 0, 1, 1, 0, 0, 1, 1, 1, 0, 0, 1, 1, 0, 0, 0, 0, 1, 0, 1, 1, 1, 1, 1, 0, 0, 1, 0, 0, 1, 1, 0, 0, 0, 0, 0, 0, 0, 1, 0, 0, 1, 1, 1, 0, 0, 1, 1, 1, 0, 1, 0, 1, 0, 1, 1, 0, 1, 1, 0, 1, 1, 1, 1, 0, 1, 1, 0, 0, 1, 1, 1, 0, 1, 1, 1, 0, 1, 1, 0, 1, 1, 1, 1, 0, 0, 1, 0, 0, 0, 1, 0, 0, 0, 1, 0, 0, 0, 1, 0, 0, 1, 1, 1, 0, 0, 1, 1, 1, 1, 1, 1, 1, 1, 1, 0, 0, 0, 0, 1, 0, 0, 1, 1, 0, 0, 0, 1, 1, 1, 1, 1, 1, 1, 1, 1, 1, 0, 0, 0, 1, 1, 1, 1, 1, 1, 0, 0, 1, 1, 1, 0, 1, 1, 0, 0, 0, 0, 0, 0, 1, 1, 0, 1, 0, 0, 1, 0, 0, 0, 1, 1, 0, 0, 1, 1, 0, 1, 0, 0, 0, 0, 1, 1, 0, 1, 0, 1, 0, 0, 1, 1, 1, 1, 0, 0, 1, 0, 1, 1, 1, 0, 1, 0, 0, 0, 1, 0, 0, 0, 0, 0, 0, 0, 0, 0, 1, 0, 0, 0, 0, 1, 0, 0, 1, 0, 1, 0, 0, 1, 1, 0, 0, 0, 0, 0, 0, 0, 0, 0, 1, 1, 1, 1, 1, 1, 1, 1, 1, 0, 0, 0, 0, 0, 1, 1, 0, 1, 1, 0, 0, 0, 0, 0, 0, 1, 0, 1, 1, 0, 1, 1, 0, 1, 0, 0, 1, 0, 1, 0, 0, 1, 0, 0, 1, 1, 0, 1, 0, 0, 0, 1, 1, 1, 0, 0, 1, 0, 0, 0, 1, 1, 0, 0, 0, 1, 1, 0, 0, 1, 1, 1, 1, 0, 1, 1, 0, 0, 0, 1, 0, 0, 0, 1, 1, 1, 0, 0, 0, 0, 0, 1, 1, 1, 1, 1, 0, 1, 1, 0, 1, 1, 1, 0, 0, 0, 1, 0, 1, 1, 0, 0, 1, 1, 0, 1, 1, 1, 1, 1, 0, 0, 1, 1, 1, 1, 0, 1, 1, 1, 1, 1, 0, 0, 1, 0, 1, 1, 1, 0, 1, 1, 1, 1, 1, 1, 0, 1, 1, 1, 0, 0, 1, 1, 0, 0, 0, 0, 1, 1, 1, 0, 1, 1, 1, 0, 0, 0, 1, 0, 1, 1, 0, 0, 0, 1, 1, 0, 1, 0, 0, 1, 0, 0, 0, 1, 1, 0, 0, 0, 0, 1, 1, 0, 0, 1, 0, 1, 1, 1, 1, 1, 1, 1, 0, 0, 0, 1, 0, 1])\n"
          ]
        }
      ],
      "source": [
        "sample_signature = min_hash(('sample car', sample_path))\n",
        "# print(sample_signature)\n",
        "sample_baskets = hash_band(sample_signature)\n",
        "# print(sample_baskets[0])\n"
      ]
    },
    {
      "cell_type": "markdown",
      "metadata": {},
      "source": [
        "<h3 dir=\"rtl\">\n",
        " در این مرحله که مهم ترین قسمت کد است، کاندید‌های نهایی را به دست می‌آوریم. برای این کار، به این نکته‌ دقت کنید که ترکیب شماره‌ی هش و مقدار هش، به ما یک سبد خاص از یک هش را می‌دهد. حال به ازای هرکدام از هش‌ها، تنها سبد‌هایی را نگه می‌داریم که هش مسیر فرضی ما نیز مقدارش در آن سبد قرار می‌گیرد. این یعنی تنها مسیر‌هایی باقی می‌مانند که حداقل در یکی از نوار‌ها هشی برابر با هش مسیر فرضی در آن نوار داشته‌اند. سپس تعداد چنین کاندید‌هایی را می‌شماریم. \n",
        "</h3> \n"
      ]
    },
    {
      "cell_type": "code",
      "execution_count": 254,
      "metadata": {},
      "outputs": [
        {
          "name": "stderr",
          "output_type": "stream",
          "text": [
            "[Stage 320:==========================================>              (3 + 1) / 4]\r"
          ]
        },
        {
          "name": "stdout",
          "output_type": "stream",
          "text": [
            "candidates count:  24\n"
          ]
        },
        {
          "name": "stderr",
          "output_type": "stream",
          "text": [
            "                                                                                \r"
          ]
        }
      ],
      "source": [
        "candidates = hash_baskets.filter(lambda x: any([ (x[1]==i) and (x[2] == sample_baskets[i][2]) for i in range(OR)]) )\n",
        "print('candidates count: ', candidates.count())"
      ]
    },
    {
      "cell_type": "code",
      "execution_count": 231,
      "metadata": {},
      "outputs": [
        {
          "name": "stderr",
          "output_type": "stream",
          "text": [
            "                                                                                \r"
          ]
        },
        {
          "data": {
            "text/plain": [
              "[(('69939810', datetime.date(2021, 6, 1)),\n",
              "  0,\n",
              "  31125503,\n",
              "  {206602, 631830, 900233},\n",
              "  [1,\n",
              "   1,\n",
              "   1,\n",
              "   0,\n",
              "   1,\n",
              "   1,\n",
              "   0,\n",
              "   1,\n",
              "   0,\n",
              "   1,\n",
              "   1,\n",
              "   1,\n",
              "   0,\n",
              "   1,\n",
              "   1,\n",
              "   1,\n",
              "   1,\n",
              "   1,\n",
              "   1,\n",
              "   1,\n",
              "   1,\n",
              "   1,\n",
              "   1,\n",
              "   1,\n",
              "   1,\n",
              "   1,\n",
              "   0,\n",
              "   0,\n",
              "   1,\n",
              "   0,\n",
              "   1,\n",
              "   0,\n",
              "   0,\n",
              "   0,\n",
              "   0,\n",
              "   1,\n",
              "   0,\n",
              "   0,\n",
              "   0,\n",
              "   0,\n",
              "   0,\n",
              "   1,\n",
              "   1,\n",
              "   1,\n",
              "   1,\n",
              "   1,\n",
              "   1,\n",
              "   1,\n",
              "   0,\n",
              "   1,\n",
              "   0,\n",
              "   0,\n",
              "   0,\n",
              "   1,\n",
              "   0,\n",
              "   1,\n",
              "   1,\n",
              "   0,\n",
              "   1,\n",
              "   0,\n",
              "   0,\n",
              "   1,\n",
              "   1,\n",
              "   0,\n",
              "   1,\n",
              "   0,\n",
              "   0,\n",
              "   1,\n",
              "   1,\n",
              "   1,\n",
              "   0,\n",
              "   1,\n",
              "   0,\n",
              "   1,\n",
              "   1,\n",
              "   1,\n",
              "   0,\n",
              "   1,\n",
              "   1,\n",
              "   1,\n",
              "   1,\n",
              "   1,\n",
              "   1,\n",
              "   0,\n",
              "   0,\n",
              "   0,\n",
              "   1,\n",
              "   0,\n",
              "   0,\n",
              "   0,\n",
              "   0,\n",
              "   0,\n",
              "   1,\n",
              "   0,\n",
              "   1,\n",
              "   0,\n",
              "   1,\n",
              "   0,\n",
              "   1,\n",
              "   1,\n",
              "   0,\n",
              "   0,\n",
              "   0,\n",
              "   1,\n",
              "   0,\n",
              "   0,\n",
              "   0,\n",
              "   0,\n",
              "   1,\n",
              "   1,\n",
              "   1,\n",
              "   0,\n",
              "   0,\n",
              "   1,\n",
              "   0,\n",
              "   0,\n",
              "   0,\n",
              "   0,\n",
              "   1,\n",
              "   1,\n",
              "   1,\n",
              "   0,\n",
              "   0,\n",
              "   1,\n",
              "   1,\n",
              "   0,\n",
              "   1,\n",
              "   0,\n",
              "   1,\n",
              "   0,\n",
              "   0,\n",
              "   0,\n",
              "   0,\n",
              "   0,\n",
              "   1,\n",
              "   1,\n",
              "   0,\n",
              "   1,\n",
              "   1,\n",
              "   1,\n",
              "   1,\n",
              "   0,\n",
              "   1,\n",
              "   0,\n",
              "   1,\n",
              "   1,\n",
              "   1,\n",
              "   1,\n",
              "   1,\n",
              "   1,\n",
              "   1,\n",
              "   0,\n",
              "   1,\n",
              "   0,\n",
              "   1,\n",
              "   0,\n",
              "   0,\n",
              "   1,\n",
              "   1,\n",
              "   1,\n",
              "   1,\n",
              "   0,\n",
              "   0,\n",
              "   1,\n",
              "   0,\n",
              "   1,\n",
              "   1,\n",
              "   1,\n",
              "   0,\n",
              "   0,\n",
              "   0,\n",
              "   1,\n",
              "   1,\n",
              "   1,\n",
              "   1,\n",
              "   0,\n",
              "   0,\n",
              "   0,\n",
              "   0,\n",
              "   0,\n",
              "   1,\n",
              "   1,\n",
              "   1,\n",
              "   1,\n",
              "   1,\n",
              "   1,\n",
              "   0,\n",
              "   0,\n",
              "   0,\n",
              "   0,\n",
              "   0,\n",
              "   0,\n",
              "   0,\n",
              "   1,\n",
              "   1,\n",
              "   0,\n",
              "   1,\n",
              "   0,\n",
              "   0,\n",
              "   1,\n",
              "   0,\n",
              "   1,\n",
              "   1,\n",
              "   1,\n",
              "   0,\n",
              "   0,\n",
              "   1,\n",
              "   0,\n",
              "   1,\n",
              "   0,\n",
              "   0,\n",
              "   0,\n",
              "   1,\n",
              "   1,\n",
              "   1,\n",
              "   1,\n",
              "   1,\n",
              "   1,\n",
              "   0,\n",
              "   0,\n",
              "   1,\n",
              "   1,\n",
              "   1,\n",
              "   0,\n",
              "   1,\n",
              "   1,\n",
              "   0,\n",
              "   0,\n",
              "   0,\n",
              "   1,\n",
              "   1,\n",
              "   1,\n",
              "   0,\n",
              "   1,\n",
              "   1,\n",
              "   0,\n",
              "   1,\n",
              "   0,\n",
              "   1,\n",
              "   0,\n",
              "   0,\n",
              "   1,\n",
              "   1,\n",
              "   1,\n",
              "   1,\n",
              "   1,\n",
              "   1,\n",
              "   1,\n",
              "   1,\n",
              "   1,\n",
              "   1,\n",
              "   0,\n",
              "   1,\n",
              "   0,\n",
              "   1,\n",
              "   0,\n",
              "   1,\n",
              "   0,\n",
              "   0,\n",
              "   0,\n",
              "   1,\n",
              "   1,\n",
              "   0,\n",
              "   0,\n",
              "   0,\n",
              "   0,\n",
              "   0,\n",
              "   0,\n",
              "   0,\n",
              "   0,\n",
              "   0,\n",
              "   0,\n",
              "   0,\n",
              "   0,\n",
              "   0,\n",
              "   0,\n",
              "   1,\n",
              "   1,\n",
              "   0,\n",
              "   1,\n",
              "   0,\n",
              "   1,\n",
              "   1,\n",
              "   0,\n",
              "   1,\n",
              "   0,\n",
              "   0,\n",
              "   0,\n",
              "   0,\n",
              "   0,\n",
              "   0,\n",
              "   0,\n",
              "   1,\n",
              "   0,\n",
              "   1,\n",
              "   1,\n",
              "   0,\n",
              "   1,\n",
              "   0,\n",
              "   0,\n",
              "   0,\n",
              "   1,\n",
              "   0,\n",
              "   0,\n",
              "   1,\n",
              "   0,\n",
              "   1,\n",
              "   0,\n",
              "   0,\n",
              "   0,\n",
              "   0,\n",
              "   1,\n",
              "   0,\n",
              "   0,\n",
              "   1,\n",
              "   1,\n",
              "   0,\n",
              "   1,\n",
              "   0,\n",
              "   1,\n",
              "   0,\n",
              "   0,\n",
              "   0,\n",
              "   1,\n",
              "   1,\n",
              "   1,\n",
              "   0,\n",
              "   0,\n",
              "   1,\n",
              "   0,\n",
              "   1,\n",
              "   0,\n",
              "   1,\n",
              "   0,\n",
              "   1,\n",
              "   1,\n",
              "   1,\n",
              "   1,\n",
              "   1,\n",
              "   0,\n",
              "   0,\n",
              "   1,\n",
              "   1,\n",
              "   0,\n",
              "   1,\n",
              "   0,\n",
              "   1,\n",
              "   0,\n",
              "   0,\n",
              "   0,\n",
              "   0,\n",
              "   0,\n",
              "   1,\n",
              "   1,\n",
              "   1,\n",
              "   1,\n",
              "   1,\n",
              "   0,\n",
              "   0,\n",
              "   1,\n",
              "   1,\n",
              "   0,\n",
              "   0,\n",
              "   0,\n",
              "   0,\n",
              "   1,\n",
              "   1,\n",
              "   1,\n",
              "   0,\n",
              "   1,\n",
              "   1,\n",
              "   1,\n",
              "   1,\n",
              "   0,\n",
              "   0,\n",
              "   1,\n",
              "   0,\n",
              "   1,\n",
              "   1,\n",
              "   1,\n",
              "   1,\n",
              "   1,\n",
              "   0,\n",
              "   0,\n",
              "   0,\n",
              "   1,\n",
              "   0,\n",
              "   0,\n",
              "   0,\n",
              "   1,\n",
              "   0,\n",
              "   0,\n",
              "   1,\n",
              "   1,\n",
              "   1,\n",
              "   1,\n",
              "   0,\n",
              "   1,\n",
              "   1,\n",
              "   1,\n",
              "   1,\n",
              "   1,\n",
              "   0,\n",
              "   0,\n",
              "   0,\n",
              "   0,\n",
              "   0,\n",
              "   1,\n",
              "   0,\n",
              "   0,\n",
              "   0,\n",
              "   0,\n",
              "   0,\n",
              "   1,\n",
              "   0,\n",
              "   1,\n",
              "   0,\n",
              "   0,\n",
              "   1,\n",
              "   0,\n",
              "   0,\n",
              "   0,\n",
              "   0,\n",
              "   0,\n",
              "   1,\n",
              "   0,\n",
              "   1,\n",
              "   0,\n",
              "   0,\n",
              "   1,\n",
              "   1,\n",
              "   0,\n",
              "   0,\n",
              "   1,\n",
              "   1,\n",
              "   1,\n",
              "   0,\n",
              "   1,\n",
              "   1,\n",
              "   1,\n",
              "   1,\n",
              "   0,\n",
              "   1,\n",
              "   1,\n",
              "   0,\n",
              "   0,\n",
              "   0,\n",
              "   1,\n",
              "   0,\n",
              "   1,\n",
              "   1,\n",
              "   1,\n",
              "   0,\n",
              "   0,\n",
              "   1,\n",
              "   1,\n",
              "   0,\n",
              "   1,\n",
              "   1,\n",
              "   0,\n",
              "   1,\n",
              "   0,\n",
              "   0,\n",
              "   0,\n",
              "   1,\n",
              "   1,\n",
              "   0,\n",
              "   0,\n",
              "   1,\n",
              "   0,\n",
              "   1,\n",
              "   0,\n",
              "   0,\n",
              "   0,\n",
              "   0,\n",
              "   1,\n",
              "   0,\n",
              "   0,\n",
              "   0,\n",
              "   1,\n",
              "   0,\n",
              "   0,\n",
              "   1,\n",
              "   1,\n",
              "   0,\n",
              "   0,\n",
              "   1,\n",
              "   1,\n",
              "   0,\n",
              "   0,\n",
              "   0,\n",
              "   1,\n",
              "   1,\n",
              "   1,\n",
              "   0,\n",
              "   1,\n",
              "   1,\n",
              "   1,\n",
              "   1,\n",
              "   0])]"
            ]
          },
          "execution_count": 231,
          "metadata": {},
          "output_type": "execute_result"
        }
      ],
      "source": [
        "candidates.take(1)"
      ]
    },
    {
      "cell_type": "markdown",
      "metadata": {},
      "source": [
        "<h3 dir=\"rtl\">\n",
        " در این مرحله، به کمک \n",
        " groupBy\n",
        " و \n",
        " map\n",
        " مسیر‌های تکراری را حذف می‌کنیم. مسیر‌های باقی مانده (که کاندید هستند) حتما متمایز‌اند. در بلاک بعدی نیز تعداد آن‌ها را می‌شماریم.  \n",
        "</h3> \n"
      ]
    },
    {
      "cell_type": "code",
      "execution_count": 255,
      "metadata": {},
      "outputs": [
        {
          "name": "stderr",
          "output_type": "stream",
          "text": [
            "                                                                                \r"
          ]
        }
      ],
      "source": [
        "candidates_unique = candidates.map(lambda x: (x[0], (x[1],x[2],x[3],x[4]))).groupByKey().mapValues(lambda x: list(x)[0]).collect()"
      ]
    },
    {
      "cell_type": "code",
      "execution_count": 256,
      "metadata": {},
      "outputs": [
        {
          "data": {
            "text/plain": [
              "5"
            ]
          },
          "execution_count": 256,
          "metadata": {},
          "output_type": "execute_result"
        }
      ],
      "source": [
        "len(candidates_unique)"
      ]
    },
    {
      "cell_type": "markdown",
      "metadata": {},
      "source": [
        "<h3 dir=\"rtl\">\n",
        "در\n",
        " دو بلاک بعدی، نتیجه‌ را به صورتی که قابل فهم باشد در فایل\n",
        "res.txt\n",
        "ذخیره می‌کنیم. \n",
        "  \n",
        "</h3> \n"
      ]
    },
    {
      "cell_type": "code",
      "execution_count": 257,
      "metadata": {},
      "outputs": [
        {
          "name": "stderr",
          "output_type": "stream",
          "text": [
            "                                                                                \r"
          ]
        }
      ],
      "source": [
        "t = candidates.map(lambda x: (x[0], x[3])).groupByKey().mapValues(lambda x: list(x)[0]).collect()\n"
      ]
    },
    {
      "cell_type": "code",
      "execution_count": 258,
      "metadata": {},
      "outputs": [],
      "source": [
        "\n",
        "import sys\n",
        "original_stdout = sys.stdout\n",
        "with open('res.txt', 'w') as f:\n",
        "    sys.stdout = f # Change the standard output to the file we created.\n",
        "    print(t)\n",
        "    sys.stdout = original_stdout # Reset the standard output to its original value\n",
        "\n"
      ]
    },
    {
      "cell_type": "markdown",
      "metadata": {},
      "source": [
        "# پارامتر‌ها و نتایج"
      ]
    },
    {
      "cell_type": "markdown",
      "metadata": {},
      "source": [
        "<h3 dir=\"rtl\">\n",
        " طبیعتا هرچه تعداد \n",
        " hyperplane\n",
        " ها را بیشتر کنیم، می‌توانیم میزان \n",
        " False Negative\n",
        " و\n",
        " False Positive\n",
        " را کاهش دهیم. با بازی کردن با پارامتر‌ها، بهترین نتیجه را با پارامتر‌هایی گرفتم که در این صفحه می‌بینید (\n",
        "     یعنی\n",
        "     AND = 25\n",
        "OR = 20). همانطوری که گفتم نتایج به دست آمده نیز در \n",
        "فایل \n",
        "res.txt\n",
        "پیوست شده است. \n",
        "     \n",
        "</h3> \n"
      ]
    }
  ],
  "metadata": {
    "colab": {
      "collapsed_sections": [],
      "name": "MDA_2021.ipynb",
      "provenance": []
    },
    "kernelspec": {
      "display_name": "Python 3",
      "name": "python3"
    },
    "language_info": {
      "codemirror_mode": {
        "name": "ipython",
        "version": 3
      },
      "file_extension": ".py",
      "mimetype": "text/x-python",
      "name": "python",
      "nbconvert_exporter": "python",
      "pygments_lexer": "ipython3",
      "version": "3.9.7"
    }
  },
  "nbformat": 4,
  "nbformat_minor": 0
}
